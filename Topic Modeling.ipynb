{
 "cells": [
  {
   "cell_type": "markdown",
   "id": "bce2bb89",
   "metadata": {},
   "source": [
    "# ADS 509 Assignment 5.1: Topic Modeling\n",
    "\n",
    "This notebook holds Assignment 5.1 for Module 5 in ADS 509, Applied Text Mining. Work through this notebook, writing code and answering questions where required. \n",
    "\n",
    "In this assignment you will work with a categorical corpus that accompanies `nltk`. You will build the three types of topic models described in Chapter 8 of _Blueprints for Text Analytics using Python_: NMF, LSA, and LDA. You will compare these models to the true categories. \n"
   ]
  },
  {
   "cell_type": "markdown",
   "id": "d87e2c06",
   "metadata": {},
   "source": [
    "## General Assignment Instructions\n",
    "\n",
    "These instructions are included in every assignment, to remind you of the coding standards for the class. Feel free to delete this cell after reading it. \n",
    "\n",
    "One sign of mature code is conforming to a style guide. We recommend the [Google Python Style Guide](https://google.github.io/styleguide/pyguide.html). If you use a different style guide, please include a cell with a link. \n",
    "\n",
    "Your code should be relatively easy-to-read, sensibly commented, and clean. Writing code is a messy process, so please be sure to edit your final submission. Remove any cells that are not needed or parts of cells that contain unnecessary code. Remove inessential `import` statements and make sure that all such statements are moved into the designated cell. \n",
    "\n",
    "Make use of non-code cells for written commentary. These cells should be grammatical and clearly written. In some of these cells you will have questions to answer. The questions will be marked by a \"Q:\" and will have a corresponding \"A:\" spot for you. *Make sure to answer every question marked with a `Q:` for full credit.* \n"
   ]
  },
  {
   "cell_type": "code",
   "execution_count": 1,
   "id": "a85bce08",
   "metadata": {},
   "outputs": [],
   "source": [
    "# These libraries may be useful to you\n",
    "\n",
    "from nltk.corpus import brown\n",
    "\n",
    "import numpy as np\n",
    "import pandas as pd\n",
    "from tqdm.auto import tqdm\n",
    "\n",
    "import pyLDAvis\n",
    "import pyLDAvis.sklearn\n",
    "import pyLDAvis.gensim_models\n",
    "\n",
    "import spacy\n",
    "from sklearn.feature_extraction.text import TfidfVectorizer, CountVectorizer\n",
    "from sklearn.decomposition import NMF, TruncatedSVD, LatentDirichletAllocation\n",
    "\n",
    "from spacy.lang.en.stop_words import STOP_WORDS as stopwords\n",
    "\n",
    "from collections import Counter, defaultdict\n",
    "\n",
    "nlp = spacy.load('en_core_web_sm')"
   ]
  },
  {
   "cell_type": "code",
   "execution_count": 2,
   "id": "a218df60",
   "metadata": {},
   "outputs": [],
   "source": [
    "# add any additional libaries you need here\n",
    "\n",
    "import seaborn as sns\n",
    "import plotly.express as px"
   ]
  },
  {
   "cell_type": "code",
   "execution_count": 3,
   "id": "494de237",
   "metadata": {},
   "outputs": [],
   "source": [
    "# This function comes from the BTAP repo.\n",
    "\n",
    "def display_topics(model, features, no_top_words=5):\n",
    "    for topic, words in enumerate(model.components_):\n",
    "        total = words.sum()\n",
    "        largest = words.argsort()[::-1] # invert sort order\n",
    "        print(\"\\nTopic %02d\" % topic)\n",
    "        for i in range(0, no_top_words):\n",
    "            print(\"  %s (%2.2f)\" % (features[largest[i]], abs(words[largest[i]]*100.0/total)))"
   ]
  },
  {
   "cell_type": "markdown",
   "id": "a30a901c",
   "metadata": {},
   "source": [
    "## Getting to Know the Brown Corpus\n",
    "\n",
    "Let's spend a bit of time getting to know what's in the Brown corpus, our NLTK example of an \"overlapping\" corpus."
   ]
  },
  {
   "cell_type": "code",
   "execution_count": 4,
   "id": "457c59ed",
   "metadata": {},
   "outputs": [
    {
     "name": "stdout",
     "output_type": "stream",
     "text": [
      "For adventure we have 29 articles.\n",
      "For belles_lettres we have 75 articles.\n",
      "For editorial we have 27 articles.\n",
      "For fiction we have 29 articles.\n",
      "For government we have 30 articles.\n",
      "For hobbies we have 36 articles.\n",
      "For humor we have 9 articles.\n",
      "For learned we have 80 articles.\n",
      "For lore we have 48 articles.\n",
      "For mystery we have 24 articles.\n",
      "For news we have 44 articles.\n",
      "For religion we have 17 articles.\n",
      "For reviews we have 17 articles.\n",
      "For romance we have 29 articles.\n",
      "For science_fiction we have 6 articles.\n"
     ]
    }
   ],
   "source": [
    "# categories of articles in Brown corpus\n",
    "for category in brown.categories() :\n",
    "    print(f\"For {category} we have {len(brown.fileids(categories=category))} articles.\")"
   ]
  },
  {
   "cell_type": "markdown",
   "id": "23fb133c",
   "metadata": {},
   "source": [
    "Let's create a dataframe of the articles in of hobbies, editorial, government, news, and romance."
   ]
  },
  {
   "cell_type": "code",
   "execution_count": 5,
   "id": "18f50b9d",
   "metadata": {},
   "outputs": [
    {
     "data": {
      "text/plain": [
       "(166, 3)"
      ]
     },
     "execution_count": 5,
     "metadata": {},
     "output_type": "execute_result"
    }
   ],
   "source": [
    "categories = ['editorial','government','news','romance','hobbies'] \n",
    "\n",
    "category_list = []\n",
    "file_ids = []\n",
    "texts = []\n",
    "\n",
    "for category in categories : \n",
    "    for file_id in brown.fileids(categories=category) :\n",
    "        \n",
    "        # build some lists for a dataframe\n",
    "        category_list.append(category)\n",
    "        file_ids.append(file_id)\n",
    "        \n",
    "        text = brown.words(fileids=file_id)\n",
    "        texts.append(\" \".join(text))\n",
    "\n",
    "        \n",
    "        \n",
    "df = pd.DataFrame()\n",
    "df['category'] = category_list\n",
    "df['id'] = file_ids\n",
    "df['text'] = texts \n",
    "\n",
    "df.shape"
   ]
  },
  {
   "cell_type": "code",
   "execution_count": 6,
   "id": "586f47de",
   "metadata": {},
   "outputs": [],
   "source": [
    "# Let's add some helpful columns on the df\n",
    "df['char_len'] = df['text'].apply(len)\n",
    "df['word_len'] = df['text'].apply(lambda x: len(x.split()))\n"
   ]
  },
  {
   "cell_type": "markdown",
   "id": "554ffeb5",
   "metadata": {},
   "source": [
    "Now do our TF-IDF and Count vectorizations."
   ]
  },
  {
   "cell_type": "code",
   "execution_count": 8,
   "id": "422e8a5f",
   "metadata": {},
   "outputs": [
    {
     "data": {
      "text/plain": [
       "<AxesSubplot: xlabel='category'>"
      ]
     },
     "execution_count": 8,
     "metadata": {},
     "output_type": "execute_result"
    },
    {
     "data": {
      "image/png": "[encoded data removed]",
      "text/plain": [
       "<Figure size 1000x600 with 1 Axes>"
      ]
     },
     "metadata": {},
     "output_type": "display_data"
    }
   ],
   "source": [
    "%matplotlib inline\n",
    "\n",
    "df.groupby('category').agg({'word_len': 'mean'}).plot.bar(figsize=(10,6))"
   ]
  },
  {
   "cell_type": "code",
   "execution_count": 9,
   "id": "21a7d247",
   "metadata": {},
   "outputs": [
    {
     "name": "stderr",
     "output_type": "stream",
     "text": [
      "C:\\Users\\zfreitas\\AppData\\Local\\Packages\\PythonSoftwareFoundation.Python.3.11_qbz5n2kfra8p0\\LocalCache\\local-packages\\Python311\\site-packages\\sklearn\\feature_extraction\\text.py:409: UserWarning: Your stop_words may be inconsistent with your preprocessing. Tokenizing the stop words generated tokens ['ll', 've'] not in stop_words.\n",
      "  warnings.warn(\n"
     ]
    },
    {
     "data": {
      "text/plain": [
       "(166, 4941)"
      ]
     },
     "execution_count": 9,
     "metadata": {},
     "output_type": "execute_result"
    }
   ],
   "source": [
    "count_text_vectorizer = CountVectorizer(stop_words=list(stopwords), min_df=5, max_df=0.7)\n",
    "count_text_vectors = count_text_vectorizer.fit_transform(df['text'])\n",
    "count_text_vectors.shape"
   ]
  },
  {
   "cell_type": "code",
   "execution_count": 10,
   "id": "e9939e5e",
   "metadata": {},
   "outputs": [
    {
     "data": {
      "text/plain": [
       "array(['00', '000', '10', ..., 'youth', 'zone', 'zoning'], dtype=object)"
      ]
     },
     "execution_count": 10,
     "metadata": {},
     "output_type": "execute_result"
    }
   ],
   "source": [
    "count_text_vectorizer.get_feature_names_out()"
   ]
  },
  {
   "cell_type": "code",
   "execution_count": 11,
   "id": "6ba35373",
   "metadata": {},
   "outputs": [
    {
     "name": "stdout",
     "output_type": "stream",
     "text": [
      "(166, 4941)\n"
     ]
    }
   ],
   "source": [
    "tfidf_text_vectorizer = TfidfVectorizer(stop_words=list(stopwords), min_df=5, max_df=0.7)\n",
    "tfidf_text_vectors = tfidf_text_vectorizer.fit_transform(df['text'])\n",
    "print(tfidf_text_vectors.shape)\n"
   ]
  },
  {
   "cell_type": "code",
   "execution_count": 12,
   "id": "cfd2626f",
   "metadata": {},
   "outputs": [
    {
     "data": {
      "text/plain": [
       "array(['00', '000', '10', ..., 'youth', 'zone', 'zoning'], dtype=object)"
      ]
     },
     "execution_count": 12,
     "metadata": {},
     "output_type": "execute_result"
    }
   ],
   "source": [
    "tfidf_text_vectorizer.fit(df['text']).get_feature_names_out()"
   ]
  },
  {
   "cell_type": "code",
   "execution_count": 13,
   "id": "3c1236a0",
   "metadata": {},
   "outputs": [
    {
     "data": {
      "text/plain": [
       "array(['00', '000', '10', ..., 'youth', 'zone', 'zoning'], dtype=object)"
      ]
     },
     "execution_count": 13,
     "metadata": {},
     "output_type": "execute_result"
    }
   ],
   "source": [
    "tfidf_text_vectorizer.get_feature_names_out()"
   ]
  },
  {
   "attachments": {},
   "cell_type": "markdown",
   "id": "a1062b21",
   "metadata": {},
   "source": [
    "Q: What do the two data frames `count_text_vectors` and `tfidf_text_vectors` hold? \n",
    "\n",
    "A: `count_text_vectors` is a python object that contains a 166x4941 sparse matrix of type '<class 'numpy.int64'>' with 72541 stored elements in Compressed Sparse Row format. The numbers are a matrix of text documents to token counts. This matrix doesn’t include words from our stopwords list. It also ignores terms that have a document frequency strictly lower than 5. It also ignores terms that have a document frequency strictly higher than 70%.\n",
    "\n",
    "\n",
    "`tfidf_text_vectors` is a python object that contains a 166x4941 sparse matrix of type '<class 'numpy.int64'>' with 72541 stored elements in Compressed Sparse Row format. The numbers are a matrix of term-frequency times inverse document-frequency. This matrix doesn’t include words from our stopwords list. It also ignores terms that have a document frequency strictly lower than 5. It also ignores terms that have a document frequency strictly higher than 70%.\n"
   ]
  },
  {
   "cell_type": "markdown",
   "id": "f77c3f94",
   "metadata": {},
   "source": [
    "## Fitting a Non-Negative Matrix Factorization Model\n",
    "\n",
    "In this section the code to fit a five-topic NMF model has already been written. This code comes directly from the [BTAP repo](https://github.com/blueprints-for-text-analytics-python/blueprints-text), which will help you tremendously in the coming sections. "
   ]
  },
  {
   "cell_type": "code",
   "execution_count": 14,
   "id": "d28745a3",
   "metadata": {},
   "outputs": [],
   "source": [
    "nmf_text_model = NMF(n_components=5, random_state=314)\n",
    "W_nmf_text_matrix = nmf_text_model.fit_transform(tfidf_text_vectors)\n",
    "H_nmf_text_matrix = nmf_text_model.components_"
   ]
  },
  {
   "cell_type": "code",
   "execution_count": 15,
   "id": "99a74200",
   "metadata": {},
   "outputs": [
    {
     "name": "stderr",
     "output_type": "stream",
     "text": [
      "C:\\Users\\zfreitas\\AppData\\Local\\Packages\\PythonSoftwareFoundation.Python.3.11_qbz5n2kfra8p0\\LocalCache\\local-packages\\Python311\\site-packages\\plotly\\io\\_renderers.py:395: DeprecationWarning:\n",
      "\n",
      "distutils Version classes are deprecated. Use packaging.version instead.\n",
      "\n",
      "C:\\Users\\zfreitas\\AppData\\Local\\Packages\\PythonSoftwareFoundation.Python.3.11_qbz5n2kfra8p0\\LocalCache\\local-packages\\Python311\\site-packages\\plotly\\io\\_renderers.py:395: DeprecationWarning:\n",
      "\n",
      "distutils Version classes are deprecated. Use packaging.version instead.\n",
      "\n"
     ]
    },
    {
     "data": {
      "application/vnd.plotly.v1+json": {
       "config": {
        "plotlyServerURL": "https://plot.ly"
       },
       "data": [
        {
         "hovertemplate": "color=editorial<br>0=%{x}<br>1=%{y}<extra></extra>",
         "legendgroup": "editorial",
         "marker": {
          "color": "#636efa",
          "symbol": "circle"
         },
         "mode": "markers",
         "name": "editorial",
         "orientation": "v",
         "showlegend": true,
         "type": "scatter",
         "x": [
          0.1635380900067819,
          0.3124591430334578,
          0.26595043094180165,
          0.26259590064002625,
          0.19476887675060567,
          0.205219338962347,
          0.23281828000272115,
          0.04223415766468612,
          0.07398411122332987,
          0,
          0.2876730557725968,
          0.09722727942128007,
          0.00543733140320436,
          0.1922588880937985,
          0.059324548568479525,
          0.125086483507819,
          0.15108392096552622,
          0.2514329426217717,
          0.17363672741866387,
          0.2512100168917581,
          0.1487190416461012,
          0.18381687078217163,
          0.21605903407742588,
          0.018268763758105273,
          0.21795370329910865,
          0.16568834793403509,
          0.12237060098428759
         ],
         "xaxis": "x",
         "y": [
          0,
          0,
          0.03921915543965028,
          0,
          0.002148837469464824,
          0,
          0,
          0.27871001941821555,
          0.1263074022854707,
          0.1756234223289517,
          0,
          0.0602429616056956,
          0.14951452459110054,
          0.05325346944354886,
          0.02733132551810028,
          0.024605163284309325,
          0.05718339155056539,
          0.0006880803925789868,
          0.053074118080594285,
          0.02347272605033258,
          0.0028813218869507854,
          0.02130386819023271,
          0.0397291817866432,
          0.12202644263100397,
          0.019230709479012995,
          0.02665805301159526,
          0.06580283747149566
         ],
         "yaxis": "y"
        },
        {
         "hovertemplate": "color=government<br>0=%{x}<br>1=%{y}<extra></extra>",
         "legendgroup": "government",
         "marker": {
          "color": "#EF553B",
          "symbol": "circle"
         },
         "mode": "markers",
         "name": "government",
         "orientation": "v",
         "showlegend": true,
         "type": "scatter",
         "x": [
          0,
          0.035094817323416704,
          0.15165352089673648,
          0,
          0,
          0,
          0,
          0.08223248803119548,
          0.032621727953122896,
          0.00944448464705263,
          0,
          0.05182558440690323,
          0.18963895900628677,
          0.009514213706214969,
          0.0029903158011747267,
          0.010909239926620913,
          0.07064573741660513,
          0.15713140385723043,
          0.12039771874591758,
          0,
          0.02156492169187813,
          0.06180620671916635,
          0.019707395437083424,
          0,
          0.07888246170913882,
          0.014816772018235315,
          0,
          0.015048450459779327,
          0,
          0.08360714821478411
         ],
         "xaxis": "x",
         "y": [
          0,
          0,
          0.03481360190639787,
          0,
          0,
          0,
          0,
          0,
          0,
          0,
          0.0013533461767722178,
          0,
          0,
          0,
          0.030365627401826148,
          0,
          0,
          0.022722686872397955,
          0,
          0,
          0,
          0,
          0.0012048669692207342,
          0,
          0.021057489038182556,
          0.03001806314193013,
          0,
          0,
          0,
          0
         ],
         "yaxis": "y"
        },
        {
         "hovertemplate": "color=news<br>0=%{x}<br>1=%{y}<extra></extra>",
         "legendgroup": "news",
         "marker": {
          "color": "#00cc96",
          "symbol": "circle"
         },
         "mode": "markers",
         "name": "news",
         "orientation": "v",
         "showlegend": true,
         "type": "scatter",
         "x": [
          0.10913080088481,
          0.07380946645970048,
          0.1038216948087071,
          0.2978017724244566,
          0.16378969135092045,
          0.15397631087583774,
          0.2819135399727516,
          0.1266036313860023,
          0.08223262274679516,
          0.13087204249617837,
          0.000683628193839135,
          0,
          0,
          0.01829177169347746,
          0,
          0,
          0,
          0,
          0.06085207678282412,
          0.09891133683750518,
          0.07804901329572492,
          0.02326723373639799,
          0.008022222638405059,
          0.06662853076092926,
          0.09301846431220077,
          0,
          0.06340037373930985,
          0,
          0,
          0,
          0.030691409673456016,
          0.038951669922280066,
          0.08232858974156052,
          0.2679122380062019,
          0.06679874431562197,
          0.06969272954571802,
          0.28968649566778487,
          0,
          0,
          0.0661289040112237,
          0.15663372624188346,
          0.2009774914041959,
          0.030484392911228057,
          0.015289701245545033
         ],
         "xaxis": "x",
         "y": [
          0.022375782496549403,
          0.0019179048109233556,
          0.02379335208087589,
          0,
          0.03428394850466776,
          0.034142795100225797,
          0,
          0,
          0.029459557018683993,
          0.06203827918185114,
          0,
          0.0017122163632870735,
          0,
          0,
          0,
          0.006505286386486494,
          0,
          0,
          0.06935494380140816,
          0.05701185773396661,
          0.07497002549296994,
          0.02716296219107291,
          0.004755049788235929,
          0.029348566626795337,
          0.043121377884199855,
          0,
          0.03576014626880438,
          0,
          0.09537509407416936,
          0.0745489899117919,
          0.017939087428766404,
          0.08380655851592562,
          0.07721047963452972,
          0,
          0.004749782049294726,
          0,
          0.0030837976674375762,
          0.012208021917182482,
          0,
          0.07494252683288471,
          0.008166426829249887,
          0.07825187460262972,
          0.004658735173686905,
          0.0009184960969167486
         ],
         "yaxis": "y"
        },
        {
         "hovertemplate": "color=romance<br>0=%{x}<br>1=%{y}<extra></extra>",
         "legendgroup": "romance",
         "marker": {
          "color": "#ab63fa",
          "symbol": "circle"
         },
         "mode": "markers",
         "name": "romance",
         "orientation": "v",
         "showlegend": true,
         "type": "scatter",
         "x": [
          0.008682990815581713,
          0.023150850092403093,
          0,
          0,
          0.02507059598497573,
          0,
          0.04046218336053925,
          0,
          0,
          0,
          0,
          0.014056138277978572,
          0,
          0,
          0,
          0,
          0.02143080391138924,
          0,
          0,
          0,
          0.007962276409368661,
          0.004330365528850644,
          0,
          0,
          0,
          0,
          0.010729255221068646,
          0.0041337166397104295,
          0.023773344194530168
         ],
         "xaxis": "x",
         "y": [
          0.2979252392374287,
          0.34057244579001195,
          0.3214267041173653,
          0.40173925278628536,
          0.25508452054471886,
          0.3710176206500147,
          0.16296050062522432,
          0.37601483996118157,
          0.3598240362305058,
          0.2744075722231188,
          0.25893397370329824,
          0.4097448070437398,
          0.30089936279016627,
          0.4037519662550161,
          0.3114555531870262,
          0.3539451422436558,
          0.2015736934566592,
          0.41433336470654936,
          0.3842941057156487,
          0.395770228796608,
          0.2455055992023462,
          0.32890480350709717,
          0.29184781323214126,
          0.25858031625479544,
          0.27883365540269883,
          0.26771398342913455,
          0.21791501969800947,
          0.283412976657748,
          0.20317990487769091
         ],
         "yaxis": "y"
        },
        {
         "hovertemplate": "color=hobbies<br>0=%{x}<br>1=%{y}<extra></extra>",
         "legendgroup": "hobbies",
         "marker": {
          "color": "#FFA15A",
          "symbol": "circle"
         },
         "mode": "markers",
         "name": "hobbies",
         "orientation": "v",
         "showlegend": true,
         "type": "scatter",
         "x": [
          0.015496101505908471,
          0,
          0.06612236717409448,
          0.010152791101855851,
          0.0010531268828660797,
          0.010261580820112118,
          0,
          0,
          0.002444679916656563,
          0,
          0.00004895195963987276,
          0.04655850026757487,
          0.018482314622218228,
          0,
          0,
          0,
          0,
          0.030313665209150548,
          0.0006521306889348165,
          0,
          0,
          0.07055133799526024,
          0,
          0.021539351113887474,
          0,
          0.028570045681920727,
          0,
          0,
          0.016084082079583697,
          0,
          0.01125480422413732,
          0.0017205774528154785,
          0,
          0,
          0,
          0.0032777777241465677
         ],
         "xaxis": "x",
         "y": [
          0.07560812520264622,
          0.17065831861413674,
          0.009632945077280419,
          0.051911897200393194,
          0.032001108092423826,
          0.028539801652949854,
          0.03572055184787546,
          0.012841154682499736,
          0.08143662379225175,
          0.01315980729005218,
          0.09476323626826322,
          0.04801558909498512,
          0.13672444532865036,
          0.1211730828230858,
          0.047696478070494444,
          0.060193997241271405,
          0.0536367867369586,
          0.04243206544381584,
          0.07735759922683523,
          0.09646742163632212,
          0.03479544935597165,
          0.07232680006736816,
          0.11055645736099988,
          0.12340917826362385,
          0.041143947266352766,
          0.0381867354746694,
          0.011340557864400278,
          0,
          0.014440223983644524,
          0.027684464972307955,
          0.015178275828814274,
          0.008712077274272154,
          0.05993263388504522,
          0.018748518136515988,
          0.0559438583923004,
          0.0547832879197743
         ],
         "yaxis": "y"
        }
       ],
       "layout": {
        "legend": {
         "title": {
          "text": "color"
         },
         "tracegroupgap": 0
        },
        "margin": {
         "t": 60
        },
        "template": {
         "data": {
          "bar": [
           {
            "error_x": {
             "color": "#2a3f5f"
            },
            "error_y": {
             "color": "#2a3f5f"
            },
            "marker": {
             "line": {
              "color": "#E5ECF6",
              "width": 0.5
             },
             "pattern": {
              "fillmode": "overlay",
              "size": 10,
              "solidity": 0.2
             }
            },
            "type": "bar"
           }
          ],
          "barpolar": [
           {
            "marker": {
             "line": {
              "color": "#E5ECF6",
              "width": 0.5
             },
             "pattern": {
              "fillmode": "overlay",
              "size": 10,
              "solidity": 0.2
             }
            },
            "type": "barpolar"
           }
          ],
          "carpet": [
           {
            "aaxis": {
             "endlinecolor": "#2a3f5f",
             "gridcolor": "white",
             "linecolor": "white",
             "minorgridcolor": "white",
             "startlinecolor": "#2a3f5f"
            },
            "baxis": {
             "endlinecolor": "#2a3f5f",
             "gridcolor": "white",
             "linecolor": "white",
             "minorgridcolor": "white",
             "startlinecolor": "#2a3f5f"
            },
            "type": "carpet"
           }
          ],
          "choropleth": [
           {
            "colorbar": {
             "outlinewidth": 0,
             "ticks": ""
            },
            "type": "choropleth"
           }
          ],
          "contour": [
           {
            "colorbar": {
             "outlinewidth": 0,
             "ticks": ""
            },
            "colorscale": [
             [
              0,
              "#0d0887"
             ],
             [
              0.1111111111111111,
              "#46039f"
             ],
             [
              0.2222222222222222,
              "#7201a8"
             ],
             [
              0.3333333333333333,
              "#9c179e"
             ],
             [
              0.4444444444444444,
              "#bd3786"
             ],
             [
              0.5555555555555556,
              "#d8576b"
             ],
             [
              0.6666666666666666,
              "#ed7953"
             ],
             [
              0.7777777777777778,
              "#fb9f3a"
             ],
             [
              0.8888888888888888,
              "#fdca26"
             ],
             [
              1,
              "#f0f921"
             ]
            ],
            "type": "contour"
           }
          ],
          "contourcarpet": [
           {
            "colorbar": {
             "outlinewidth": 0,
             "ticks": ""
            },
            "type": "contourcarpet"
           }
          ],
          "heatmap": [
           {
            "colorbar": {
             "outlinewidth": 0,
             "ticks": ""
            },
            "colorscale": [
             [
              0,
              "#0d0887"
             ],
             [
              0.1111111111111111,
              "#46039f"
             ],
             [
              0.2222222222222222,
              "#7201a8"
             ],
             [
              0.3333333333333333,
              "#9c179e"
             ],
             [
              0.4444444444444444,
              "#bd3786"
             ],
             [
              0.5555555555555556,
              "#d8576b"
             ],
             [
              0.6666666666666666,
              "#ed7953"
             ],
             [
              0.7777777777777778,
              "#fb9f3a"
             ],
             [
              0.8888888888888888,
              "#fdca26"
             ],
             [
              1,
              "#f0f921"
             ]
            ],
            "type": "heatmap"
           }
          ],
          "heatmapgl": [
           {
            "colorbar": {
             "outlinewidth": 0,
             "ticks": ""
            },
            "colorscale": [
             [
              0,
              "#0d0887"
             ],
             [
              0.1111111111111111,
              "#46039f"
             ],
             [
              0.2222222222222222,
              "#7201a8"
             ],
             [
              0.3333333333333333,
              "#9c179e"
             ],
             [
              0.4444444444444444,
              "#bd3786"
             ],
             [
              0.5555555555555556,
              "#d8576b"
             ],
             [
              0.6666666666666666,
              "#ed7953"
             ],
             [
              0.7777777777777778,
              "#fb9f3a"
             ],
             [
              0.8888888888888888,
              "#fdca26"
             ],
             [
              1,
              "#f0f921"
             ]
            ],
            "type": "heatmapgl"
           }
          ],
          "histogram": [
           {
            "marker": {
             "pattern": {
              "fillmode": "overlay",
              "size": 10,
              "solidity": 0.2
             }
            },
            "type": "histogram"
           }
          ],
          "histogram2d": [
           {
            "colorbar": {
             "outlinewidth": 0,
             "ticks": ""
            },
            "colorscale": [
             [
              0,
              "#0d0887"
             ],
             [
              0.1111111111111111,
              "#46039f"
             ],
             [
              0.2222222222222222,
              "#7201a8"
             ],
             [
              0.3333333333333333,
              "#9c179e"
             ],
             [
              0.4444444444444444,
              "#bd3786"
             ],
             [
              0.5555555555555556,
              "#d8576b"
             ],
             [
              0.6666666666666666,
              "#ed7953"
             ],
             [
              0.7777777777777778,
              "#fb9f3a"
             ],
             [
              0.8888888888888888,
              "#fdca26"
             ],
             [
              1,
              "#f0f921"
             ]
            ],
            "type": "histogram2d"
           }
          ],
          "histogram2dcontour": [
           {
            "colorbar": {
             "outlinewidth": 0,
             "ticks": ""
            },
            "colorscale": [
             [
              0,
              "#0d0887"
             ],
             [
              0.1111111111111111,
              "#46039f"
             ],
             [
              0.2222222222222222,
              "#7201a8"
             ],
             [
              0.3333333333333333,
              "#9c179e"
             ],
             [
              0.4444444444444444,
              "#bd3786"
             ],
             [
              0.5555555555555556,
              "#d8576b"
             ],
             [
              0.6666666666666666,
              "#ed7953"
             ],
             [
              0.7777777777777778,
              "#fb9f3a"
             ],
             [
              0.8888888888888888,
              "#fdca26"
             ],
             [
              1,
              "#f0f921"
             ]
            ],
            "type": "histogram2dcontour"
           }
          ],
          "mesh3d": [
           {
            "colorbar": {
             "outlinewidth": 0,
             "ticks": ""
            },
            "type": "mesh3d"
           }
          ],
          "parcoords": [
           {
            "line": {
             "colorbar": {
              "outlinewidth": 0,
              "ticks": ""
             }
            },
            "type": "parcoords"
           }
          ],
          "pie": [
           {
            "automargin": true,
            "type": "pie"
           }
          ],
          "scatter": [
           {
            "fillpattern": {
             "fillmode": "overlay",
             "size": 10,
             "solidity": 0.2
            },
            "type": "scatter"
           }
          ],
          "scatter3d": [
           {
            "line": {
             "colorbar": {
              "outlinewidth": 0,
              "ticks": ""
             }
            },
            "marker": {
             "colorbar": {
              "outlinewidth": 0,
              "ticks": ""
             }
            },
            "type": "scatter3d"
           }
          ],
          "scattercarpet": [
           {
            "marker": {
             "colorbar": {
              "outlinewidth": 0,
              "ticks": ""
             }
            },
            "type": "scattercarpet"
           }
          ],
          "scattergeo": [
           {
            "marker": {
             "colorbar": {
              "outlinewidth": 0,
              "ticks": ""
             }
            },
            "type": "scattergeo"
           }
          ],
          "scattergl": [
           {
            "marker": {
             "colorbar": {
              "outlinewidth": 0,
              "ticks": ""
             }
            },
            "type": "scattergl"
           }
          ],
          "scattermapbox": [
           {
            "marker": {
             "colorbar": {
              "outlinewidth": 0,
              "ticks": ""
             }
            },
            "type": "scattermapbox"
           }
          ],
          "scatterpolar": [
           {
            "marker": {
             "colorbar": {
              "outlinewidth": 0,
              "ticks": ""
             }
            },
            "type": "scatterpolar"
           }
          ],
          "scatterpolargl": [
           {
            "marker": {
             "colorbar": {
              "outlinewidth": 0,
              "ticks": ""
             }
            },
            "type": "scatterpolargl"
           }
          ],
          "scatterternary": [
           {
            "marker": {
             "colorbar": {
              "outlinewidth": 0,
              "ticks": ""
             }
            },
            "type": "scatterternary"
           }
          ],
          "surface": [
           {
            "colorbar": {
             "outlinewidth": 0,
             "ticks": ""
            },
            "colorscale": [
             [
              0,
              "#0d0887"
             ],
             [
              0.1111111111111111,
              "#46039f"
             ],
             [
              0.2222222222222222,
              "#7201a8"
             ],
             [
              0.3333333333333333,
              "#9c179e"
             ],
             [
              0.4444444444444444,
              "#bd3786"
             ],
             [
              0.5555555555555556,
              "#d8576b"
             ],
             [
              0.6666666666666666,
              "#ed7953"
             ],
             [
              0.7777777777777778,
              "#fb9f3a"
             ],
             [
              0.8888888888888888,
              "#fdca26"
             ],
             [
              1,
              "#f0f921"
             ]
            ],
            "type": "surface"
           }
          ],
          "table": [
           {
            "cells": {
             "fill": {
              "color": "#EBF0F8"
             },
             "line": {
              "color": "white"
             }
            },
            "header": {
             "fill": {
              "color": "#C8D4E3"
             },
             "line": {
              "color": "white"
             }
            },
            "type": "table"
           }
          ]
         },
         "layout": {
          "annotationdefaults": {
           "arrowcolor": "#2a3f5f",
           "arrowhead": 0,
           "arrowwidth": 1
          },
          "autotypenumbers": "strict",
          "coloraxis": {
           "colorbar": {
            "outlinewidth": 0,
            "ticks": ""
           }
          },
          "colorscale": {
           "diverging": [
            [
             0,
             "#8e0152"
            ],
            [
             0.1,
             "#c51b7d"
            ],
            [
             0.2,
             "#de77ae"
            ],
            [
             0.3,
             "#f1b6da"
            ],
            [
             0.4,
             "#fde0ef"
            ],
            [
             0.5,
             "#f7f7f7"
            ],
            [
             0.6,
             "#e6f5d0"
            ],
            [
             0.7,
             "#b8e186"
            ],
            [
             0.8,
             "#7fbc41"
            ],
            [
             0.9,
             "#4d9221"
            ],
            [
             1,
             "#276419"
            ]
           ],
           "sequential": [
            [
             0,
             "#0d0887"
            ],
            [
             0.1111111111111111,
             "#46039f"
            ],
            [
             0.2222222222222222,
             "#7201a8"
            ],
            [
             0.3333333333333333,
             "#9c179e"
            ],
            [
             0.4444444444444444,
             "#bd3786"
            ],
            [
             0.5555555555555556,
             "#d8576b"
            ],
            [
             0.6666666666666666,
             "#ed7953"
            ],
            [
             0.7777777777777778,
             "#fb9f3a"
            ],
            [
             0.8888888888888888,
             "#fdca26"
            ],
            [
             1,
             "#f0f921"
            ]
           ],
           "sequentialminus": [
            [
             0,
             "#0d0887"
            ],
            [
             0.1111111111111111,
             "#46039f"
            ],
            [
             0.2222222222222222,
             "#7201a8"
            ],
            [
             0.3333333333333333,
             "#9c179e"
            ],
            [
             0.4444444444444444,
             "#bd3786"
            ],
            [
             0.5555555555555556,
             "#d8576b"
            ],
            [
             0.6666666666666666,
             "#ed7953"
            ],
            [
             0.7777777777777778,
             "#fb9f3a"
            ],
            [
             0.8888888888888888,
             "#fdca26"
            ],
            [
             1,
             "#f0f921"
            ]
           ]
          },
          "colorway": [
           "#636efa",
           "#EF553B",
           "#00cc96",
           "#ab63fa",
           "#FFA15A",
           "#19d3f3",
           "#FF6692",
           "#B6E880",
           "#FF97FF",
           "#FECB52"
          ],
          "font": {
           "color": "#2a3f5f"
          },
          "geo": {
           "bgcolor": "white",
           "lakecolor": "white",
           "landcolor": "#E5ECF6",
           "showlakes": true,
           "showland": true,
           "subunitcolor": "white"
          },
          "hoverlabel": {
           "align": "left"
          },
          "hovermode": "closest",
          "mapbox": {
           "style": "light"
          },
          "paper_bgcolor": "white",
          "plot_bgcolor": "#E5ECF6",
          "polar": {
           "angularaxis": {
            "gridcolor": "white",
            "linecolor": "white",
            "ticks": ""
           },
           "bgcolor": "#E5ECF6",
           "radialaxis": {
            "gridcolor": "white",
            "linecolor": "white",
            "ticks": ""
           }
          },
          "scene": {
           "xaxis": {
            "backgroundcolor": "#E5ECF6",
            "gridcolor": "white",
            "gridwidth": 2,
            "linecolor": "white",
            "showbackground": true,
            "ticks": "",
            "zerolinecolor": "white"
           },
           "yaxis": {
            "backgroundcolor": "#E5ECF6",
            "gridcolor": "white",
            "gridwidth": 2,
            "linecolor": "white",
            "showbackground": true,
            "ticks": "",
            "zerolinecolor": "white"
           },
           "zaxis": {
            "backgroundcolor": "#E5ECF6",
            "gridcolor": "white",
            "gridwidth": 2,
            "linecolor": "white",
            "showbackground": true,
            "ticks": "",
            "zerolinecolor": "white"
           }
          },
          "shapedefaults": {
           "line": {
            "color": "#2a3f5f"
           }
          },
          "ternary": {
           "aaxis": {
            "gridcolor": "white",
            "linecolor": "white",
            "ticks": ""
           },
           "baxis": {
            "gridcolor": "white",
            "linecolor": "white",
            "ticks": ""
           },
           "bgcolor": "#E5ECF6",
           "caxis": {
            "gridcolor": "white",
            "linecolor": "white",
            "ticks": ""
           }
          },
          "title": {
           "x": 0.05
          },
          "xaxis": {
           "automargin": true,
           "gridcolor": "white",
           "linecolor": "white",
           "ticks": "",
           "title": {
            "standoff": 15
           },
           "zerolinecolor": "white",
           "zerolinewidth": 2
          },
          "yaxis": {
           "automargin": true,
           "gridcolor": "white",
           "linecolor": "white",
           "ticks": "",
           "title": {
            "standoff": 15
           },
           "zerolinecolor": "white",
           "zerolinewidth": 2
          }
         }
        },
        "xaxis": {
         "anchor": "y",
         "domain": [
          0,
          1
         ],
         "title": {
          "text": "0"
         }
        },
        "yaxis": {
         "anchor": "x",
         "domain": [
          0,
          1
         ],
         "title": {
          "text": "1"
         }
        }
       }
      }
     },
     "metadata": {},
     "output_type": "display_data"
    }
   ],
   "source": [
    "# Plot PCA of Predictions\n",
    "fig = px.scatter(W_nmf_text_matrix, x=0, y=1, color=df[\"category\"])\n",
    "fig.show()"
   ]
  },
  {
   "cell_type": "code",
   "execution_count": 16,
   "id": "a67185e7",
   "metadata": {},
   "outputs": [
    {
     "name": "stdout",
     "output_type": "stream",
     "text": [
      "\n",
      "Topic 00\n",
      "  mr (0.51)\n",
      "  president (0.45)\n",
      "  kennedy (0.43)\n",
      "  united (0.42)\n",
      "  khrushchev (0.40)\n",
      "\n",
      "Topic 01\n",
      "  said (0.88)\n",
      "  didn (0.46)\n",
      "  ll (0.45)\n",
      "  thought (0.42)\n",
      "  man (0.37)\n",
      "\n",
      "Topic 02\n",
      "  state (0.39)\n",
      "  development (0.36)\n",
      "  tax (0.33)\n",
      "  sales (0.30)\n",
      "  program (0.25)\n",
      "\n",
      "Topic 03\n",
      "  mrs (2.61)\n",
      "  mr (0.78)\n",
      "  said (0.63)\n",
      "  miss (0.52)\n",
      "  car (0.51)\n",
      "\n",
      "Topic 04\n",
      "  game (1.02)\n",
      "  league (0.74)\n",
      "  ball (0.72)\n",
      "  baseball (0.71)\n",
      "  team (0.66)\n"
     ]
    }
   ],
   "source": [
    "display_topics(nmf_text_model, tfidf_text_vectorizer.get_feature_names_out(), no_top_words=5)"
   ]
  },
  {
   "cell_type": "markdown",
   "id": "fee51e9b",
   "metadata": {},
   "source": [
    "Now some work for you to do. Compare the NMF factorization to the original categories from the Brown Corpus.\n",
    "\n",
    "We are interested in the extent to which our NMF factorization agrees or disagrees with the original categories in the corpus. For each topic in your NMF model, tally the Brown categories and interpret the results. \n"
   ]
  },
  {
   "cell_type": "code",
   "execution_count": 17,
   "id": "7c8c8eb0",
   "metadata": {},
   "outputs": [
    {
     "data": {
      "text/plain": [
       "<AxesSubplot: xlabel='Predicted Label: Model Topics', ylabel='True Label: Original Brown Topics'>"
      ]
     },
     "execution_count": 17,
     "metadata": {},
     "output_type": "execute_result"
    },
    {
     "data": {
      "image/png": "[encoded data removed]",
      "text/plain": [
       "<Figure size 640x480 with 2 Axes>"
      ]
     },
     "metadata": {},
     "output_type": "display_data"
    }
   ],
   "source": [
    "# Your code here\n",
    "df_new = df.copy()\n",
    "\n",
    "# Get the top predicted topic\n",
    "predicted_topics = [np.argsort(each)[::-1][0] for each in W_nmf_text_matrix]\n",
    "\n",
    "# Add to the df\n",
    "df_new['nmf_pred_topic_num'] = predicted_topics\n",
    "\n",
    "# Create Crosstab\n",
    "acc_crosstab = pd.crosstab(df_new[\"category\"], df_new[\"nmf_pred_topic_num\"], dropna=False)\n",
    "\n",
    "# Custom Color Palette\n",
    "hot_palette =  sns.color_palette(\"light:r\", as_cmap=True)\n",
    "\n",
    "# Plot Heatmap of Aggreement.\n",
    "ax = sns.heatmap(acc_crosstab,cmap=hot_palette,linewidths=1,annot=True)\n",
    "ax.set(xlabel=\"Predicted Label: Model Topics\", ylabel=\"True Label: Original Brown Topics\")\n",
    "ax"
   ]
  },
  {
   "attachments": {},
   "cell_type": "markdown",
   "id": "f8d4e2bc",
   "metadata": {},
   "source": [
    "Q: How does your five-topic NMF model compare to the original Brown categories? \n",
    "\n",
    "A: Looking at the NMF model compared to the original Brown categories, it appears that our model does a good job predicting the Romance and Editorial categories. Our model seems to have a hard time differentiating between hobbies and government categories and struggles reliably predicting the news category."
   ]
  },
  {
   "cell_type": "markdown",
   "id": "82e37cb5",
   "metadata": {},
   "source": [
    "## Fitting an LSA Model\n",
    "\n",
    "In this section, follow the example from the repository and fit an LSA model (called a \"TruncatedSVD\" in `sklearn`). Again fit a five-topic model and compare it to the actual categories in the Brown corpus. Use the TF-IDF vectors for your fit, as above. \n",
    "\n",
    "To be explicit, we are once again interested in the extent to which this LSA factorization agrees or disagrees with the original categories in the corpus. For each topic in your model, tally the Brown categories and interpret the results. \n"
   ]
  },
  {
   "cell_type": "code",
   "execution_count": 18,
   "id": "00b53d3d",
   "metadata": {},
   "outputs": [],
   "source": [
    "# Your code here\n",
    "lsa_text_model = TruncatedSVD(n_components=5, n_iter=7, random_state=42)\n",
    "W_lsa_text_matrix = lsa_text_model.fit_transform(tfidf_text_vectors)\n",
    "H_lsa_text_matrix = lsa_text_model.components_\n"
   ]
  },
  {
   "cell_type": "code",
   "execution_count": 19,
   "id": "adcdc672",
   "metadata": {},
   "outputs": [
    {
     "name": "stderr",
     "output_type": "stream",
     "text": [
      "C:\\Users\\zfreitas\\AppData\\Local\\Packages\\PythonSoftwareFoundation.Python.3.11_qbz5n2kfra8p0\\LocalCache\\local-packages\\Python311\\site-packages\\plotly\\io\\_renderers.py:395: DeprecationWarning:\n",
      "\n",
      "distutils Version classes are deprecated. Use packaging.version instead.\n",
      "\n",
      "C:\\Users\\zfreitas\\AppData\\Local\\Packages\\PythonSoftwareFoundation.Python.3.11_qbz5n2kfra8p0\\LocalCache\\local-packages\\Python311\\site-packages\\plotly\\io\\_renderers.py:395: DeprecationWarning:\n",
      "\n",
      "distutils Version classes are deprecated. Use packaging.version instead.\n",
      "\n"
     ]
    },
    {
     "data": {
      "application/vnd.plotly.v1+json": {
       "config": {
        "plotlyServerURL": "https://plot.ly"
       },
       "data": [
        {
         "hovertemplate": "color=editorial<br>0=%{x}<br>1=%{y}<extra></extra>",
         "legendgroup": "editorial",
         "marker": {
          "color": "#636efa",
          "symbol": "circle"
         },
         "mode": "markers",
         "name": "editorial",
         "orientation": "v",
         "showlegend": true,
         "type": "scatter",
         "x": [
          0.38957124814640554,
          0.3630900541453518,
          0.37760733398238366,
          0.3792416559352597,
          0.35952030242503863,
          0.34300291169721703,
          0.3553605167896193,
          0.36196965594107544,
          0.32597879787347833,
          0.33662545241476516,
          0.36877308202713677,
          0.28965157070123065,
          0.2879216813266595,
          0.3566451700245103,
          0.3275620279882822,
          0.3229326887002156,
          0.34293334504899237,
          0.3418019229468363,
          0.3090040656818902,
          0.33043974412841687,
          0.2730329812844611,
          0.2852600658634127,
          0.3024502323921136,
          0.2610538665567546,
          0.2819169999803492,
          0.32134501655849756,
          0.2957940727973787
         ],
         "xaxis": "x",
         "y": [
          -0.24968185679574592,
          -0.2372561930317531,
          -0.13792991408554117,
          -0.2316050171931487,
          -0.21162397958403026,
          -0.23056266029868594,
          -0.24162842952072935,
          0.20414769239084316,
          0.05913403986151532,
          0.16722454139575807,
          -0.1919477826245876,
          -0.02496594372837934,
          0.06295646447668744,
          -0.07325842638267069,
          -0.16870345897479125,
          -0.140459990742271,
          -0.1255404311402666,
          -0.20774381671625092,
          -0.08042766933432684,
          -0.13476808168642715,
          -0.15084700245149887,
          -0.14459292407007085,
          -0.11928800094565369,
          0.07984177035924396,
          -0.1287827550597504,
          -0.13838088802140855,
          -0.056221440621939074
         ],
         "yaxis": "y"
        },
        {
         "hovertemplate": "color=government<br>0=%{x}<br>1=%{y}<extra></extra>",
         "legendgroup": "government",
         "marker": {
          "color": "#EF553B",
          "symbol": "circle"
         },
         "mode": "markers",
         "name": "government",
         "orientation": "v",
         "showlegend": true,
         "type": "scatter",
         "x": [
          0.21342206258486457,
          0.23049702529512697,
          0.22567487977750444,
          0.19161356030994034,
          0.1683598837468237,
          0.2629912163776335,
          0.16001640017182414,
          0.24215245394828105,
          0.24841621234767516,
          0.18553725485035383,
          0.18188063577655708,
          0.15372975242826636,
          0.29416655109042295,
          0.1834358358243608,
          0.12704338203585133,
          0.14201997422316648,
          0.18754186519440014,
          0.28296267814359843,
          0.2254537843812983,
          0.18914150376912128,
          0.25355810107846527,
          0.18029120079211047,
          0.11732907018599206,
          0.16110911456225485,
          0.24314221033665875,
          0.19510580689889842,
          0.2509178492707502,
          0.21338674262842777,
          0.24991087329151826,
          0.2276943928967792
         ],
         "xaxis": "x",
         "y": [
          -0.20284232917001138,
          -0.21410880199419155,
          -0.07106760612255789,
          -0.18386118553987568,
          -0.15888811936654523,
          -0.27351494283100314,
          -0.16139467401223767,
          -0.1339167540513662,
          -0.2779792575013476,
          -0.18269439731204776,
          -0.11566350003451534,
          -0.18363800368326824,
          -0.18592755333230235,
          -0.2239819672683955,
          -0.0320858887278508,
          -0.1217873979637854,
          -0.1281745959066503,
          -0.1624394041549786,
          -0.1751599145329772,
          -0.16476591856492104,
          -0.25957240718225427,
          -0.24225300688967263,
          -0.07850617593070516,
          -0.13940248111663284,
          -0.09281388293605353,
          -0.05618218218667672,
          -0.23422272733107122,
          -0.09157510342296372,
          -0.2015042799081599,
          -0.16512998834040685
         ],
         "yaxis": "y"
        },
        {
         "hovertemplate": "color=news<br>0=%{x}<br>1=%{y}<extra></extra>",
         "legendgroup": "news",
         "marker": {
          "color": "#00cc96",
          "symbol": "circle"
         },
         "mode": "markers",
         "name": "news",
         "orientation": "v",
         "showlegend": true,
         "type": "scatter",
         "x": [
          0.33343908591467447,
          0.32919015281573144,
          0.3349463401533114,
          0.3340229334861739,
          0.40757395122820295,
          0.3467130611260962,
          0.40151155759233925,
          0.2953786379339461,
          0.3410740390438511,
          0.42802375654308256,
          0.30505574301897603,
          0.2664924002515171,
          0.2972150585461126,
          0.29714927884971987,
          0.3196531050623899,
          0.3606026232385408,
          0.3131265175080453,
          0.25564859159462633,
          0.40864519518022524,
          0.3702626080778858,
          0.4228022295372697,
          0.36011986248207345,
          0.4011030414444933,
          0.39079334362394613,
          0.38193065184166697,
          0.24575782927654052,
          0.3337491693072696,
          0.24881624623885146,
          0.3112473915563068,
          0.368001863461537,
          0.33542572231518386,
          0.3027236467710722,
          0.37134130682620375,
          0.2758099148324162,
          0.22579868574976317,
          0.2060566968815475,
          0.3470279729216715,
          0.16088902672475244,
          0.26298523663713824,
          0.3591210381001518,
          0.24166569825034254,
          0.3652462182629304,
          0.21977853449128798,
          0.2473813321776486
         ],
         "xaxis": "x",
         "y": [
          -0.11652512604319407,
          -0.1329045130534421,
          -0.15635299784997886,
          -0.2883540208265289,
          -0.13066624016014533,
          -0.12306194863166606,
          -0.25502225705457254,
          -0.20184752433887931,
          -0.0871136853032865,
          -0.07996872413941351,
          0.090372305941296,
          0.10943275043605734,
          0.1689491214277882,
          0.06476625973546057,
          0.13953682578847448,
          0.09989264404408767,
          0.10023761214599783,
          0.09267279508681736,
          -0.033940282655668536,
          -0.05350907179303499,
          0.04106775812852326,
          -0.008269186978646963,
          -0.044248625271140124,
          -0.07261873335208123,
          -0.09043950378084256,
          -0.12806783390366674,
          -0.14784629746246983,
          -0.20082379362473368,
          0.08262994901342688,
          0.11097245801750309,
          -0.0021673218666991047,
          0.06150341819113905,
          0.03144065921989826,
          -0.17799894492253981,
          -0.12414437907860079,
          -0.13915538632286756,
          -0.176829296022342,
          0.09957976289258018,
          0.12713928146339762,
          0.008677661390811556,
          -0.14110788528395712,
          -0.05964363257294679,
          -0.14838818369715828,
          -0.15414138699588995
         ],
         "yaxis": "y"
        },
        {
         "hovertemplate": "color=romance<br>0=%{x}<br>1=%{y}<extra></extra>",
         "legendgroup": "romance",
         "marker": {
          "color": "#ab63fa",
          "symbol": "circle"
         },
         "mode": "markers",
         "name": "romance",
         "orientation": "v",
         "showlegend": true,
         "type": "scatter",
         "x": [
          0.30053337181745415,
          0.36752239410454984,
          0.3555902464265092,
          0.4032780546771252,
          0.31525460010005696,
          0.3975005478352214,
          0.2130448601443125,
          0.3625549499220375,
          0.3470211498262262,
          0.34348852956989556,
          0.36910279119597017,
          0.40112307556122095,
          0.2800120177921049,
          0.37123043883617146,
          0.2860602858295131,
          0.3279601622852227,
          0.29314310195612975,
          0.4093868094632762,
          0.35348539678842905,
          0.34525536761727454,
          0.2659344646424208,
          0.3243842761187991,
          0.30836716723705015,
          0.3257189766350221,
          0.31166078636052097,
          0.23425022433879317,
          0.30241207670887155,
          0.27551421928009834,
          0.3683845801054304
         ],
         "xaxis": "x",
         "y": [
          0.2516016579781001,
          0.2777451313878175,
          0.3243030924178947,
          0.36039380170906493,
          0.1857140487432224,
          0.36613224417953205,
          0.10828102439987047,
          0.33824172032077643,
          0.3236886816663188,
          0.24234954456109348,
          0.3075961213247563,
          0.37158157496675087,
          0.2791651356474664,
          0.37889392021919016,
          0.3037627252020756,
          0.3531227791908666,
          0.17420318387574646,
          0.4017892202310412,
          0.3793914803420502,
          0.37931183340836694,
          0.20878883781028404,
          0.29257681363894184,
          0.3154052410974358,
          0.3594763375081562,
          0.24676758212367664,
          0.2543746413144309,
          0.20206277327181965,
          0.2521501901622519,
          0.10973715148274553
         ],
         "yaxis": "y"
        },
        {
         "hovertemplate": "color=hobbies<br>0=%{x}<br>1=%{y}<extra></extra>",
         "legendgroup": "hobbies",
         "marker": {
          "color": "#FFA15A",
          "symbol": "circle"
         },
         "mode": "markers",
         "name": "hobbies",
         "orientation": "v",
         "showlegend": true,
         "type": "scatter",
         "x": [
          0.17802909967804748,
          0.2599390876061322,
          0.15761366221852077,
          0.2040139505148666,
          0.19520751183324395,
          0.22807555883959693,
          0.12096894687897246,
          0.12171570641010598,
          0.1777732067300038,
          0.1973604910574546,
          0.18309359940047762,
          0.2624774420538316,
          0.25846284179893564,
          0.19816878803973415,
          0.11229620405714162,
          0.15647471665305104,
          0.2029344110885781,
          0.1841981299684443,
          0.14911961761125722,
          0.20341251250254974,
          0.18287304332628135,
          0.2326511138915377,
          0.24171778306009833,
          0.2620700076374959,
          0.1965196215524424,
          0.2155824338735804,
          0.0771948151016588,
          0.18915611421858358,
          0.1794719009019686,
          0.2156595036952458,
          0.26598642248808346,
          0.1930587976825253,
          0.29439978480337314,
          0.1650451121952254,
          0.20950060076604204,
          0.2225480497299054
         ],
         "xaxis": "x",
         "y": [
          0.03480677446610525,
          0.09737075416587974,
          -0.09484429334963633,
          0.002265714296225618,
          0.027825440892675492,
          -0.11614292677218788,
          0.0021325149264697107,
          -0.04074033980674222,
          0.0739456227607975,
          -0.011517101162998493,
          0.09006664998084184,
          -0.040073676447985984,
          0.10054285627858738,
          0.08682481428052859,
          0.02070712718812329,
          0.022901029391453668,
          -0.011975128787662244,
          -0.03413133900599148,
          0.02687865232761855,
          0.026743944507084363,
          -0.06808135484859575,
          -0.010940596905071362,
          0.03677402468958719,
          0.06688750547629393,
          -0.0650538910797308,
          -0.05429492570743769,
          -0.029741538971643968,
          -0.13808212060730937,
          -0.08061701620891042,
          -0.09506579047699784,
          -0.10157040090026098,
          -0.1214964795759084,
          -0.10567064346029786,
          -0.05968269522299807,
          -0.027705022121138925,
          -0.026774342026425643
         ],
         "yaxis": "y"
        }
       ],
       "layout": {
        "legend": {
         "title": {
          "text": "color"
         },
         "tracegroupgap": 0
        },
        "margin": {
         "t": 60
        },
        "template": {
         "data": {
          "bar": [
           {
            "error_x": {
             "color": "#2a3f5f"
            },
            "error_y": {
             "color": "#2a3f5f"
            },
            "marker": {
             "line": {
              "color": "#E5ECF6",
              "width": 0.5
             },
             "pattern": {
              "fillmode": "overlay",
              "size": 10,
              "solidity": 0.2
             }
            },
            "type": "bar"
           }
          ],
          "barpolar": [
           {
            "marker": {
             "line": {
              "color": "#E5ECF6",
              "width": 0.5
             },
             "pattern": {
              "fillmode": "overlay",
              "size": 10,
              "solidity": 0.2
             }
            },
            "type": "barpolar"
           }
          ],
          "carpet": [
           {
            "aaxis": {
             "endlinecolor": "#2a3f5f",
             "gridcolor": "white",
             "linecolor": "white",
             "minorgridcolor": "white",
             "startlinecolor": "#2a3f5f"
            },
            "baxis": {
             "endlinecolor": "#2a3f5f",
             "gridcolor": "white",
             "linecolor": "white",
             "minorgridcolor": "white",
             "startlinecolor": "#2a3f5f"
            },
            "type": "carpet"
           }
          ],
          "choropleth": [
           {
            "colorbar": {
             "outlinewidth": 0,
             "ticks": ""
            },
            "type": "choropleth"
           }
          ],
          "contour": [
           {
            "colorbar": {
             "outlinewidth": 0,
             "ticks": ""
            },
            "colorscale": [
             [
              0,
              "#0d0887"
             ],
             [
              0.1111111111111111,
              "#46039f"
             ],
             [
              0.2222222222222222,
              "#7201a8"
             ],
             [
              0.3333333333333333,
              "#9c179e"
             ],
             [
              0.4444444444444444,
              "#bd3786"
             ],
             [
              0.5555555555555556,
              "#d8576b"
             ],
             [
              0.6666666666666666,
              "#ed7953"
             ],
             [
              0.7777777777777778,
              "#fb9f3a"
             ],
             [
              0.8888888888888888,
              "#fdca26"
             ],
             [
              1,
              "#f0f921"
             ]
            ],
            "type": "contour"
           }
          ],
          "contourcarpet": [
           {
            "colorbar": {
             "outlinewidth": 0,
             "ticks": ""
            },
            "type": "contourcarpet"
           }
          ],
          "heatmap": [
           {
            "colorbar": {
             "outlinewidth": 0,
             "ticks": ""
            },
            "colorscale": [
             [
              0,
              "#0d0887"
             ],
             [
              0.1111111111111111,
              "#46039f"
             ],
             [
              0.2222222222222222,
              "#7201a8"
             ],
             [
              0.3333333333333333,
              "#9c179e"
             ],
             [
              0.4444444444444444,
              "#bd3786"
             ],
             [
              0.5555555555555556,
              "#d8576b"
             ],
             [
              0.6666666666666666,
              "#ed7953"
             ],
             [
              0.7777777777777778,
              "#fb9f3a"
             ],
             [
              0.8888888888888888,
              "#fdca26"
             ],
             [
              1,
              "#f0f921"
             ]
            ],
            "type": "heatmap"
           }
          ],
          "heatmapgl": [
           {
            "colorbar": {
             "outlinewidth": 0,
             "ticks": ""
            },
            "colorscale": [
             [
              0,
              "#0d0887"
             ],
             [
              0.1111111111111111,
              "#46039f"
             ],
             [
              0.2222222222222222,
              "#7201a8"
             ],
             [
              0.3333333333333333,
              "#9c179e"
             ],
             [
              0.4444444444444444,
              "#bd3786"
             ],
             [
              0.5555555555555556,
              "#d8576b"
             ],
             [
              0.6666666666666666,
              "#ed7953"
             ],
             [
              0.7777777777777778,
              "#fb9f3a"
             ],
             [
              0.8888888888888888,
              "#fdca26"
             ],
             [
              1,
              "#f0f921"
             ]
            ],
            "type": "heatmapgl"
           }
          ],
          "histogram": [
           {
            "marker": {
             "pattern": {
              "fillmode": "overlay",
              "size": 10,
              "solidity": 0.2
             }
            },
            "type": "histogram"
           }
          ],
          "histogram2d": [
           {
            "colorbar": {
             "outlinewidth": 0,
             "ticks": ""
            },
            "colorscale": [
             [
              0,
              "#0d0887"
             ],
             [
              0.1111111111111111,
              "#46039f"
             ],
             [
              0.2222222222222222,
              "#7201a8"
             ],
             [
              0.3333333333333333,
              "#9c179e"
             ],
             [
              0.4444444444444444,
              "#bd3786"
             ],
             [
              0.5555555555555556,
              "#d8576b"
             ],
             [
              0.6666666666666666,
              "#ed7953"
             ],
             [
              0.7777777777777778,
              "#fb9f3a"
             ],
             [
              0.8888888888888888,
              "#fdca26"
             ],
             [
              1,
              "#f0f921"
             ]
            ],
            "type": "histogram2d"
           }
          ],
          "histogram2dcontour": [
           {
            "colorbar": {
             "outlinewidth": 0,
             "ticks": ""
            },
            "colorscale": [
             [
              0,
              "#0d0887"
             ],
             [
              0.1111111111111111,
              "#46039f"
             ],
             [
              0.2222222222222222,
              "#7201a8"
             ],
             [
              0.3333333333333333,
              "#9c179e"
             ],
             [
              0.4444444444444444,
              "#bd3786"
             ],
             [
              0.5555555555555556,
              "#d8576b"
             ],
             [
              0.6666666666666666,
              "#ed7953"
             ],
             [
              0.7777777777777778,
              "#fb9f3a"
             ],
             [
              0.8888888888888888,
              "#fdca26"
             ],
             [
              1,
              "#f0f921"
             ]
            ],
            "type": "histogram2dcontour"
           }
          ],
          "mesh3d": [
           {
            "colorbar": {
             "outlinewidth": 0,
             "ticks": ""
            },
            "type": "mesh3d"
           }
          ],
          "parcoords": [
           {
            "line": {
             "colorbar": {
              "outlinewidth": 0,
              "ticks": ""
             }
            },
            "type": "parcoords"
           }
          ],
          "pie": [
           {
            "automargin": true,
            "type": "pie"
           }
          ],
          "scatter": [
           {
            "fillpattern": {
             "fillmode": "overlay",
             "size": 10,
             "solidity": 0.2
            },
            "type": "scatter"
           }
          ],
          "scatter3d": [
           {
            "line": {
             "colorbar": {
              "outlinewidth": 0,
              "ticks": ""
             }
            },
            "marker": {
             "colorbar": {
              "outlinewidth": 0,
              "ticks": ""
             }
            },
            "type": "scatter3d"
           }
          ],
          "scattercarpet": [
           {
            "marker": {
             "colorbar": {
              "outlinewidth": 0,
              "ticks": ""
             }
            },
            "type": "scattercarpet"
           }
          ],
          "scattergeo": [
           {
            "marker": {
             "colorbar": {
              "outlinewidth": 0,
              "ticks": ""
             }
            },
            "type": "scattergeo"
           }
          ],
          "scattergl": [
           {
            "marker": {
             "colorbar": {
              "outlinewidth": 0,
              "ticks": ""
             }
            },
            "type": "scattergl"
           }
          ],
          "scattermapbox": [
           {
            "marker": {
             "colorbar": {
              "outlinewidth": 0,
              "ticks": ""
             }
            },
            "type": "scattermapbox"
           }
          ],
          "scatterpolar": [
           {
            "marker": {
             "colorbar": {
              "outlinewidth": 0,
              "ticks": ""
             }
            },
            "type": "scatterpolar"
           }
          ],
          "scatterpolargl": [
           {
            "marker": {
             "colorbar": {
              "outlinewidth": 0,
              "ticks": ""
             }
            },
            "type": "scatterpolargl"
           }
          ],
          "scatterternary": [
           {
            "marker": {
             "colorbar": {
              "outlinewidth": 0,
              "ticks": ""
             }
            },
            "type": "scatterternary"
           }
          ],
          "surface": [
           {
            "colorbar": {
             "outlinewidth": 0,
             "ticks": ""
            },
            "colorscale": [
             [
              0,
              "#0d0887"
             ],
             [
              0.1111111111111111,
              "#46039f"
             ],
             [
              0.2222222222222222,
              "#7201a8"
             ],
             [
              0.3333333333333333,
              "#9c179e"
             ],
             [
              0.4444444444444444,
              "#bd3786"
             ],
             [
              0.5555555555555556,
              "#d8576b"
             ],
             [
              0.6666666666666666,
              "#ed7953"
             ],
             [
              0.7777777777777778,
              "#fb9f3a"
             ],
             [
              0.8888888888888888,
              "#fdca26"
             ],
             [
              1,
              "#f0f921"
             ]
            ],
            "type": "surface"
           }
          ],
          "table": [
           {
            "cells": {
             "fill": {
              "color": "#EBF0F8"
             },
             "line": {
              "color": "white"
             }
            },
            "header": {
             "fill": {
              "color": "#C8D4E3"
             },
             "line": {
              "color": "white"
             }
            },
            "type": "table"
           }
          ]
         },
         "layout": {
          "annotationdefaults": {
           "arrowcolor": "#2a3f5f",
           "arrowhead": 0,
           "arrowwidth": 1
          },
          "autotypenumbers": "strict",
          "coloraxis": {
           "colorbar": {
            "outlinewidth": 0,
            "ticks": ""
           }
          },
          "colorscale": {
           "diverging": [
            [
             0,
             "#8e0152"
            ],
            [
             0.1,
             "#c51b7d"
            ],
            [
             0.2,
             "#de77ae"
            ],
            [
             0.3,
             "#f1b6da"
            ],
            [
             0.4,
             "#fde0ef"
            ],
            [
             0.5,
             "#f7f7f7"
            ],
            [
             0.6,
             "#e6f5d0"
            ],
            [
             0.7,
             "#b8e186"
            ],
            [
             0.8,
             "#7fbc41"
            ],
            [
             0.9,
             "#4d9221"
            ],
            [
             1,
             "#276419"
            ]
           ],
           "sequential": [
            [
             0,
             "#0d0887"
            ],
            [
             0.1111111111111111,
             "#46039f"
            ],
            [
             0.2222222222222222,
             "#7201a8"
            ],
            [
             0.3333333333333333,
             "#9c179e"
            ],
            [
             0.4444444444444444,
             "#bd3786"
            ],
            [
             0.5555555555555556,
             "#d8576b"
            ],
            [
             0.6666666666666666,
             "#ed7953"
            ],
            [
             0.7777777777777778,
             "#fb9f3a"
            ],
            [
             0.8888888888888888,
             "#fdca26"
            ],
            [
             1,
             "#f0f921"
            ]
           ],
           "sequentialminus": [
            [
             0,
             "#0d0887"
            ],
            [
             0.1111111111111111,
             "#46039f"
            ],
            [
             0.2222222222222222,
             "#7201a8"
            ],
            [
             0.3333333333333333,
             "#9c179e"
            ],
            [
             0.4444444444444444,
             "#bd3786"
            ],
            [
             0.5555555555555556,
             "#d8576b"
            ],
            [
             0.6666666666666666,
             "#ed7953"
            ],
            [
             0.7777777777777778,
             "#fb9f3a"
            ],
            [
             0.8888888888888888,
             "#fdca26"
            ],
            [
             1,
             "#f0f921"
            ]
           ]
          },
          "colorway": [
           "#636efa",
           "#EF553B",
           "#00cc96",
           "#ab63fa",
           "#FFA15A",
           "#19d3f3",
           "#FF6692",
           "#B6E880",
           "#FF97FF",
           "#FECB52"
          ],
          "font": {
           "color": "#2a3f5f"
          },
          "geo": {
           "bgcolor": "white",
           "lakecolor": "white",
           "landcolor": "#E5ECF6",
           "showlakes": true,
           "showland": true,
           "subunitcolor": "white"
          },
          "hoverlabel": {
           "align": "left"
          },
          "hovermode": "closest",
          "mapbox": {
           "style": "light"
          },
          "paper_bgcolor": "white",
          "plot_bgcolor": "#E5ECF6",
          "polar": {
           "angularaxis": {
            "gridcolor": "white",
            "linecolor": "white",
            "ticks": ""
           },
           "bgcolor": "#E5ECF6",
           "radialaxis": {
            "gridcolor": "white",
            "linecolor": "white",
            "ticks": ""
           }
          },
          "scene": {
           "xaxis": {
            "backgroundcolor": "#E5ECF6",
            "gridcolor": "white",
            "gridwidth": 2,
            "linecolor": "white",
            "showbackground": true,
            "ticks": "",
            "zerolinecolor": "white"
           },
           "yaxis": {
            "backgroundcolor": "#E5ECF6",
            "gridcolor": "white",
            "gridwidth": 2,
            "linecolor": "white",
            "showbackground": true,
            "ticks": "",
            "zerolinecolor": "white"
           },
           "zaxis": {
            "backgroundcolor": "#E5ECF6",
            "gridcolor": "white",
            "gridwidth": 2,
            "linecolor": "white",
            "showbackground": true,
            "ticks": "",
            "zerolinecolor": "white"
           }
          },
          "shapedefaults": {
           "line": {
            "color": "#2a3f5f"
           }
          },
          "ternary": {
           "aaxis": {
            "gridcolor": "white",
            "linecolor": "white",
            "ticks": ""
           },
           "baxis": {
            "gridcolor": "white",
            "linecolor": "white",
            "ticks": ""
           },
           "bgcolor": "#E5ECF6",
           "caxis": {
            "gridcolor": "white",
            "linecolor": "white",
            "ticks": ""
           }
          },
          "title": {
           "x": 0.05
          },
          "xaxis": {
           "automargin": true,
           "gridcolor": "white",
           "linecolor": "white",
           "ticks": "",
           "title": {
            "standoff": 15
           },
           "zerolinecolor": "white",
           "zerolinewidth": 2
          },
          "yaxis": {
           "automargin": true,
           "gridcolor": "white",
           "linecolor": "white",
           "ticks": "",
           "title": {
            "standoff": 15
           },
           "zerolinecolor": "white",
           "zerolinewidth": 2
          }
         }
        },
        "xaxis": {
         "anchor": "y",
         "domain": [
          0,
          1
         ],
         "title": {
          "text": "0"
         }
        },
        "yaxis": {
         "anchor": "x",
         "domain": [
          0,
          1
         ],
         "title": {
          "text": "1"
         }
        }
       }
      }
     },
     "metadata": {},
     "output_type": "display_data"
    }
   ],
   "source": [
    "# Plot PCA of Predictions\n",
    "fig = px.scatter(W_lsa_text_matrix, x=0, y=1, color=df[\"category\"])\n",
    "fig.show()"
   ]
  },
  {
   "cell_type": "code",
   "execution_count": 20,
   "id": "70ff1bc8",
   "metadata": {},
   "outputs": [
    {
     "name": "stdout",
     "output_type": "stream",
     "text": [
      "\n",
      "Topic 00\n",
      "  said (0.44)\n",
      "  mr (0.25)\n",
      "  mrs (0.22)\n",
      "  state (0.20)\n",
      "  man (0.17)\n",
      "\n",
      "Topic 01\n",
      "  said (3.89)\n",
      "  ll (2.73)\n",
      "  didn (2.63)\n",
      "  thought (2.20)\n",
      "  got (1.97)\n",
      "\n",
      "Topic 02\n",
      "  mrs (3.14)\n",
      "  mr (1.73)\n",
      "  said (1.04)\n",
      "  kennedy (0.81)\n",
      "  laos (0.77)\n",
      "\n",
      "Topic 03\n",
      "  mrs (29.56)\n",
      "  club (6.57)\n",
      "  game (6.15)\n",
      "  jr (5.64)\n",
      "  dallas (5.31)\n",
      "\n",
      "Topic 04\n",
      "  game (4.38)\n",
      "  league (3.14)\n",
      "  baseball (3.12)\n",
      "  ball (2.98)\n",
      "  team (2.85)\n"
     ]
    }
   ],
   "source": [
    "display_topics(lsa_text_model, tfidf_text_vectorizer.get_feature_names_out(), no_top_words=5)"
   ]
  },
  {
   "cell_type": "code",
   "execution_count": 21,
   "id": "f3ad5403",
   "metadata": {},
   "outputs": [
    {
     "data": {
      "text/plain": [
       "<AxesSubplot: xlabel='Predicted Label: Model Topics', ylabel='True Label: Original Brown Topics'>"
      ]
     },
     "execution_count": 21,
     "metadata": {},
     "output_type": "execute_result"
    },
    {
     "data": {
      "image/png": "[encoded data removed]",
      "text/plain": [
       "<Figure size 640x480 with 2 Axes>"
      ]
     },
     "metadata": {},
     "output_type": "display_data"
    }
   ],
   "source": [
    "# Your code here\n",
    "df_new = df.copy()\n",
    "\n",
    "# Get the top predicted topic\n",
    "predicted_topics = [np.argsort(each)[::-1][0] for each in W_lsa_text_matrix]\n",
    "\n",
    "# Add to the df\n",
    "df_new['lsa_pred_topic_num'] = predicted_topics\n",
    "\n",
    "# Create Crosstab\n",
    "acc_crosstab = pd.crosstab(df_new[\"category\"], df_new[\"lsa_pred_topic_num\"], dropna=False)\n",
    "\n",
    "# Custom Color Palette\n",
    "hot_palette =  sns.color_palette(\"light:r\", as_cmap=True)\n",
    "\n",
    "# Plot Heatmap of Aggreement.\n",
    "ax = sns.heatmap(acc_crosstab,cmap=hot_palette,linewidths=1,annot=True)\n",
    "ax.set(xlabel=\"Predicted Label: Model Topics\", ylabel=\"True Label: Original Brown Topics\")\n",
    "ax"
   ]
  },
  {
   "attachments": {},
   "cell_type": "markdown",
   "id": "4d94d56f",
   "metadata": {},
   "source": [
    "Q: How does your five-topic LSA model compare to the original Brown categories? \n",
    "\n",
    "A: This model did a terrible job of finding topics that align with the original categories. "
   ]
  },
  {
   "cell_type": "markdown",
   "id": "ea8b280a",
   "metadata": {},
   "source": [
    "Q: What is your interpretation of the display topics output? \n",
    "\n",
    "A: "
   ]
  },
  {
   "cell_type": "markdown",
   "id": "b4ab4d29",
   "metadata": {},
   "source": [
    "## Fitting an LDA Model\n",
    "\n",
    "Finally, fit a five-topic LDA model using the count vectors (`count_text_vectors` from above). Display the results using `pyLDAvis.display` and describe what you learn from that visualization. "
   ]
  },
  {
   "cell_type": "code",
   "execution_count": 22,
   "id": "802cb8ff",
   "metadata": {},
   "outputs": [],
   "source": [
    "# Fit your LDA model here\n",
    "\n",
    "lda_text_model = LatentDirichletAllocation(n_components=5, random_state=0)\n",
    "W_lda_text_matrix = lda_text_model.fit_transform(tfidf_text_vectors)\n",
    "H_lda_text_matrix = lda_text_model.components_"
   ]
  },
  {
   "cell_type": "code",
   "execution_count": 23,
   "id": "bd8000b2",
   "metadata": {},
   "outputs": [
    {
     "name": "stderr",
     "output_type": "stream",
     "text": [
      "C:\\Users\\zfreitas\\AppData\\Local\\Packages\\PythonSoftwareFoundation.Python.3.11_qbz5n2kfra8p0\\LocalCache\\local-packages\\Python311\\site-packages\\plotly\\io\\_renderers.py:395: DeprecationWarning:\n",
      "\n",
      "distutils Version classes are deprecated. Use packaging.version instead.\n",
      "\n",
      "C:\\Users\\zfreitas\\AppData\\Local\\Packages\\PythonSoftwareFoundation.Python.3.11_qbz5n2kfra8p0\\LocalCache\\local-packages\\Python311\\site-packages\\plotly\\io\\_renderers.py:395: DeprecationWarning:\n",
      "\n",
      "distutils Version classes are deprecated. Use packaging.version instead.\n",
      "\n"
     ]
    },
    {
     "data": {
      "application/vnd.plotly.v1+json": {
       "config": {
        "plotlyServerURL": "https://plot.ly"
       },
       "data": [
        {
         "hovertemplate": "color=editorial<br>0=%{x}<br>1=%{y}<extra></extra>",
         "legendgroup": "editorial",
         "marker": {
          "color": "#636efa",
          "symbol": "circle"
         },
         "mode": "markers",
         "name": "editorial",
         "orientation": "v",
         "showlegend": true,
         "type": "scatter",
         "x": [
          0.009745187653664323,
          0.01093438738148098,
          0.010183550832996754,
          0.00972364109874431,
          0.010219801422578764,
          0.010782759517014318,
          0.009902211910288235,
          0.012097517877771337,
          0.012045477938852748,
          0.011539043150152441,
          0.010068897318639186,
          0.01197885796716826,
          0.010332932960227907,
          0.01083179203437931,
          0.011561900279540151,
          0.01117160629106887,
          0.010989495861738967,
          0.011300879040676226,
          0.011476588269179841,
          0.010530189638108395,
          0.011448660087113316,
          0.011847299527579028,
          0.011398125126505782,
          0.010640241589093807,
          0.012745197967376044,
          0.010676013815618838,
          0.011203427011288103
         ],
         "xaxis": "x",
         "y": [
          0.9610192493853768,
          0.9562624504741025,
          0.9592657966680489,
          0.9611054356050828,
          0.9591207943096846,
          0.9568689619319302,
          0.9603911523588353,
          0.9516099284889006,
          0.9518180882446025,
          0.9538438273993594,
          0.9597244107254617,
          0.9520845681313221,
          0.9586682681590762,
          0.9566728318624672,
          0.9537523988818528,
          0.9553135748359246,
          0.9560420165530009,
          0.9547964838375005,
          0.9540936469232825,
          0.957879241447568,
          0.9542053596515744,
          0.9526108018896459,
          0.9544074994940482,
          0.9574390336436324,
          0.9490192081305073,
          0.9572959447375214,
          0.9551862919548633
         ],
         "yaxis": "y"
        },
        {
         "hovertemplate": "color=government<br>0=%{x}<br>1=%{y}<extra></extra>",
         "legendgroup": "government",
         "marker": {
          "color": "#EF553B",
          "symbol": "circle"
         },
         "mode": "markers",
         "name": "government",
         "orientation": "v",
         "showlegend": true,
         "type": "scatter",
         "x": [
          0.014334055069025494,
          0.013673498591833035,
          0.01701393419767058,
          0.017388454910745862,
          0.019155301265849637,
          0.01329463284736805,
          0.018860256732428516,
          0.016740714177433863,
          0.013565249152122108,
          0.015614071116565799,
          0.013555027917379088,
          0.021150461792563295,
          0.012058502896632963,
          0.01760748740347495,
          0.02024444324963773,
          0.019545474091712024,
          0.017328375420808315,
          0.01334481596111919,
          0.01646312948391702,
          0.015867193201897337,
          0.012135927261556632,
          0.018727375978965583,
          0.02132099678069581,
          0.01847055577053615,
          0.01365862589315669,
          0.01822682002106553,
          0.01173655826380107,
          0.014912049136225949,
          0.01318811026623798,
          0.013734711583253397
         ],
         "xaxis": "x",
         "y": [
          0.9426637797237424,
          0.9453060056327994,
          0.9319442632091254,
          0.9304461803572203,
          0.923378794936591,
          0.9468214686105406,
          0.9245589730706477,
          0.9330371432903096,
          0.9457390033914077,
          0.9375437155344578,
          0.9457798883304557,
          0.9153981528298303,
          0.9517659884134705,
          0.9295700503859833,
          0.9190222270015862,
          0.9218181036331866,
          0.9306864983169688,
          0.9466207361557868,
          0.9341474820643298,
          0.9365312271924338,
          0.9514562909537871,
          0.9250904960843984,
          0.9147160128780008,
          0.9261177769176498,
          0.9453654964274241,
          0.9270927199156691,
          0.9530537669447079,
          0.9403518034551472,
          0.9472475589350918,
          0.9450611536670679
         ],
         "yaxis": "y"
        },
        {
         "hovertemplate": "color=news<br>0=%{x}<br>1=%{y}<extra></extra>",
         "legendgroup": "news",
         "marker": {
          "color": "#00cc96",
          "symbol": "circle"
         },
         "mode": "markers",
         "name": "news",
         "orientation": "v",
         "showlegend": true,
         "type": "scatter",
         "x": [
          0.012304559309830262,
          0.012027490592635297,
          0.012157957316619448,
          0.011506260214500517,
          0.012718666061581526,
          0.013826208903987357,
          0.011090547853921986,
          0.01253708164823598,
          0.011720127861916084,
          0.010422572241462858,
          0.011118866551722319,
          0.014143589635052696,
          0.012158023460038147,
          0.01147426381509538,
          0.011785214589139276,
          0.010960691982342645,
          0.014398577091454059,
          0.021487057915887925,
          0.010876009697137999,
          0.010501041588676702,
          0.010267912679237547,
          0.011762522784686015,
          0.010293111698456602,
          0.0110185104837065,
          0.010190838900844337,
          0.013699022285921385,
          0.010322330408274145,
          0.013571902069890146,
          0.00991128171399113,
          0.011024041245387561,
          0.011183790131396594,
          0.010917329875360905,
          0.011062854588730417,
          0.01426543335694573,
          0.013780759310420207,
          0.014076225272932421,
          0.010987305006005303,
          0.017787173693317587,
          0.013015807883517713,
          0.009946852600165614,
          0.014583829541021926,
          0.011117932882090458,
          0.014000566072445202,
          0.013682835548691532
         ],
         "xaxis": "x",
         "y": [
          0.9507817627608234,
          0.9518900376293881,
          0.9513681707335402,
          0.9539749591420302,
          0.9491253357537262,
          0.9446951643840177,
          0.9556378085843313,
          0.9498516734069197,
          0.9531194885521843,
          0.9583097110341835,
          0.9555245337931829,
          0.9434256414601756,
          0.9513679061599027,
          0.954102944739661,
          0.9528591416436031,
          0.9561572320707268,
          0.9424056916342055,
          0.9140517683363568,
          0.9564959612114834,
          0.9579958336453126,
          0.9589283492830848,
          0.9529499088614165,
          0.9588275532061576,
          0.955925958065225,
          0.9592366443966143,
          0.9452039108561706,
          0.9587106783668915,
          0.9457123917205321,
          0.9603548731440354,
          0.955903835018428,
          0.9552648394743807,
          0.9563306804985632,
          0.9557485816450365,
          0.9429382665723584,
          0.9448769627583484,
          0.9436950989083241,
          0.9560507799760204,
          0.9288513052267686,
          0.9479367684660103,
          0.9602125895993873,
          0.9416646818364269,
          0.9555282684716666,
          0.9439977357101054,
          0.9452686578052057
         ],
         "yaxis": "y"
        },
        {
         "hovertemplate": "color=romance<br>0=%{x}<br>1=%{y}<extra></extra>",
         "legendgroup": "romance",
         "marker": {
          "color": "#ab63fa",
          "symbol": "circle"
         },
         "mode": "markers",
         "name": "romance",
         "orientation": "v",
         "showlegend": true,
         "type": "scatter",
         "x": [
          0.011950289753687901,
          0.011879347690427155,
          0.012442181647369406,
          0.010906221925058036,
          0.011692206473714477,
          0.010800325256120341,
          0.014601853333907825,
          0.01222800253458859,
          0.011486451370399239,
          0.011003076330746507,
          0.011322997046508057,
          0.012893963471531515,
          0.012505151590800356,
          0.011163661239414363,
          0.015144653601155774,
          0.011758529652095673,
          0.016053615583072358,
          0.012558461868913587,
          0.012921278365285047,
          0.012067243716966866,
          0.013694282789737656,
          0.012751226961723488,
          0.012953027520097405,
          0.01482049078851724,
          0.012645754243032789,
          0.015825173783030392,
          0.013557137984424315,
          0.012993936187891568,
          0.010587543229599216
         ],
         "xaxis": "x",
         "y": [
          0.9521988409852279,
          0.9524826092386047,
          0.9502312734104867,
          0.956375112299782,
          0.9532311741052615,
          0.9567986989755232,
          0.9415925866643798,
          0.9510879898618319,
          0.954054194518402,
          0.9559876946769789,
          0.9547080118139587,
          0.9484241461138575,
          0.9499793936368133,
          0.9553453550422328,
          0.9394213855955862,
          0.952965881391603,
          0.935785537667876,
          0.9497661525243857,
          0.9483148865388946,
          0.9517310251319624,
          0.9452228688407938,
          0.9489950921530771,
          0.9481878899195119,
          0.9407180368460372,
          0.9494169830277693,
          0.9366993048678021,
          0.9457714480623449,
          0.9480242552484808,
          0.9576498270816158
         ],
         "yaxis": "y"
        },
        {
         "hovertemplate": "color=hobbies<br>0=%{x}<br>1=%{y}<extra></extra>",
         "legendgroup": "hobbies",
         "marker": {
          "color": "#FFA15A",
          "symbol": "circle"
         },
         "mode": "markers",
         "name": "hobbies",
         "orientation": "v",
         "showlegend": true,
         "type": "scatter",
         "x": [
          0.015357112314400475,
          0.012151728614533399,
          0.017832909375887034,
          0.011902565492025978,
          0.01777567423492197,
          0.0140740434531008,
          0.017358819094195444,
          0.01880929374163681,
          0.01586505026770327,
          0.013265420976339386,
          0.014296825328910833,
          0.01144495730949364,
          0.012903173555997878,
          0.013163421405658276,
          0.02114438684041481,
          0.016689520178978512,
          0.013002451763373626,
          0.016146144199364443,
          0.019562902955345494,
          0.015511744654280565,
          0.01630781235942468,
          0.012353789158335139,
          0.01173965734610278,
          0.012421044587133804,
          0.012982420401499259,
          0.011712429912713722,
          0.027330594558755177,
          0.014711170415554729,
          0.0156268711270465,
          0.013221420329761969,
          0.012611386571644458,
          0.014566838967907815,
          0.011540386776626757,
          0.014734748648647157,
          0.014357502837787924,
          0.014660319695008747
         ],
         "xaxis": "x",
         "y": [
          0.9385715507424913,
          0.9513930855418673,
          0.9286683624960493,
          0.9523897380319163,
          0.9288973030602842,
          0.9437038261874076,
          0.9305647236220389,
          0.924762825032827,
          0.9365397989299687,
          0.9469383160946083,
          0.9428126986843166,
          0.9542201707620346,
          0.9483873057759751,
          0.9473463143773282,
          0.9154224526376209,
          0.9332419192843002,
          0.9479901929462998,
          0.9354154232025941,
          0.9217483881783296,
          0.9379530213830127,
          0.9347687505623368,
          0.9505848433667013,
          0.9530413706153699,
          0.9503158216518548,
          0.9480703183939512,
          0.9531502803491838,
          0.8906776217659753,
          0.9411553183377869,
          0.9374925154915843,
          0.9471143186808334,
          0.9495544537134157,
          0.941732644128389,
          0.953838452893472,
          0.9410610054050869,
          0.9425699886490743,
          0.9413587212198763
         ],
         "yaxis": "y"
        }
       ],
       "layout": {
        "legend": {
         "title": {
          "text": "color"
         },
         "tracegroupgap": 0
        },
        "margin": {
         "t": 60
        },
        "template": {
         "data": {
          "bar": [
           {
            "error_x": {
             "color": "#2a3f5f"
            },
            "error_y": {
             "color": "#2a3f5f"
            },
            "marker": {
             "line": {
              "color": "#E5ECF6",
              "width": 0.5
             },
             "pattern": {
              "fillmode": "overlay",
              "size": 10,
              "solidity": 0.2
             }
            },
            "type": "bar"
           }
          ],
          "barpolar": [
           {
            "marker": {
             "line": {
              "color": "#E5ECF6",
              "width": 0.5
             },
             "pattern": {
              "fillmode": "overlay",
              "size": 10,
              "solidity": 0.2
             }
            },
            "type": "barpolar"
           }
          ],
          "carpet": [
           {
            "aaxis": {
             "endlinecolor": "#2a3f5f",
             "gridcolor": "white",
             "linecolor": "white",
             "minorgridcolor": "white",
             "startlinecolor": "#2a3f5f"
            },
            "baxis": {
             "endlinecolor": "#2a3f5f",
             "gridcolor": "white",
             "linecolor": "white",
             "minorgridcolor": "white",
             "startlinecolor": "#2a3f5f"
            },
            "type": "carpet"
           }
          ],
          "choropleth": [
           {
            "colorbar": {
             "outlinewidth": 0,
             "ticks": ""
            },
            "type": "choropleth"
           }
          ],
          "contour": [
           {
            "colorbar": {
             "outlinewidth": 0,
             "ticks": ""
            },
            "colorscale": [
             [
              0,
              "#0d0887"
             ],
             [
              0.1111111111111111,
              "#46039f"
             ],
             [
              0.2222222222222222,
              "#7201a8"
             ],
             [
              0.3333333333333333,
              "#9c179e"
             ],
             [
              0.4444444444444444,
              "#bd3786"
             ],
             [
              0.5555555555555556,
              "#d8576b"
             ],
             [
              0.6666666666666666,
              "#ed7953"
             ],
             [
              0.7777777777777778,
              "#fb9f3a"
             ],
             [
              0.8888888888888888,
              "#fdca26"
             ],
             [
              1,
              "#f0f921"
             ]
            ],
            "type": "contour"
           }
          ],
          "contourcarpet": [
           {
            "colorbar": {
             "outlinewidth": 0,
             "ticks": ""
            },
            "type": "contourcarpet"
           }
          ],
          "heatmap": [
           {
            "colorbar": {
             "outlinewidth": 0,
             "ticks": ""
            },
            "colorscale": [
             [
              0,
              "#0d0887"
             ],
             [
              0.1111111111111111,
              "#46039f"
             ],
             [
              0.2222222222222222,
              "#7201a8"
             ],
             [
              0.3333333333333333,
              "#9c179e"
             ],
             [
              0.4444444444444444,
              "#bd3786"
             ],
             [
              0.5555555555555556,
              "#d8576b"
             ],
             [
              0.6666666666666666,
              "#ed7953"
             ],
             [
              0.7777777777777778,
              "#fb9f3a"
             ],
             [
              0.8888888888888888,
              "#fdca26"
             ],
             [
              1,
              "#f0f921"
             ]
            ],
            "type": "heatmap"
           }
          ],
          "heatmapgl": [
           {
            "colorbar": {
             "outlinewidth": 0,
             "ticks": ""
            },
            "colorscale": [
             [
              0,
              "#0d0887"
             ],
             [
              0.1111111111111111,
              "#46039f"
             ],
             [
              0.2222222222222222,
              "#7201a8"
             ],
             [
              0.3333333333333333,
              "#9c179e"
             ],
             [
              0.4444444444444444,
              "#bd3786"
             ],
             [
              0.5555555555555556,
              "#d8576b"
             ],
             [
              0.6666666666666666,
              "#ed7953"
             ],
             [
              0.7777777777777778,
              "#fb9f3a"
             ],
             [
              0.8888888888888888,
              "#fdca26"
             ],
             [
              1,
              "#f0f921"
             ]
            ],
            "type": "heatmapgl"
           }
          ],
          "histogram": [
           {
            "marker": {
             "pattern": {
              "fillmode": "overlay",
              "size": 10,
              "solidity": 0.2
             }
            },
            "type": "histogram"
           }
          ],
          "histogram2d": [
           {
            "colorbar": {
             "outlinewidth": 0,
             "ticks": ""
            },
            "colorscale": [
             [
              0,
              "#0d0887"
             ],
             [
              0.1111111111111111,
              "#46039f"
             ],
             [
              0.2222222222222222,
              "#7201a8"
             ],
             [
              0.3333333333333333,
              "#9c179e"
             ],
             [
              0.4444444444444444,
              "#bd3786"
             ],
             [
              0.5555555555555556,
              "#d8576b"
             ],
             [
              0.6666666666666666,
              "#ed7953"
             ],
             [
              0.7777777777777778,
              "#fb9f3a"
             ],
             [
              0.8888888888888888,
              "#fdca26"
             ],
             [
              1,
              "#f0f921"
             ]
            ],
            "type": "histogram2d"
           }
          ],
          "histogram2dcontour": [
           {
            "colorbar": {
             "outlinewidth": 0,
             "ticks": ""
            },
            "colorscale": [
             [
              0,
              "#0d0887"
             ],
             [
              0.1111111111111111,
              "#46039f"
             ],
             [
              0.2222222222222222,
              "#7201a8"
             ],
             [
              0.3333333333333333,
              "#9c179e"
             ],
             [
              0.4444444444444444,
              "#bd3786"
             ],
             [
              0.5555555555555556,
              "#d8576b"
             ],
             [
              0.6666666666666666,
              "#ed7953"
             ],
             [
              0.7777777777777778,
              "#fb9f3a"
             ],
             [
              0.8888888888888888,
              "#fdca26"
             ],
             [
              1,
              "#f0f921"
             ]
            ],
            "type": "histogram2dcontour"
           }
          ],
          "mesh3d": [
           {
            "colorbar": {
             "outlinewidth": 0,
             "ticks": ""
            },
            "type": "mesh3d"
           }
          ],
          "parcoords": [
           {
            "line": {
             "colorbar": {
              "outlinewidth": 0,
              "ticks": ""
             }
            },
            "type": "parcoords"
           }
          ],
          "pie": [
           {
            "automargin": true,
            "type": "pie"
           }
          ],
          "scatter": [
           {
            "fillpattern": {
             "fillmode": "overlay",
             "size": 10,
             "solidity": 0.2
            },
            "type": "scatter"
           }
          ],
          "scatter3d": [
           {
            "line": {
             "colorbar": {
              "outlinewidth": 0,
              "ticks": ""
             }
            },
            "marker": {
             "colorbar": {
              "outlinewidth": 0,
              "ticks": ""
             }
            },
            "type": "scatter3d"
           }
          ],
          "scattercarpet": [
           {
            "marker": {
             "colorbar": {
              "outlinewidth": 0,
              "ticks": ""
             }
            },
            "type": "scattercarpet"
           }
          ],
          "scattergeo": [
           {
            "marker": {
             "colorbar": {
              "outlinewidth": 0,
              "ticks": ""
             }
            },
            "type": "scattergeo"
           }
          ],
          "scattergl": [
           {
            "marker": {
             "colorbar": {
              "outlinewidth": 0,
              "ticks": ""
             }
            },
            "type": "scattergl"
           }
          ],
          "scattermapbox": [
           {
            "marker": {
             "colorbar": {
              "outlinewidth": 0,
              "ticks": ""
             }
            },
            "type": "scattermapbox"
           }
          ],
          "scatterpolar": [
           {
            "marker": {
             "colorbar": {
              "outlinewidth": 0,
              "ticks": ""
             }
            },
            "type": "scatterpolar"
           }
          ],
          "scatterpolargl": [
           {
            "marker": {
             "colorbar": {
              "outlinewidth": 0,
              "ticks": ""
             }
            },
            "type": "scatterpolargl"
           }
          ],
          "scatterternary": [
           {
            "marker": {
             "colorbar": {
              "outlinewidth": 0,
              "ticks": ""
             }
            },
            "type": "scatterternary"
           }
          ],
          "surface": [
           {
            "colorbar": {
             "outlinewidth": 0,
             "ticks": ""
            },
            "colorscale": [
             [
              0,
              "#0d0887"
             ],
             [
              0.1111111111111111,
              "#46039f"
             ],
             [
              0.2222222222222222,
              "#7201a8"
             ],
             [
              0.3333333333333333,
              "#9c179e"
             ],
             [
              0.4444444444444444,
              "#bd3786"
             ],
             [
              0.5555555555555556,
              "#d8576b"
             ],
             [
              0.6666666666666666,
              "#ed7953"
             ],
             [
              0.7777777777777778,
              "#fb9f3a"
             ],
             [
              0.8888888888888888,
              "#fdca26"
             ],
             [
              1,
              "#f0f921"
             ]
            ],
            "type": "surface"
           }
          ],
          "table": [
           {
            "cells": {
             "fill": {
              "color": "#EBF0F8"
             },
             "line": {
              "color": "white"
             }
            },
            "header": {
             "fill": {
              "color": "#C8D4E3"
             },
             "line": {
              "color": "white"
             }
            },
            "type": "table"
           }
          ]
         },
         "layout": {
          "annotationdefaults": {
           "arrowcolor": "#2a3f5f",
           "arrowhead": 0,
           "arrowwidth": 1
          },
          "autotypenumbers": "strict",
          "coloraxis": {
           "colorbar": {
            "outlinewidth": 0,
            "ticks": ""
           }
          },
          "colorscale": {
           "diverging": [
            [
             0,
             "#8e0152"
            ],
            [
             0.1,
             "#c51b7d"
            ],
            [
             0.2,
             "#de77ae"
            ],
            [
             0.3,
             "#f1b6da"
            ],
            [
             0.4,
             "#fde0ef"
            ],
            [
             0.5,
             "#f7f7f7"
            ],
            [
             0.6,
             "#e6f5d0"
            ],
            [
             0.7,
             "#b8e186"
            ],
            [
             0.8,
             "#7fbc41"
            ],
            [
             0.9,
             "#4d9221"
            ],
            [
             1,
             "#276419"
            ]
           ],
           "sequential": [
            [
             0,
             "#0d0887"
            ],
            [
             0.1111111111111111,
             "#46039f"
            ],
            [
             0.2222222222222222,
             "#7201a8"
            ],
            [
             0.3333333333333333,
             "#9c179e"
            ],
            [
             0.4444444444444444,
             "#bd3786"
            ],
            [
             0.5555555555555556,
             "#d8576b"
            ],
            [
             0.6666666666666666,
             "#ed7953"
            ],
            [
             0.7777777777777778,
             "#fb9f3a"
            ],
            [
             0.8888888888888888,
             "#fdca26"
            ],
            [
             1,
             "#f0f921"
            ]
           ],
           "sequentialminus": [
            [
             0,
             "#0d0887"
            ],
            [
             0.1111111111111111,
             "#46039f"
            ],
            [
             0.2222222222222222,
             "#7201a8"
            ],
            [
             0.3333333333333333,
             "#9c179e"
            ],
            [
             0.4444444444444444,
             "#bd3786"
            ],
            [
             0.5555555555555556,
             "#d8576b"
            ],
            [
             0.6666666666666666,
             "#ed7953"
            ],
            [
             0.7777777777777778,
             "#fb9f3a"
            ],
            [
             0.8888888888888888,
             "#fdca26"
            ],
            [
             1,
             "#f0f921"
            ]
           ]
          },
          "colorway": [
           "#636efa",
           "#EF553B",
           "#00cc96",
           "#ab63fa",
           "#FFA15A",
           "#19d3f3",
           "#FF6692",
           "#B6E880",
           "#FF97FF",
           "#FECB52"
          ],
          "font": {
           "color": "#2a3f5f"
          },
          "geo": {
           "bgcolor": "white",
           "lakecolor": "white",
           "landcolor": "#E5ECF6",
           "showlakes": true,
           "showland": true,
           "subunitcolor": "white"
          },
          "hoverlabel": {
           "align": "left"
          },
          "hovermode": "closest",
          "mapbox": {
           "style": "light"
          },
          "paper_bgcolor": "white",
          "plot_bgcolor": "#E5ECF6",
          "polar": {
           "angularaxis": {
            "gridcolor": "white",
            "linecolor": "white",
            "ticks": ""
           },
           "bgcolor": "#E5ECF6",
           "radialaxis": {
            "gridcolor": "white",
            "linecolor": "white",
            "ticks": ""
           }
          },
          "scene": {
           "xaxis": {
            "backgroundcolor": "#E5ECF6",
            "gridcolor": "white",
            "gridwidth": 2,
            "linecolor": "white",
            "showbackground": true,
            "ticks": "",
            "zerolinecolor": "white"
           },
           "yaxis": {
            "backgroundcolor": "#E5ECF6",
            "gridcolor": "white",
            "gridwidth": 2,
            "linecolor": "white",
            "showbackground": true,
            "ticks": "",
            "zerolinecolor": "white"
           },
           "zaxis": {
            "backgroundcolor": "#E5ECF6",
            "gridcolor": "white",
            "gridwidth": 2,
            "linecolor": "white",
            "showbackground": true,
            "ticks": "",
            "zerolinecolor": "white"
           }
          },
          "shapedefaults": {
           "line": {
            "color": "#2a3f5f"
           }
          },
          "ternary": {
           "aaxis": {
            "gridcolor": "white",
            "linecolor": "white",
            "ticks": ""
           },
           "baxis": {
            "gridcolor": "white",
            "linecolor": "white",
            "ticks": ""
           },
           "bgcolor": "#E5ECF6",
           "caxis": {
            "gridcolor": "white",
            "linecolor": "white",
            "ticks": ""
           }
          },
          "title": {
           "x": 0.05
          },
          "xaxis": {
           "automargin": true,
           "gridcolor": "white",
           "linecolor": "white",
           "ticks": "",
           "title": {
            "standoff": 15
           },
           "zerolinecolor": "white",
           "zerolinewidth": 2
          },
          "yaxis": {
           "automargin": true,
           "gridcolor": "white",
           "linecolor": "white",
           "ticks": "",
           "title": {
            "standoff": 15
           },
           "zerolinecolor": "white",
           "zerolinewidth": 2
          }
         }
        },
        "xaxis": {
         "anchor": "y",
         "domain": [
          0,
          1
         ],
         "title": {
          "text": "0"
         }
        },
        "yaxis": {
         "anchor": "x",
         "domain": [
          0,
          1
         ],
         "title": {
          "text": "1"
         }
        }
       }
      }
     },
     "metadata": {},
     "output_type": "display_data"
    }
   ],
   "source": [
    "# Plot PCA of Predictions\n",
    "fig = px.scatter(W_lda_text_matrix, x=0, y=1, color=df[\"category\"])\n",
    "fig.show()"
   ]
  },
  {
   "cell_type": "code",
   "execution_count": 24,
   "id": "ab18adf5",
   "metadata": {},
   "outputs": [
    {
     "name": "stdout",
     "output_type": "stream",
     "text": [
      "\n",
      "Topic 00\n",
      "  discretion (0.02)\n",
      "  construct (0.02)\n",
      "  categories (0.02)\n",
      "  founder (0.02)\n",
      "  combinations (0.02)\n",
      "\n",
      "Topic 01\n",
      "  said (0.27)\n",
      "  mr (0.16)\n",
      "  state (0.15)\n",
      "  mrs (0.14)\n",
      "  president (0.11)\n",
      "\n",
      "Topic 02\n",
      "  discretion (0.02)\n",
      "  construct (0.02)\n",
      "  categories (0.02)\n",
      "  founder (0.02)\n",
      "  combinations (0.02)\n",
      "\n",
      "Topic 03\n",
      "  discretion (0.02)\n",
      "  construct (0.02)\n",
      "  categories (0.02)\n",
      "  founder (0.02)\n",
      "  combinations (0.02)\n",
      "\n",
      "Topic 04\n",
      "  discretion (0.02)\n",
      "  construct (0.02)\n",
      "  categories (0.02)\n",
      "  founder (0.02)\n",
      "  combinations (0.02)\n"
     ]
    }
   ],
   "source": [
    "# Call `display_topics` on your fitted model here\n",
    "display_topics(lda_text_model, tfidf_text_vectorizer.get_feature_names_out(), no_top_words=5)"
   ]
  },
  {
   "cell_type": "code",
   "execution_count": 25,
   "id": "fd5c3151",
   "metadata": {},
   "outputs": [
    {
     "data": {
      "text/plain": [
       "<AxesSubplot: xlabel='Predicted Label: Model Topics', ylabel='True Label: Original Brown Topics'>"
      ]
     },
     "execution_count": 25,
     "metadata": {},
     "output_type": "execute_result"
    },
    {
     "data": {
      "image/png": "[encoded data removed]",
      "text/plain": [
       "<Figure size 640x480 with 2 Axes>"
      ]
     },
     "metadata": {},
     "output_type": "display_data"
    }
   ],
   "source": [
    "# Your code here\n",
    "df_new = df.copy()\n",
    "\n",
    "# Get the top predicted topic\n",
    "predicted_topics = [np.argsort(each)[::-1][0] for each in W_lda_text_matrix]\n",
    "\n",
    "# Add to the df\n",
    "df_new['lda_pred_topic_num'] = predicted_topics\n",
    "\n",
    "# Create Crosstab\n",
    "acc_crosstab = pd.crosstab(df_new[\"category\"], df_new[\"lda_pred_topic_num\"], dropna=False)\n",
    "\n",
    "# Custom Color Palette\n",
    "hot_palette =  sns.color_palette(\"light:r\", as_cmap=True)\n",
    "\n",
    "# Plot Heatmap of Aggreement.\n",
    "ax = sns.heatmap(acc_crosstab,cmap=hot_palette,linewidths=1,annot=True)\n",
    "ax.set(xlabel=\"Predicted Label: Model Topics\", ylabel=\"True Label: Original Brown Topics\")\n",
    "ax"
   ]
  },
  {
   "attachments": {},
   "cell_type": "markdown",
   "id": "f2c67876",
   "metadata": {},
   "source": [
    "Q: What inference do you draw from the displayed topics for your LDA model? \n",
    "\n",
    "A: The LDA model suggest that there really isn't much statistical differneces in terms between the topics choosen.\n",
    "\n",
    "Q: Repeat the tallying of Brown categories within your topics. How does your five-topic LDA model compare to the original Brown categories? \n",
    "\n",
    "A: LDA has only one"
   ]
  },
  {
   "cell_type": "code",
   "execution_count": 26,
   "id": "6aae75ca",
   "metadata": {},
   "outputs": [
    {
     "ename": "AttributeError",
     "evalue": "'TfidfVectorizer' object has no attribute 'get_feature_names'",
     "output_type": "error",
     "traceback": [
      "\u001b[1;31m---------------------------------------------------------------------------\u001b[0m",
      "\u001b[1;31mAttributeError\u001b[0m                            Traceback (most recent call last)",
      "Cell \u001b[1;32mIn[26], line 3\u001b[0m\n\u001b[0;32m      1\u001b[0m \u001b[39m# I'm not able to run this procedure with my setup. \u001b[39;00m\n\u001b[0;32m      2\u001b[0m \u001b[39m# I'm not willing to unistall and reinstall another version of python as I use this set-up for my work and I'm using my work computer to complete this project.\u001b[39;00m\n\u001b[1;32m----> 3\u001b[0m lda_display \u001b[39m=\u001b[39m pyLDAvis\u001b[39m.\u001b[39;49msklearn\u001b[39m.\u001b[39;49mprepare(lda_text_model, tfidf_text_vectors, tfidf_text_vectorizer, sort_topics\u001b[39m=\u001b[39;49m\u001b[39mFalse\u001b[39;49;00m)\n\u001b[0;32m      4\u001b[0m pyLDAvis\u001b[39m.\u001b[39mdisplay(lda_display)\n",
      "File \u001b[1;32m~\\AppData\\Local\\Packages\\PythonSoftwareFoundation.Python.3.11_qbz5n2kfra8p0\\LocalCache\\local-packages\\Python311\\site-packages\\pyLDAvis\\sklearn.py:94\u001b[0m, in \u001b[0;36mprepare\u001b[1;34m(lda_model, dtm, vectorizer, **kwargs)\u001b[0m\n\u001b[0;32m     62\u001b[0m \u001b[39mdef\u001b[39;00m \u001b[39mprepare\u001b[39m(lda_model, dtm, vectorizer, \u001b[39m*\u001b[39m\u001b[39m*\u001b[39mkwargs):\n\u001b[0;32m     63\u001b[0m \u001b[39m    \u001b[39m\u001b[39m\"\"\"Create Prepared Data from sklearn's LatentDirichletAllocation and CountVectorizer.\u001b[39;00m\n\u001b[0;32m     64\u001b[0m \n\u001b[0;32m     65\u001b[0m \u001b[39m    Parameters\u001b[39;00m\n\u001b[1;32m   (...)\u001b[0m\n\u001b[0;32m     92\u001b[0m \u001b[39m    See `pyLDAvis.prepare` for **kwargs.\u001b[39;00m\n\u001b[0;32m     93\u001b[0m \u001b[39m    \"\"\"\u001b[39;00m\n\u001b[1;32m---> 94\u001b[0m     opts \u001b[39m=\u001b[39m fp\u001b[39m.\u001b[39mmerge(_extract_data(lda_model, dtm, vectorizer), kwargs)\n\u001b[0;32m     95\u001b[0m     \u001b[39mreturn\u001b[39;00m pyLDAvis\u001b[39m.\u001b[39mprepare(\u001b[39m*\u001b[39m\u001b[39m*\u001b[39mopts)\n",
      "File \u001b[1;32m~\\AppData\\Local\\Packages\\PythonSoftwareFoundation.Python.3.11_qbz5n2kfra8p0\\LocalCache\\local-packages\\Python311\\site-packages\\pyLDAvis\\sklearn.py:38\u001b[0m, in \u001b[0;36m_extract_data\u001b[1;34m(lda_model, dtm, vectorizer)\u001b[0m\n\u001b[0;32m     37\u001b[0m \u001b[39mdef\u001b[39;00m \u001b[39m_extract_data\u001b[39m(lda_model, dtm, vectorizer):\n\u001b[1;32m---> 38\u001b[0m     vocab \u001b[39m=\u001b[39m _get_vocab(vectorizer)\n\u001b[0;32m     39\u001b[0m     doc_lengths \u001b[39m=\u001b[39m _get_doc_lengths(dtm)\n\u001b[0;32m     40\u001b[0m     term_freqs \u001b[39m=\u001b[39m _get_term_freqs(dtm)\n",
      "File \u001b[1;32m~\\AppData\\Local\\Packages\\PythonSoftwareFoundation.Python.3.11_qbz5n2kfra8p0\\LocalCache\\local-packages\\Python311\\site-packages\\pyLDAvis\\sklearn.py:20\u001b[0m, in \u001b[0;36m_get_vocab\u001b[1;34m(vectorizer)\u001b[0m\n\u001b[0;32m     19\u001b[0m \u001b[39mdef\u001b[39;00m \u001b[39m_get_vocab\u001b[39m(vectorizer):\n\u001b[1;32m---> 20\u001b[0m     \u001b[39mreturn\u001b[39;00m vectorizer\u001b[39m.\u001b[39;49mget_feature_names()\n",
      "\u001b[1;31mAttributeError\u001b[0m: 'TfidfVectorizer' object has no attribute 'get_feature_names'"
     ]
    }
   ],
   "source": [
    "# I'm not able to run this procedure with my setup. \n",
    "# I'm not willing to unistall and reinstall another version of python as I use this set-up for my work and I'm using my work computer to complete this project.\n",
    "lda_display = pyLDAvis.sklearn.prepare(lda_text_model, tfidf_text_vectors, tfidf_text_vectorizer, sort_topics=False)\n",
    "pyLDAvis.display(lda_display)"
   ]
  },
  {
   "attachments": {},
   "cell_type": "markdown",
   "id": "87a274c3",
   "metadata": {},
   "source": [
    "# Note:\n",
    "I'm not able to get pyLDAvis.sklearn to work on my machine, so I tempoarily switch to gensim LDA to finish my project."
   ]
  },
  {
   "cell_type": "code",
   "execution_count": 69,
   "id": "dc22083f",
   "metadata": {},
   "outputs": [
    {
     "data": {
      "text/html": [
       "<div>\n",
       "<style scoped>\n",
       "    .dataframe tbody tr th:only-of-type {\n",
       "        vertical-align: middle;\n",
       "    }\n",
       "\n",
       "    .dataframe tbody tr th {\n",
       "        vertical-align: top;\n",
       "    }\n",
       "\n",
       "    .dataframe thead th {\n",
       "        text-align: right;\n",
       "    }\n",
       "</style>\n",
       "<table border=\"1\" class=\"dataframe\">\n",
       "  <thead>\n",
       "    <tr style=\"text-align: right;\">\n",
       "      <th></th>\n",
       "      <th>category</th>\n",
       "      <th>id</th>\n",
       "      <th>text</th>\n",
       "      <th>char_len</th>\n",
       "      <th>word_len</th>\n",
       "    </tr>\n",
       "  </thead>\n",
       "  <tbody>\n",
       "    <tr>\n",
       "      <th>0</th>\n",
       "      <td>editorial</td>\n",
       "      <td>cb01</td>\n",
       "      <td>Assembly session brought much good The General...</td>\n",
       "      <td>12659</td>\n",
       "      <td>2200</td>\n",
       "    </tr>\n",
       "    <tr>\n",
       "      <th>1</th>\n",
       "      <td>editorial</td>\n",
       "      <td>cb02</td>\n",
       "      <td>Must Berlin remain divided ? ? The inference h...</td>\n",
       "      <td>12544</td>\n",
       "      <td>2234</td>\n",
       "    </tr>\n",
       "    <tr>\n",
       "      <th>2</th>\n",
       "      <td>editorial</td>\n",
       "      <td>cb03</td>\n",
       "      <td>A good man departs . Goodby , Mr. Sam . Sam Ra...</td>\n",
       "      <td>11871</td>\n",
       "      <td>2244</td>\n",
       "    </tr>\n",
       "    <tr>\n",
       "      <th>3</th>\n",
       "      <td>editorial</td>\n",
       "      <td>cb04</td>\n",
       "      <td>A shock wave from Africa Word of Dag Hammarskj...</td>\n",
       "      <td>12284</td>\n",
       "      <td>2230</td>\n",
       "    </tr>\n",
       "    <tr>\n",
       "      <th>4</th>\n",
       "      <td>editorial</td>\n",
       "      <td>cb05</td>\n",
       "      <td>Help when needed If the Dominican Republic ach...</td>\n",
       "      <td>12479</td>\n",
       "      <td>2241</td>\n",
       "    </tr>\n",
       "    <tr>\n",
       "      <th>...</th>\n",
       "      <td>...</td>\n",
       "      <td>...</td>\n",
       "      <td>...</td>\n",
       "      <td>...</td>\n",
       "      <td>...</td>\n",
       "    </tr>\n",
       "    <tr>\n",
       "      <th>161</th>\n",
       "      <td>hobbies</td>\n",
       "      <td>ce32</td>\n",
       "      <td>Throughout history , the man who showed superi...</td>\n",
       "      <td>13629</td>\n",
       "      <td>2339</td>\n",
       "    </tr>\n",
       "    <tr>\n",
       "      <th>162</th>\n",
       "      <td>hobbies</td>\n",
       "      <td>ce33</td>\n",
       "      <td>Sixty miles north of New York City where the w...</td>\n",
       "      <td>11845</td>\n",
       "      <td>2233</td>\n",
       "    </tr>\n",
       "    <tr>\n",
       "      <th>163</th>\n",
       "      <td>hobbies</td>\n",
       "      <td>ce34</td>\n",
       "      <td>In the period since the end of World War 2 , -...</td>\n",
       "      <td>13029</td>\n",
       "      <td>2300</td>\n",
       "    </tr>\n",
       "    <tr>\n",
       "      <th>164</th>\n",
       "      <td>hobbies</td>\n",
       "      <td>ce35</td>\n",
       "      <td>New rule no. 2 : : Don't build from the outsid...</td>\n",
       "      <td>11800</td>\n",
       "      <td>2272</td>\n",
       "    </tr>\n",
       "    <tr>\n",
       "      <th>165</th>\n",
       "      <td>hobbies</td>\n",
       "      <td>ce36</td>\n",
       "      <td>There comes a time in the lives of most of us ...</td>\n",
       "      <td>11682</td>\n",
       "      <td>2232</td>\n",
       "    </tr>\n",
       "  </tbody>\n",
       "</table>\n",
       "<p>166 rows × 5 columns</p>\n",
       "</div>"
      ],
      "text/plain": [
       "      category    id                                               text  \\\n",
       "0    editorial  cb01  Assembly session brought much good The General...   \n",
       "1    editorial  cb02  Must Berlin remain divided ? ? The inference h...   \n",
       "2    editorial  cb03  A good man departs . Goodby , Mr. Sam . Sam Ra...   \n",
       "3    editorial  cb04  A shock wave from Africa Word of Dag Hammarskj...   \n",
       "4    editorial  cb05  Help when needed If the Dominican Republic ach...   \n",
       "..         ...   ...                                                ...   \n",
       "161    hobbies  ce32  Throughout history , the man who showed superi...   \n",
       "162    hobbies  ce33  Sixty miles north of New York City where the w...   \n",
       "163    hobbies  ce34  In the period since the end of World War 2 , -...   \n",
       "164    hobbies  ce35  New rule no. 2 : : Don't build from the outsid...   \n",
       "165    hobbies  ce36  There comes a time in the lives of most of us ...   \n",
       "\n",
       "     char_len  word_len  \n",
       "0       12659      2200  \n",
       "1       12544      2234  \n",
       "2       11871      2244  \n",
       "3       12284      2230  \n",
       "4       12479      2241  \n",
       "..        ...       ...  \n",
       "161     13629      2339  \n",
       "162     11845      2233  \n",
       "163     13029      2300  \n",
       "164     11800      2272  \n",
       "165     11682      2232  \n",
       "\n",
       "[166 rows x 5 columns]"
      ]
     },
     "execution_count": 69,
     "metadata": {},
     "output_type": "execute_result"
    }
   ],
   "source": [
    "df"
   ]
  },
  {
   "cell_type": "code",
   "execution_count": 70,
   "id": "2fe9f378",
   "metadata": {},
   "outputs": [],
   "source": [
    "#function for lemmatization\n",
    "import gensim\n",
    "import gensim.corpora as corpora\n",
    "\n",
    "#cleaning the text \n",
    "\n",
    "def tokeniz(sentences):\n",
    "\n",
    "    for sentence in sentences:\n",
    "\n",
    "        yield(gensim.utils.simple_preprocess(str(sentence), deacc=True))\n",
    "\n",
    "#function to filter out stopwords\n",
    "\n",
    "def remove_stopwords(texts):\n",
    "\n",
    "    return [[word for word in gensim.utils.simple_preprocess(str(doc)) if word not in stopwords] for doc in texts]\n",
    "\n",
    "#removing stopwords, creating bigrams and lemmatizing the text\n",
    "\n",
    "\n",
    "processed_data  = list(tokeniz(df[\"text\"]))\n",
    "data_wo_stopwords = remove_stopwords(processed_data)\n",
    "\n",
    "\n",
    "#creating a dictionary\n",
    "\n",
    "gensim_dictionary = corpora.Dictionary(data_wo_stopwords)\n",
    "\n",
    "#building a corpus for the topic model\n",
    "\n",
    "texts = data_wo_stopwords\n",
    "gensim_corpus = [gensim_dictionary.doc2bow(text) for text in texts]"
   ]
  },
  {
   "cell_type": "code",
   "execution_count": 71,
   "id": "2899d36f",
   "metadata": {},
   "outputs": [],
   "source": [
    "#creating the LDA model \n",
    "\n",
    "import pyLDAvis.gensim_models\n",
    "from gensim.test.utils import common_corpus\n",
    "import gensim.models.ldamodel\n",
    "\n",
    "lda_model = gensim.models.ldamodel.LdaModel(\n",
    "\n",
    "   corpus=gensim_corpus, id2word=gensim_dictionary, num_topics=5, random_state=100, \n",
    "\n",
    "   update_every=1, chunksize=100, passes=10, alpha='auto', per_word_topics=True\n",
    "\n",
    ")"
   ]
  },
  {
   "cell_type": "code",
   "execution_count": 74,
   "id": "c44d65fe",
   "metadata": {},
   "outputs": [
    {
     "name": "stderr",
     "output_type": "stream",
     "text": [
      "C:\\Users\\zfreitas\\AppData\\Local\\Packages\\PythonSoftwareFoundation.Python.3.11_qbz5n2kfra8p0\\LocalCache\\local-packages\\Python311\\site-packages\\pyLDAvis\\_prepare.py:247: FutureWarning:\n",
      "\n",
      "In a future version of pandas all arguments of DataFrame.drop except for the argument 'labels' will be keyword-only.\n",
      "\n"
     ]
    },
    {
     "data": {
      "text/html": [
       "<div>\n",
       "<style scoped>\n",
       "    .dataframe tbody tr th:only-of-type {\n",
       "        vertical-align: middle;\n",
       "    }\n",
       "\n",
       "    .dataframe tbody tr th {\n",
       "        vertical-align: top;\n",
       "    }\n",
       "\n",
       "    .dataframe thead th {\n",
       "        text-align: right;\n",
       "    }\n",
       "</style>\n",
       "<table border=\"1\" class=\"dataframe\">\n",
       "  <thead>\n",
       "    <tr style=\"text-align: right;\">\n",
       "      <th></th>\n",
       "      <th>Term</th>\n",
       "      <th>Freq</th>\n",
       "      <th>Total</th>\n",
       "      <th>Category</th>\n",
       "      <th>logprob</th>\n",
       "      <th>loglift</th>\n",
       "    </tr>\n",
       "  </thead>\n",
       "  <tbody>\n",
       "    <tr>\n",
       "      <th>587</th>\n",
       "      <td>said</td>\n",
       "      <td>739.000000</td>\n",
       "      <td>739.000000</td>\n",
       "      <td>Default</td>\n",
       "      <td>30.0000</td>\n",
       "      <td>30.0000</td>\n",
       "    </tr>\n",
       "    <tr>\n",
       "      <th>3479</th>\n",
       "      <td>mrs</td>\n",
       "      <td>207.000000</td>\n",
       "      <td>207.000000</td>\n",
       "      <td>Default</td>\n",
       "      <td>29.0000</td>\n",
       "      <td>29.0000</td>\n",
       "    </tr>\n",
       "    <tr>\n",
       "      <th>392</th>\n",
       "      <td>like</td>\n",
       "      <td>365.000000</td>\n",
       "      <td>365.000000</td>\n",
       "      <td>Default</td>\n",
       "      <td>28.0000</td>\n",
       "      <td>28.0000</td>\n",
       "    </tr>\n",
       "    <tr>\n",
       "      <th>366</th>\n",
       "      <td>john</td>\n",
       "      <td>156.000000</td>\n",
       "      <td>156.000000</td>\n",
       "      <td>Default</td>\n",
       "      <td>27.0000</td>\n",
       "      <td>27.0000</td>\n",
       "    </tr>\n",
       "    <tr>\n",
       "      <th>19993</th>\n",
       "      <td>hanover</td>\n",
       "      <td>73.000000</td>\n",
       "      <td>73.000000</td>\n",
       "      <td>Default</td>\n",
       "      <td>26.0000</td>\n",
       "      <td>26.0000</td>\n",
       "    </tr>\n",
       "    <tr>\n",
       "      <th>...</th>\n",
       "      <td>...</td>\n",
       "      <td>...</td>\n",
       "      <td>...</td>\n",
       "      <td>...</td>\n",
       "      <td>...</td>\n",
       "      <td>...</td>\n",
       "    </tr>\n",
       "    <tr>\n",
       "      <th>2468</th>\n",
       "      <td>miles</td>\n",
       "      <td>19.599257</td>\n",
       "      <td>56.844913</td>\n",
       "      <td>Topic5</td>\n",
       "      <td>-6.5172</td>\n",
       "      <td>1.4462</td>\n",
       "    </tr>\n",
       "    <tr>\n",
       "      <th>455</th>\n",
       "      <td>new</td>\n",
       "      <td>25.251300</td>\n",
       "      <td>638.640565</td>\n",
       "      <td>Topic5</td>\n",
       "      <td>-6.2638</td>\n",
       "      <td>-0.7194</td>\n",
       "    </tr>\n",
       "    <tr>\n",
       "      <th>392</th>\n",
       "      <td>like</td>\n",
       "      <td>23.732627</td>\n",
       "      <td>365.565707</td>\n",
       "      <td>Topic5</td>\n",
       "      <td>-6.3258</td>\n",
       "      <td>-0.2235</td>\n",
       "    </tr>\n",
       "    <tr>\n",
       "      <th>58</th>\n",
       "      <td>available</td>\n",
       "      <td>20.709302</td>\n",
       "      <td>117.166952</td>\n",
       "      <td>Topic5</td>\n",
       "      <td>-6.4621</td>\n",
       "      <td>0.7780</td>\n",
       "    </tr>\n",
       "    <tr>\n",
       "      <th>3393</th>\n",
       "      <td>feet</td>\n",
       "      <td>19.176909</td>\n",
       "      <td>91.692695</td>\n",
       "      <td>Topic5</td>\n",
       "      <td>-6.5389</td>\n",
       "      <td>0.9463</td>\n",
       "    </tr>\n",
       "  </tbody>\n",
       "</table>\n",
       "<p>396 rows × 6 columns</p>\n",
       "</div>"
      ],
      "text/plain": [
       "            Term        Freq       Total Category  logprob  loglift\n",
       "587         said  739.000000  739.000000  Default  30.0000  30.0000\n",
       "3479         mrs  207.000000  207.000000  Default  29.0000  29.0000\n",
       "392         like  365.000000  365.000000  Default  28.0000  28.0000\n",
       "366         john  156.000000  156.000000  Default  27.0000  27.0000\n",
       "19993    hanover   73.000000   73.000000  Default  26.0000  26.0000\n",
       "...          ...         ...         ...      ...      ...      ...\n",
       "2468       miles   19.599257   56.844913   Topic5  -6.5172   1.4462\n",
       "455          new   25.251300  638.640565   Topic5  -6.2638  -0.7194\n",
       "392         like   23.732627  365.565707   Topic5  -6.3258  -0.2235\n",
       "58     available   20.709302  117.166952   Topic5  -6.4621   0.7780\n",
       "3393        feet   19.176909   91.692695   Topic5  -6.5389   0.9463\n",
       "\n",
       "[396 rows x 6 columns]"
      ]
     },
     "execution_count": 74,
     "metadata": {},
     "output_type": "execute_result"
    }
   ],
   "source": [
    "from pyLDAvis.gensim_models import prepare\n",
    "vis = prepare(lda_model, gensim_corpus, gensim_dictionary)#, mds='pcoa')\n",
    "vis.topic_info\n"
   ]
  },
  {
   "cell_type": "code",
   "execution_count": 75,
   "id": "df4add6a",
   "metadata": {},
   "outputs": [
    {
     "data": {
      "text/html": [
       "\n",
       "<link rel=\"stylesheet\" type=\"text/css\" href=\"https://cdn.jsdelivr.net/gh/bmabey/pyLDAvis@3.3.1/pyLDAvis/js/ldavis.v1.0.0.css\">\n",
       "\n",
       "\n",
       "<div id=\"ldavis_el3318019725934776643980777279\"></div>\n",
       "<script type=\"text/javascript\">\n",
       "\n",
       "var ldavis_el3318019725934776643980777279_data = {\"mdsDat\": {\"x\": [-0.12909502064553519, -0.07310558679831801, 0.19497619042882952, 0.0322639879629621, -0.025039570947938565], \"y\": [-0.04910938904472294, -0.07961707024718787, -0.045030121387220484, 0.016933704266456025, 0.1568228764126753], \"topics\": [1, 2, 3, 4, 5], \"cluster\": [1, 1, 1, 1, 1], \"Freq\": [43.2976049163689, 19.998992316176604, 16.945028102256725, 11.640133482178161, 8.118241183019615]}, \"tinfo\": {\"Term\": [\"said\", \"mrs\", \"like\", \"john\", \"hanover\", \"pool\", \"state\", \"didn\", \"good\", \"ll\", \"thought\", \"feed\", \"got\", \"don\", \"united\", \"states\", \"fiscal\", \"national\", \"eyes\", \"old\", \"went\", \"man\", \"looked\", \"area\", \"little\", \"site\", \"inch\", \"tax\", \"clay\", \"know\", \"nuclear\", \"khrushchev\", \"missile\", \"boats\", \"aircraft\", \"laos\", \"weapons\", \"billion\", \"bank\", \"destroy\", \"police\", \"tax\", \"payments\", \"republican\", \"attorney\", \"moscow\", \"allotment\", \"interference\", \"cuba\", \"loan\", \"loans\", \"corps\", \"bonds\", \"legislature\", \"skywave\", \"sharpe\", \"petitioner\", \"justice\", \"vote\", \"sen\", \"congress\", \"stations\", \"kennedy\", \"secretary\", \"united\", \"district\", \"policy\", \"agreement\", \"state\", \"states\", \"military\", \"administration\", \"rhode\", \"communist\", \"shall\", \"million\", \"political\", \"government\", \"act\", \"property\", \"federal\", \"president\", \"county\", \"department\", \"foreign\", \"general\", \"report\", \"court\", \"law\", \"public\", \"mr\", \"program\", \"year\", \"service\", \"local\", \"business\", \"new\", \"development\", \"war\", \"american\", \"said\", \"years\", \"city\", \"time\", \"world\", \"people\", \"board\", \"long\", \"engineer\", \"cady\", \"drug\", \"locking\", \"theresa\", \"freddy\", \"milligrams\", \"oersted\", \"temperature\", \"plastics\", \"shorts\", \"feed\", \"cylinder\", \"heating\", \"dolores\", \"drill\", \"willis\", \"grams\", \"lid\", \"hanford\", \"mold\", \"tappet\", \"henri\", \"displacement\", \"tappets\", \"clay\", \"shipping\", \"manufacturer\", \"pansies\", \"bacterial\", \"juniors\", \"af\", \"push\", \"panels\", \"design\", \"cooling\", \"libraries\", \"bars\", \"marketing\", \"volume\", \"chemical\", \"electronics\", \"library\", \"cut\", \"plant\", \"pieces\", \"materials\", \"daily\", \"bar\", \"head\", \"number\", \"high\", \"work\", \"time\", \"new\", \"use\", \"system\", \"long\", \"position\", \"good\", \"way\", \"set\", \"place\", \"better\", \"right\", \"company\", \"year\", \"years\", \"day\", \"cost\", \"house\", \"class\", \"possible\", \"don\", \"like\", \"little\", \"wally\", \"johnnie\", \"deegan\", \"breakfast\", \"owen\", \"nadine\", \"henrietta\", \"mike\", \"phil\", \"sauce\", \"waited\", \"hell\", \"frankie\", \"mustard\", \"doaty\", \"stared\", \"quint\", \"vivian\", \"snake\", \"chris\", \"lips\", \"silent\", \"cup\", \"pitcher\", \"eddie\", \"franks\", \"grill\", \"kirby\", \"drank\", \"onion\", \"smiled\", \"pale\", \"carla\", \"anniston\", \"didn\", \"looked\", \"hair\", \"couldn\", \"hadn\", \"woman\", \"eyes\", \"thought\", \"yes\", \"sat\", \"knew\", \"got\", \"wasn\", \"ll\", \"went\", \"boy\", \"said\", \"like\", \"felt\", \"don\", \"suddenly\", \"voice\", \"came\", \"morning\", \"love\", \"know\", \"little\", \"man\", \"night\", \"old\", \"wanted\", \"away\", \"come\", \"turned\", \"going\", \"think\", \"way\", \"told\", \"good\", \"let\", \"time\", \"look\", \"day\", \"long\", \"prokofieff\", \"linda\", \"myra\", \"bobbie\", \"mason\", \"edythe\", \"eugenia\", \"grandma\", \"schnabel\", \"watercolor\", \"mosque\", \"musicians\", \"cooper\", \"belgians\", \"musical\", \"campers\", \"tents\", \"lucy\", \"evans\", \"paintings\", \"stravinsky\", \"saami\", \"neo\", \"midwest\", \"sophia\", \"mousie\", \"cathy\", \"sportsmen\", \"askington\", \"shoot\", \"orchestra\", \"shooting\", \"music\", \"susan\", \"mrs\", \"artists\", \"artist\", \"john\", \"painting\", \"camping\", \"century\", \"art\", \"vacation\", \"roy\", \"life\", \"new\", \"jim\", \"world\", \"family\", \"club\", \"national\", \"years\", \"great\", \"old\", \"like\", \"york\", \"time\", \"mr\", \"work\", \"people\", \"home\", \"right\", \"good\", \"city\", \"year\", \"hanover\", \"spencer\", \"mantle\", \"maris\", \"pathology\", \"transom\", \"keelson\", \"adios\", \"filly\", \"jig\", \"planking\", \"etcetera\", \"glue\", \"frontage\", \"faber\", \"heiser\", \"rodney\", \"gansevoort\", \"somers\", \"battens\", \"shelter\", \"mickey\", \"chines\", \"hotei\", \"habitat\", \"deck\", \"hickory\", \"torrid\", \"skorich\", \"shea\", \"pool\", \"cromwell\", \"tar\", \"yankees\", \"player\", \"palmer\", \"trot\", \"fastened\", \"alexander\", \"frames\", \"site\", \"heel\", \"colt\", \"recreation\", \"inch\", \"glued\", \"forest\", \"features\", \"captain\", \"vehicles\", \"runs\", \"league\", \"good\", \"area\", \"best\", \"fiscal\", \"water\", \"mile\", \"time\", \"use\", \"year\", \"national\", \"areas\", \"home\", \"miles\", \"new\", \"like\", \"available\", \"feet\"], \"Freq\": [739.0, 207.0, 365.0, 156.0, 73.0, 78.0, 469.0, 125.0, 279.0, 157.0, 137.0, 97.0, 135.0, 165.0, 283.0, 321.0, 84.0, 191.0, 99.0, 233.0, 126.0, 254.0, 88.0, 141.0, 223.0, 60.0, 69.0, 163.0, 79.0, 175.0, 92.53216700460047, 65.31210607383794, 57.15375380536517, 54.18322815951585, 89.08287387282641, 45.097902035112874, 43.73077070876257, 50.38337766048092, 41.33233037901796, 40.686326933421874, 41.515240078188796, 160.76976605745156, 38.22883938226893, 35.426916568041015, 35.42035393584712, 33.65269413291759, 34.48565642998231, 32.77571197172666, 33.619512492913366, 32.17933585891931, 29.429364471503625, 69.38207434929036, 29.260481678157515, 29.404711371392544, 28.391338445258423, 28.388044777908913, 27.514354225525405, 27.501704484361195, 50.43228862062114, 26.61719629327664, 75.06916742000506, 54.52537844086711, 113.92363068114499, 109.03012205578953, 266.9587212525438, 59.640888479747886, 85.6160172599111, 58.9305514766475, 435.5583909532908, 300.50673234438347, 115.71566568100297, 115.84822755765238, 76.53910645558612, 65.27819776847474, 114.84516586886431, 118.10481786882197, 74.62831004527318, 235.95139574910561, 119.38901876839581, 85.6277591840121, 98.48598125727847, 230.6989844268425, 98.24633402092813, 131.91223370137516, 86.47198376487006, 165.20554549707728, 77.70709853690089, 93.40218100080509, 87.47114245784896, 157.15771635360147, 252.81036144430607, 174.24478498109224, 319.69336569215596, 158.21048771686202, 112.37720445553992, 149.45338377800607, 360.20866894845454, 148.0621880945834, 123.22175241883141, 162.0109516614408, 329.21275600238243, 199.37393530253388, 140.43548725841592, 193.61443095514022, 138.1737258895076, 140.07772911091217, 115.86680384150361, 118.06376230531033, 31.825999239812564, 27.479371411196954, 26.491308171843848, 26.452179515101395, 24.4559923734881, 24.454385466657456, 20.40832338030329, 20.407929735671406, 27.04848647580257, 20.841248802122866, 20.21913815055183, 94.47314468078544, 19.39434235018702, 20.198510791508024, 19.382154579917657, 32.465257203681745, 18.3731121735164, 17.366827181203234, 16.814441072763127, 16.33867114100929, 39.10430021856179, 15.338316490650406, 15.249710316843165, 13.311426969414885, 13.310758534206634, 74.98399292592542, 14.652565672758682, 14.93180234163252, 13.291031613487457, 12.297653220771442, 30.281101897845524, 60.832863955918484, 25.864669656173678, 28.842876546124945, 62.25635140475444, 34.38685154004997, 22.557136244189742, 26.466004618839616, 34.3024898822735, 33.7942128909184, 23.902491889423427, 23.990812813497417, 31.960418422444764, 58.47076035815599, 46.50245362689855, 36.7884603242028, 34.74155768168241, 35.17419024710917, 32.67433004483545, 59.34914697673907, 58.624532784356816, 71.62030525145374, 80.05597659622973, 112.06928031921919, 127.60145538108415, 75.44790787876536, 57.115778485257536, 79.20521736514443, 43.95004281710048, 70.9037274948896, 68.86916665749452, 54.548774299106356, 57.146440929917105, 52.01671510694329, 56.80648029782885, 48.36641991049056, 69.57230344662788, 63.12459454282312, 58.029231804381574, 44.1974189924351, 51.34217935773054, 42.62191245242536, 43.79571890808204, 45.28772714617461, 47.959497854354126, 44.23630803940162, 27.813056188308778, 27.330796802471237, 25.24049858063773, 23.89802433848477, 21.52271188950418, 21.056647372719688, 21.04742768903433, 33.52114894291408, 49.223894418665495, 20.00362962753564, 18.22988462069564, 16.2853321639924, 15.079293772196197, 14.777351548404868, 14.774225685708329, 15.218099799886259, 13.731495895842531, 12.68421588110301, 22.02658484349191, 11.640366258982525, 11.605031925990902, 12.038466625524054, 19.407899814544315, 12.850336953825584, 25.71156770027555, 10.59456538958085, 10.59400466781879, 10.592979900460543, 11.013666236253995, 10.022217512940461, 24.823964486168496, 26.874902618336513, 15.821218894489096, 17.194869588866453, 106.53335153068527, 76.18671595351573, 32.43331005405225, 47.1464589607013, 29.86495302578836, 44.42386799994355, 81.82470882024701, 109.78100686098996, 36.475166532075875, 33.822994490539536, 70.78464515690158, 100.04402834728224, 49.208812936789414, 112.35959222760314, 91.32891046176734, 57.60708435627433, 370.74915173282517, 208.73896227070696, 65.243811836872, 102.43925125262423, 32.800892171932034, 38.03608057101737, 88.24930408805965, 47.397952338601584, 43.46202715806314, 96.96719980207395, 112.96354757104078, 122.23944522431472, 75.14499804085274, 106.50469027004299, 48.167852320759074, 68.03135306840164, 86.43214664893468, 51.75253687798903, 66.01278050529825, 62.01355821642432, 84.53860859369284, 56.3843822160206, 81.54024886978426, 59.30687048495257, 92.57672262483698, 59.38131757775199, 72.19583359521774, 68.80826207258487, 41.06769732010406, 38.73412098755285, 32.81271564925235, 28.211942238144445, 19.19298595842282, 18.85888044095183, 17.677018255798224, 15.875495352470727, 15.347346845679029, 14.181358922861005, 11.84517820185103, 11.643864397491804, 11.210185571679336, 10.836985449553833, 18.97312819986123, 10.6435445797918, 10.6435445797918, 35.1214501226584, 10.039406149652644, 9.62963279852459, 9.505727883090442, 9.47896566101458, 8.860718374231185, 8.753320278720457, 8.337797460593228, 8.336608717199809, 24.302464063294305, 8.267940523412372, 7.165705329381623, 7.164384872334744, 12.986703910760347, 32.75050474499675, 45.291787391712994, 25.774655238960698, 128.5136182285611, 12.933845782737897, 14.850517410637964, 87.68793755224793, 18.396057478926966, 17.550156977604466, 25.920664804590345, 27.57531591593487, 23.000922867991537, 15.84595607529795, 43.8076069530694, 93.03823027546778, 18.55686103356633, 52.382205639511426, 33.21568637757225, 27.474113342905206, 39.07768332397484, 45.09923752607732, 35.418768791504, 37.536952347662194, 42.39953708305249, 30.99639322272801, 45.119204873206996, 40.457236634598786, 36.38685086239142, 36.50518063772068, 34.06165328914019, 31.587528526809546, 32.73196521814409, 29.779221816910106, 30.431846367246756, 73.03290067094794, 32.508430441021, 28.189334188658247, 21.331035170907217, 16.55745631023363, 15.213717851541668, 11.73825689002361, 11.724060773575085, 9.946263896294697, 9.421273909622851, 9.421273909622851, 9.411830674575825, 8.262778945658251, 8.254575458464206, 8.25326932311723, 8.249667415594184, 7.096283516719615, 7.093363238931428, 7.093363238931428, 16.372252184834103, 30.810389646352284, 6.91131946702512, 5.945771648907947, 5.945771648907947, 5.974339499885043, 5.940888694335073, 5.939256025151352, 5.939256025151352, 5.447896321847545, 5.447806775925412, 68.5187981025025, 16.2784343046571, 11.722123185087549, 12.81388096279199, 23.160185090635768, 31.465705231265304, 10.52350006879322, 9.437413018192146, 22.284237616957885, 18.59273785492231, 40.16714494713059, 13.03870761484023, 13.99467672110577, 24.374931104599693, 36.519942626437164, 12.896870733919318, 19.276158508223464, 18.402383295104915, 15.75996495940128, 16.988975021202936, 15.641454019248455, 19.86923041388268, 54.27079442378679, 37.63283169786982, 33.10293199364392, 26.489079448259552, 35.74770476954158, 18.91906480970849, 49.30233584643767, 35.1094090854147, 42.63736801846735, 26.670678578345612, 22.717181343205276, 25.12408309643222, 19.59925717812723, 25.251300061669685, 23.732627468509747, 20.709302394584554, 19.176909204700525], \"Total\": [739.0, 207.0, 365.0, 156.0, 73.0, 78.0, 469.0, 125.0, 279.0, 157.0, 137.0, 97.0, 135.0, 165.0, 283.0, 321.0, 84.0, 191.0, 99.0, 233.0, 126.0, 254.0, 88.0, 141.0, 223.0, 60.0, 69.0, 163.0, 79.0, 175.0, 93.13792067134537, 65.91687427479837, 57.77306492490277, 54.80232300731912, 90.11509056008926, 45.69404496022436, 44.32574150604112, 51.069680916314596, 41.94425699263766, 41.29171896404584, 42.148733694600004, 163.26678022298083, 38.82372598581831, 36.02032285412341, 36.01757214298001, 34.25492731528677, 35.112621156324586, 33.375658209740756, 34.241819922502806, 32.80556061537985, 30.025647126622854, 70.79869539013983, 29.859112832922154, 30.015657888746862, 28.984658810858708, 28.981738687745967, 28.10613948880145, 28.100095034352815, 51.548153702927955, 27.218951229543432, 77.20931941607195, 55.99954687986837, 117.99366792075679, 112.97273776664345, 283.6494244658098, 61.48204412636405, 88.98350487398788, 60.8171285987533, 469.746017779186, 321.6006294560811, 121.41098197864136, 121.77433704650171, 79.46596042799759, 67.57442437770828, 121.28310334164412, 125.21727341970133, 77.66577150831667, 257.88351521017654, 127.11699821006984, 89.96797934314141, 104.6437987049435, 267.1951621709098, 106.05386740284624, 148.1022749678791, 92.99859068341769, 195.01268178222537, 82.90052899901795, 102.71313486111495, 95.46777291032176, 192.29589400850617, 341.2477522616609, 221.94509494173064, 475.4741275324164, 197.49259100825566, 130.83871907087817, 193.5378195873331, 638.6405652933443, 192.87922949486946, 150.75414620401045, 238.7241432289439, 739.0011921881118, 348.29753919801084, 200.3036246139948, 492.6819746188411, 235.7782913082312, 256.57529904153074, 155.21233001978464, 310.94632159521524, 32.57657237513455, 28.216609109633353, 27.20532567633462, 27.196890754149553, 25.17534273590566, 25.176899403166658, 21.12212653689664, 21.122293336413623, 28.004523661411422, 21.591067066772926, 20.94758792028068, 97.94945915956741, 20.108473767108865, 20.949211596916854, 20.105380803955292, 33.70487172904741, 19.09352797519217, 18.080523137108003, 17.53153149299264, 17.063588358303935, 40.880714351049555, 16.053529544367304, 15.96676498429139, 14.025203937875569, 14.02568671157724, 79.02043649081118, 15.443304621645515, 15.745415714143958, 14.025271474271454, 13.011170562329765, 32.371800492067514, 66.95175641881053, 28.00317959089633, 31.616270738042616, 71.17852348637155, 38.93961852580773, 24.78466389081839, 29.682747145400153, 40.36420053711112, 41.64518131115143, 27.100935177248672, 27.240347170114532, 40.13547514379697, 92.05095621626671, 68.95840372791149, 52.11949559388813, 48.157223926588635, 49.21024227305149, 44.35005745171031, 129.48047982827057, 131.6736944054571, 195.8813084217354, 243.38367479095754, 492.6819746188411, 638.6405652933443, 243.89731435728186, 141.99000811186767, 310.94632159521524, 86.01989681835889, 279.021227887021, 263.2811294077297, 152.58754710571654, 180.7948324441363, 144.01247948797135, 203.55238524656826, 127.2043488311708, 475.4741275324164, 348.29753919801084, 277.0845980767773, 111.92206067759946, 212.1636063742271, 96.72288306113843, 120.44227281235722, 165.71854642703317, 365.56570739437655, 223.87871483882546, 28.523018981584872, 28.04246417932422, 25.95035068357266, 24.637181958568657, 22.24607316244194, 21.766272802336417, 21.766132701899664, 34.68839991532838, 50.985630237284695, 20.720279566541045, 19.014863920966317, 17.014349770202983, 15.789972331509988, 15.489826033956856, 15.48996557885043, 15.968931653471898, 14.444405440607763, 13.398538122868894, 23.35456688502581, 12.351656199533416, 12.350045441557503, 12.827586448185528, 20.686678214580244, 13.709354057494306, 27.437014562988345, 11.30564982224981, 11.305666761759486, 11.30636641205761, 11.786642226315477, 10.739325667828929, 26.77829173016757, 29.255832132961682, 17.066436311349452, 18.605045698941705, 125.536881914815, 88.61949016160686, 36.36832801691971, 54.199449206194295, 33.46693041912919, 51.40332525485865, 99.57232371838055, 137.76484046222163, 42.429570728741844, 39.17506840028364, 91.33515966515264, 135.52743311196292, 60.918023551565064, 157.9735438264261, 126.5199835109587, 74.68597451191106, 739.0011921881118, 365.56570739437655, 91.47975453248792, 165.71854642703317, 38.438781705235684, 46.65929239485414, 145.20033362410294, 63.35379462497641, 56.72515523551733, 175.14517544074135, 223.87871483882546, 254.60390942598366, 130.5592864640052, 233.05912968802028, 67.9961020477604, 117.75922151497178, 177.5752535744852, 76.97065023625123, 128.57196490581117, 118.81700742293745, 263.2811294077297, 100.31499156482288, 279.021227887021, 117.10087941619841, 492.6819746188411, 122.19329091546892, 277.0845980767773, 310.94632159521524, 41.766440426169275, 39.428137109808866, 33.57025931408746, 28.905637649260665, 19.88789894451091, 19.552293184423455, 18.37952314843047, 16.577351947434806, 16.044625803189113, 14.875524390932775, 12.537917972540917, 12.3383993063268, 11.903606039014782, 11.534069408523305, 20.244685268444744, 11.362686025046335, 11.362686025046335, 37.5291775731, 10.73352061912719, 10.331556162615527, 10.199374654814495, 10.194100474514933, 9.562688030819501, 9.462582615288907, 9.030371032172418, 9.029714923103315, 26.50094306840872, 9.017940461352106, 7.860161168567857, 7.859764010015326, 14.509049951202146, 38.00098957781447, 55.51013580136882, 30.641689958965113, 207.80177043624843, 14.908842996985541, 17.727259721493937, 156.54721186628223, 23.467116606303215, 22.28015243568688, 46.32326783208253, 53.69209905917837, 40.18217577132597, 22.670292292084753, 153.29075415391912, 638.6405652933443, 30.541128622983308, 235.7782913082312, 107.95289081454001, 82.4621789364322, 191.92771459762824, 348.29753919801084, 188.67967588690135, 233.05912968802028, 365.56570739437655, 136.5967224420077, 492.6819746188411, 341.2477522616609, 243.38367479095754, 256.57529904153074, 219.9442011848101, 203.55238524656826, 279.021227887021, 200.3036246139948, 475.4741275324164, 73.82535181512536, 33.27843928937113, 28.909309817185548, 22.02821570757606, 17.261026812036725, 15.908157854519626, 12.432503576559343, 12.430969118775337, 10.64524394392745, 10.115392016134937, 10.115392016134937, 10.113663845388373, 8.956832892910192, 8.955252333665614, 8.955742564274672, 8.95483017372785, 7.797320270221923, 7.7964367207924985, 7.7964367207924985, 18.074535343535295, 34.218640304198345, 7.717887785642981, 6.639697868922149, 6.639697868922149, 6.671939268558372, 6.638557141450939, 6.638887520875058, 6.638887520875058, 6.142724885666232, 6.142708878474936, 78.96802724566511, 18.796873906404063, 13.438522180071724, 14.916600769927076, 28.21028619977091, 39.65342130003265, 12.309400417193498, 10.942779022465306, 28.11190771160109, 23.570451912862975, 60.51003700001273, 16.00903169765175, 17.80785253822977, 37.7291843122016, 69.39272243606072, 16.68659518770194, 29.99864837090888, 31.452841971393816, 25.053543348665514, 29.061142848731212, 25.099306775724266, 39.96678513409627, 279.021227887021, 141.740893885974, 128.48424804563427, 84.56380821349103, 176.35292260953236, 39.19413797049987, 492.6819746188411, 243.89731435728186, 475.4741275324164, 191.92771459762824, 98.30618384722533, 219.9442011848101, 56.84491325461353, 638.6405652933443, 365.56570739437655, 117.16695163476666, 91.69269451878363], \"Category\": [\"Default\", \"Default\", \"Default\", \"Default\", \"Default\", \"Default\", \"Default\", \"Default\", \"Default\", \"Default\", \"Default\", \"Default\", \"Default\", \"Default\", \"Default\", \"Default\", \"Default\", \"Default\", \"Default\", \"Default\", \"Default\", \"Default\", \"Default\", \"Default\", \"Default\", \"Default\", \"Default\", \"Default\", \"Default\", \"Default\", \"Topic1\", \"Topic1\", \"Topic1\", \"Topic1\", \"Topic1\", \"Topic1\", \"Topic1\", \"Topic1\", \"Topic1\", \"Topic1\", \"Topic1\", \"Topic1\", \"Topic1\", \"Topic1\", \"Topic1\", \"Topic1\", \"Topic1\", \"Topic1\", \"Topic1\", \"Topic1\", \"Topic1\", \"Topic1\", \"Topic1\", \"Topic1\", \"Topic1\", \"Topic1\", \"Topic1\", \"Topic1\", \"Topic1\", \"Topic1\", \"Topic1\", \"Topic1\", \"Topic1\", \"Topic1\", \"Topic1\", \"Topic1\", \"Topic1\", \"Topic1\", \"Topic1\", \"Topic1\", \"Topic1\", \"Topic1\", \"Topic1\", \"Topic1\", \"Topic1\", \"Topic1\", \"Topic1\", \"Topic1\", \"Topic1\", \"Topic1\", \"Topic1\", \"Topic1\", \"Topic1\", \"Topic1\", \"Topic1\", \"Topic1\", \"Topic1\", \"Topic1\", \"Topic1\", \"Topic1\", \"Topic1\", \"Topic1\", \"Topic1\", \"Topic1\", \"Topic1\", \"Topic1\", \"Topic1\", \"Topic1\", \"Topic1\", \"Topic1\", \"Topic1\", \"Topic1\", \"Topic1\", \"Topic1\", \"Topic1\", \"Topic1\", \"Topic1\", \"Topic1\", \"Topic2\", \"Topic2\", \"Topic2\", \"Topic2\", \"Topic2\", \"Topic2\", \"Topic2\", \"Topic2\", \"Topic2\", \"Topic2\", \"Topic2\", \"Topic2\", \"Topic2\", \"Topic2\", \"Topic2\", \"Topic2\", \"Topic2\", \"Topic2\", \"Topic2\", \"Topic2\", \"Topic2\", \"Topic2\", \"Topic2\", \"Topic2\", \"Topic2\", \"Topic2\", \"Topic2\", \"Topic2\", \"Topic2\", \"Topic2\", \"Topic2\", \"Topic2\", \"Topic2\", \"Topic2\", \"Topic2\", \"Topic2\", \"Topic2\", \"Topic2\", \"Topic2\", \"Topic2\", \"Topic2\", \"Topic2\", \"Topic2\", \"Topic2\", \"Topic2\", \"Topic2\", \"Topic2\", \"Topic2\", \"Topic2\", \"Topic2\", \"Topic2\", \"Topic2\", \"Topic2\", \"Topic2\", \"Topic2\", \"Topic2\", \"Topic2\", \"Topic2\", \"Topic2\", \"Topic2\", \"Topic2\", \"Topic2\", \"Topic2\", \"Topic2\", \"Topic2\", \"Topic2\", \"Topic2\", \"Topic2\", \"Topic2\", \"Topic2\", \"Topic2\", \"Topic2\", \"Topic2\", \"Topic2\", \"Topic2\", \"Topic2\", \"Topic3\", \"Topic3\", \"Topic3\", \"Topic3\", \"Topic3\", \"Topic3\", \"Topic3\", \"Topic3\", \"Topic3\", \"Topic3\", \"Topic3\", \"Topic3\", \"Topic3\", \"Topic3\", \"Topic3\", \"Topic3\", \"Topic3\", \"Topic3\", \"Topic3\", \"Topic3\", \"Topic3\", \"Topic3\", \"Topic3\", \"Topic3\", \"Topic3\", \"Topic3\", \"Topic3\", \"Topic3\", \"Topic3\", \"Topic3\", \"Topic3\", \"Topic3\", \"Topic3\", \"Topic3\", \"Topic3\", \"Topic3\", \"Topic3\", \"Topic3\", \"Topic3\", \"Topic3\", \"Topic3\", \"Topic3\", \"Topic3\", \"Topic3\", \"Topic3\", \"Topic3\", \"Topic3\", \"Topic3\", \"Topic3\", \"Topic3\", \"Topic3\", \"Topic3\", \"Topic3\", \"Topic3\", \"Topic3\", \"Topic3\", \"Topic3\", \"Topic3\", \"Topic3\", \"Topic3\", \"Topic3\", \"Topic3\", \"Topic3\", \"Topic3\", \"Topic3\", \"Topic3\", \"Topic3\", \"Topic3\", \"Topic3\", \"Topic3\", \"Topic3\", \"Topic3\", \"Topic3\", \"Topic3\", \"Topic3\", \"Topic3\", \"Topic3\", \"Topic3\", \"Topic4\", \"Topic4\", \"Topic4\", \"Topic4\", \"Topic4\", \"Topic4\", \"Topic4\", \"Topic4\", \"Topic4\", \"Topic4\", \"Topic4\", \"Topic4\", \"Topic4\", \"Topic4\", \"Topic4\", \"Topic4\", \"Topic4\", \"Topic4\", \"Topic4\", \"Topic4\", \"Topic4\", \"Topic4\", \"Topic4\", \"Topic4\", \"Topic4\", \"Topic4\", \"Topic4\", \"Topic4\", \"Topic4\", \"Topic4\", \"Topic4\", \"Topic4\", \"Topic4\", \"Topic4\", \"Topic4\", \"Topic4\", \"Topic4\", \"Topic4\", \"Topic4\", \"Topic4\", \"Topic4\", \"Topic4\", \"Topic4\", \"Topic4\", \"Topic4\", \"Topic4\", \"Topic4\", \"Topic4\", \"Topic4\", \"Topic4\", \"Topic4\", \"Topic4\", \"Topic4\", \"Topic4\", \"Topic4\", \"Topic4\", \"Topic4\", \"Topic4\", \"Topic4\", \"Topic4\", \"Topic4\", \"Topic4\", \"Topic4\", \"Topic4\", \"Topic4\", \"Topic5\", \"Topic5\", \"Topic5\", \"Topic5\", \"Topic5\", \"Topic5\", \"Topic5\", \"Topic5\", \"Topic5\", \"Topic5\", \"Topic5\", \"Topic5\", \"Topic5\", \"Topic5\", \"Topic5\", \"Topic5\", \"Topic5\", \"Topic5\", \"Topic5\", \"Topic5\", \"Topic5\", \"Topic5\", \"Topic5\", \"Topic5\", \"Topic5\", \"Topic5\", \"Topic5\", \"Topic5\", \"Topic5\", \"Topic5\", \"Topic5\", \"Topic5\", \"Topic5\", \"Topic5\", \"Topic5\", \"Topic5\", \"Topic5\", \"Topic5\", \"Topic5\", \"Topic5\", \"Topic5\", \"Topic5\", \"Topic5\", \"Topic5\", \"Topic5\", \"Topic5\", \"Topic5\", \"Topic5\", \"Topic5\", \"Topic5\", \"Topic5\", \"Topic5\", \"Topic5\", \"Topic5\", \"Topic5\", \"Topic5\", \"Topic5\", \"Topic5\", \"Topic5\", \"Topic5\", \"Topic5\", \"Topic5\", \"Topic5\", \"Topic5\", \"Topic5\", \"Topic5\", \"Topic5\", \"Topic5\", \"Topic5\"], \"logprob\": [30.0, 29.0, 28.0, 27.0, 26.0, 25.0, 24.0, 23.0, 22.0, 21.0, 20.0, 19.0, 18.0, 17.0, 16.0, 15.0, 14.0, 13.0, 12.0, 11.0, 10.0, 9.0, 8.0, 7.0, 6.0, 5.0, 4.0, 3.0, 2.0, 1.0, -6.6391, -6.9875, -7.1209, -7.1743, -6.6771, -7.3578, -7.3886, -7.247, -7.445, -7.4607, -7.4406, -6.0867, -7.523, -7.5992, -7.5994, -7.6505, -7.6261, -7.677, -7.6515, -7.6953, -7.7846, -6.927, -7.7904, -7.7855, -7.8206, -7.8207, -7.8519, -7.8524, -7.246, -7.8851, -6.8482, -7.168, -6.4311, -6.475, -5.5795, -7.0783, -6.7168, -7.0903, -5.09, -5.4612, -6.4155, -6.4144, -6.8288, -6.988, -6.4231, -6.3951, -6.8541, -5.703, -6.3843, -6.7166, -6.5767, -5.7255, -6.5792, -6.2845, -6.7068, -6.0594, -6.8137, -6.6297, -6.6953, -6.1094, -5.634, -6.0062, -5.3993, -6.1027, -6.4448, -6.1597, -5.28, -6.169, -6.3527, -6.079, -5.3699, -5.8715, -6.2219, -5.9008, -6.2381, -6.2244, -6.4142, -6.3954, -6.9339, -7.0808, -7.1174, -7.1189, -7.1973, -7.1974, -7.3783, -7.3783, -7.0966, -7.3573, -7.3876, -5.8459, -7.4292, -7.3886, -7.4299, -6.9141, -7.4833, -7.5397, -7.572, -7.6007, -6.728, -7.6639, -7.6697, -7.8056, -7.8057, -6.0769, -7.7096, -7.6907, -7.8071, -7.8848, -6.9837, -6.2861, -7.1413, -7.0324, -6.263, -6.8565, -7.2782, -7.1184, -6.859, -6.8739, -7.2202, -7.2166, -6.9297, -6.3257, -6.5547, -6.789, -6.8463, -6.8339, -6.9076, -6.3108, -6.3231, -6.1228, -6.0115, -5.6751, -5.5453, -6.0708, -6.3491, -6.0222, -6.6112, -6.1329, -6.162, -6.3951, -6.3486, -6.4427, -6.3546, -6.5154, -6.1519, -6.2491, -6.3333, -6.6056, -6.4557, -6.6419, -6.6147, -6.5812, -6.5239, -6.6047, -6.903, -6.9205, -7.0001, -7.0547, -7.1594, -7.1813, -7.1817, -6.7163, -6.3321, -7.2326, -7.3255, -7.4383, -7.5152, -7.5354, -7.5356, -7.506, -7.6088, -7.6882, -7.1363, -7.774, -7.7771, -7.7404, -7.2628, -7.6751, -6.9816, -7.8682, -7.8682, -7.8683, -7.8294, -7.9237, -7.0167, -6.9373, -7.4672, -7.3839, -5.5601, -5.8953, -6.7493, -6.3753, -6.8318, -6.4347, -5.8239, -5.53, -6.6319, -6.7074, -5.9689, -5.6229, -6.3324, -5.5068, -5.714, -6.1749, -4.313, -4.8874, -6.0504, -5.5992, -6.7381, -6.59, -5.7484, -6.3699, -6.4566, -5.6541, -5.5015, -5.4225, -5.9091, -5.5603, -6.3538, -6.0085, -5.7692, -6.282, -6.0387, -6.1012, -5.7913, -6.1963, -5.8274, -6.1458, -5.7005, -6.1445, -5.9491, -5.9972, -6.1378, -6.1963, -6.3622, -6.5133, -6.8985, -6.916, -6.9807, -7.0882, -7.1221, -7.2011, -7.3811, -7.3982, -7.4362, -7.47, -6.91, -7.488, -7.488, -6.2942, -7.5465, -7.5882, -7.6011, -7.6039, -7.6714, -7.6836, -7.7322, -7.7323, -6.6624, -7.7406, -7.8837, -7.8839, -7.2891, -6.3641, -6.0399, -6.6036, -4.997, -7.2932, -7.155, -5.3792, -6.9409, -6.9879, -6.598, -6.5361, -6.7175, -7.0901, -6.0732, -5.32, -6.9322, -5.8944, -6.35, -6.5398, -6.1874, -6.0441, -6.2858, -6.2277, -6.1059, -6.4191, -6.0437, -6.1528, -6.2588, -6.2555, -6.3248, -6.4002, -6.3646, -6.4592, -6.4375, -5.2017, -6.0112, -6.1537, -6.4325, -6.6858, -6.7705, -7.0298, -7.031, -7.1955, -7.2497, -7.2497, -7.2507, -7.3809, -7.3819, -7.382, -7.3825, -7.5331, -7.5335, -7.5335, -6.6971, -6.0648, -7.5595, -7.71, -7.71, -7.7052, -7.7108, -7.7111, -7.7111, -7.7974, -7.7974, -5.2655, -6.7028, -7.0312, -6.9421, -6.3502, -6.0438, -7.139, -7.248, -6.3888, -6.5699, -5.7996, -6.9247, -6.854, -6.2991, -5.8948, -6.9357, -6.5338, -6.5802, -6.7352, -6.6601, -6.7427, -6.5035, -5.4987, -5.8648, -5.993, -6.2159, -5.9162, -6.5525, -5.5947, -5.9342, -5.7399, -6.2091, -6.3695, -6.2688, -6.5172, -6.2638, -6.3258, -6.4621, -6.5389], \"loglift\": [30.0, 29.0, 28.0, 27.0, 26.0, 25.0, 24.0, 23.0, 22.0, 21.0, 20.0, 19.0, 18.0, 17.0, 16.0, 15.0, 14.0, 13.0, 12.0, 11.0, 10.0, 9.0, 8.0, 7.0, 6.0, 5.0, 4.0, 3.0, 2.0, 1.0, 0.8305, 0.8279, 0.8263, 0.8257, 0.8256, 0.8239, 0.8236, 0.8235, 0.8224, 0.8223, 0.8219, 0.8217, 0.8216, 0.8205, 0.8204, 0.8193, 0.8191, 0.8189, 0.8187, 0.8178, 0.817, 0.8169, 0.8168, 0.8165, 0.8164, 0.8164, 0.8158, 0.8155, 0.8152, 0.8147, 0.809, 0.8104, 0.802, 0.8016, 0.7764, 0.8067, 0.7985, 0.8056, 0.7615, 0.7692, 0.789, 0.7872, 0.7995, 0.8025, 0.7825, 0.7786, 0.7972, 0.7482, 0.7744, 0.7876, 0.7764, 0.6902, 0.7606, 0.7213, 0.7643, 0.6712, 0.7724, 0.742, 0.7496, 0.6353, 0.5371, 0.5951, 0.4401, 0.6153, 0.685, 0.5786, 0.2644, 0.5726, 0.6354, 0.4494, 0.0285, 0.2792, 0.482, -0.0969, 0.3027, 0.2318, 0.5447, -0.1313, 1.5862, 1.583, 1.5829, 1.5817, 1.5805, 1.5804, 1.5751, 1.5751, 1.5748, 1.5741, 1.5741, 1.5734, 1.5733, 1.573, 1.5729, 1.572, 1.571, 1.5692, 1.5677, 1.5661, 1.5651, 1.5639, 1.5635, 1.5573, 1.5572, 1.5571, 1.5569, 1.5564, 1.5557, 1.5531, 1.5427, 1.5136, 1.53, 1.5177, 1.4756, 1.4852, 1.5153, 1.4948, 1.4468, 1.4006, 1.4839, 1.4825, 1.3817, 1.1557, 1.2155, 1.2611, 1.283, 1.2737, 1.304, 0.8294, 0.8003, 0.6034, 0.4976, 0.1287, -0.0009, 0.4362, 0.6988, 0.2419, 0.938, 0.2395, 0.2685, 0.5808, 0.4577, 0.5912, 0.3332, 0.6425, -0.3125, -0.0985, 0.0461, 0.6804, 0.1906, 0.79, 0.5979, 0.3122, -0.4216, -0.0121, 1.75, 1.7495, 1.7475, 1.7447, 1.7421, 1.7421, 1.7416, 1.741, 1.74, 1.74, 1.733, 1.7314, 1.7291, 1.7281, 1.7279, 1.727, 1.7246, 1.7204, 1.7167, 1.7159, 1.713, 1.7117, 1.7114, 1.7105, 1.7102, 1.7102, 1.7102, 1.71, 1.7074, 1.7061, 1.6994, 1.6903, 1.6994, 1.6964, 1.6111, 1.624, 1.6607, 1.6358, 1.6613, 1.6293, 1.5789, 1.5481, 1.624, 1.6283, 1.5203, 1.4716, 1.5617, 1.4345, 1.4493, 1.5155, 1.0854, 1.2148, 1.4372, 1.2942, 1.6166, 1.5709, 1.2772, 1.485, 1.5089, 1.184, 1.0912, 1.0415, 1.2228, 0.9921, 1.4304, 1.2265, 1.0552, 1.3782, 1.1086, 1.125, 0.6392, 1.1991, 0.545, 1.0949, 0.1034, 1.0536, 0.4303, 0.2669, 2.1338, 2.133, 2.1279, 2.1264, 2.1151, 2.1146, 2.1117, 2.1075, 2.1063, 2.1029, 2.0939, 2.0928, 2.0907, 2.0884, 2.0858, 2.0853, 2.0853, 2.0844, 2.0839, 2.0804, 2.0803, 2.078, 2.0745, 2.0728, 2.0709, 2.0708, 2.0641, 2.0639, 2.0582, 2.0581, 2.0399, 2.002, 1.9473, 1.9777, 1.6702, 2.0086, 1.9736, 1.5711, 1.9072, 1.9121, 1.5701, 1.4844, 1.5928, 1.7926, 0.8982, 0.2244, 1.6525, 0.6464, 0.972, 1.0516, 0.5591, 0.1065, 0.4779, 0.3247, -0.0036, 0.6675, -0.2398, 0.0183, 0.2503, 0.2007, 0.2855, 0.2876, 0.0078, 0.2447, -0.5981, 2.5003, 2.4876, 2.4858, 2.4789, 2.4694, 2.4664, 2.4536, 2.4525, 2.4431, 2.44, 2.44, 2.4391, 2.4304, 2.4296, 2.4294, 2.429, 2.4168, 2.4165, 2.4165, 2.4121, 2.4061, 2.4007, 2.4007, 2.4007, 2.4006, 2.4, 2.3997, 2.3997, 2.391, 2.391, 2.3691, 2.3672, 2.3744, 2.3591, 2.3138, 2.2798, 2.3543, 2.3631, 2.2787, 2.2738, 2.1013, 2.3058, 2.2701, 2.0742, 1.8691, 2.2534, 2.0688, 1.975, 2.0475, 1.9742, 2.0381, 1.8122, 0.8738, 1.1849, 1.1549, 1.3503, 0.9151, 1.7827, 0.2092, 0.5728, 0.0995, 0.5375, 1.0461, 0.3415, 1.4462, -0.7194, -0.2235, 0.778, 0.9463]}, \"token.table\": {\"Topic\": [1, 2, 3, 4, 5, 5, 1, 2, 2, 4, 5, 1, 4, 1, 2, 1, 3, 5, 1, 1, 2, 3, 4, 5, 3, 5, 1, 2, 3, 4, 5, 1, 2, 4, 5, 1, 2, 3, 4, 5, 1, 2, 4, 2, 4, 4, 1, 1, 2, 4, 5, 1, 2, 3, 4, 5, 2, 1, 1, 2, 3, 4, 1, 2, 2, 5, 4, 1, 2, 3, 4, 5, 1, 2, 3, 4, 5, 1, 1, 2, 3, 4, 5, 1, 4, 1, 1, 2, 3, 4, 5, 3, 1, 2, 3, 4, 2, 1, 2, 3, 4, 5, 4, 1, 2, 4, 5, 1, 3, 5, 3, 4, 3, 4, 5, 1, 2, 4, 1, 2, 5, 3, 1, 2, 3, 4, 5, 1, 2, 3, 4, 5, 2, 3, 5, 1, 2, 3, 4, 5, 2, 3, 5, 1, 2, 3, 4, 5, 1, 3, 4, 1, 2, 3, 4, 5, 1, 5, 2, 3, 4, 1, 2, 1, 2, 3, 4, 5, 2, 3, 4, 1, 2, 3, 5, 1, 3, 4, 5, 1, 5, 1, 3, 4, 1, 2, 3, 5, 2, 1, 2, 4, 1, 2, 3, 4, 5, 5, 3, 1, 2, 5, 2, 4, 1, 1, 2, 4, 5, 1, 2, 3, 4, 2, 1, 2, 3, 2, 1, 2, 3, 4, 5, 3, 2, 3, 2, 2, 3, 4, 1, 2, 2, 5, 4, 4, 1, 2, 3, 4, 5, 1, 2, 3, 4, 5, 1, 5, 1, 2, 3, 4, 5, 1, 2, 3, 5, 2, 3, 1, 2, 3, 4, 5, 1, 2, 3, 4, 5, 1, 5, 1, 3, 4, 1, 4, 5, 2, 4, 5, 3, 3, 2, 5, 5, 1, 2, 4, 5, 5, 2, 3, 5, 1, 2, 3, 4, 5, 1, 2, 3, 4, 5, 1, 2, 3, 4, 5, 1, 2, 4, 5, 2, 4, 1, 2, 3, 4, 5, 3, 5, 3, 4, 2, 3, 4, 2, 5, 1, 2, 3, 4, 5, 2, 2, 5, 5, 3, 2, 3, 5, 1, 2, 3, 4, 5, 1, 2, 3, 4, 5, 5, 1, 2, 3, 4, 5, 2, 3, 4, 5, 1, 5, 1, 2, 3, 4, 5, 1, 3, 4, 5, 3, 2, 4, 1, 5, 1, 2, 4, 1, 3, 1, 2, 3, 4, 5, 1, 2, 3, 4, 5, 1, 1, 2, 3, 4, 5, 1, 2, 3, 5, 1, 1, 2, 3, 4, 1, 2, 2, 4, 2, 1, 2, 3, 4, 5, 1, 2, 3, 4, 5, 4, 3, 1, 2, 3, 4, 5, 1, 2, 3, 4, 5, 1, 1, 1, 2, 3, 4, 5, 2, 1, 2, 3, 4, 5, 1, 2, 3, 4, 5, 1, 2, 3, 4, 1, 2, 3, 4, 3, 4, 5, 1, 2, 3, 4, 5, 5, 2, 5, 1, 2, 4, 1, 2, 4, 5, 5, 4, 2, 3, 1, 3, 4, 5, 1, 2, 3, 4, 5, 1, 2, 4, 5, 2, 1, 2, 4, 5, 1, 2, 3, 1, 2, 3, 4, 5, 1, 4, 4, 1, 2, 3, 4, 5, 1, 3, 4, 2, 3, 4, 2, 4, 4, 3, 4, 3, 1, 2, 3, 4, 5, 4, 1, 2, 3, 4, 5, 1, 2, 3, 4, 5, 1, 1, 2, 3, 4, 5, 2, 1, 2, 3, 4, 5, 3, 3, 4, 3, 2, 3, 4, 4, 3, 4, 1, 5, 2, 3, 4, 2, 5, 1, 1, 2, 3, 4, 5, 1, 3, 4, 1, 2, 3, 4, 5, 3, 1, 2, 3, 4, 5, 5, 1, 2, 4, 5, 2, 3, 5, 1, 1, 2, 3, 5, 1, 2, 1, 2, 4, 5, 1, 2, 3, 4, 5, 1, 2, 3, 4, 5, 1, 2, 4, 5, 1, 2, 4, 5, 4, 1, 2, 3, 4, 1, 2, 3, 4, 5, 2, 3, 3, 1, 2, 4, 5, 1, 2, 1, 1, 3, 5, 1, 2, 3, 4, 5, 5, 3, 4, 1, 2, 3, 5, 4, 1, 2, 3, 4, 5, 2, 3, 4, 3, 4, 1, 2, 4, 1, 1, 2, 3, 4, 5, 1, 2, 3, 4, 5, 1, 2, 3, 1, 5, 1, 5, 2, 4, 2, 4, 2, 3, 1, 2, 4, 5, 5, 1, 2, 3, 3, 4, 5, 4, 5, 4, 3, 1, 2, 3, 4, 5, 1, 2, 3, 4, 5, 1, 4, 4, 1, 2, 3, 3, 4, 1, 2, 3, 4, 5, 2, 2, 2, 5, 1, 2, 3, 5, 2, 4, 2, 1, 2, 3, 4, 5, 1, 2, 3, 4, 5, 1, 2, 3, 4, 5, 1, 2, 3, 4, 5, 5, 5, 3, 5, 1, 2, 3, 4, 5, 1, 2, 3, 4, 5, 1, 2, 3, 4, 5, 2, 3, 4, 1, 2, 3, 5, 3, 1, 2, 3, 4, 1, 2, 3, 1, 2, 3, 3, 1, 2, 3, 4, 5, 1, 2, 3, 4, 1, 2, 3, 4, 1, 2, 3, 4, 5, 4, 1, 2, 3, 4, 5, 1, 1, 2, 3, 4, 5, 2, 1, 3, 4, 1, 2, 3, 4, 5, 1, 2, 3, 4, 5, 1, 4, 5, 1, 2, 3, 4, 5, 1, 2, 3, 4, 5, 1, 2, 3, 4, 1, 2, 3, 4, 5], \"Freq\": [0.9361454539962002, 0.023600305562929417, 0.015733537041952943, 0.007866768520976472, 0.007866768520976472, 0.9653310120347403, 0.9525816589393816, 0.04105955426462852, 0.9111038046324003, 0.04480838383438034, 0.029872255889586894, 0.9701214338687054, 0.016442736167266193, 0.9876259286523636, 0.01109692054665577, 0.07114422900494402, 0.10671634350741604, 0.7825865190543843, 0.968312785554485, 0.678607525023713, 0.13823486620853415, 0.02932254737756785, 0.10472338349131374, 0.0502672240758306, 0.9137306231377328, 0.05374886018457252, 0.3315909665266397, 0.24692944315813598, 0.014110253894750627, 0.14110253894750627, 0.2680948240002619, 0.4679258028313581, 0.2237906013541278, 0.07120610043085884, 0.23396290141567905, 0.03724942840837047, 0.37249428408370466, 0.0558741426125557, 0.5214919977171866, 0.018624714204185235, 0.056410297796196926, 0.056410297796196926, 0.8461544669429539, 0.06707428605976953, 0.871965718777004, 0.8905669807372943, 0.9717478974168353, 0.46941564351222725, 0.32432353551753884, 0.025604489646121487, 0.1792314275228504, 0.1528542713549741, 0.1528542713549741, 0.5774494695632354, 0.0934109436058175, 0.025475711892495683, 0.9222844280239221, 0.9774878121502211, 0.11273942554514504, 0.7440802085979573, 0.13528731065417404, 0.022547885109029008, 0.10106881230718233, 0.8759297066622468, 0.05532645686284097, 0.8852233098054555, 0.9536963590553179, 0.2724069333975392, 0.21792554671803135, 0.10117971811908598, 0.14787804955866413, 0.2568408229176798, 0.22914680809142188, 0.3610798188107254, 0.22914680809142188, 0.09026995470268134, 0.09026995470268134, 0.9790544820895312, 0.7473633053843962, 0.16106967788456816, 0.01932836134614818, 0.06442787115382725, 0.006442787115382726, 0.9853596898216894, 0.9686691689610996, 0.9712277843709104, 0.05355757926626602, 0.09372576371596554, 0.7765848993608573, 0.02677878963313301, 0.05355757926626602, 0.9741373847203718, 0.769875367603614, 0.07233728286208453, 0.0826711804138109, 0.07233728286208453, 0.9568832277150554, 0.1928370224856843, 0.03443518258672934, 0.6060592135264363, 0.11707962079487975, 0.04132221910407521, 0.9680809604131558, 0.04488299632987546, 0.08976599265975092, 0.8078939339377583, 0.08976599265975092, 0.07982902746195902, 0.27940159611685655, 0.6386322196956722, 0.9375126539662967, 0.05859454087289354, 0.03773450618035104, 0.9056281483284251, 0.03773450618035104, 0.3885736227687628, 0.02158742348715349, 0.5612730106659907, 0.11069728702640898, 0.8855782962112718, 0.9036555756676329, 0.9715296318281026, 0.6989389246939194, 0.049924208906708525, 0.049924208906708525, 0.14977262672012556, 0.04493178801603767, 0.31016445178786733, 0.44456904756260984, 0.031016445178786732, 0.17575985601312483, 0.04135526023838231, 0.9491215605816263, 0.03796486242326506, 0.01265495414108835, 0.1697748007700865, 0.1333944863193537, 0.2546622011551298, 0.3274228300565954, 0.09701417186862087, 0.11231000457278127, 0.056155002286390636, 0.7861700320094689, 0.27593934973290973, 0.1238911366147758, 0.48430171585775994, 0.08447122951007441, 0.028157076503358136, 0.9619023853859487, 0.014798498236706903, 0.014798498236706903, 0.4874047198047305, 0.3773455895262429, 0.03930683224231697, 0.08647503093309734, 0.007861366448463395, 0.9713853271498718, 0.025903608723996583, 0.8731467150215163, 0.1027231429437078, 0.9240897223872195, 0.9745942297350534, 0.01412455405413121, 0.4378046624887336, 0.39313071733682203, 0.01786957806076464, 0.01786957806076464, 0.12508704642535248, 0.05535111599726624, 0.867167483957171, 0.07380148799635498, 0.9240587109166555, 0.018858341039115416, 0.018858341039115416, 0.028287511558673126, 0.9054343451375648, 0.029207559520566608, 0.04867926586761102, 0.019471706347044405, 0.10640067119451195, 0.8512053695560956, 0.9929378776288731, 0.9184654879297416, 0.04834028883840746, 0.217270964062682, 0.6300857957817778, 0.07604483742193871, 0.07604483742193871, 0.9448752908874676, 0.18288875616709938, 0.711234051760942, 0.10160486453727742, 0.4042086813102688, 0.20932235282138922, 0.2598484379851728, 0.06857111557942061, 0.0577440973300384, 0.9038108540990318, 0.963378117885156, 0.8912759782294267, 0.10128136116243486, 0.006752090744162324, 0.8710492570398859, 0.1123934525212756, 0.992935170262593, 0.7673195314373482, 0.17109151714481413, 0.04147673142904585, 0.020738365714522925, 0.039828932531499606, 0.023897359518899767, 0.8523391561740916, 0.08762365156929915, 0.9269027429179145, 0.9758946836035899, 0.016264911393393165, 0.9683688400496244, 0.945020648216828, 0.03620596565298643, 0.27154474239739823, 0.6155014161007692, 0.054308948479479646, 0.018102982826493214, 0.9332598537215987, 0.9494176467202478, 0.029669301460007742, 0.9556952307546492, 0.03644711408758619, 0.947624966277241, 0.9717530225629265, 0.11013075498873631, 0.8810460399098905, 0.9823010116443482, 0.8898852223671463, 0.979350761966701, 0.9316607620970091, 0.07030065924541476, 0.06025770792464122, 0.8235220083034299, 0.050214756603867684, 0.893281594751593, 0.2130558971275104, 0.24084579675283785, 0.12968619825152808, 0.3056888958786019, 0.11115959850130978, 0.0913844643985792, 0.8224601795872127, 0.09538088808408739, 0.12717451744544986, 0.06358725872272493, 0.12717451744544986, 0.5722853285045243, 0.9365103447393329, 0.009556228007544213, 0.009556228007544213, 0.02866868402263264, 0.959678601664013, 0.03062804047863871, 0.3271798277653884, 0.13087193110615536, 0.23993187369461816, 0.08724795407077024, 0.20721389091807932, 0.1967648480474171, 0.032794141341236184, 0.7105397290601173, 0.054656902235393635, 0.939386645592511, 0.6858726117628519, 0.30746013630748537, 0.9247451963305333, 0.03225855336036744, 0.02150570224024496, 0.13333934084440252, 0.23334384647770443, 0.633361869010912, 0.12727800090938546, 0.08485200060625697, 0.8060940057594412, 0.9499699990016105, 0.9729648603083139, 0.9532547918502374, 0.8933304949906862, 0.8978460610513951, 0.8460988203026655, 0.08717381784936554, 0.0564065880201777, 0.005127871638197973, 0.8931728542499017, 0.05992834300534853, 0.11985668601069706, 0.7790684590695309, 0.2644433413217851, 0.09333294399592415, 0.5133311919775828, 0.05444421733095576, 0.06999970799694312, 0.1433582681250205, 0.2544609259219114, 0.293884449656292, 0.11827057120314191, 0.19353366196877766, 0.11067869917973057, 0.022135739835946112, 0.7378579945315371, 0.10330011923441519, 0.022135739835946112, 0.9151418608810984, 0.02326631849697708, 0.04653263699395416, 0.01163315924848854, 0.9402382813310106, 0.9651722452858856, 0.4133990565404346, 0.14839966132220728, 0.16959961293966547, 0.1854995766527591, 0.07949981856546819, 0.9729634024953416, 0.8992887612564315, 0.8964072779991933, 0.08964072779991933, 0.054992904789836254, 0.8798864766373801, 0.054992904789836254, 0.9376691270340952, 0.9888202115556155, 0.1004012343578109, 0.4556671405469879, 0.3320963905681437, 0.030892687494711045, 0.07723171873677762, 0.9546898654144793, 0.12492947966948967, 0.8120416178516828, 0.8933726095075281, 0.940382689676487, 0.9394514176639712, 0.9648016157765684, 0.9037658766071627, 0.38799005689900157, 0.3675695275885278, 0.09699751422475039, 0.09699751422475039, 0.05615645560380286, 0.33644897024505244, 0.1500380542984693, 0.24097020841875375, 0.15458466200448354, 0.11366519265035555, 0.9036555756676329, 0.4430543089194905, 0.24038052930738316, 0.16496702991683157, 0.10369356166200842, 0.047133437119094734, 0.4179112590188538, 0.028821466139231297, 0.014410733069615649, 0.533197123575779, 0.9887445452796757, 0.8897331893459207, 0.09822819703337325, 0.03274273234445775, 0.16371366172228877, 0.6221119145446973, 0.09822819703337325, 0.4088223561251721, 0.019163547943367443, 0.5621307396721117, 0.012775698628911628, 0.9628255144534398, 0.926732512371417, 0.0617821674914278, 0.9964379111803555, 0.9652118679157431, 0.9661535403455811, 0.016950062111325985, 0.008475031055662993, 0.9860904467196662, 0.9729031944576918, 0.09853817558315163, 0.04379474470362295, 0.7773567184893073, 0.07664080323134016, 0.010948686175905737, 0.1998342227350813, 0.1427387305250581, 0.5538262744372253, 0.09706233675703949, 0.011419098442004645, 0.984811041333099, 0.9113022892209289, 0.020949477913124803, 0.020949477913124803, 0.010474738956562401, 0.0314242168696872, 0.22518698889098196, 0.050041553086884884, 0.20016621234753953, 0.5004155308688488, 0.9661623978887486, 0.16225326483220034, 0.26472901104201113, 0.5038390855315695, 0.06831716413987383, 0.08069506243096201, 0.9279932179560633, 0.797299642905702, 0.1993249107264255, 0.9696813998705649, 0.21527717168685026, 0.163088766429432, 0.280512678258623, 0.28703622891580033, 0.05871195591459552, 0.11762591274353613, 0.13130334445790082, 0.5717166456604431, 0.1148904264006632, 0.06565167222895041, 0.9891413305017053, 0.9716563438398687, 0.17866816873947466, 0.19653498561342214, 0.504737576689016, 0.05806715484032927, 0.05806715484032927, 0.006330173874549229, 0.20889573786012453, 0.7089794739495136, 0.07596208649459074, 0.006330173874549229, 0.97544438807724, 0.9658409651489762, 0.8560157176357495, 0.06114397983112496, 0.01528599495778124, 0.03057198991556248, 0.0382149873944531, 0.9559916328315237, 0.3794867210347979, 0.25406314374363587, 0.22190325213051743, 0.08361571819410801, 0.05788780490361324, 0.15549135191999905, 0.24551266092631427, 0.4828415664884181, 0.09002130900631523, 0.02455126609263143, 0.03385259827752549, 0.022568398851683664, 0.8575991563639792, 0.07898939598089282, 0.0352577263419764, 0.0352577263419764, 0.7580411163524927, 0.1410309053679056, 0.026645934301442718, 0.932607700550495, 0.026645934301442718, 0.3181412264352824, 0.0981917365540995, 0.4791756743840056, 0.06284271139462369, 0.03534902515947582, 0.9685461250048593, 0.9526582385834146, 0.9533227874093121, 0.14864657097527695, 0.8423305688599028, 0.9553548141516492, 0.124591899423988, 0.7267860799732634, 0.10382658285332334, 0.041530633141329334, 0.9069839047182813, 0.9511145493682135, 0.028828080927368233, 0.98015475153052, 0.28065421436948906, 0.051028038976270736, 0.17859813641694758, 0.484766370274572, 0.4749765362305075, 0.03518344712818574, 0.07036689425637148, 0.08795861782046435, 0.3518344712818574, 0.9554325161492124, 0.01647297441636573, 0.008236487208182866, 0.01647297441636573, 0.9468743578002677, 0.9423619982882826, 0.02395835588868515, 0.02395835588868515, 0.007986118629561717, 0.9866189386713748, 0.9539950712480328, 0.024461412083282893, 0.15784374178681998, 0.047353122536046, 0.7418655863980539, 0.03156874835736399, 0.015784374178681997, 0.9925579373460528, 0.957096706668603, 0.8859637395120084, 0.7413968248089894, 0.07619097804361155, 0.05567802241648537, 0.11721688929786393, 0.008791266697339794, 0.16361747028729415, 0.2117402556659101, 0.6207839313841454, 0.05404418412404646, 0.12610309628944175, 0.810662761860697, 0.049395680236071306, 0.9385179244853549, 0.9725734839726513, 0.9683775639001331, 0.9830129607057234, 0.9647954057502135, 0.5991839179719025, 0.04689265444997498, 0.010420589877772219, 0.20320150261655825, 0.14067796334992494, 0.9411579642663215, 0.563697358990409, 0.2004257276410343, 0.05167225790745416, 0.14562181773918897, 0.03914564992988951, 0.32935229017091, 0.015318711170739999, 0.57445166890275, 0.061274844682959996, 0.02297806675611, 0.9985191781140138, 0.4632664122885878, 0.4480773495906013, 0.03037812539597297, 0.022783594046979726, 0.03037812539597297, 0.9468668804784159, 0.24457312646924348, 0.07294286228030068, 0.45911095670542196, 0.16304875097949564, 0.06436134907085354, 0.9311571610083791, 0.06892250032657342, 0.8959925042454545, 0.9889385798273204, 0.04261281932401539, 0.12783845797204615, 0.767030747832277, 0.9679084004967949, 0.9228929082341807, 0.06836243764697635, 0.2017480393297971, 0.7817736524029637, 0.9172492303181552, 0.031629283804074315, 0.031629283804074315, 0.9268982795696857, 0.984877677621432, 0.9787829229446138, 0.5456487842866697, 0.10912975685733396, 0.17928460055133436, 0.14420717870433417, 0.023384947898000132, 0.9962236190835194, 0.9610551006618204, 0.01961336940126164, 0.019186678393665547, 0.7099071005656251, 0.019186678393665547, 0.019186678393665547, 0.211053462330321, 0.948257660096937, 0.2544320508398022, 0.31527449777975486, 0.23230752467981938, 0.09956036771992259, 0.0940292361799269, 0.8897331893459207, 0.30453141118027466, 0.6815703012129957, 0.014501495770489271, 0.014501495770489271, 0.9726244624712164, 0.14179225165154416, 0.8153054469963789, 0.9964712179569215, 0.9664712591596284, 0.022476075794409963, 0.011238037897204982, 0.011238037897204982, 0.9656763660935087, 0.025751369762493564, 0.025326705880319284, 0.07598011764095786, 0.025326705880319284, 0.8737713528710153, 0.38363217372468345, 0.5115095649662446, 0.023250434771192936, 0.04650086954238587, 0.0348756521567894, 0.49816396352364484, 0.36532023991733953, 0.024908198176182242, 0.05811912907775856, 0.049816396352364484, 0.8645366110792164, 0.08607940283472718, 0.04491099278333592, 0.00374258273194466, 0.7839776772074277, 0.1531910403738652, 0.04505618834525447, 0.01351685650357634, 0.9816493716402739, 0.955895648961867, 0.02223013137120621, 0.02223013137120621, 0.011115065685603104, 0.8164500901566579, 0.06760414759258951, 0.0052003190455838086, 0.062403828547005706, 0.04680287141025428, 0.9284659949276777, 0.0714204611482829, 0.9692333864183569, 0.18553276800463991, 0.07951404343055997, 0.07951404343055997, 0.6361123474444798, 0.940886637779163, 0.04825059680918785, 0.9716736893709822, 0.9689683429896762, 0.01258400445441138, 0.01258400445441138, 0.26037523429558307, 0.280026195374495, 0.26528797456531106, 0.15720768863129544, 0.03930192215782386, 0.8977443220760214, 0.26466354834317146, 0.7057694622484572, 0.039841737819117276, 0.1992086890955864, 0.11952521345735183, 0.6374678051058764, 0.8828635760948048, 0.4451954928866387, 0.013531777899289929, 0.5020289600636564, 0.031123089168366837, 0.008119066739573957, 0.05105287831445163, 0.8678989313456776, 0.07657931747167744, 0.9652379416876138, 0.9348924795128922, 0.9648345446416503, 0.026555079210320652, 0.008851693070106883, 0.9919559270415319, 0.8000300122316751, 0.12658702725184734, 0.030380886540443363, 0.020253924360295574, 0.020253924360295574, 0.3145735081955566, 0.36044881147407526, 0.09175060655703735, 0.1507331393437042, 0.08519699180296325, 0.9481947347278445, 0.02473551481898725, 0.03298068642531633, 0.9661256110848496, 0.813973134478312, 0.08767151392721834, 0.9059389772479228, 0.971294704565746, 0.8906119816167802, 0.13157552094167232, 0.8683984382150374, 0.9547638647520243, 0.935483853371139, 0.1322094712980975, 0.18178802303488403, 0.016526183912262186, 0.6610473564904874, 0.8139710133636737, 0.966028276638198, 0.03734368159390212, 0.9335920398475529, 0.941999914119824, 0.04281817791453746, 0.8978460610513951, 0.8858993690844457, 0.9916330424347737, 0.8871205165176395, 0.9393239526289013, 0.9281611413360634, 0.023416909529120865, 0.004257619914385612, 0.01703047965754245, 0.027674529443506478, 0.9359434417434982, 0.012437786601242501, 0.009328339950931876, 0.03420391315341688, 0.009328339950931876, 0.9821508041482439, 0.01785728734814989, 0.9804522667749652, 0.10406157069892688, 0.02601539267473172, 0.8585079582661467, 0.13054110283593168, 0.848517168433556, 0.5563771778769065, 0.40143669796181863, 0.0140854981740989, 0.00704274908704945, 0.0140854981740989, 0.9343739617225201, 0.9268708382933859, 0.07441294411694477, 0.8929553294033372, 0.9861160964901434, 0.006124944698696543, 0.006124944698696543, 0.006124944698696543, 0.9641299500910421, 0.9680809604131558, 0.9533137344648993, 0.22724019553776179, 0.09257933892279184, 0.5218108193830086, 0.12624455307653432, 0.025248910615306864, 0.03629373055726158, 0.10162244556033243, 0.7984620722597549, 0.043552476668713896, 0.021776238334356948, 0.3937631372653451, 0.22732717202947758, 0.18876274106019122, 0.0913368101904151, 0.09945563776289645, 0.38877539031440245, 0.029905799254954034, 0.5582415860924753, 0.009968599751651343, 0.009968599751651343, 0.9037658766071627, 0.9429124438652957, 0.08123872537310771, 0.8936259791041847, 0.15590358095153914, 0.05196786031717972, 0.6755821841233364, 0.09094375555506451, 0.02598393015858986, 0.9413028089263172, 0.01057643605535188, 0.003525478685117293, 0.03878026553629022, 0.007050957370234586, 0.41410870089387897, 0.3075064610598111, 0.09020189524421125, 0.04100086147464148, 0.14350301516124517, 0.34841318896400847, 0.04977331270914407, 0.5723930961551568, 0.2752816722192078, 0.10323062708220292, 0.034410209027400974, 0.5849735534658166, 0.9702551040110368, 0.04286391621791015, 0.0857278324358203, 0.8144144081402928, 0.04286391621791015, 0.1440742916970652, 0.8164209862833695, 0.02401238194951087, 0.969966844751609, 0.01939933689503218, 0.9466278630662563, 0.9816632670643123, 0.17648070460820256, 0.07353362692008439, 0.7059228184328102, 0.04412017615205064, 0.01470672538401688, 0.8158979576823597, 0.006633316729124876, 0.06633316729124876, 0.10613306766599802, 0.03283100605368569, 0.049246509080528536, 0.8043596483152994, 0.11490852118789992, 0.2778519305205516, 0.24382924515068816, 0.2154770073424686, 0.056704475616439105, 0.20413611221918077, 0.9411432923019211, 0.26967371402469953, 0.2620772713761164, 0.3228488125647811, 0.10255197575587165, 0.04557865589149851, 0.9926511887906777, 0.08694278717675631, 0.06323111794673186, 0.7192539666440749, 0.11065445640678076, 0.015807779486682966, 0.9427278197820241, 0.019453994367912605, 0.8559757521881547, 0.09726997183956303, 0.36567777225174275, 0.32869912112516203, 0.08628351929535504, 0.1479146045063229, 0.06984856323909694, 0.5852956149368036, 0.050895270864069884, 0.12723817716017471, 0.22054617374430283, 0.012723817716017471, 0.06703940230243816, 0.06703940230243816, 0.8715122299316961, 0.6730124342636989, 0.14722146999518415, 0.02734113014196277, 0.06309491571222178, 0.09043604585418455, 0.5713505770331222, 0.18087983092003368, 0.07464881910985517, 0.12919987922859547, 0.04306662640953183, 0.047136936943960116, 0.023568468471980058, 0.848464864991282, 0.07070540541594017, 0.5270990307294356, 0.10249147819739027, 0.051245739098695134, 0.226945416008507, 0.08784983845490593], \"Term\": [\"act\", \"act\", \"act\", \"act\", \"act\", \"adios\", \"administration\", \"administration\", \"af\", \"af\", \"af\", \"agreement\", \"agreement\", \"aircraft\", \"aircraft\", \"alexander\", \"alexander\", \"alexander\", \"allotment\", \"american\", \"american\", \"american\", \"american\", \"american\", \"anniston\", \"anniston\", \"area\", \"area\", \"area\", \"area\", \"area\", \"areas\", \"areas\", \"areas\", \"areas\", \"art\", \"art\", \"art\", \"art\", \"art\", \"artist\", \"artist\", \"artist\", \"artists\", \"artists\", \"askington\", \"attorney\", \"available\", \"available\", \"available\", \"available\", \"away\", \"away\", \"away\", \"away\", \"away\", \"bacterial\", \"bank\", \"bar\", \"bar\", \"bar\", \"bar\", \"bars\", \"bars\", \"battens\", \"battens\", \"belgians\", \"best\", \"best\", \"best\", \"best\", \"best\", \"better\", \"better\", \"better\", \"better\", \"better\", \"billion\", \"board\", \"board\", \"board\", \"board\", \"board\", \"boats\", \"bobbie\", \"bonds\", \"boy\", \"boy\", \"boy\", \"boy\", \"boy\", \"breakfast\", \"business\", \"business\", \"business\", \"business\", \"cady\", \"came\", \"came\", \"came\", \"came\", \"came\", \"campers\", \"camping\", \"camping\", \"camping\", \"camping\", \"captain\", \"captain\", \"captain\", \"carla\", \"carla\", \"cathy\", \"cathy\", \"cathy\", \"century\", \"century\", \"century\", \"chemical\", \"chemical\", \"chines\", \"chris\", \"city\", \"city\", \"city\", \"city\", \"city\", \"class\", \"class\", \"class\", \"class\", \"class\", \"clay\", \"clay\", \"clay\", \"club\", \"club\", \"club\", \"club\", \"club\", \"colt\", \"colt\", \"colt\", \"come\", \"come\", \"come\", \"come\", \"come\", \"communist\", \"communist\", \"communist\", \"company\", \"company\", \"company\", \"company\", \"company\", \"congress\", \"congress\", \"cooling\", \"cooling\", \"cooper\", \"corps\", \"corps\", \"cost\", \"cost\", \"cost\", \"cost\", \"cost\", \"couldn\", \"couldn\", \"couldn\", \"county\", \"county\", \"county\", \"county\", \"court\", \"court\", \"court\", \"court\", \"cromwell\", \"cromwell\", \"cuba\", \"cup\", \"cup\", \"cut\", \"cut\", \"cut\", \"cut\", \"cylinder\", \"daily\", \"daily\", \"daily\", \"day\", \"day\", \"day\", \"day\", \"day\", \"deck\", \"deegan\", \"department\", \"department\", \"department\", \"design\", \"design\", \"destroy\", \"development\", \"development\", \"development\", \"development\", \"didn\", \"didn\", \"didn\", \"didn\", \"displacement\", \"district\", \"district\", \"doaty\", \"dolores\", \"don\", \"don\", \"don\", \"don\", \"don\", \"drank\", \"drill\", \"drill\", \"drug\", \"eddie\", \"eddie\", \"edythe\", \"electronics\", \"electronics\", \"engineer\", \"etcetera\", \"eugenia\", \"evans\", \"eyes\", \"eyes\", \"eyes\", \"eyes\", \"faber\", \"family\", \"family\", \"family\", \"family\", \"family\", \"fastened\", \"fastened\", \"features\", \"features\", \"features\", \"features\", \"features\", \"federal\", \"federal\", \"federal\", \"federal\", \"feed\", \"feed\", \"feet\", \"feet\", \"feet\", \"feet\", \"feet\", \"felt\", \"felt\", \"felt\", \"felt\", \"filly\", \"fiscal\", \"fiscal\", \"foreign\", \"foreign\", \"foreign\", \"forest\", \"forest\", \"forest\", \"frames\", \"frames\", \"frames\", \"frankie\", \"franks\", \"freddy\", \"frontage\", \"gansevoort\", \"general\", \"general\", \"general\", \"general\", \"glue\", \"glued\", \"glued\", \"glued\", \"going\", \"going\", \"going\", \"going\", \"going\", \"good\", \"good\", \"good\", \"good\", \"good\", \"got\", \"got\", \"got\", \"got\", \"got\", \"government\", \"government\", \"government\", \"government\", \"grams\", \"grandma\", \"great\", \"great\", \"great\", \"great\", \"great\", \"grill\", \"habitat\", \"hadn\", \"hadn\", \"hair\", \"hair\", \"hair\", \"hanford\", \"hanover\", \"head\", \"head\", \"head\", \"head\", \"head\", \"heating\", \"heel\", \"heel\", \"heiser\", \"hell\", \"henri\", \"henrietta\", \"hickory\", \"high\", \"high\", \"high\", \"high\", \"high\", \"home\", \"home\", \"home\", \"home\", \"home\", \"hotei\", \"house\", \"house\", \"house\", \"house\", \"house\", \"inch\", \"inch\", \"inch\", \"inch\", \"interference\", \"jig\", \"jim\", \"jim\", \"jim\", \"jim\", \"jim\", \"john\", \"john\", \"john\", \"john\", \"johnnie\", \"juniors\", \"juniors\", \"justice\", \"keelson\", \"kennedy\", \"kennedy\", \"kennedy\", \"khrushchev\", \"kirby\", \"knew\", \"knew\", \"knew\", \"knew\", \"knew\", \"know\", \"know\", \"know\", \"know\", \"know\", \"laos\", \"law\", \"law\", \"law\", \"law\", \"law\", \"league\", \"league\", \"league\", \"league\", \"legislature\", \"let\", \"let\", \"let\", \"let\", \"libraries\", \"libraries\", \"library\", \"library\", \"lid\", \"life\", \"life\", \"life\", \"life\", \"life\", \"like\", \"like\", \"like\", \"like\", \"like\", \"linda\", \"lips\", \"little\", \"little\", \"little\", \"little\", \"little\", \"ll\", \"ll\", \"ll\", \"ll\", \"ll\", \"loan\", \"loans\", \"local\", \"local\", \"local\", \"local\", \"local\", \"locking\", \"long\", \"long\", \"long\", \"long\", \"long\", \"look\", \"look\", \"look\", \"look\", \"look\", \"looked\", \"looked\", \"looked\", \"looked\", \"love\", \"love\", \"love\", \"love\", \"lucy\", \"lucy\", \"lucy\", \"man\", \"man\", \"man\", \"man\", \"man\", \"mantle\", \"manufacturer\", \"maris\", \"marketing\", \"marketing\", \"mason\", \"materials\", \"materials\", \"materials\", \"materials\", \"mickey\", \"midwest\", \"mike\", \"mike\", \"mile\", \"mile\", \"mile\", \"mile\", \"miles\", \"miles\", \"miles\", \"miles\", \"miles\", \"military\", \"military\", \"military\", \"military\", \"milligrams\", \"million\", \"million\", \"million\", \"million\", \"missile\", \"mold\", \"mold\", \"morning\", \"morning\", \"morning\", \"morning\", \"morning\", \"moscow\", \"mosque\", \"mousie\", \"mr\", \"mr\", \"mr\", \"mr\", \"mr\", \"mrs\", \"mrs\", \"mrs\", \"music\", \"music\", \"music\", \"musical\", \"musical\", \"musicians\", \"mustard\", \"myra\", \"nadine\", \"national\", \"national\", \"national\", \"national\", \"national\", \"neo\", \"new\", \"new\", \"new\", \"new\", \"new\", \"night\", \"night\", \"night\", \"night\", \"night\", \"nuclear\", \"number\", \"number\", \"number\", \"number\", \"number\", \"oersted\", \"old\", \"old\", \"old\", \"old\", \"old\", \"onion\", \"orchestra\", \"orchestra\", \"owen\", \"painting\", \"painting\", \"painting\", \"paintings\", \"pale\", \"pale\", \"palmer\", \"palmer\", \"panels\", \"panels\", \"panels\", \"pansies\", \"pathology\", \"payments\", \"people\", \"people\", \"people\", \"people\", \"people\", \"petitioner\", \"phil\", \"phil\", \"pieces\", \"pieces\", \"pieces\", \"pieces\", \"pieces\", \"pitcher\", \"place\", \"place\", \"place\", \"place\", \"place\", \"planking\", \"plant\", \"plant\", \"plant\", \"plant\", \"plastics\", \"player\", \"player\", \"police\", \"policy\", \"policy\", \"policy\", \"policy\", \"political\", \"political\", \"pool\", \"pool\", \"pool\", \"pool\", \"position\", \"position\", \"position\", \"position\", \"position\", \"possible\", \"possible\", \"possible\", \"possible\", \"possible\", \"president\", \"president\", \"president\", \"president\", \"program\", \"program\", \"program\", \"program\", \"prokofieff\", \"property\", \"property\", \"property\", \"property\", \"public\", \"public\", \"public\", \"public\", \"public\", \"push\", \"push\", \"quint\", \"recreation\", \"recreation\", \"recreation\", \"recreation\", \"report\", \"report\", \"republican\", \"rhode\", \"rhode\", \"rhode\", \"right\", \"right\", \"right\", \"right\", \"right\", \"rodney\", \"roy\", \"roy\", \"runs\", \"runs\", \"runs\", \"runs\", \"saami\", \"said\", \"said\", \"said\", \"said\", \"said\", \"sat\", \"sat\", \"sat\", \"sauce\", \"schnabel\", \"secretary\", \"secretary\", \"secretary\", \"sen\", \"service\", \"service\", \"service\", \"service\", \"service\", \"set\", \"set\", \"set\", \"set\", \"set\", \"shall\", \"shall\", \"shall\", \"sharpe\", \"shea\", \"shelter\", \"shelter\", \"shipping\", \"shoot\", \"shooting\", \"shooting\", \"shorts\", \"silent\", \"site\", \"site\", \"site\", \"site\", \"skorich\", \"skywave\", \"smiled\", \"smiled\", \"snake\", \"snake\", \"somers\", \"sophia\", \"spencer\", \"sportsmen\", \"stared\", \"state\", \"state\", \"state\", \"state\", \"state\", \"states\", \"states\", \"states\", \"states\", \"states\", \"stations\", \"stations\", \"stravinsky\", \"suddenly\", \"suddenly\", \"suddenly\", \"susan\", \"susan\", \"system\", \"system\", \"system\", \"system\", \"system\", \"tappet\", \"tappets\", \"tar\", \"tar\", \"tax\", \"tax\", \"tax\", \"tax\", \"temperature\", \"tents\", \"theresa\", \"think\", \"think\", \"think\", \"think\", \"think\", \"thought\", \"thought\", \"thought\", \"thought\", \"thought\", \"time\", \"time\", \"time\", \"time\", \"time\", \"told\", \"told\", \"told\", \"told\", \"told\", \"torrid\", \"transom\", \"trot\", \"trot\", \"turned\", \"turned\", \"turned\", \"turned\", \"turned\", \"united\", \"united\", \"united\", \"united\", \"united\", \"use\", \"use\", \"use\", \"use\", \"use\", \"vacation\", \"vacation\", \"vacation\", \"vehicles\", \"vehicles\", \"vehicles\", \"vehicles\", \"vivian\", \"voice\", \"voice\", \"voice\", \"voice\", \"volume\", \"volume\", \"volume\", \"vote\", \"vote\", \"waited\", \"wally\", \"wanted\", \"wanted\", \"wanted\", \"wanted\", \"wanted\", \"war\", \"war\", \"war\", \"war\", \"wasn\", \"wasn\", \"wasn\", \"wasn\", \"water\", \"water\", \"water\", \"water\", \"water\", \"watercolor\", \"way\", \"way\", \"way\", \"way\", \"way\", \"weapons\", \"went\", \"went\", \"went\", \"went\", \"went\", \"willis\", \"woman\", \"woman\", \"woman\", \"work\", \"work\", \"work\", \"work\", \"work\", \"world\", \"world\", \"world\", \"world\", \"world\", \"yankees\", \"yankees\", \"yankees\", \"year\", \"year\", \"year\", \"year\", \"year\", \"years\", \"years\", \"years\", \"years\", \"years\", \"yes\", \"yes\", \"yes\", \"yes\", \"york\", \"york\", \"york\", \"york\", \"york\"]}, \"R\": 30, \"lambda.step\": 0.01, \"plot.opts\": {\"xlab\": \"PC1\", \"ylab\": \"PC2\"}, \"topic.order\": [5, 2, 1, 4, 3]};\n",
       "\n",
       "function LDAvis_load_lib(url, callback){\n",
       "  var s = document.createElement('script');\n",
       "  s.src = url;\n",
       "  s.async = true;\n",
       "  s.onreadystatechange = s.onload = callback;\n",
       "  s.onerror = function(){console.warn(\"failed to load library \" + url);};\n",
       "  document.getElementsByTagName(\"head\")[0].appendChild(s);\n",
       "}\n",
       "\n",
       "if(typeof(LDAvis) !== \"undefined\"){\n",
       "   // already loaded: just create the visualization\n",
       "   !function(LDAvis){\n",
       "       new LDAvis(\"#\" + \"ldavis_el3318019725934776643980777279\", ldavis_el3318019725934776643980777279_data);\n",
       "   }(LDAvis);\n",
       "}else if(typeof define === \"function\" && define.amd){\n",
       "   // require.js is available: use it to load d3/LDAvis\n",
       "   require.config({paths: {d3: \"https://d3js.org/d3.v5\"}});\n",
       "   require([\"d3\"], function(d3){\n",
       "      window.d3 = d3;\n",
       "      LDAvis_load_lib(\"https://cdn.jsdelivr.net/gh/bmabey/pyLDAvis@3.3.1/pyLDAvis/js/ldavis.v3.0.0.js\", function(){\n",
       "        new LDAvis(\"#\" + \"ldavis_el3318019725934776643980777279\", ldavis_el3318019725934776643980777279_data);\n",
       "      });\n",
       "    });\n",
       "}else{\n",
       "    // require.js not available: dynamically load d3 & LDAvis\n",
       "    LDAvis_load_lib(\"https://d3js.org/d3.v5.js\", function(){\n",
       "         LDAvis_load_lib(\"https://cdn.jsdelivr.net/gh/bmabey/pyLDAvis@3.3.1/pyLDAvis/js/ldavis.v3.0.0.js\", function(){\n",
       "                 new LDAvis(\"#\" + \"ldavis_el3318019725934776643980777279\", ldavis_el3318019725934776643980777279_data);\n",
       "            })\n",
       "         });\n",
       "}\n",
       "</script>"
      ],
      "text/plain": [
       "PreparedData(topic_coordinates=              x         y  topics  cluster       Freq\n",
       "topic                                                \n",
       "4     -0.129095 -0.049109       1        1  43.297605\n",
       "1     -0.073106 -0.079617       2        1  19.998992\n",
       "0      0.194976 -0.045030       3        1  16.945028\n",
       "3      0.032264  0.016934       4        1  11.640133\n",
       "2     -0.025040  0.156823       5        1   8.118241, topic_info=            Term        Freq       Total Category  logprob  loglift\n",
       "587         said  739.000000  739.000000  Default  30.0000  30.0000\n",
       "3479         mrs  207.000000  207.000000  Default  29.0000  29.0000\n",
       "392         like  365.000000  365.000000  Default  28.0000  28.0000\n",
       "366         john  156.000000  156.000000  Default  27.0000  27.0000\n",
       "19993    hanover   73.000000   73.000000  Default  26.0000  26.0000\n",
       "...          ...         ...         ...      ...      ...      ...\n",
       "2468       miles   19.599257   56.844913   Topic5  -6.5172   1.4462\n",
       "455          new   25.251300  638.640565   Topic5  -6.2638  -0.7194\n",
       "392         like   23.732627  365.565707   Topic5  -6.3258  -0.2235\n",
       "58     available   20.709302  117.166952   Topic5  -6.4621   0.7780\n",
       "3393        feet   19.176909   91.692695   Topic5  -6.5389   0.9463\n",
       "\n",
       "[396 rows x 6 columns], token_table=      Topic      Freq  Term\n",
       "term                       \n",
       "1818      1  0.936145   act\n",
       "1818      2  0.023600   act\n",
       "1818      3  0.015734   act\n",
       "1818      4  0.007867   act\n",
       "1818      5  0.007867   act\n",
       "...     ...       ...   ...\n",
       "734       1  0.527099  york\n",
       "734       2  0.102491  york\n",
       "734       3  0.051246  york\n",
       "734       4  0.226945  york\n",
       "734       5  0.087850  york\n",
       "\n",
       "[876 rows x 3 columns], R=30, lambda_step=0.01, plot_opts={'xlab': 'PC1', 'ylab': 'PC2'}, topic_order=[5, 2, 1, 4, 3])"
      ]
     },
     "execution_count": 75,
     "metadata": {},
     "output_type": "execute_result"
    }
   ],
   "source": [
    "vis"
   ]
  },
  {
   "attachments": {},
   "cell_type": "markdown",
   "id": "a3d14c87",
   "metadata": {},
   "source": [
    "Q: What conclusions do you draw from the visualization above? Please address the principal component scatterplot and the salient terms graph.\n",
    "\n",
    "A: I conclude that all of the documents share a large part of thier vocabulary and that there is not much differentiation between the topics.\n"
   ]
  },
  {
   "cell_type": "markdown",
   "id": "ae00581a",
   "metadata": {},
   "source": []
  }
 ],
 "metadata": {
  "kernelspec": {
   "display_name": "Python 3",
   "language": "python",
   "name": "python3"
  },
  "language_info": {
   "codemirror_mode": {
    "name": "ipython",
    "version": 3
   },
   "file_extension": ".py",
   "mimetype": "text/x-python",
   "name": "python",
   "nbconvert_exporter": "python",
   "pygments_lexer": "ipython3",
   "version": "3.11.2"
  },
  "vscode": {
   "interpreter": {
    "hash": "4b33cfd37f5195bd7836c1451c6eaacc84fbbad3c54541ec8bad2790bfb3f777"
   }
  }
 },
 "nbformat": 4,
 "nbformat_minor": 5
}
