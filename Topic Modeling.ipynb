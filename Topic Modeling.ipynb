{
 "cells": [
  {
   "cell_type": "markdown",
   "id": "bce2bb89",
   "metadata": {},
   "source": [
    "# ADS 509 Assignment 5.1: Topic Modeling\n",
    "\n",
    "This notebook holds Assignment 5.1 for Module 5 in ADS 509, Applied Text Mining. Work through this notebook, writing code and answering questions where required. \n",
    "\n",
    "In this assignment you will work with a categorical corpus that accompanies `nltk`. You will build the three types of topic models described in Chapter 8 of _Blueprints for Text Analytics using Python_: NMF, LSA, and LDA. You will compare these models to the true categories. \n"
   ]
  },
  {
   "cell_type": "markdown",
   "id": "d87e2c06",
   "metadata": {},
   "source": [
    "## General Assignment Instructions\n",
    "\n",
    "These instructions are included in every assignment, to remind you of the coding standards for the class. Feel free to delete this cell after reading it. \n",
    "\n",
    "One sign of mature code is conforming to a style guide. We recommend the [Google Python Style Guide](https://google.github.io/styleguide/pyguide.html). If you use a different style guide, please include a cell with a link. \n",
    "\n",
    "Your code should be relatively easy-to-read, sensibly commented, and clean. Writing code is a messy process, so please be sure to edit your final submission. Remove any cells that are not needed or parts of cells that contain unnecessary code. Remove inessential `import` statements and make sure that all such statements are moved into the designated cell. \n",
    "\n",
    "Make use of non-code cells for written commentary. These cells should be grammatical and clearly written. In some of these cells you will have questions to answer. The questions will be marked by a \"Q:\" and will have a corresponding \"A:\" spot for you. *Make sure to answer every question marked with a `Q:` for full credit.* \n"
   ]
  },
  {
   "cell_type": "code",
   "execution_count": 18,
   "id": "a85bce08",
   "metadata": {},
   "outputs": [],
   "source": [
    "# These libraries may be useful to you\n",
    "\n",
    "from nltk.corpus import brown\n",
    "\n",
    "import numpy as np\n",
    "import pandas as pd\n",
    "from tqdm.auto import tqdm\n",
    "\n",
    "import pyLDAvis\n",
    "import pyLDAvis.sklearn\n",
    "import pyLDAvis.gensim_models\n",
    "\n",
    "import spacy\n",
    "from sklearn.feature_extraction.text import TfidfVectorizer, CountVectorizer\n",
    "from sklearn.decomposition import NMF, TruncatedSVD, LatentDirichletAllocation\n",
    "\n",
    "from spacy.lang.en.stop_words import STOP_WORDS as stopwords\n",
    "\n",
    "from collections import Counter, defaultdict\n",
    "\n",
    "nlp = spacy.load('en_core_web_sm')"
   ]
  },
  {
   "cell_type": "code",
   "execution_count": 19,
   "id": "a218df60",
   "metadata": {},
   "outputs": [],
   "source": [
    "# add any additional libaries you need here\n",
    "\n",
    "import seaborn as sns\n",
    "import plotly.express as px"
   ]
  },
  {
   "cell_type": "code",
   "execution_count": 20,
   "id": "494de237",
   "metadata": {},
   "outputs": [],
   "source": [
    "# This function comes from the BTAP repo.\n",
    "\n",
    "def display_topics(model, features, no_top_words=5):\n",
    "    for topic, words in enumerate(model.components_):\n",
    "        total = words.sum()\n",
    "        largest = words.argsort()[::-1] # invert sort order\n",
    "        print(\"\\nTopic %02d\" % topic)\n",
    "        for i in range(0, no_top_words):\n",
    "            print(\"  %s (%2.2f)\" % (features[largest[i]], abs(words[largest[i]]*100.0/total)))"
   ]
  },
  {
   "cell_type": "markdown",
   "id": "a30a901c",
   "metadata": {},
   "source": [
    "## Getting to Know the Brown Corpus\n",
    "\n",
    "Let's spend a bit of time getting to know what's in the Brown corpus, our NLTK example of an \"overlapping\" corpus."
   ]
  },
  {
   "cell_type": "code",
   "execution_count": 21,
   "id": "457c59ed",
   "metadata": {},
   "outputs": [
    {
     "name": "stdout",
     "output_type": "stream",
     "text": [
      "For adventure we have 29 articles.\n",
      "For belles_lettres we have 75 articles.\n",
      "For editorial we have 27 articles.\n",
      "For fiction we have 29 articles.\n",
      "For government we have 30 articles.\n",
      "For hobbies we have 36 articles.\n",
      "For humor we have 9 articles.\n",
      "For learned we have 80 articles.\n",
      "For lore we have 48 articles.\n",
      "For mystery we have 24 articles.\n",
      "For news we have 44 articles.\n",
      "For religion we have 17 articles.\n",
      "For reviews we have 17 articles.\n",
      "For romance we have 29 articles.\n",
      "For science_fiction we have 6 articles.\n"
     ]
    }
   ],
   "source": [
    "# categories of articles in Brown corpus\n",
    "for category in brown.categories() :\n",
    "    print(f\"For {category} we have {len(brown.fileids(categories=category))} articles.\")"
   ]
  },
  {
   "cell_type": "markdown",
   "id": "23fb133c",
   "metadata": {},
   "source": [
    "Let's create a dataframe of the articles in of hobbies, editorial, government, news, and romance."
   ]
  },
  {
   "cell_type": "code",
   "execution_count": 22,
   "id": "18f50b9d",
   "metadata": {},
   "outputs": [
    {
     "data": {
      "text/plain": [
       "(166, 3)"
      ]
     },
     "execution_count": 22,
     "metadata": {},
     "output_type": "execute_result"
    }
   ],
   "source": [
    "categories = ['editorial','government','news','romance','hobbies'] \n",
    "\n",
    "category_list = []\n",
    "file_ids = []\n",
    "texts = []\n",
    "\n",
    "for category in categories : \n",
    "    for file_id in brown.fileids(categories=category) :\n",
    "        \n",
    "        # build some lists for a dataframe\n",
    "        category_list.append(category)\n",
    "        file_ids.append(file_id)\n",
    "        \n",
    "        text = brown.words(fileids=file_id)\n",
    "        texts.append(\" \".join(text))\n",
    "\n",
    "        \n",
    "        \n",
    "df = pd.DataFrame()\n",
    "df['category'] = category_list\n",
    "df['id'] = file_ids\n",
    "df['text'] = texts \n",
    "\n",
    "df.shape"
   ]
  },
  {
   "cell_type": "code",
   "execution_count": 23,
   "id": "586f47de",
   "metadata": {},
   "outputs": [],
   "source": [
    "# Let's add some helpful columns on the df\n",
    "df['char_len'] = df['text'].apply(len)\n",
    "df['word_len'] = df['text'].apply(lambda x: len(x.split()))\n"
   ]
  },
  {
   "cell_type": "code",
   "execution_count": 24,
   "id": "2128fd2d",
   "metadata": {},
   "outputs": [
    {
     "data": {
      "text/plain": [
       "<AxesSubplot: xlabel='category'>"
      ]
     },
     "execution_count": 24,
     "metadata": {},
     "output_type": "execute_result"
    },
    {
     "data": {
      "image/png": "[encoded data removed]",
      "text/plain": [
       "<Figure size 1000x600 with 1 Axes>"
      ]
     },
     "metadata": {},
     "output_type": "display_data"
    }
   ],
   "source": [
    "%matplotlib inline\n",
    "df.groupby('category').agg({'word_len': 'mean'}).plot.bar(figsize=(10,6))"
   ]
  },
  {
   "cell_type": "markdown",
   "id": "554ffeb5",
   "metadata": {},
   "source": [
    "Now do our TF-IDF and Count vectorizations."
   ]
  },
  {
   "cell_type": "code",
   "execution_count": 25,
   "id": "21a7d247",
   "metadata": {},
   "outputs": [
    {
     "name": "stderr",
     "output_type": "stream",
     "text": [
      "C:\\Users\\zfreitas\\AppData\\Local\\Packages\\PythonSoftwareFoundation.Python.3.11_qbz5n2kfra8p0\\LocalCache\\local-packages\\Python311\\site-packages\\sklearn\\feature_extraction\\text.py:409: UserWarning: Your stop_words may be inconsistent with your preprocessing. Tokenizing the stop words generated tokens ['ll', 've'] not in stop_words.\n",
      "  warnings.warn(\n"
     ]
    },
    {
     "data": {
      "text/plain": [
       "(166, 4941)"
      ]
     },
     "execution_count": 25,
     "metadata": {},
     "output_type": "execute_result"
    }
   ],
   "source": [
    "count_text_vectorizer = CountVectorizer(stop_words=list(stopwords), min_df=5, max_df=0.7)\n",
    "count_text_vectors = count_text_vectorizer.fit_transform(df['text'])\n",
    "count_text_vectors.shape"
   ]
  },
  {
   "cell_type": "code",
   "execution_count": 26,
   "id": "e9939e5e",
   "metadata": {},
   "outputs": [
    {
     "data": {
      "text/plain": [
       "array(['00', '000', '10', ..., 'youth', 'zone', 'zoning'], dtype=object)"
      ]
     },
     "execution_count": 26,
     "metadata": {},
     "output_type": "execute_result"
    }
   ],
   "source": [
    "count_text_vectorizer.get_feature_names_out()"
   ]
  },
  {
   "cell_type": "code",
   "execution_count": 103,
   "id": "6ba35373",
   "metadata": {},
   "outputs": [
    {
     "name": "stdout",
     "output_type": "stream",
     "text": [
      "(166, 4941)\n"
     ]
    },
    {
     "name": "stderr",
     "output_type": "stream",
     "text": [
      "C:\\Users\\zfreitas\\AppData\\Local\\Packages\\PythonSoftwareFoundation.Python.3.11_qbz5n2kfra8p0\\LocalCache\\local-packages\\Python311\\site-packages\\sklearn\\feature_extraction\\text.py:409: UserWarning:\n",
      "\n",
      "Your stop_words may be inconsistent with your preprocessing. Tokenizing the stop words generated tokens ['ll', 've'] not in stop_words.\n",
      "\n"
     ]
    },
    {
     "ename": "AttributeError",
     "evalue": "get_feature_names_out not found",
     "output_type": "error",
     "traceback": [
      "\u001b[1;31m---------------------------------------------------------------------------\u001b[0m",
      "\u001b[1;31mAttributeError\u001b[0m                            Traceback (most recent call last)",
      "Cell \u001b[1;32mIn[103], line 4\u001b[0m\n\u001b[0;32m      2\u001b[0m tfidf_text_vectors \u001b[39m=\u001b[39m tfidf_text_vectorizer\u001b[39m.\u001b[39mfit_transform(df[\u001b[39m'\u001b[39m\u001b[39mtext\u001b[39m\u001b[39m'\u001b[39m])\n\u001b[0;32m      3\u001b[0m \u001b[39mprint\u001b[39m(tfidf_text_vectors\u001b[39m.\u001b[39mshape)\n\u001b[1;32m----> 4\u001b[0m tfidf_text_vectors\u001b[39m.\u001b[39;49mget_feature_names_out()\n",
      "File \u001b[1;32m~\\AppData\\Local\\Packages\\PythonSoftwareFoundation.Python.3.11_qbz5n2kfra8p0\\LocalCache\\local-packages\\Python311\\site-packages\\scipy\\sparse\\_base.py:771\u001b[0m, in \u001b[0;36mspmatrix.__getattr__\u001b[1;34m(self, attr)\u001b[0m\n\u001b[0;32m    769\u001b[0m     \u001b[39mreturn\u001b[39;00m \u001b[39mself\u001b[39m\u001b[39m.\u001b[39mgetnnz()\n\u001b[0;32m    770\u001b[0m \u001b[39melse\u001b[39;00m:\n\u001b[1;32m--> 771\u001b[0m     \u001b[39mraise\u001b[39;00m \u001b[39mAttributeError\u001b[39;00m(attr \u001b[39m+\u001b[39m \u001b[39m\"\u001b[39m\u001b[39m not found\u001b[39m\u001b[39m\"\u001b[39m)\n",
      "\u001b[1;31mAttributeError\u001b[0m: get_feature_names_out not found"
     ]
    }
   ],
   "source": [
    "tfidf_text_vectorizer = TfidfVectorizer(stop_words=list(stopwords), min_df=5, max_df=0.7)\n",
    "tfidf_text_vectors = tfidf_text_vectorizer.fit_transform(df['text'])\n",
    "print(tfidf_text_vectors.shape)\n"
   ]
  },
  {
   "cell_type": "code",
   "execution_count": 113,
   "id": "cfd2626f",
   "metadata": {},
   "outputs": [
    {
     "data": {
      "text/plain": [
       "array(['00', '000', '10', ..., 'youth', 'zone', 'zoning'], dtype=object)"
      ]
     },
     "execution_count": 113,
     "metadata": {},
     "output_type": "execute_result"
    }
   ],
   "source": [
    "tfidf_text_vectorizer.fit(df['text']).get_feature_names_out()"
   ]
  },
  {
   "cell_type": "code",
   "execution_count": 28,
   "id": "3c1236a0",
   "metadata": {},
   "outputs": [
    {
     "data": {
      "text/plain": [
       "array(['00', '000', '10', ..., 'youth', 'zone', 'zoning'], dtype=object)"
      ]
     },
     "execution_count": 28,
     "metadata": {},
     "output_type": "execute_result"
    }
   ],
   "source": [
    "tfidf_text_vectorizer.get_feature_names_out()"
   ]
  },
  {
   "attachments": {},
   "cell_type": "markdown",
   "id": "a1062b21",
   "metadata": {},
   "source": [
    "Q: What do the two data frames `count_text_vectors` and `tfidf_text_vectors` hold? \n",
    "\n",
    "A: `count_text_vectors` is a python object that contains a 166x4941 sparse matrix of type '<class 'numpy.int64'>' with 72541 stored elements in Compressed Sparse Row format. The numbers are a matrix of text documents to token counts. This matrix doesn’t include words from our stopwords list. It also ignores terms that have a document frequency strictly lower than 5. It also ignores terms that have a document frequency strictly higher than 70%.\n",
    "\n",
    "\n",
    "`tfidf_text_vectors` is a python object that contains a 166x4941 sparse matrix of type '<class 'numpy.int64'>' with 72541 stored elements in Compressed Sparse Row format. The numbers are a matrix of term-frequency times inverse document-frequency. This matrix doesn’t include words from our stopwords list. It also ignores terms that have a document frequency strictly lower than 5. It also ignores terms that have a document frequency strictly higher than 70%.\n"
   ]
  },
  {
   "cell_type": "markdown",
   "id": "f77c3f94",
   "metadata": {},
   "source": [
    "## Fitting a Non-Negative Matrix Factorization Model\n",
    "\n",
    "In this section the code to fit a five-topic NMF model has already been written. This code comes directly from the [BTAP repo](https://github.com/blueprints-for-text-analytics-python/blueprints-text), which will help you tremendously in the coming sections. "
   ]
  },
  {
   "cell_type": "code",
   "execution_count": 29,
   "id": "d28745a3",
   "metadata": {},
   "outputs": [],
   "source": [
    "nmf_text_model = NMF(n_components=5, random_state=314)\n",
    "W_nmf_text_matrix = nmf_text_model.fit_transform(tfidf_text_vectors)\n",
    "H_nmf_text_matrix = nmf_text_model.components_"
   ]
  },
  {
   "cell_type": "code",
   "execution_count": 32,
   "id": "99a74200",
   "metadata": {},
   "outputs": [
    {
     "name": "stderr",
     "output_type": "stream",
     "text": [
      "C:\\Users\\zfreitas\\AppData\\Local\\Packages\\PythonSoftwareFoundation.Python.3.11_qbz5n2kfra8p0\\LocalCache\\local-packages\\Python311\\site-packages\\plotly\\io\\_renderers.py:395: DeprecationWarning:\n",
      "\n",
      "distutils Version classes are deprecated. Use packaging.version instead.\n",
      "\n",
      "C:\\Users\\zfreitas\\AppData\\Local\\Packages\\PythonSoftwareFoundation.Python.3.11_qbz5n2kfra8p0\\LocalCache\\local-packages\\Python311\\site-packages\\plotly\\io\\_renderers.py:395: DeprecationWarning:\n",
      "\n",
      "distutils Version classes are deprecated. Use packaging.version instead.\n",
      "\n"
     ]
    },
    {
     "data": {
      "application/vnd.plotly.v1+json": {
       "config": {
        "plotlyServerURL": "https://plot.ly"
       },
       "data": [
        {
         "hovertemplate": "color=editorial<br>0=%{x}<br>1=%{y}<extra></extra>",
         "legendgroup": "editorial",
         "marker": {
          "color": "#636efa",
          "symbol": "circle"
         },
         "mode": "markers",
         "name": "editorial",
         "orientation": "v",
         "showlegend": true,
         "type": "scatter",
         "x": [
          0.1635380900067819,
          0.3124591430334578,
          0.26595043094180165,
          0.26259590064002625,
          0.19476887675060567,
          0.205219338962347,
          0.23281828000272115,
          0.04223415766468612,
          0.07398411122332987,
          0,
          0.2876730557725968,
          0.09722727942128007,
          0.00543733140320436,
          0.1922588880937985,
          0.059324548568479525,
          0.125086483507819,
          0.15108392096552622,
          0.2514329426217717,
          0.17363672741866387,
          0.2512100168917581,
          0.1487190416461012,
          0.18381687078217163,
          0.21605903407742588,
          0.018268763758105273,
          0.21795370329910865,
          0.16568834793403509,
          0.12237060098428759
         ],
         "xaxis": "x",
         "y": [
          0,
          0,
          0.03921915543965028,
          0,
          0.002148837469464824,
          0,
          0,
          0.27871001941821555,
          0.1263074022854707,
          0.1756234223289517,
          0,
          0.0602429616056956,
          0.14951452459110054,
          0.05325346944354886,
          0.02733132551810028,
          0.024605163284309325,
          0.05718339155056539,
          0.0006880803925789868,
          0.053074118080594285,
          0.02347272605033258,
          0.0028813218869507854,
          0.02130386819023271,
          0.0397291817866432,
          0.12202644263100397,
          0.019230709479012995,
          0.02665805301159526,
          0.06580283747149566
         ],
         "yaxis": "y"
        },
        {
         "hovertemplate": "color=government<br>0=%{x}<br>1=%{y}<extra></extra>",
         "legendgroup": "government",
         "marker": {
          "color": "#EF553B",
          "symbol": "circle"
         },
         "mode": "markers",
         "name": "government",
         "orientation": "v",
         "showlegend": true,
         "type": "scatter",
         "x": [
          0,
          0.035094817323416704,
          0.15165352089673648,
          0,
          0,
          0,
          0,
          0.08223248803119548,
          0.032621727953122896,
          0.00944448464705263,
          0,
          0.05182558440690323,
          0.18963895900628677,
          0.009514213706214969,
          0.0029903158011747267,
          0.010909239926620913,
          0.07064573741660513,
          0.15713140385723043,
          0.12039771874591758,
          0,
          0.02156492169187813,
          0.06180620671916635,
          0.019707395437083424,
          0,
          0.07888246170913882,
          0.014816772018235315,
          0,
          0.015048450459779327,
          0,
          0.08360714821478411
         ],
         "xaxis": "x",
         "y": [
          0,
          0,
          0.03481360190639787,
          0,
          0,
          0,
          0,
          0,
          0,
          0,
          0.0013533461767722178,
          0,
          0,
          0,
          0.030365627401826148,
          0,
          0,
          0.022722686872397955,
          0,
          0,
          0,
          0,
          0.0012048669692207342,
          0,
          0.021057489038182556,
          0.03001806314193013,
          0,
          0,
          0,
          0
         ],
         "yaxis": "y"
        },
        {
         "hovertemplate": "color=news<br>0=%{x}<br>1=%{y}<extra></extra>",
         "legendgroup": "news",
         "marker": {
          "color": "#00cc96",
          "symbol": "circle"
         },
         "mode": "markers",
         "name": "news",
         "orientation": "v",
         "showlegend": true,
         "type": "scatter",
         "x": [
          0.10913080088481,
          0.07380946645970048,
          0.1038216948087071,
          0.2978017724244566,
          0.16378969135092045,
          0.15397631087583774,
          0.2819135399727516,
          0.1266036313860023,
          0.08223262274679516,
          0.13087204249617837,
          0.000683628193839135,
          0,
          0,
          0.01829177169347746,
          0,
          0,
          0,
          0,
          0.06085207678282412,
          0.09891133683750518,
          0.07804901329572492,
          0.02326723373639799,
          0.008022222638405059,
          0.06662853076092926,
          0.09301846431220077,
          0,
          0.06340037373930985,
          0,
          0,
          0,
          0.030691409673456016,
          0.038951669922280066,
          0.08232858974156052,
          0.2679122380062019,
          0.06679874431562197,
          0.06969272954571802,
          0.28968649566778487,
          0,
          0,
          0.0661289040112237,
          0.15663372624188346,
          0.2009774914041959,
          0.030484392911228057,
          0.015289701245545033
         ],
         "xaxis": "x",
         "y": [
          0.022375782496549403,
          0.0019179048109233556,
          0.02379335208087589,
          0,
          0.03428394850466776,
          0.034142795100225797,
          0,
          0,
          0.029459557018683993,
          0.06203827918185114,
          0,
          0.0017122163632870735,
          0,
          0,
          0,
          0.006505286386486494,
          0,
          0,
          0.06935494380140816,
          0.05701185773396661,
          0.07497002549296994,
          0.02716296219107291,
          0.004755049788235929,
          0.029348566626795337,
          0.043121377884199855,
          0,
          0.03576014626880438,
          0,
          0.09537509407416936,
          0.0745489899117919,
          0.017939087428766404,
          0.08380655851592562,
          0.07721047963452972,
          0,
          0.004749782049294726,
          0,
          0.0030837976674375762,
          0.012208021917182482,
          0,
          0.07494252683288471,
          0.008166426829249887,
          0.07825187460262972,
          0.004658735173686905,
          0.0009184960969167486
         ],
         "yaxis": "y"
        },
        {
         "hovertemplate": "color=romance<br>0=%{x}<br>1=%{y}<extra></extra>",
         "legendgroup": "romance",
         "marker": {
          "color": "#ab63fa",
          "symbol": "circle"
         },
         "mode": "markers",
         "name": "romance",
         "orientation": "v",
         "showlegend": true,
         "type": "scatter",
         "x": [
          0.008682990815581713,
          0.023150850092403093,
          0,
          0,
          0.02507059598497573,
          0,
          0.04046218336053925,
          0,
          0,
          0,
          0,
          0.014056138277978572,
          0,
          0,
          0,
          0,
          0.02143080391138924,
          0,
          0,
          0,
          0.007962276409368661,
          0.004330365528850644,
          0,
          0,
          0,
          0,
          0.010729255221068646,
          0.0041337166397104295,
          0.023773344194530168
         ],
         "xaxis": "x",
         "y": [
          0.2979252392374287,
          0.34057244579001195,
          0.3214267041173653,
          0.40173925278628536,
          0.25508452054471886,
          0.3710176206500147,
          0.16296050062522432,
          0.37601483996118157,
          0.3598240362305058,
          0.2744075722231188,
          0.25893397370329824,
          0.4097448070437398,
          0.30089936279016627,
          0.4037519662550161,
          0.3114555531870262,
          0.3539451422436558,
          0.2015736934566592,
          0.41433336470654936,
          0.3842941057156487,
          0.395770228796608,
          0.2455055992023462,
          0.32890480350709717,
          0.29184781323214126,
          0.25858031625479544,
          0.27883365540269883,
          0.26771398342913455,
          0.21791501969800947,
          0.283412976657748,
          0.20317990487769091
         ],
         "yaxis": "y"
        },
        {
         "hovertemplate": "color=hobbies<br>0=%{x}<br>1=%{y}<extra></extra>",
         "legendgroup": "hobbies",
         "marker": {
          "color": "#FFA15A",
          "symbol": "circle"
         },
         "mode": "markers",
         "name": "hobbies",
         "orientation": "v",
         "showlegend": true,
         "type": "scatter",
         "x": [
          0.015496101505908471,
          0,
          0.06612236717409448,
          0.010152791101855851,
          0.0010531268828660797,
          0.010261580820112118,
          0,
          0,
          0.002444679916656563,
          0,
          0.00004895195963987276,
          0.04655850026757487,
          0.018482314622218228,
          0,
          0,
          0,
          0,
          0.030313665209150548,
          0.0006521306889348165,
          0,
          0,
          0.07055133799526024,
          0,
          0.021539351113887474,
          0,
          0.028570045681920727,
          0,
          0,
          0.016084082079583697,
          0,
          0.01125480422413732,
          0.0017205774528154785,
          0,
          0,
          0,
          0.0032777777241465677
         ],
         "xaxis": "x",
         "y": [
          0.07560812520264622,
          0.17065831861413674,
          0.009632945077280419,
          0.051911897200393194,
          0.032001108092423826,
          0.028539801652949854,
          0.03572055184787546,
          0.012841154682499736,
          0.08143662379225175,
          0.01315980729005218,
          0.09476323626826322,
          0.04801558909498512,
          0.13672444532865036,
          0.1211730828230858,
          0.047696478070494444,
          0.060193997241271405,
          0.0536367867369586,
          0.04243206544381584,
          0.07735759922683523,
          0.09646742163632212,
          0.03479544935597165,
          0.07232680006736816,
          0.11055645736099988,
          0.12340917826362385,
          0.041143947266352766,
          0.0381867354746694,
          0.011340557864400278,
          0,
          0.014440223983644524,
          0.027684464972307955,
          0.015178275828814274,
          0.008712077274272154,
          0.05993263388504522,
          0.018748518136515988,
          0.0559438583923004,
          0.0547832879197743
         ],
         "yaxis": "y"
        }
       ],
       "layout": {
        "legend": {
         "title": {
          "text": "color"
         },
         "tracegroupgap": 0
        },
        "margin": {
         "t": 60
        },
        "template": {
         "data": {
          "bar": [
           {
            "error_x": {
             "color": "#2a3f5f"
            },
            "error_y": {
             "color": "#2a3f5f"
            },
            "marker": {
             "line": {
              "color": "#E5ECF6",
              "width": 0.5
             },
             "pattern": {
              "fillmode": "overlay",
              "size": 10,
              "solidity": 0.2
             }
            },
            "type": "bar"
           }
          ],
          "barpolar": [
           {
            "marker": {
             "line": {
              "color": "#E5ECF6",
              "width": 0.5
             },
             "pattern": {
              "fillmode": "overlay",
              "size": 10,
              "solidity": 0.2
             }
            },
            "type": "barpolar"
           }
          ],
          "carpet": [
           {
            "aaxis": {
             "endlinecolor": "#2a3f5f",
             "gridcolor": "white",
             "linecolor": "white",
             "minorgridcolor": "white",
             "startlinecolor": "#2a3f5f"
            },
            "baxis": {
             "endlinecolor": "#2a3f5f",
             "gridcolor": "white",
             "linecolor": "white",
             "minorgridcolor": "white",
             "startlinecolor": "#2a3f5f"
            },
            "type": "carpet"
           }
          ],
          "choropleth": [
           {
            "colorbar": {
             "outlinewidth": 0,
             "ticks": ""
            },
            "type": "choropleth"
           }
          ],
          "contour": [
           {
            "colorbar": {
             "outlinewidth": 0,
             "ticks": ""
            },
            "colorscale": [
             [
              0,
              "#0d0887"
             ],
             [
              0.1111111111111111,
              "#46039f"
             ],
             [
              0.2222222222222222,
              "#7201a8"
             ],
             [
              0.3333333333333333,
              "#9c179e"
             ],
             [
              0.4444444444444444,
              "#bd3786"
             ],
             [
              0.5555555555555556,
              "#d8576b"
             ],
             [
              0.6666666666666666,
              "#ed7953"
             ],
             [
              0.7777777777777778,
              "#fb9f3a"
             ],
             [
              0.8888888888888888,
              "#fdca26"
             ],
             [
              1,
              "#f0f921"
             ]
            ],
            "type": "contour"
           }
          ],
          "contourcarpet": [
           {
            "colorbar": {
             "outlinewidth": 0,
             "ticks": ""
            },
            "type": "contourcarpet"
           }
          ],
          "heatmap": [
           {
            "colorbar": {
             "outlinewidth": 0,
             "ticks": ""
            },
            "colorscale": [
             [
              0,
              "#0d0887"
             ],
             [
              0.1111111111111111,
              "#46039f"
             ],
             [
              0.2222222222222222,
              "#7201a8"
             ],
             [
              0.3333333333333333,
              "#9c179e"
             ],
             [
              0.4444444444444444,
              "#bd3786"
             ],
             [
              0.5555555555555556,
              "#d8576b"
             ],
             [
              0.6666666666666666,
              "#ed7953"
             ],
             [
              0.7777777777777778,
              "#fb9f3a"
             ],
             [
              0.8888888888888888,
              "#fdca26"
             ],
             [
              1,
              "#f0f921"
             ]
            ],
            "type": "heatmap"
           }
          ],
          "heatmapgl": [
           {
            "colorbar": {
             "outlinewidth": 0,
             "ticks": ""
            },
            "colorscale": [
             [
              0,
              "#0d0887"
             ],
             [
              0.1111111111111111,
              "#46039f"
             ],
             [
              0.2222222222222222,
              "#7201a8"
             ],
             [
              0.3333333333333333,
              "#9c179e"
             ],
             [
              0.4444444444444444,
              "#bd3786"
             ],
             [
              0.5555555555555556,
              "#d8576b"
             ],
             [
              0.6666666666666666,
              "#ed7953"
             ],
             [
              0.7777777777777778,
              "#fb9f3a"
             ],
             [
              0.8888888888888888,
              "#fdca26"
             ],
             [
              1,
              "#f0f921"
             ]
            ],
            "type": "heatmapgl"
           }
          ],
          "histogram": [
           {
            "marker": {
             "pattern": {
              "fillmode": "overlay",
              "size": 10,
              "solidity": 0.2
             }
            },
            "type": "histogram"
           }
          ],
          "histogram2d": [
           {
            "colorbar": {
             "outlinewidth": 0,
             "ticks": ""
            },
            "colorscale": [
             [
              0,
              "#0d0887"
             ],
             [
              0.1111111111111111,
              "#46039f"
             ],
             [
              0.2222222222222222,
              "#7201a8"
             ],
             [
              0.3333333333333333,
              "#9c179e"
             ],
             [
              0.4444444444444444,
              "#bd3786"
             ],
             [
              0.5555555555555556,
              "#d8576b"
             ],
             [
              0.6666666666666666,
              "#ed7953"
             ],
             [
              0.7777777777777778,
              "#fb9f3a"
             ],
             [
              0.8888888888888888,
              "#fdca26"
             ],
             [
              1,
              "#f0f921"
             ]
            ],
            "type": "histogram2d"
           }
          ],
          "histogram2dcontour": [
           {
            "colorbar": {
             "outlinewidth": 0,
             "ticks": ""
            },
            "colorscale": [
             [
              0,
              "#0d0887"
             ],
             [
              0.1111111111111111,
              "#46039f"
             ],
             [
              0.2222222222222222,
              "#7201a8"
             ],
             [
              0.3333333333333333,
              "#9c179e"
             ],
             [
              0.4444444444444444,
              "#bd3786"
             ],
             [
              0.5555555555555556,
              "#d8576b"
             ],
             [
              0.6666666666666666,
              "#ed7953"
             ],
             [
              0.7777777777777778,
              "#fb9f3a"
             ],
             [
              0.8888888888888888,
              "#fdca26"
             ],
             [
              1,
              "#f0f921"
             ]
            ],
            "type": "histogram2dcontour"
           }
          ],
          "mesh3d": [
           {
            "colorbar": {
             "outlinewidth": 0,
             "ticks": ""
            },
            "type": "mesh3d"
           }
          ],
          "parcoords": [
           {
            "line": {
             "colorbar": {
              "outlinewidth": 0,
              "ticks": ""
             }
            },
            "type": "parcoords"
           }
          ],
          "pie": [
           {
            "automargin": true,
            "type": "pie"
           }
          ],
          "scatter": [
           {
            "fillpattern": {
             "fillmode": "overlay",
             "size": 10,
             "solidity": 0.2
            },
            "type": "scatter"
           }
          ],
          "scatter3d": [
           {
            "line": {
             "colorbar": {
              "outlinewidth": 0,
              "ticks": ""
             }
            },
            "marker": {
             "colorbar": {
              "outlinewidth": 0,
              "ticks": ""
             }
            },
            "type": "scatter3d"
           }
          ],
          "scattercarpet": [
           {
            "marker": {
             "colorbar": {
              "outlinewidth": 0,
              "ticks": ""
             }
            },
            "type": "scattercarpet"
           }
          ],
          "scattergeo": [
           {
            "marker": {
             "colorbar": {
              "outlinewidth": 0,
              "ticks": ""
             }
            },
            "type": "scattergeo"
           }
          ],
          "scattergl": [
           {
            "marker": {
             "colorbar": {
              "outlinewidth": 0,
              "ticks": ""
             }
            },
            "type": "scattergl"
           }
          ],
          "scattermapbox": [
           {
            "marker": {
             "colorbar": {
              "outlinewidth": 0,
              "ticks": ""
             }
            },
            "type": "scattermapbox"
           }
          ],
          "scatterpolar": [
           {
            "marker": {
             "colorbar": {
              "outlinewidth": 0,
              "ticks": ""
             }
            },
            "type": "scatterpolar"
           }
          ],
          "scatterpolargl": [
           {
            "marker": {
             "colorbar": {
              "outlinewidth": 0,
              "ticks": ""
             }
            },
            "type": "scatterpolargl"
           }
          ],
          "scatterternary": [
           {
            "marker": {
             "colorbar": {
              "outlinewidth": 0,
              "ticks": ""
             }
            },
            "type": "scatterternary"
           }
          ],
          "surface": [
           {
            "colorbar": {
             "outlinewidth": 0,
             "ticks": ""
            },
            "colorscale": [
             [
              0,
              "#0d0887"
             ],
             [
              0.1111111111111111,
              "#46039f"
             ],
             [
              0.2222222222222222,
              "#7201a8"
             ],
             [
              0.3333333333333333,
              "#9c179e"
             ],
             [
              0.4444444444444444,
              "#bd3786"
             ],
             [
              0.5555555555555556,
              "#d8576b"
             ],
             [
              0.6666666666666666,
              "#ed7953"
             ],
             [
              0.7777777777777778,
              "#fb9f3a"
             ],
             [
              0.8888888888888888,
              "#fdca26"
             ],
             [
              1,
              "#f0f921"
             ]
            ],
            "type": "surface"
           }
          ],
          "table": [
           {
            "cells": {
             "fill": {
              "color": "#EBF0F8"
             },
             "line": {
              "color": "white"
             }
            },
            "header": {
             "fill": {
              "color": "#C8D4E3"
             },
             "line": {
              "color": "white"
             }
            },
            "type": "table"
           }
          ]
         },
         "layout": {
          "annotationdefaults": {
           "arrowcolor": "#2a3f5f",
           "arrowhead": 0,
           "arrowwidth": 1
          },
          "autotypenumbers": "strict",
          "coloraxis": {
           "colorbar": {
            "outlinewidth": 0,
            "ticks": ""
           }
          },
          "colorscale": {
           "diverging": [
            [
             0,
             "#8e0152"
            ],
            [
             0.1,
             "#c51b7d"
            ],
            [
             0.2,
             "#de77ae"
            ],
            [
             0.3,
             "#f1b6da"
            ],
            [
             0.4,
             "#fde0ef"
            ],
            [
             0.5,
             "#f7f7f7"
            ],
            [
             0.6,
             "#e6f5d0"
            ],
            [
             0.7,
             "#b8e186"
            ],
            [
             0.8,
             "#7fbc41"
            ],
            [
             0.9,
             "#4d9221"
            ],
            [
             1,
             "#276419"
            ]
           ],
           "sequential": [
            [
             0,
             "#0d0887"
            ],
            [
             0.1111111111111111,
             "#46039f"
            ],
            [
             0.2222222222222222,
             "#7201a8"
            ],
            [
             0.3333333333333333,
             "#9c179e"
            ],
            [
             0.4444444444444444,
             "#bd3786"
            ],
            [
             0.5555555555555556,
             "#d8576b"
            ],
            [
             0.6666666666666666,
             "#ed7953"
            ],
            [
             0.7777777777777778,
             "#fb9f3a"
            ],
            [
             0.8888888888888888,
             "#fdca26"
            ],
            [
             1,
             "#f0f921"
            ]
           ],
           "sequentialminus": [
            [
             0,
             "#0d0887"
            ],
            [
             0.1111111111111111,
             "#46039f"
            ],
            [
             0.2222222222222222,
             "#7201a8"
            ],
            [
             0.3333333333333333,
             "#9c179e"
            ],
            [
             0.4444444444444444,
             "#bd3786"
            ],
            [
             0.5555555555555556,
             "#d8576b"
            ],
            [
             0.6666666666666666,
             "#ed7953"
            ],
            [
             0.7777777777777778,
             "#fb9f3a"
            ],
            [
             0.8888888888888888,
             "#fdca26"
            ],
            [
             1,
             "#f0f921"
            ]
           ]
          },
          "colorway": [
           "#636efa",
           "#EF553B",
           "#00cc96",
           "#ab63fa",
           "#FFA15A",
           "#19d3f3",
           "#FF6692",
           "#B6E880",
           "#FF97FF",
           "#FECB52"
          ],
          "font": {
           "color": "#2a3f5f"
          },
          "geo": {
           "bgcolor": "white",
           "lakecolor": "white",
           "landcolor": "#E5ECF6",
           "showlakes": true,
           "showland": true,
           "subunitcolor": "white"
          },
          "hoverlabel": {
           "align": "left"
          },
          "hovermode": "closest",
          "mapbox": {
           "style": "light"
          },
          "paper_bgcolor": "white",
          "plot_bgcolor": "#E5ECF6",
          "polar": {
           "angularaxis": {
            "gridcolor": "white",
            "linecolor": "white",
            "ticks": ""
           },
           "bgcolor": "#E5ECF6",
           "radialaxis": {
            "gridcolor": "white",
            "linecolor": "white",
            "ticks": ""
           }
          },
          "scene": {
           "xaxis": {
            "backgroundcolor": "#E5ECF6",
            "gridcolor": "white",
            "gridwidth": 2,
            "linecolor": "white",
            "showbackground": true,
            "ticks": "",
            "zerolinecolor": "white"
           },
           "yaxis": {
            "backgroundcolor": "#E5ECF6",
            "gridcolor": "white",
            "gridwidth": 2,
            "linecolor": "white",
            "showbackground": true,
            "ticks": "",
            "zerolinecolor": "white"
           },
           "zaxis": {
            "backgroundcolor": "#E5ECF6",
            "gridcolor": "white",
            "gridwidth": 2,
            "linecolor": "white",
            "showbackground": true,
            "ticks": "",
            "zerolinecolor": "white"
           }
          },
          "shapedefaults": {
           "line": {
            "color": "#2a3f5f"
           }
          },
          "ternary": {
           "aaxis": {
            "gridcolor": "white",
            "linecolor": "white",
            "ticks": ""
           },
           "baxis": {
            "gridcolor": "white",
            "linecolor": "white",
            "ticks": ""
           },
           "bgcolor": "#E5ECF6",
           "caxis": {
            "gridcolor": "white",
            "linecolor": "white",
            "ticks": ""
           }
          },
          "title": {
           "x": 0.05
          },
          "xaxis": {
           "automargin": true,
           "gridcolor": "white",
           "linecolor": "white",
           "ticks": "",
           "title": {
            "standoff": 15
           },
           "zerolinecolor": "white",
           "zerolinewidth": 2
          },
          "yaxis": {
           "automargin": true,
           "gridcolor": "white",
           "linecolor": "white",
           "ticks": "",
           "title": {
            "standoff": 15
           },
           "zerolinecolor": "white",
           "zerolinewidth": 2
          }
         }
        },
        "xaxis": {
         "anchor": "y",
         "domain": [
          0,
          1
         ],
         "title": {
          "text": "0"
         }
        },
        "yaxis": {
         "anchor": "x",
         "domain": [
          0,
          1
         ],
         "title": {
          "text": "1"
         }
        }
       }
      }
     },
     "metadata": {},
     "output_type": "display_data"
    }
   ],
   "source": [
    "# Plot PCA of Predictions\n",
    "fig = px.scatter(W_nmf_text_matrix, x=0, y=1, color=df[\"category\"])\n",
    "fig.show()"
   ]
  },
  {
   "cell_type": "code",
   "execution_count": null,
   "id": "a67185e7",
   "metadata": {},
   "outputs": [
    {
     "name": "stdout",
     "output_type": "stream",
     "text": [
      "\n",
      "Topic 00\n",
      "  mr (0.51)\n",
      "  president (0.45)\n",
      "  kennedy (0.43)\n",
      "  united (0.42)\n",
      "  khrushchev (0.40)\n",
      "\n",
      "Topic 01\n",
      "  said (0.88)\n",
      "  didn (0.46)\n",
      "  ll (0.45)\n",
      "  thought (0.42)\n",
      "  man (0.37)\n",
      "\n",
      "Topic 02\n",
      "  state (0.39)\n",
      "  development (0.36)\n",
      "  tax (0.33)\n",
      "  sales (0.30)\n",
      "  program (0.25)\n",
      "\n",
      "Topic 03\n",
      "  mrs (2.61)\n",
      "  mr (0.78)\n",
      "  said (0.63)\n",
      "  miss (0.52)\n",
      "  car (0.51)\n",
      "\n",
      "Topic 04\n",
      "  game (1.02)\n",
      "  league (0.74)\n",
      "  ball (0.72)\n",
      "  baseball (0.71)\n",
      "  team (0.66)\n"
     ]
    }
   ],
   "source": [
    "display_topics(nmf_text_model, tfidf_text_vectorizer.get_feature_names_out(), no_top_words=5)"
   ]
  },
  {
   "cell_type": "markdown",
   "id": "fee51e9b",
   "metadata": {},
   "source": [
    "Now some work for you to do. Compare the NMF factorization to the original categories from the Brown Corpus.\n",
    "\n",
    "We are interested in the extent to which our NMF factorization agrees or disagrees with the original categories in the corpus. For each topic in your NMF model, tally the Brown categories and interpret the results. \n"
   ]
  },
  {
   "cell_type": "code",
   "execution_count": 33,
   "id": "7c8c8eb0",
   "metadata": {},
   "outputs": [
    {
     "data": {
      "text/plain": [
       "<AxesSubplot: xlabel='Predicted Label: Model Topics', ylabel='True Label: Original Brown Topics'>"
      ]
     },
     "execution_count": 33,
     "metadata": {},
     "output_type": "execute_result"
    },
    {
     "data": {
      "image/png": "[encoded data removed]",
      "text/plain": [
       "<Figure size 640x480 with 2 Axes>"
      ]
     },
     "metadata": {},
     "output_type": "display_data"
    }
   ],
   "source": [
    "# Your code here\n",
    "df_new = df.copy()\n",
    "\n",
    "# Get the top predicted topic\n",
    "predicted_topics = [np.argsort(each)[::-1][0] for each in W_nmf_text_matrix]\n",
    "\n",
    "# Add to the df\n",
    "df_new['nmf_pred_topic_num'] = predicted_topics\n",
    "\n",
    "# Create Crosstab\n",
    "acc_crosstab = pd.crosstab(df_new[\"category\"], df_new[\"nmf_pred_topic_num\"], dropna=False)\n",
    "\n",
    "# Custom Color Palette\n",
    "hot_palette =  sns.color_palette(\"light:r\", as_cmap=True)\n",
    "\n",
    "# Plot Heatmap of Aggreement.\n",
    "ax = sns.heatmap(acc_crosstab,cmap=hot_palette,linewidths=1,annot=True)\n",
    "ax.set(xlabel=\"Predicted Label: Model Topics\", ylabel=\"True Label: Original Brown Topics\")\n",
    "ax"
   ]
  },
  {
   "attachments": {},
   "cell_type": "markdown",
   "id": "f8d4e2bc",
   "metadata": {},
   "source": [
    "Q: How does your five-topic NMF model compare to the original Brown categories? \n",
    "\n",
    "A: Looking at the NMF model compared to the original Brown categories, it appears that our model does a good job predicting the Romance and Editorial categories. Our model seems to have a hard time differentiating between hobbies and government categories and struggles reliably predicting the news category."
   ]
  },
  {
   "cell_type": "markdown",
   "id": "82e37cb5",
   "metadata": {},
   "source": [
    "## Fitting an LSA Model\n",
    "\n",
    "In this section, follow the example from the repository and fit an LSA model (called a \"TruncatedSVD\" in `sklearn`). Again fit a five-topic model and compare it to the actual categories in the Brown corpus. Use the TF-IDF vectors for your fit, as above. \n",
    "\n",
    "To be explicit, we are once again interested in the extent to which this LSA factorization agrees or disagrees with the original categories in the corpus. For each topic in your model, tally the Brown categories and interpret the results. \n"
   ]
  },
  {
   "cell_type": "code",
   "execution_count": 34,
   "id": "00b53d3d",
   "metadata": {},
   "outputs": [],
   "source": [
    "# Your code here\n",
    "lsa_text_model = TruncatedSVD(n_components=5, n_iter=7, random_state=42)\n",
    "W_lsa_text_matrix = lsa_text_model.fit_transform(tfidf_text_vectors)\n",
    "H_lsa_text_matrix = lsa_text_model.components_\n"
   ]
  },
  {
   "cell_type": "code",
   "execution_count": 35,
   "id": "adcdc672",
   "metadata": {},
   "outputs": [
    {
     "name": "stderr",
     "output_type": "stream",
     "text": [
      "C:\\Users\\zfreitas\\AppData\\Local\\Packages\\PythonSoftwareFoundation.Python.3.11_qbz5n2kfra8p0\\LocalCache\\local-packages\\Python311\\site-packages\\plotly\\io\\_renderers.py:395: DeprecationWarning:\n",
      "\n",
      "distutils Version classes are deprecated. Use packaging.version instead.\n",
      "\n",
      "C:\\Users\\zfreitas\\AppData\\Local\\Packages\\PythonSoftwareFoundation.Python.3.11_qbz5n2kfra8p0\\LocalCache\\local-packages\\Python311\\site-packages\\plotly\\io\\_renderers.py:395: DeprecationWarning:\n",
      "\n",
      "distutils Version classes are deprecated. Use packaging.version instead.\n",
      "\n"
     ]
    },
    {
     "data": {
      "application/vnd.plotly.v1+json": {
       "config": {
        "plotlyServerURL": "https://plot.ly"
       },
       "data": [
        {
         "hovertemplate": "color=editorial<br>0=%{x}<br>1=%{y}<extra></extra>",
         "legendgroup": "editorial",
         "marker": {
          "color": "#636efa",
          "symbol": "circle"
         },
         "mode": "markers",
         "name": "editorial",
         "orientation": "v",
         "showlegend": true,
         "type": "scatter",
         "x": [
          0.38957124814640554,
          0.3630900541453518,
          0.37760733398238366,
          0.3792416559352597,
          0.35952030242503863,
          0.34300291169721703,
          0.3553605167896193,
          0.36196965594107544,
          0.32597879787347833,
          0.33662545241476516,
          0.36877308202713677,
          0.28965157070123065,
          0.2879216813266595,
          0.3566451700245103,
          0.3275620279882822,
          0.3229326887002156,
          0.34293334504899237,
          0.3418019229468363,
          0.3090040656818902,
          0.33043974412841687,
          0.2730329812844611,
          0.2852600658634127,
          0.3024502323921136,
          0.2610538665567546,
          0.2819169999803492,
          0.32134501655849756,
          0.2957940727973787
         ],
         "xaxis": "x",
         "y": [
          -0.24968185679574592,
          -0.2372561930317531,
          -0.13792991408554117,
          -0.2316050171931487,
          -0.21162397958403026,
          -0.23056266029868594,
          -0.24162842952072935,
          0.20414769239084316,
          0.05913403986151532,
          0.16722454139575807,
          -0.1919477826245876,
          -0.02496594372837934,
          0.06295646447668744,
          -0.07325842638267069,
          -0.16870345897479125,
          -0.140459990742271,
          -0.1255404311402666,
          -0.20774381671625092,
          -0.08042766933432684,
          -0.13476808168642715,
          -0.15084700245149887,
          -0.14459292407007085,
          -0.11928800094565369,
          0.07984177035924396,
          -0.1287827550597504,
          -0.13838088802140855,
          -0.056221440621939074
         ],
         "yaxis": "y"
        },
        {
         "hovertemplate": "color=government<br>0=%{x}<br>1=%{y}<extra></extra>",
         "legendgroup": "government",
         "marker": {
          "color": "#EF553B",
          "symbol": "circle"
         },
         "mode": "markers",
         "name": "government",
         "orientation": "v",
         "showlegend": true,
         "type": "scatter",
         "x": [
          0.21342206258486457,
          0.23049702529512697,
          0.22567487977750444,
          0.19161356030994034,
          0.1683598837468237,
          0.2629912163776335,
          0.16001640017182414,
          0.24215245394828105,
          0.24841621234767516,
          0.18553725485035383,
          0.18188063577655708,
          0.15372975242826636,
          0.29416655109042295,
          0.1834358358243608,
          0.12704338203585133,
          0.14201997422316648,
          0.18754186519440014,
          0.28296267814359843,
          0.2254537843812983,
          0.18914150376912128,
          0.25355810107846527,
          0.18029120079211047,
          0.11732907018599206,
          0.16110911456225485,
          0.24314221033665875,
          0.19510580689889842,
          0.2509178492707502,
          0.21338674262842777,
          0.24991087329151826,
          0.2276943928967792
         ],
         "xaxis": "x",
         "y": [
          -0.20284232917001138,
          -0.21410880199419155,
          -0.07106760612255789,
          -0.18386118553987568,
          -0.15888811936654523,
          -0.27351494283100314,
          -0.16139467401223767,
          -0.1339167540513662,
          -0.2779792575013476,
          -0.18269439731204776,
          -0.11566350003451534,
          -0.18363800368326824,
          -0.18592755333230235,
          -0.2239819672683955,
          -0.0320858887278508,
          -0.1217873979637854,
          -0.1281745959066503,
          -0.1624394041549786,
          -0.1751599145329772,
          -0.16476591856492104,
          -0.25957240718225427,
          -0.24225300688967263,
          -0.07850617593070516,
          -0.13940248111663284,
          -0.09281388293605353,
          -0.05618218218667672,
          -0.23422272733107122,
          -0.09157510342296372,
          -0.2015042799081599,
          -0.16512998834040685
         ],
         "yaxis": "y"
        },
        {
         "hovertemplate": "color=news<br>0=%{x}<br>1=%{y}<extra></extra>",
         "legendgroup": "news",
         "marker": {
          "color": "#00cc96",
          "symbol": "circle"
         },
         "mode": "markers",
         "name": "news",
         "orientation": "v",
         "showlegend": true,
         "type": "scatter",
         "x": [
          0.33343908591467447,
          0.32919015281573144,
          0.3349463401533114,
          0.3340229334861739,
          0.40757395122820295,
          0.3467130611260962,
          0.40151155759233925,
          0.2953786379339461,
          0.3410740390438511,
          0.42802375654308256,
          0.30505574301897603,
          0.2664924002515171,
          0.2972150585461126,
          0.29714927884971987,
          0.3196531050623899,
          0.3606026232385408,
          0.3131265175080453,
          0.25564859159462633,
          0.40864519518022524,
          0.3702626080778858,
          0.4228022295372697,
          0.36011986248207345,
          0.4011030414444933,
          0.39079334362394613,
          0.38193065184166697,
          0.24575782927654052,
          0.3337491693072696,
          0.24881624623885146,
          0.3112473915563068,
          0.368001863461537,
          0.33542572231518386,
          0.3027236467710722,
          0.37134130682620375,
          0.2758099148324162,
          0.22579868574976317,
          0.2060566968815475,
          0.3470279729216715,
          0.16088902672475244,
          0.26298523663713824,
          0.3591210381001518,
          0.24166569825034254,
          0.3652462182629304,
          0.21977853449128798,
          0.2473813321776486
         ],
         "xaxis": "x",
         "y": [
          -0.11652512604319407,
          -0.1329045130534421,
          -0.15635299784997886,
          -0.2883540208265289,
          -0.13066624016014533,
          -0.12306194863166606,
          -0.25502225705457254,
          -0.20184752433887931,
          -0.0871136853032865,
          -0.07996872413941351,
          0.090372305941296,
          0.10943275043605734,
          0.1689491214277882,
          0.06476625973546057,
          0.13953682578847448,
          0.09989264404408767,
          0.10023761214599783,
          0.09267279508681736,
          -0.033940282655668536,
          -0.05350907179303499,
          0.04106775812852326,
          -0.008269186978646963,
          -0.044248625271140124,
          -0.07261873335208123,
          -0.09043950378084256,
          -0.12806783390366674,
          -0.14784629746246983,
          -0.20082379362473368,
          0.08262994901342688,
          0.11097245801750309,
          -0.0021673218666991047,
          0.06150341819113905,
          0.03144065921989826,
          -0.17799894492253981,
          -0.12414437907860079,
          -0.13915538632286756,
          -0.176829296022342,
          0.09957976289258018,
          0.12713928146339762,
          0.008677661390811556,
          -0.14110788528395712,
          -0.05964363257294679,
          -0.14838818369715828,
          -0.15414138699588995
         ],
         "yaxis": "y"
        },
        {
         "hovertemplate": "color=romance<br>0=%{x}<br>1=%{y}<extra></extra>",
         "legendgroup": "romance",
         "marker": {
          "color": "#ab63fa",
          "symbol": "circle"
         },
         "mode": "markers",
         "name": "romance",
         "orientation": "v",
         "showlegend": true,
         "type": "scatter",
         "x": [
          0.30053337181745415,
          0.36752239410454984,
          0.3555902464265092,
          0.4032780546771252,
          0.31525460010005696,
          0.3975005478352214,
          0.2130448601443125,
          0.3625549499220375,
          0.3470211498262262,
          0.34348852956989556,
          0.36910279119597017,
          0.40112307556122095,
          0.2800120177921049,
          0.37123043883617146,
          0.2860602858295131,
          0.3279601622852227,
          0.29314310195612975,
          0.4093868094632762,
          0.35348539678842905,
          0.34525536761727454,
          0.2659344646424208,
          0.3243842761187991,
          0.30836716723705015,
          0.3257189766350221,
          0.31166078636052097,
          0.23425022433879317,
          0.30241207670887155,
          0.27551421928009834,
          0.3683845801054304
         ],
         "xaxis": "x",
         "y": [
          0.2516016579781001,
          0.2777451313878175,
          0.3243030924178947,
          0.36039380170906493,
          0.1857140487432224,
          0.36613224417953205,
          0.10828102439987047,
          0.33824172032077643,
          0.3236886816663188,
          0.24234954456109348,
          0.3075961213247563,
          0.37158157496675087,
          0.2791651356474664,
          0.37889392021919016,
          0.3037627252020756,
          0.3531227791908666,
          0.17420318387574646,
          0.4017892202310412,
          0.3793914803420502,
          0.37931183340836694,
          0.20878883781028404,
          0.29257681363894184,
          0.3154052410974358,
          0.3594763375081562,
          0.24676758212367664,
          0.2543746413144309,
          0.20206277327181965,
          0.2521501901622519,
          0.10973715148274553
         ],
         "yaxis": "y"
        },
        {
         "hovertemplate": "color=hobbies<br>0=%{x}<br>1=%{y}<extra></extra>",
         "legendgroup": "hobbies",
         "marker": {
          "color": "#FFA15A",
          "symbol": "circle"
         },
         "mode": "markers",
         "name": "hobbies",
         "orientation": "v",
         "showlegend": true,
         "type": "scatter",
         "x": [
          0.17802909967804748,
          0.2599390876061322,
          0.15761366221852077,
          0.2040139505148666,
          0.19520751183324395,
          0.22807555883959693,
          0.12096894687897246,
          0.12171570641010598,
          0.1777732067300038,
          0.1973604910574546,
          0.18309359940047762,
          0.2624774420538316,
          0.25846284179893564,
          0.19816878803973415,
          0.11229620405714162,
          0.15647471665305104,
          0.2029344110885781,
          0.1841981299684443,
          0.14911961761125722,
          0.20341251250254974,
          0.18287304332628135,
          0.2326511138915377,
          0.24171778306009833,
          0.2620700076374959,
          0.1965196215524424,
          0.2155824338735804,
          0.0771948151016588,
          0.18915611421858358,
          0.1794719009019686,
          0.2156595036952458,
          0.26598642248808346,
          0.1930587976825253,
          0.29439978480337314,
          0.1650451121952254,
          0.20950060076604204,
          0.2225480497299054
         ],
         "xaxis": "x",
         "y": [
          0.03480677446610525,
          0.09737075416587974,
          -0.09484429334963633,
          0.002265714296225618,
          0.027825440892675492,
          -0.11614292677218788,
          0.0021325149264697107,
          -0.04074033980674222,
          0.0739456227607975,
          -0.011517101162998493,
          0.09006664998084184,
          -0.040073676447985984,
          0.10054285627858738,
          0.08682481428052859,
          0.02070712718812329,
          0.022901029391453668,
          -0.011975128787662244,
          -0.03413133900599148,
          0.02687865232761855,
          0.026743944507084363,
          -0.06808135484859575,
          -0.010940596905071362,
          0.03677402468958719,
          0.06688750547629393,
          -0.0650538910797308,
          -0.05429492570743769,
          -0.029741538971643968,
          -0.13808212060730937,
          -0.08061701620891042,
          -0.09506579047699784,
          -0.10157040090026098,
          -0.1214964795759084,
          -0.10567064346029786,
          -0.05968269522299807,
          -0.027705022121138925,
          -0.026774342026425643
         ],
         "yaxis": "y"
        }
       ],
       "layout": {
        "legend": {
         "title": {
          "text": "color"
         },
         "tracegroupgap": 0
        },
        "margin": {
         "t": 60
        },
        "template": {
         "data": {
          "bar": [
           {
            "error_x": {
             "color": "#2a3f5f"
            },
            "error_y": {
             "color": "#2a3f5f"
            },
            "marker": {
             "line": {
              "color": "#E5ECF6",
              "width": 0.5
             },
             "pattern": {
              "fillmode": "overlay",
              "size": 10,
              "solidity": 0.2
             }
            },
            "type": "bar"
           }
          ],
          "barpolar": [
           {
            "marker": {
             "line": {
              "color": "#E5ECF6",
              "width": 0.5
             },
             "pattern": {
              "fillmode": "overlay",
              "size": 10,
              "solidity": 0.2
             }
            },
            "type": "barpolar"
           }
          ],
          "carpet": [
           {
            "aaxis": {
             "endlinecolor": "#2a3f5f",
             "gridcolor": "white",
             "linecolor": "white",
             "minorgridcolor": "white",
             "startlinecolor": "#2a3f5f"
            },
            "baxis": {
             "endlinecolor": "#2a3f5f",
             "gridcolor": "white",
             "linecolor": "white",
             "minorgridcolor": "white",
             "startlinecolor": "#2a3f5f"
            },
            "type": "carpet"
           }
          ],
          "choropleth": [
           {
            "colorbar": {
             "outlinewidth": 0,
             "ticks": ""
            },
            "type": "choropleth"
           }
          ],
          "contour": [
           {
            "colorbar": {
             "outlinewidth": 0,
             "ticks": ""
            },
            "colorscale": [
             [
              0,
              "#0d0887"
             ],
             [
              0.1111111111111111,
              "#46039f"
             ],
             [
              0.2222222222222222,
              "#7201a8"
             ],
             [
              0.3333333333333333,
              "#9c179e"
             ],
             [
              0.4444444444444444,
              "#bd3786"
             ],
             [
              0.5555555555555556,
              "#d8576b"
             ],
             [
              0.6666666666666666,
              "#ed7953"
             ],
             [
              0.7777777777777778,
              "#fb9f3a"
             ],
             [
              0.8888888888888888,
              "#fdca26"
             ],
             [
              1,
              "#f0f921"
             ]
            ],
            "type": "contour"
           }
          ],
          "contourcarpet": [
           {
            "colorbar": {
             "outlinewidth": 0,
             "ticks": ""
            },
            "type": "contourcarpet"
           }
          ],
          "heatmap": [
           {
            "colorbar": {
             "outlinewidth": 0,
             "ticks": ""
            },
            "colorscale": [
             [
              0,
              "#0d0887"
             ],
             [
              0.1111111111111111,
              "#46039f"
             ],
             [
              0.2222222222222222,
              "#7201a8"
             ],
             [
              0.3333333333333333,
              "#9c179e"
             ],
             [
              0.4444444444444444,
              "#bd3786"
             ],
             [
              0.5555555555555556,
              "#d8576b"
             ],
             [
              0.6666666666666666,
              "#ed7953"
             ],
             [
              0.7777777777777778,
              "#fb9f3a"
             ],
             [
              0.8888888888888888,
              "#fdca26"
             ],
             [
              1,
              "#f0f921"
             ]
            ],
            "type": "heatmap"
           }
          ],
          "heatmapgl": [
           {
            "colorbar": {
             "outlinewidth": 0,
             "ticks": ""
            },
            "colorscale": [
             [
              0,
              "#0d0887"
             ],
             [
              0.1111111111111111,
              "#46039f"
             ],
             [
              0.2222222222222222,
              "#7201a8"
             ],
             [
              0.3333333333333333,
              "#9c179e"
             ],
             [
              0.4444444444444444,
              "#bd3786"
             ],
             [
              0.5555555555555556,
              "#d8576b"
             ],
             [
              0.6666666666666666,
              "#ed7953"
             ],
             [
              0.7777777777777778,
              "#fb9f3a"
             ],
             [
              0.8888888888888888,
              "#fdca26"
             ],
             [
              1,
              "#f0f921"
             ]
            ],
            "type": "heatmapgl"
           }
          ],
          "histogram": [
           {
            "marker": {
             "pattern": {
              "fillmode": "overlay",
              "size": 10,
              "solidity": 0.2
             }
            },
            "type": "histogram"
           }
          ],
          "histogram2d": [
           {
            "colorbar": {
             "outlinewidth": 0,
             "ticks": ""
            },
            "colorscale": [
             [
              0,
              "#0d0887"
             ],
             [
              0.1111111111111111,
              "#46039f"
             ],
             [
              0.2222222222222222,
              "#7201a8"
             ],
             [
              0.3333333333333333,
              "#9c179e"
             ],
             [
              0.4444444444444444,
              "#bd3786"
             ],
             [
              0.5555555555555556,
              "#d8576b"
             ],
             [
              0.6666666666666666,
              "#ed7953"
             ],
             [
              0.7777777777777778,
              "#fb9f3a"
             ],
             [
              0.8888888888888888,
              "#fdca26"
             ],
             [
              1,
              "#f0f921"
             ]
            ],
            "type": "histogram2d"
           }
          ],
          "histogram2dcontour": [
           {
            "colorbar": {
             "outlinewidth": 0,
             "ticks": ""
            },
            "colorscale": [
             [
              0,
              "#0d0887"
             ],
             [
              0.1111111111111111,
              "#46039f"
             ],
             [
              0.2222222222222222,
              "#7201a8"
             ],
             [
              0.3333333333333333,
              "#9c179e"
             ],
             [
              0.4444444444444444,
              "#bd3786"
             ],
             [
              0.5555555555555556,
              "#d8576b"
             ],
             [
              0.6666666666666666,
              "#ed7953"
             ],
             [
              0.7777777777777778,
              "#fb9f3a"
             ],
             [
              0.8888888888888888,
              "#fdca26"
             ],
             [
              1,
              "#f0f921"
             ]
            ],
            "type": "histogram2dcontour"
           }
          ],
          "mesh3d": [
           {
            "colorbar": {
             "outlinewidth": 0,
             "ticks": ""
            },
            "type": "mesh3d"
           }
          ],
          "parcoords": [
           {
            "line": {
             "colorbar": {
              "outlinewidth": 0,
              "ticks": ""
             }
            },
            "type": "parcoords"
           }
          ],
          "pie": [
           {
            "automargin": true,
            "type": "pie"
           }
          ],
          "scatter": [
           {
            "fillpattern": {
             "fillmode": "overlay",
             "size": 10,
             "solidity": 0.2
            },
            "type": "scatter"
           }
          ],
          "scatter3d": [
           {
            "line": {
             "colorbar": {
              "outlinewidth": 0,
              "ticks": ""
             }
            },
            "marker": {
             "colorbar": {
              "outlinewidth": 0,
              "ticks": ""
             }
            },
            "type": "scatter3d"
           }
          ],
          "scattercarpet": [
           {
            "marker": {
             "colorbar": {
              "outlinewidth": 0,
              "ticks": ""
             }
            },
            "type": "scattercarpet"
           }
          ],
          "scattergeo": [
           {
            "marker": {
             "colorbar": {
              "outlinewidth": 0,
              "ticks": ""
             }
            },
            "type": "scattergeo"
           }
          ],
          "scattergl": [
           {
            "marker": {
             "colorbar": {
              "outlinewidth": 0,
              "ticks": ""
             }
            },
            "type": "scattergl"
           }
          ],
          "scattermapbox": [
           {
            "marker": {
             "colorbar": {
              "outlinewidth": 0,
              "ticks": ""
             }
            },
            "type": "scattermapbox"
           }
          ],
          "scatterpolar": [
           {
            "marker": {
             "colorbar": {
              "outlinewidth": 0,
              "ticks": ""
             }
            },
            "type": "scatterpolar"
           }
          ],
          "scatterpolargl": [
           {
            "marker": {
             "colorbar": {
              "outlinewidth": 0,
              "ticks": ""
             }
            },
            "type": "scatterpolargl"
           }
          ],
          "scatterternary": [
           {
            "marker": {
             "colorbar": {
              "outlinewidth": 0,
              "ticks": ""
             }
            },
            "type": "scatterternary"
           }
          ],
          "surface": [
           {
            "colorbar": {
             "outlinewidth": 0,
             "ticks": ""
            },
            "colorscale": [
             [
              0,
              "#0d0887"
             ],
             [
              0.1111111111111111,
              "#46039f"
             ],
             [
              0.2222222222222222,
              "#7201a8"
             ],
             [
              0.3333333333333333,
              "#9c179e"
             ],
             [
              0.4444444444444444,
              "#bd3786"
             ],
             [
              0.5555555555555556,
              "#d8576b"
             ],
             [
              0.6666666666666666,
              "#ed7953"
             ],
             [
              0.7777777777777778,
              "#fb9f3a"
             ],
             [
              0.8888888888888888,
              "#fdca26"
             ],
             [
              1,
              "#f0f921"
             ]
            ],
            "type": "surface"
           }
          ],
          "table": [
           {
            "cells": {
             "fill": {
              "color": "#EBF0F8"
             },
             "line": {
              "color": "white"
             }
            },
            "header": {
             "fill": {
              "color": "#C8D4E3"
             },
             "line": {
              "color": "white"
             }
            },
            "type": "table"
           }
          ]
         },
         "layout": {
          "annotationdefaults": {
           "arrowcolor": "#2a3f5f",
           "arrowhead": 0,
           "arrowwidth": 1
          },
          "autotypenumbers": "strict",
          "coloraxis": {
           "colorbar": {
            "outlinewidth": 0,
            "ticks": ""
           }
          },
          "colorscale": {
           "diverging": [
            [
             0,
             "#8e0152"
            ],
            [
             0.1,
             "#c51b7d"
            ],
            [
             0.2,
             "#de77ae"
            ],
            [
             0.3,
             "#f1b6da"
            ],
            [
             0.4,
             "#fde0ef"
            ],
            [
             0.5,
             "#f7f7f7"
            ],
            [
             0.6,
             "#e6f5d0"
            ],
            [
             0.7,
             "#b8e186"
            ],
            [
             0.8,
             "#7fbc41"
            ],
            [
             0.9,
             "#4d9221"
            ],
            [
             1,
             "#276419"
            ]
           ],
           "sequential": [
            [
             0,
             "#0d0887"
            ],
            [
             0.1111111111111111,
             "#46039f"
            ],
            [
             0.2222222222222222,
             "#7201a8"
            ],
            [
             0.3333333333333333,
             "#9c179e"
            ],
            [
             0.4444444444444444,
             "#bd3786"
            ],
            [
             0.5555555555555556,
             "#d8576b"
            ],
            [
             0.6666666666666666,
             "#ed7953"
            ],
            [
             0.7777777777777778,
             "#fb9f3a"
            ],
            [
             0.8888888888888888,
             "#fdca26"
            ],
            [
             1,
             "#f0f921"
            ]
           ],
           "sequentialminus": [
            [
             0,
             "#0d0887"
            ],
            [
             0.1111111111111111,
             "#46039f"
            ],
            [
             0.2222222222222222,
             "#7201a8"
            ],
            [
             0.3333333333333333,
             "#9c179e"
            ],
            [
             0.4444444444444444,
             "#bd3786"
            ],
            [
             0.5555555555555556,
             "#d8576b"
            ],
            [
             0.6666666666666666,
             "#ed7953"
            ],
            [
             0.7777777777777778,
             "#fb9f3a"
            ],
            [
             0.8888888888888888,
             "#fdca26"
            ],
            [
             1,
             "#f0f921"
            ]
           ]
          },
          "colorway": [
           "#636efa",
           "#EF553B",
           "#00cc96",
           "#ab63fa",
           "#FFA15A",
           "#19d3f3",
           "#FF6692",
           "#B6E880",
           "#FF97FF",
           "#FECB52"
          ],
          "font": {
           "color": "#2a3f5f"
          },
          "geo": {
           "bgcolor": "white",
           "lakecolor": "white",
           "landcolor": "#E5ECF6",
           "showlakes": true,
           "showland": true,
           "subunitcolor": "white"
          },
          "hoverlabel": {
           "align": "left"
          },
          "hovermode": "closest",
          "mapbox": {
           "style": "light"
          },
          "paper_bgcolor": "white",
          "plot_bgcolor": "#E5ECF6",
          "polar": {
           "angularaxis": {
            "gridcolor": "white",
            "linecolor": "white",
            "ticks": ""
           },
           "bgcolor": "#E5ECF6",
           "radialaxis": {
            "gridcolor": "white",
            "linecolor": "white",
            "ticks": ""
           }
          },
          "scene": {
           "xaxis": {
            "backgroundcolor": "#E5ECF6",
            "gridcolor": "white",
            "gridwidth": 2,
            "linecolor": "white",
            "showbackground": true,
            "ticks": "",
            "zerolinecolor": "white"
           },
           "yaxis": {
            "backgroundcolor": "#E5ECF6",
            "gridcolor": "white",
            "gridwidth": 2,
            "linecolor": "white",
            "showbackground": true,
            "ticks": "",
            "zerolinecolor": "white"
           },
           "zaxis": {
            "backgroundcolor": "#E5ECF6",
            "gridcolor": "white",
            "gridwidth": 2,
            "linecolor": "white",
            "showbackground": true,
            "ticks": "",
            "zerolinecolor": "white"
           }
          },
          "shapedefaults": {
           "line": {
            "color": "#2a3f5f"
           }
          },
          "ternary": {
           "aaxis": {
            "gridcolor": "white",
            "linecolor": "white",
            "ticks": ""
           },
           "baxis": {
            "gridcolor": "white",
            "linecolor": "white",
            "ticks": ""
           },
           "bgcolor": "#E5ECF6",
           "caxis": {
            "gridcolor": "white",
            "linecolor": "white",
            "ticks": ""
           }
          },
          "title": {
           "x": 0.05
          },
          "xaxis": {
           "automargin": true,
           "gridcolor": "white",
           "linecolor": "white",
           "ticks": "",
           "title": {
            "standoff": 15
           },
           "zerolinecolor": "white",
           "zerolinewidth": 2
          },
          "yaxis": {
           "automargin": true,
           "gridcolor": "white",
           "linecolor": "white",
           "ticks": "",
           "title": {
            "standoff": 15
           },
           "zerolinecolor": "white",
           "zerolinewidth": 2
          }
         }
        },
        "xaxis": {
         "anchor": "y",
         "domain": [
          0,
          1
         ],
         "title": {
          "text": "0"
         }
        },
        "yaxis": {
         "anchor": "x",
         "domain": [
          0,
          1
         ],
         "title": {
          "text": "1"
         }
        }
       }
      }
     },
     "metadata": {},
     "output_type": "display_data"
    }
   ],
   "source": [
    "# Plot PCA of Predictions\n",
    "fig = px.scatter(W_lsa_text_matrix, x=0, y=1, color=df[\"category\"])\n",
    "fig.show()"
   ]
  },
  {
   "cell_type": "code",
   "execution_count": 36,
   "id": "70ff1bc8",
   "metadata": {},
   "outputs": [
    {
     "name": "stdout",
     "output_type": "stream",
     "text": [
      "\n",
      "Topic 00\n",
      "  said (0.44)\n",
      "  mr (0.25)\n",
      "  mrs (0.22)\n",
      "  state (0.20)\n",
      "  man (0.17)\n",
      "\n",
      "Topic 01\n",
      "  said (3.89)\n",
      "  ll (2.73)\n",
      "  didn (2.63)\n",
      "  thought (2.20)\n",
      "  got (1.97)\n",
      "\n",
      "Topic 02\n",
      "  mrs (3.14)\n",
      "  mr (1.73)\n",
      "  said (1.04)\n",
      "  kennedy (0.81)\n",
      "  laos (0.77)\n",
      "\n",
      "Topic 03\n",
      "  mrs (29.56)\n",
      "  club (6.57)\n",
      "  game (6.15)\n",
      "  jr (5.64)\n",
      "  dallas (5.31)\n",
      "\n",
      "Topic 04\n",
      "  game (4.38)\n",
      "  league (3.14)\n",
      "  baseball (3.12)\n",
      "  ball (2.98)\n",
      "  team (2.85)\n"
     ]
    }
   ],
   "source": [
    "display_topics(lsa_text_model, tfidf_text_vectorizer.get_feature_names_out(), no_top_words=5)"
   ]
  },
  {
   "cell_type": "code",
   "execution_count": 37,
   "id": "f3ad5403",
   "metadata": {},
   "outputs": [
    {
     "data": {
      "text/plain": [
       "<AxesSubplot: xlabel='Predicted Label: Model Topics', ylabel='True Label: Original Brown Topics'>"
      ]
     },
     "execution_count": 37,
     "metadata": {},
     "output_type": "execute_result"
    },
    {
     "data": {
      "image/png": "[encoded data removed]",
      "text/plain": [
       "<Figure size 640x480 with 2 Axes>"
      ]
     },
     "metadata": {},
     "output_type": "display_data"
    }
   ],
   "source": [
    "# Your code here\n",
    "df_new = df.copy()\n",
    "\n",
    "# Get the top predicted topic\n",
    "predicted_topics = [np.argsort(each)[::-1][0] for each in W_lsa_text_matrix]\n",
    "\n",
    "# Add to the df\n",
    "df_new['lsa_pred_topic_num'] = predicted_topics\n",
    "\n",
    "# Create Crosstab\n",
    "acc_crosstab = pd.crosstab(df_new[\"category\"], df_new[\"lsa_pred_topic_num\"], dropna=False)\n",
    "\n",
    "# Custom Color Palette\n",
    "hot_palette =  sns.color_palette(\"light:r\", as_cmap=True)\n",
    "\n",
    "# Plot Heatmap of Aggreement.\n",
    "ax = sns.heatmap(acc_crosstab,cmap=hot_palette,linewidths=1,annot=True)\n",
    "ax.set(xlabel=\"Predicted Label: Model Topics\", ylabel=\"True Label: Original Brown Topics\")\n",
    "ax"
   ]
  },
  {
   "attachments": {},
   "cell_type": "markdown",
   "id": "4d94d56f",
   "metadata": {},
   "source": [
    "Q: How does your five-topic LSA model compare to the original Brown categories? \n",
    "\n",
    "A: This model did a terrible job of finding topics that align with the original categories. "
   ]
  },
  {
   "cell_type": "markdown",
   "id": "ea8b280a",
   "metadata": {},
   "source": [
    "Q: What is your interpretation of the display topics output? \n",
    "\n",
    "A: "
   ]
  },
  {
   "cell_type": "markdown",
   "id": "b4ab4d29",
   "metadata": {},
   "source": [
    "## Fitting an LDA Model\n",
    "\n",
    "Finally, fit a five-topic LDA model using the count vectors (`count_text_vectors` from above). Display the results using `pyLDAvis.display` and describe what you learn from that visualization. "
   ]
  },
  {
   "cell_type": "code",
   "execution_count": 38,
   "id": "802cb8ff",
   "metadata": {},
   "outputs": [],
   "source": [
    "# Fit your LDA model here\n",
    "\n",
    "lda_text_model = LatentDirichletAllocation(n_components=5, random_state=0)\n",
    "W_lda_text_matrix = lda_text_model.fit_transform(tfidf_text_vectors)\n",
    "H_lda_text_matrix = lda_text_model.components_"
   ]
  },
  {
   "cell_type": "code",
   "execution_count": 39,
   "id": "bd8000b2",
   "metadata": {},
   "outputs": [
    {
     "name": "stderr",
     "output_type": "stream",
     "text": [
      "C:\\Users\\zfreitas\\AppData\\Local\\Packages\\PythonSoftwareFoundation.Python.3.11_qbz5n2kfra8p0\\LocalCache\\local-packages\\Python311\\site-packages\\plotly\\io\\_renderers.py:395: DeprecationWarning:\n",
      "\n",
      "distutils Version classes are deprecated. Use packaging.version instead.\n",
      "\n",
      "C:\\Users\\zfreitas\\AppData\\Local\\Packages\\PythonSoftwareFoundation.Python.3.11_qbz5n2kfra8p0\\LocalCache\\local-packages\\Python311\\site-packages\\plotly\\io\\_renderers.py:395: DeprecationWarning:\n",
      "\n",
      "distutils Version classes are deprecated. Use packaging.version instead.\n",
      "\n"
     ]
    },
    {
     "data": {
      "application/vnd.plotly.v1+json": {
       "config": {
        "plotlyServerURL": "https://plot.ly"
       },
       "data": [
        {
         "hovertemplate": "color=editorial<br>0=%{x}<br>1=%{y}<extra></extra>",
         "legendgroup": "editorial",
         "marker": {
          "color": "#636efa",
          "symbol": "circle"
         },
         "mode": "markers",
         "name": "editorial",
         "orientation": "v",
         "showlegend": true,
         "type": "scatter",
         "x": [
          0.009745187653664323,
          0.01093438738148098,
          0.010183550832996754,
          0.00972364109874431,
          0.010219801422578764,
          0.010782759517014318,
          0.009902211910288235,
          0.012097517877771337,
          0.012045477938852748,
          0.011539043150152441,
          0.010068897318639186,
          0.01197885796716826,
          0.010332932960227907,
          0.01083179203437931,
          0.011561900279540151,
          0.01117160629106887,
          0.010989495861738967,
          0.011300879040676226,
          0.011476588269179841,
          0.010530189638108395,
          0.011448660087113316,
          0.011847299527579028,
          0.011398125126505782,
          0.010640241589093807,
          0.012745197967376044,
          0.010676013815618838,
          0.011203427011288103
         ],
         "xaxis": "x",
         "y": [
          0.9610192493853768,
          0.9562624504741025,
          0.9592657966680489,
          0.9611054356050828,
          0.9591207943096846,
          0.9568689619319302,
          0.9603911523588353,
          0.9516099284889006,
          0.9518180882446025,
          0.9538438273993594,
          0.9597244107254617,
          0.9520845681313221,
          0.9586682681590762,
          0.9566728318624672,
          0.9537523988818528,
          0.9553135748359246,
          0.9560420165530009,
          0.9547964838375005,
          0.9540936469232825,
          0.957879241447568,
          0.9542053596515744,
          0.9526108018896459,
          0.9544074994940482,
          0.9574390336436324,
          0.9490192081305073,
          0.9572959447375214,
          0.9551862919548633
         ],
         "yaxis": "y"
        },
        {
         "hovertemplate": "color=government<br>0=%{x}<br>1=%{y}<extra></extra>",
         "legendgroup": "government",
         "marker": {
          "color": "#EF553B",
          "symbol": "circle"
         },
         "mode": "markers",
         "name": "government",
         "orientation": "v",
         "showlegend": true,
         "type": "scatter",
         "x": [
          0.014334055069025494,
          0.013673498591833035,
          0.01701393419767058,
          0.017388454910745862,
          0.019155301265849637,
          0.01329463284736805,
          0.018860256732428516,
          0.016740714177433863,
          0.013565249152122108,
          0.015614071116565799,
          0.013555027917379088,
          0.021150461792563295,
          0.012058502896632963,
          0.01760748740347495,
          0.02024444324963773,
          0.019545474091712024,
          0.017328375420808315,
          0.01334481596111919,
          0.01646312948391702,
          0.015867193201897337,
          0.012135927261556632,
          0.018727375978965583,
          0.02132099678069581,
          0.01847055577053615,
          0.01365862589315669,
          0.01822682002106553,
          0.01173655826380107,
          0.014912049136225949,
          0.01318811026623798,
          0.013734711583253397
         ],
         "xaxis": "x",
         "y": [
          0.9426637797237424,
          0.9453060056327994,
          0.9319442632091254,
          0.9304461803572203,
          0.923378794936591,
          0.9468214686105406,
          0.9245589730706477,
          0.9330371432903096,
          0.9457390033914077,
          0.9375437155344578,
          0.9457798883304557,
          0.9153981528298303,
          0.9517659884134705,
          0.9295700503859833,
          0.9190222270015862,
          0.9218181036331866,
          0.9306864983169688,
          0.9466207361557868,
          0.9341474820643298,
          0.9365312271924338,
          0.9514562909537871,
          0.9250904960843984,
          0.9147160128780008,
          0.9261177769176498,
          0.9453654964274241,
          0.9270927199156691,
          0.9530537669447079,
          0.9403518034551472,
          0.9472475589350918,
          0.9450611536670679
         ],
         "yaxis": "y"
        },
        {
         "hovertemplate": "color=news<br>0=%{x}<br>1=%{y}<extra></extra>",
         "legendgroup": "news",
         "marker": {
          "color": "#00cc96",
          "symbol": "circle"
         },
         "mode": "markers",
         "name": "news",
         "orientation": "v",
         "showlegend": true,
         "type": "scatter",
         "x": [
          0.012304559309830262,
          0.012027490592635297,
          0.012157957316619448,
          0.011506260214500517,
          0.012718666061581526,
          0.013826208903987357,
          0.011090547853921986,
          0.01253708164823598,
          0.011720127861916084,
          0.010422572241462858,
          0.011118866551722319,
          0.014143589635052696,
          0.012158023460038147,
          0.01147426381509538,
          0.011785214589139276,
          0.010960691982342645,
          0.014398577091454059,
          0.021487057915887925,
          0.010876009697137999,
          0.010501041588676702,
          0.010267912679237547,
          0.011762522784686015,
          0.010293111698456602,
          0.0110185104837065,
          0.010190838900844337,
          0.013699022285921385,
          0.010322330408274145,
          0.013571902069890146,
          0.00991128171399113,
          0.011024041245387561,
          0.011183790131396594,
          0.010917329875360905,
          0.011062854588730417,
          0.01426543335694573,
          0.013780759310420207,
          0.014076225272932421,
          0.010987305006005303,
          0.017787173693317587,
          0.013015807883517713,
          0.009946852600165614,
          0.014583829541021926,
          0.011117932882090458,
          0.014000566072445202,
          0.013682835548691532
         ],
         "xaxis": "x",
         "y": [
          0.9507817627608234,
          0.9518900376293881,
          0.9513681707335402,
          0.9539749591420302,
          0.9491253357537262,
          0.9446951643840177,
          0.9556378085843313,
          0.9498516734069197,
          0.9531194885521843,
          0.9583097110341835,
          0.9555245337931829,
          0.9434256414601756,
          0.9513679061599027,
          0.954102944739661,
          0.9528591416436031,
          0.9561572320707268,
          0.9424056916342055,
          0.9140517683363568,
          0.9564959612114834,
          0.9579958336453126,
          0.9589283492830848,
          0.9529499088614165,
          0.9588275532061576,
          0.955925958065225,
          0.9592366443966143,
          0.9452039108561706,
          0.9587106783668915,
          0.9457123917205321,
          0.9603548731440354,
          0.955903835018428,
          0.9552648394743807,
          0.9563306804985632,
          0.9557485816450365,
          0.9429382665723584,
          0.9448769627583484,
          0.9436950989083241,
          0.9560507799760204,
          0.9288513052267686,
          0.9479367684660103,
          0.9602125895993873,
          0.9416646818364269,
          0.9555282684716666,
          0.9439977357101054,
          0.9452686578052057
         ],
         "yaxis": "y"
        },
        {
         "hovertemplate": "color=romance<br>0=%{x}<br>1=%{y}<extra></extra>",
         "legendgroup": "romance",
         "marker": {
          "color": "#ab63fa",
          "symbol": "circle"
         },
         "mode": "markers",
         "name": "romance",
         "orientation": "v",
         "showlegend": true,
         "type": "scatter",
         "x": [
          0.011950289753687901,
          0.011879347690427155,
          0.012442181647369406,
          0.010906221925058036,
          0.011692206473714477,
          0.010800325256120341,
          0.014601853333907825,
          0.01222800253458859,
          0.011486451370399239,
          0.011003076330746507,
          0.011322997046508057,
          0.012893963471531515,
          0.012505151590800356,
          0.011163661239414363,
          0.015144653601155774,
          0.011758529652095673,
          0.016053615583072358,
          0.012558461868913587,
          0.012921278365285047,
          0.012067243716966866,
          0.013694282789737656,
          0.012751226961723488,
          0.012953027520097405,
          0.01482049078851724,
          0.012645754243032789,
          0.015825173783030392,
          0.013557137984424315,
          0.012993936187891568,
          0.010587543229599216
         ],
         "xaxis": "x",
         "y": [
          0.9521988409852279,
          0.9524826092386047,
          0.9502312734104867,
          0.956375112299782,
          0.9532311741052615,
          0.9567986989755232,
          0.9415925866643798,
          0.9510879898618319,
          0.954054194518402,
          0.9559876946769789,
          0.9547080118139587,
          0.9484241461138575,
          0.9499793936368133,
          0.9553453550422328,
          0.9394213855955862,
          0.952965881391603,
          0.935785537667876,
          0.9497661525243857,
          0.9483148865388946,
          0.9517310251319624,
          0.9452228688407938,
          0.9489950921530771,
          0.9481878899195119,
          0.9407180368460372,
          0.9494169830277693,
          0.9366993048678021,
          0.9457714480623449,
          0.9480242552484808,
          0.9576498270816158
         ],
         "yaxis": "y"
        },
        {
         "hovertemplate": "color=hobbies<br>0=%{x}<br>1=%{y}<extra></extra>",
         "legendgroup": "hobbies",
         "marker": {
          "color": "#FFA15A",
          "symbol": "circle"
         },
         "mode": "markers",
         "name": "hobbies",
         "orientation": "v",
         "showlegend": true,
         "type": "scatter",
         "x": [
          0.015357112314400475,
          0.012151728614533399,
          0.017832909375887034,
          0.011902565492025978,
          0.01777567423492197,
          0.0140740434531008,
          0.017358819094195444,
          0.01880929374163681,
          0.01586505026770327,
          0.013265420976339386,
          0.014296825328910833,
          0.01144495730949364,
          0.012903173555997878,
          0.013163421405658276,
          0.02114438684041481,
          0.016689520178978512,
          0.013002451763373626,
          0.016146144199364443,
          0.019562902955345494,
          0.015511744654280565,
          0.01630781235942468,
          0.012353789158335139,
          0.01173965734610278,
          0.012421044587133804,
          0.012982420401499259,
          0.011712429912713722,
          0.027330594558755177,
          0.014711170415554729,
          0.0156268711270465,
          0.013221420329761969,
          0.012611386571644458,
          0.014566838967907815,
          0.011540386776626757,
          0.014734748648647157,
          0.014357502837787924,
          0.014660319695008747
         ],
         "xaxis": "x",
         "y": [
          0.9385715507424913,
          0.9513930855418673,
          0.9286683624960493,
          0.9523897380319163,
          0.9288973030602842,
          0.9437038261874076,
          0.9305647236220389,
          0.924762825032827,
          0.9365397989299687,
          0.9469383160946083,
          0.9428126986843166,
          0.9542201707620346,
          0.9483873057759751,
          0.9473463143773282,
          0.9154224526376209,
          0.9332419192843002,
          0.9479901929462998,
          0.9354154232025941,
          0.9217483881783296,
          0.9379530213830127,
          0.9347687505623368,
          0.9505848433667013,
          0.9530413706153699,
          0.9503158216518548,
          0.9480703183939512,
          0.9531502803491838,
          0.8906776217659753,
          0.9411553183377869,
          0.9374925154915843,
          0.9471143186808334,
          0.9495544537134157,
          0.941732644128389,
          0.953838452893472,
          0.9410610054050869,
          0.9425699886490743,
          0.9413587212198763
         ],
         "yaxis": "y"
        }
       ],
       "layout": {
        "legend": {
         "title": {
          "text": "color"
         },
         "tracegroupgap": 0
        },
        "margin": {
         "t": 60
        },
        "template": {
         "data": {
          "bar": [
           {
            "error_x": {
             "color": "#2a3f5f"
            },
            "error_y": {
             "color": "#2a3f5f"
            },
            "marker": {
             "line": {
              "color": "#E5ECF6",
              "width": 0.5
             },
             "pattern": {
              "fillmode": "overlay",
              "size": 10,
              "solidity": 0.2
             }
            },
            "type": "bar"
           }
          ],
          "barpolar": [
           {
            "marker": {
             "line": {
              "color": "#E5ECF6",
              "width": 0.5
             },
             "pattern": {
              "fillmode": "overlay",
              "size": 10,
              "solidity": 0.2
             }
            },
            "type": "barpolar"
           }
          ],
          "carpet": [
           {
            "aaxis": {
             "endlinecolor": "#2a3f5f",
             "gridcolor": "white",
             "linecolor": "white",
             "minorgridcolor": "white",
             "startlinecolor": "#2a3f5f"
            },
            "baxis": {
             "endlinecolor": "#2a3f5f",
             "gridcolor": "white",
             "linecolor": "white",
             "minorgridcolor": "white",
             "startlinecolor": "#2a3f5f"
            },
            "type": "carpet"
           }
          ],
          "choropleth": [
           {
            "colorbar": {
             "outlinewidth": 0,
             "ticks": ""
            },
            "type": "choropleth"
           }
          ],
          "contour": [
           {
            "colorbar": {
             "outlinewidth": 0,
             "ticks": ""
            },
            "colorscale": [
             [
              0,
              "#0d0887"
             ],
             [
              0.1111111111111111,
              "#46039f"
             ],
             [
              0.2222222222222222,
              "#7201a8"
             ],
             [
              0.3333333333333333,
              "#9c179e"
             ],
             [
              0.4444444444444444,
              "#bd3786"
             ],
             [
              0.5555555555555556,
              "#d8576b"
             ],
             [
              0.6666666666666666,
              "#ed7953"
             ],
             [
              0.7777777777777778,
              "#fb9f3a"
             ],
             [
              0.8888888888888888,
              "#fdca26"
             ],
             [
              1,
              "#f0f921"
             ]
            ],
            "type": "contour"
           }
          ],
          "contourcarpet": [
           {
            "colorbar": {
             "outlinewidth": 0,
             "ticks": ""
            },
            "type": "contourcarpet"
           }
          ],
          "heatmap": [
           {
            "colorbar": {
             "outlinewidth": 0,
             "ticks": ""
            },
            "colorscale": [
             [
              0,
              "#0d0887"
             ],
             [
              0.1111111111111111,
              "#46039f"
             ],
             [
              0.2222222222222222,
              "#7201a8"
             ],
             [
              0.3333333333333333,
              "#9c179e"
             ],
             [
              0.4444444444444444,
              "#bd3786"
             ],
             [
              0.5555555555555556,
              "#d8576b"
             ],
             [
              0.6666666666666666,
              "#ed7953"
             ],
             [
              0.7777777777777778,
              "#fb9f3a"
             ],
             [
              0.8888888888888888,
              "#fdca26"
             ],
             [
              1,
              "#f0f921"
             ]
            ],
            "type": "heatmap"
           }
          ],
          "heatmapgl": [
           {
            "colorbar": {
             "outlinewidth": 0,
             "ticks": ""
            },
            "colorscale": [
             [
              0,
              "#0d0887"
             ],
             [
              0.1111111111111111,
              "#46039f"
             ],
             [
              0.2222222222222222,
              "#7201a8"
             ],
             [
              0.3333333333333333,
              "#9c179e"
             ],
             [
              0.4444444444444444,
              "#bd3786"
             ],
             [
              0.5555555555555556,
              "#d8576b"
             ],
             [
              0.6666666666666666,
              "#ed7953"
             ],
             [
              0.7777777777777778,
              "#fb9f3a"
             ],
             [
              0.8888888888888888,
              "#fdca26"
             ],
             [
              1,
              "#f0f921"
             ]
            ],
            "type": "heatmapgl"
           }
          ],
          "histogram": [
           {
            "marker": {
             "pattern": {
              "fillmode": "overlay",
              "size": 10,
              "solidity": 0.2
             }
            },
            "type": "histogram"
           }
          ],
          "histogram2d": [
           {
            "colorbar": {
             "outlinewidth": 0,
             "ticks": ""
            },
            "colorscale": [
             [
              0,
              "#0d0887"
             ],
             [
              0.1111111111111111,
              "#46039f"
             ],
             [
              0.2222222222222222,
              "#7201a8"
             ],
             [
              0.3333333333333333,
              "#9c179e"
             ],
             [
              0.4444444444444444,
              "#bd3786"
             ],
             [
              0.5555555555555556,
              "#d8576b"
             ],
             [
              0.6666666666666666,
              "#ed7953"
             ],
             [
              0.7777777777777778,
              "#fb9f3a"
             ],
             [
              0.8888888888888888,
              "#fdca26"
             ],
             [
              1,
              "#f0f921"
             ]
            ],
            "type": "histogram2d"
           }
          ],
          "histogram2dcontour": [
           {
            "colorbar": {
             "outlinewidth": 0,
             "ticks": ""
            },
            "colorscale": [
             [
              0,
              "#0d0887"
             ],
             [
              0.1111111111111111,
              "#46039f"
             ],
             [
              0.2222222222222222,
              "#7201a8"
             ],
             [
              0.3333333333333333,
              "#9c179e"
             ],
             [
              0.4444444444444444,
              "#bd3786"
             ],
             [
              0.5555555555555556,
              "#d8576b"
             ],
             [
              0.6666666666666666,
              "#ed7953"
             ],
             [
              0.7777777777777778,
              "#fb9f3a"
             ],
             [
              0.8888888888888888,
              "#fdca26"
             ],
             [
              1,
              "#f0f921"
             ]
            ],
            "type": "histogram2dcontour"
           }
          ],
          "mesh3d": [
           {
            "colorbar": {
             "outlinewidth": 0,
             "ticks": ""
            },
            "type": "mesh3d"
           }
          ],
          "parcoords": [
           {
            "line": {
             "colorbar": {
              "outlinewidth": 0,
              "ticks": ""
             }
            },
            "type": "parcoords"
           }
          ],
          "pie": [
           {
            "automargin": true,
            "type": "pie"
           }
          ],
          "scatter": [
           {
            "fillpattern": {
             "fillmode": "overlay",
             "size": 10,
             "solidity": 0.2
            },
            "type": "scatter"
           }
          ],
          "scatter3d": [
           {
            "line": {
             "colorbar": {
              "outlinewidth": 0,
              "ticks": ""
             }
            },
            "marker": {
             "colorbar": {
              "outlinewidth": 0,
              "ticks": ""
             }
            },
            "type": "scatter3d"
           }
          ],
          "scattercarpet": [
           {
            "marker": {
             "colorbar": {
              "outlinewidth": 0,
              "ticks": ""
             }
            },
            "type": "scattercarpet"
           }
          ],
          "scattergeo": [
           {
            "marker": {
             "colorbar": {
              "outlinewidth": 0,
              "ticks": ""
             }
            },
            "type": "scattergeo"
           }
          ],
          "scattergl": [
           {
            "marker": {
             "colorbar": {
              "outlinewidth": 0,
              "ticks": ""
             }
            },
            "type": "scattergl"
           }
          ],
          "scattermapbox": [
           {
            "marker": {
             "colorbar": {
              "outlinewidth": 0,
              "ticks": ""
             }
            },
            "type": "scattermapbox"
           }
          ],
          "scatterpolar": [
           {
            "marker": {
             "colorbar": {
              "outlinewidth": 0,
              "ticks": ""
             }
            },
            "type": "scatterpolar"
           }
          ],
          "scatterpolargl": [
           {
            "marker": {
             "colorbar": {
              "outlinewidth": 0,
              "ticks": ""
             }
            },
            "type": "scatterpolargl"
           }
          ],
          "scatterternary": [
           {
            "marker": {
             "colorbar": {
              "outlinewidth": 0,
              "ticks": ""
             }
            },
            "type": "scatterternary"
           }
          ],
          "surface": [
           {
            "colorbar": {
             "outlinewidth": 0,
             "ticks": ""
            },
            "colorscale": [
             [
              0,
              "#0d0887"
             ],
             [
              0.1111111111111111,
              "#46039f"
             ],
             [
              0.2222222222222222,
              "#7201a8"
             ],
             [
              0.3333333333333333,
              "#9c179e"
             ],
             [
              0.4444444444444444,
              "#bd3786"
             ],
             [
              0.5555555555555556,
              "#d8576b"
             ],
             [
              0.6666666666666666,
              "#ed7953"
             ],
             [
              0.7777777777777778,
              "#fb9f3a"
             ],
             [
              0.8888888888888888,
              "#fdca26"
             ],
             [
              1,
              "#f0f921"
             ]
            ],
            "type": "surface"
           }
          ],
          "table": [
           {
            "cells": {
             "fill": {
              "color": "#EBF0F8"
             },
             "line": {
              "color": "white"
             }
            },
            "header": {
             "fill": {
              "color": "#C8D4E3"
             },
             "line": {
              "color": "white"
             }
            },
            "type": "table"
           }
          ]
         },
         "layout": {
          "annotationdefaults": {
           "arrowcolor": "#2a3f5f",
           "arrowhead": 0,
           "arrowwidth": 1
          },
          "autotypenumbers": "strict",
          "coloraxis": {
           "colorbar": {
            "outlinewidth": 0,
            "ticks": ""
           }
          },
          "colorscale": {
           "diverging": [
            [
             0,
             "#8e0152"
            ],
            [
             0.1,
             "#c51b7d"
            ],
            [
             0.2,
             "#de77ae"
            ],
            [
             0.3,
             "#f1b6da"
            ],
            [
             0.4,
             "#fde0ef"
            ],
            [
             0.5,
             "#f7f7f7"
            ],
            [
             0.6,
             "#e6f5d0"
            ],
            [
             0.7,
             "#b8e186"
            ],
            [
             0.8,
             "#7fbc41"
            ],
            [
             0.9,
             "#4d9221"
            ],
            [
             1,
             "#276419"
            ]
           ],
           "sequential": [
            [
             0,
             "#0d0887"
            ],
            [
             0.1111111111111111,
             "#46039f"
            ],
            [
             0.2222222222222222,
             "#7201a8"
            ],
            [
             0.3333333333333333,
             "#9c179e"
            ],
            [
             0.4444444444444444,
             "#bd3786"
            ],
            [
             0.5555555555555556,
             "#d8576b"
            ],
            [
             0.6666666666666666,
             "#ed7953"
            ],
            [
             0.7777777777777778,
             "#fb9f3a"
            ],
            [
             0.8888888888888888,
             "#fdca26"
            ],
            [
             1,
             "#f0f921"
            ]
           ],
           "sequentialminus": [
            [
             0,
             "#0d0887"
            ],
            [
             0.1111111111111111,
             "#46039f"
            ],
            [
             0.2222222222222222,
             "#7201a8"
            ],
            [
             0.3333333333333333,
             "#9c179e"
            ],
            [
             0.4444444444444444,
             "#bd3786"
            ],
            [
             0.5555555555555556,
             "#d8576b"
            ],
            [
             0.6666666666666666,
             "#ed7953"
            ],
            [
             0.7777777777777778,
             "#fb9f3a"
            ],
            [
             0.8888888888888888,
             "#fdca26"
            ],
            [
             1,
             "#f0f921"
            ]
           ]
          },
          "colorway": [
           "#636efa",
           "#EF553B",
           "#00cc96",
           "#ab63fa",
           "#FFA15A",
           "#19d3f3",
           "#FF6692",
           "#B6E880",
           "#FF97FF",
           "#FECB52"
          ],
          "font": {
           "color": "#2a3f5f"
          },
          "geo": {
           "bgcolor": "white",
           "lakecolor": "white",
           "landcolor": "#E5ECF6",
           "showlakes": true,
           "showland": true,
           "subunitcolor": "white"
          },
          "hoverlabel": {
           "align": "left"
          },
          "hovermode": "closest",
          "mapbox": {
           "style": "light"
          },
          "paper_bgcolor": "white",
          "plot_bgcolor": "#E5ECF6",
          "polar": {
           "angularaxis": {
            "gridcolor": "white",
            "linecolor": "white",
            "ticks": ""
           },
           "bgcolor": "#E5ECF6",
           "radialaxis": {
            "gridcolor": "white",
            "linecolor": "white",
            "ticks": ""
           }
          },
          "scene": {
           "xaxis": {
            "backgroundcolor": "#E5ECF6",
            "gridcolor": "white",
            "gridwidth": 2,
            "linecolor": "white",
            "showbackground": true,
            "ticks": "",
            "zerolinecolor": "white"
           },
           "yaxis": {
            "backgroundcolor": "#E5ECF6",
            "gridcolor": "white",
            "gridwidth": 2,
            "linecolor": "white",
            "showbackground": true,
            "ticks": "",
            "zerolinecolor": "white"
           },
           "zaxis": {
            "backgroundcolor": "#E5ECF6",
            "gridcolor": "white",
            "gridwidth": 2,
            "linecolor": "white",
            "showbackground": true,
            "ticks": "",
            "zerolinecolor": "white"
           }
          },
          "shapedefaults": {
           "line": {
            "color": "#2a3f5f"
           }
          },
          "ternary": {
           "aaxis": {
            "gridcolor": "white",
            "linecolor": "white",
            "ticks": ""
           },
           "baxis": {
            "gridcolor": "white",
            "linecolor": "white",
            "ticks": ""
           },
           "bgcolor": "#E5ECF6",
           "caxis": {
            "gridcolor": "white",
            "linecolor": "white",
            "ticks": ""
           }
          },
          "title": {
           "x": 0.05
          },
          "xaxis": {
           "automargin": true,
           "gridcolor": "white",
           "linecolor": "white",
           "ticks": "",
           "title": {
            "standoff": 15
           },
           "zerolinecolor": "white",
           "zerolinewidth": 2
          },
          "yaxis": {
           "automargin": true,
           "gridcolor": "white",
           "linecolor": "white",
           "ticks": "",
           "title": {
            "standoff": 15
           },
           "zerolinecolor": "white",
           "zerolinewidth": 2
          }
         }
        },
        "xaxis": {
         "anchor": "y",
         "domain": [
          0,
          1
         ],
         "title": {
          "text": "0"
         }
        },
        "yaxis": {
         "anchor": "x",
         "domain": [
          0,
          1
         ],
         "title": {
          "text": "1"
         }
        }
       }
      }
     },
     "metadata": {},
     "output_type": "display_data"
    }
   ],
   "source": [
    "# Plot PCA of Predictions\n",
    "fig = px.scatter(W_lda_text_matrix, x=0, y=1, color=df[\"category\"])\n",
    "fig.show()"
   ]
  },
  {
   "cell_type": "code",
   "execution_count": 40,
   "id": "ab18adf5",
   "metadata": {},
   "outputs": [
    {
     "name": "stdout",
     "output_type": "stream",
     "text": [
      "\n",
      "Topic 00\n",
      "  discretion (0.02)\n",
      "  construct (0.02)\n",
      "  categories (0.02)\n",
      "  founder (0.02)\n",
      "  combinations (0.02)\n",
      "\n",
      "Topic 01\n",
      "  said (0.27)\n",
      "  mr (0.16)\n",
      "  state (0.15)\n",
      "  mrs (0.14)\n",
      "  president (0.11)\n",
      "\n",
      "Topic 02\n",
      "  discretion (0.02)\n",
      "  construct (0.02)\n",
      "  categories (0.02)\n",
      "  founder (0.02)\n",
      "  combinations (0.02)\n",
      "\n",
      "Topic 03\n",
      "  discretion (0.02)\n",
      "  construct (0.02)\n",
      "  categories (0.02)\n",
      "  founder (0.02)\n",
      "  combinations (0.02)\n",
      "\n",
      "Topic 04\n",
      "  discretion (0.02)\n",
      "  construct (0.02)\n",
      "  categories (0.02)\n",
      "  founder (0.02)\n",
      "  combinations (0.02)\n"
     ]
    }
   ],
   "source": [
    "# Call `display_topics` on your fitted model here\n",
    "display_topics(lda_text_model, tfidf_text_vectorizer.get_feature_names_out(), no_top_words=5)"
   ]
  },
  {
   "cell_type": "code",
   "execution_count": 41,
   "id": "fd5c3151",
   "metadata": {},
   "outputs": [
    {
     "data": {
      "text/plain": [
       "<AxesSubplot: xlabel='Predicted Label: Model Topics', ylabel='True Label: Original Brown Topics'>"
      ]
     },
     "execution_count": 41,
     "metadata": {},
     "output_type": "execute_result"
    },
    {
     "data": {
      "image/png": "[encoded data removed]",
      "text/plain": [
       "<Figure size 640x480 with 2 Axes>"
      ]
     },
     "metadata": {},
     "output_type": "display_data"
    }
   ],
   "source": [
    "# Your code here\n",
    "df_new = df.copy()\n",
    "\n",
    "# Get the top predicted topic\n",
    "predicted_topics = [np.argsort(each)[::-1][0] for each in W_lda_text_matrix]\n",
    "\n",
    "# Add to the df\n",
    "df_new['lda_pred_topic_num'] = predicted_topics\n",
    "\n",
    "# Create Crosstab\n",
    "acc_crosstab = pd.crosstab(df_new[\"category\"], df_new[\"lda_pred_topic_num\"], dropna=False)\n",
    "\n",
    "# Custom Color Palette\n",
    "hot_palette =  sns.color_palette(\"light:r\", as_cmap=True)\n",
    "\n",
    "# Plot Heatmap of Aggreement.\n",
    "ax = sns.heatmap(acc_crosstab,cmap=hot_palette,linewidths=1,annot=True)\n",
    "ax.set(xlabel=\"Predicted Label: Model Topics\", ylabel=\"True Label: Original Brown Topics\")\n",
    "ax"
   ]
  },
  {
   "attachments": {},
   "cell_type": "markdown",
   "id": "f2c67876",
   "metadata": {},
   "source": [
    "Q: What inference do you draw from the displayed topics for your LDA model? \n",
    "\n",
    "A: The LDA model suggest that there really isn't much statistical differneces in terms between the topics choosen.\n",
    "\n",
    "Q: Repeat the tallying of Brown categories within your topics. How does your five-topic LDA model compare to the original Brown categories? \n",
    "\n",
    "A: LDA has only one"
   ]
  },
  {
   "cell_type": "code",
   "execution_count": 42,
   "id": "6aae75ca",
   "metadata": {},
   "outputs": [
    {
     "ename": "AttributeError",
     "evalue": "'TfidfVectorizer' object has no attribute 'get_feature_names'",
     "output_type": "error",
     "traceback": [
      "\u001b[1;31m---------------------------------------------------------------------------\u001b[0m",
      "\u001b[1;31mAttributeError\u001b[0m                            Traceback (most recent call last)",
      "Cell \u001b[1;32mIn[42], line 3\u001b[0m\n\u001b[0;32m      1\u001b[0m \u001b[39m# I'm not able to run this procedure with my setup. \u001b[39;00m\n\u001b[0;32m      2\u001b[0m \u001b[39m# I'm not willing to unistall and reinstall another version of python as I use this set-up for my work and I'm using my work computer to complete this project.\u001b[39;00m\n\u001b[1;32m----> 3\u001b[0m lda_display \u001b[39m=\u001b[39m pyLDAvis\u001b[39m.\u001b[39;49msklearn\u001b[39m.\u001b[39;49mprepare(lda_text_model, tfidf_text_vectors, tfidf_text_vectorizer, sort_topics\u001b[39m=\u001b[39;49m\u001b[39mFalse\u001b[39;49;00m)\n\u001b[0;32m      4\u001b[0m pyLDAvis\u001b[39m.\u001b[39mdisplay(lda_display)\n",
      "File \u001b[1;32m~\\AppData\\Local\\Packages\\PythonSoftwareFoundation.Python.3.11_qbz5n2kfra8p0\\LocalCache\\local-packages\\Python311\\site-packages\\pyLDAvis\\sklearn.py:94\u001b[0m, in \u001b[0;36mprepare\u001b[1;34m(lda_model, dtm, vectorizer, **kwargs)\u001b[0m\n\u001b[0;32m     62\u001b[0m \u001b[39mdef\u001b[39;00m \u001b[39mprepare\u001b[39m(lda_model, dtm, vectorizer, \u001b[39m*\u001b[39m\u001b[39m*\u001b[39mkwargs):\n\u001b[0;32m     63\u001b[0m \u001b[39m    \u001b[39m\u001b[39m\"\"\"Create Prepared Data from sklearn's LatentDirichletAllocation and CountVectorizer.\u001b[39;00m\n\u001b[0;32m     64\u001b[0m \n\u001b[0;32m     65\u001b[0m \u001b[39m    Parameters\u001b[39;00m\n\u001b[1;32m   (...)\u001b[0m\n\u001b[0;32m     92\u001b[0m \u001b[39m    See `pyLDAvis.prepare` for **kwargs.\u001b[39;00m\n\u001b[0;32m     93\u001b[0m \u001b[39m    \"\"\"\u001b[39;00m\n\u001b[1;32m---> 94\u001b[0m     opts \u001b[39m=\u001b[39m fp\u001b[39m.\u001b[39mmerge(_extract_data(lda_model, dtm, vectorizer), kwargs)\n\u001b[0;32m     95\u001b[0m     \u001b[39mreturn\u001b[39;00m pyLDAvis\u001b[39m.\u001b[39mprepare(\u001b[39m*\u001b[39m\u001b[39m*\u001b[39mopts)\n",
      "File \u001b[1;32m~\\AppData\\Local\\Packages\\PythonSoftwareFoundation.Python.3.11_qbz5n2kfra8p0\\LocalCache\\local-packages\\Python311\\site-packages\\pyLDAvis\\sklearn.py:38\u001b[0m, in \u001b[0;36m_extract_data\u001b[1;34m(lda_model, dtm, vectorizer)\u001b[0m\n\u001b[0;32m     37\u001b[0m \u001b[39mdef\u001b[39;00m \u001b[39m_extract_data\u001b[39m(lda_model, dtm, vectorizer):\n\u001b[1;32m---> 38\u001b[0m     vocab \u001b[39m=\u001b[39m _get_vocab(vectorizer)\n\u001b[0;32m     39\u001b[0m     doc_lengths \u001b[39m=\u001b[39m _get_doc_lengths(dtm)\n\u001b[0;32m     40\u001b[0m     term_freqs \u001b[39m=\u001b[39m _get_term_freqs(dtm)\n",
      "File \u001b[1;32m~\\AppData\\Local\\Packages\\PythonSoftwareFoundation.Python.3.11_qbz5n2kfra8p0\\LocalCache\\local-packages\\Python311\\site-packages\\pyLDAvis\\sklearn.py:20\u001b[0m, in \u001b[0;36m_get_vocab\u001b[1;34m(vectorizer)\u001b[0m\n\u001b[0;32m     19\u001b[0m \u001b[39mdef\u001b[39;00m \u001b[39m_get_vocab\u001b[39m(vectorizer):\n\u001b[1;32m---> 20\u001b[0m     \u001b[39mreturn\u001b[39;00m vectorizer\u001b[39m.\u001b[39;49mget_feature_names()\n",
      "\u001b[1;31mAttributeError\u001b[0m: 'TfidfVectorizer' object has no attribute 'get_feature_names'"
     ]
    }
   ],
   "source": [
    "# I'm not able to run this procedure with my setup. \n",
    "# I'm not willing to unistall and reinstall another version of python as I use this set-up for my work and I'm using my work computer to complete this project.\n",
    "lda_display = pyLDAvis.sklearn.prepare(lda_text_model, tfidf_text_vectors, tfidf_text_vectorizer, sort_topics=False)\n",
    "pyLDAvis.display(lda_display)"
   ]
  },
  {
   "cell_type": "code",
   "execution_count": 43,
   "id": "1c1f6ad1",
   "metadata": {},
   "outputs": [
    {
     "ename": "AttributeError",
     "evalue": "'numpy.ndarray' object has no attribute 'show_topics'",
     "output_type": "error",
     "traceback": [
      "\u001b[1;31m---------------------------------------------------------------------------\u001b[0m",
      "\u001b[1;31mAttributeError\u001b[0m                            Traceback (most recent call last)",
      "Cell \u001b[1;32mIn[43], line 1\u001b[0m\n\u001b[1;32m----> 1\u001b[0m W_lda_text_matrix\u001b[39m.\u001b[39;49mshow_topics(formatted\u001b[39m=\u001b[39m\u001b[39mFalse\u001b[39;00m)\n",
      "\u001b[1;31mAttributeError\u001b[0m: 'numpy.ndarray' object has no attribute 'show_topics'"
     ]
    }
   ],
   "source": [
    "W_lda_text_matrix.show_topics(formatted=False)"
   ]
  },
  {
   "cell_type": "code",
   "execution_count": 53,
   "id": "57beec2b",
   "metadata": {},
   "outputs": [
    {
     "ename": "TypeError",
     "evalue": "unhashable type: 'csr_matrix'",
     "output_type": "error",
     "traceback": [
      "\u001b[1;31m---------------------------------------------------------------------------\u001b[0m",
      "\u001b[1;31mTypeError\u001b[0m                                 Traceback (most recent call last)",
      "Cell \u001b[1;32mIn[53], line 4\u001b[0m\n\u001b[0;32m      2\u001b[0m topics \u001b[39m=\u001b[39m lda_text_model\u001b[39m.\u001b[39mget_feature_names_out()\n\u001b[0;32m      3\u001b[0m data_flat \u001b[39m=\u001b[39m [w \u001b[39mfor\u001b[39;00m w_list \u001b[39min\u001b[39;00m tfidf_text_vectors \u001b[39mfor\u001b[39;00m w \u001b[39min\u001b[39;00m w_list]\n\u001b[1;32m----> 4\u001b[0m counter \u001b[39m=\u001b[39m Counter(data_flat)\n\u001b[0;32m      6\u001b[0m out \u001b[39m=\u001b[39m []\n\u001b[0;32m      7\u001b[0m \u001b[39mfor\u001b[39;00m i, topic \u001b[39min\u001b[39;00m topics:\n",
      "File \u001b[1;32mC:\\Program Files\\WindowsApps\\PythonSoftwareFoundation.Python.3.11_3.11.752.0_x64__qbz5n2kfra8p0\\Lib\\collections\\__init__.py:597\u001b[0m, in \u001b[0;36mCounter.__init__\u001b[1;34m(self, iterable, **kwds)\u001b[0m\n\u001b[0;32m    586\u001b[0m \u001b[39m\u001b[39m\u001b[39m'''Create a new, empty Counter object.  And if given, count elements\u001b[39;00m\n\u001b[0;32m    587\u001b[0m \u001b[39mfrom an input iterable.  Or, initialize the count from another mapping\u001b[39;00m\n\u001b[0;32m    588\u001b[0m \u001b[39mof elements to their counts.\u001b[39;00m\n\u001b[1;32m   (...)\u001b[0m\n\u001b[0;32m    594\u001b[0m \n\u001b[0;32m    595\u001b[0m \u001b[39m'''\u001b[39;00m\n\u001b[0;32m    596\u001b[0m \u001b[39msuper\u001b[39m()\u001b[39m.\u001b[39m\u001b[39m__init__\u001b[39m()\n\u001b[1;32m--> 597\u001b[0m \u001b[39mself\u001b[39;49m\u001b[39m.\u001b[39;49mupdate(iterable, \u001b[39m*\u001b[39;49m\u001b[39m*\u001b[39;49mkwds)\n",
      "File \u001b[1;32mC:\\Program Files\\WindowsApps\\PythonSoftwareFoundation.Python.3.11_3.11.752.0_x64__qbz5n2kfra8p0\\Lib\\collections\\__init__.py:688\u001b[0m, in \u001b[0;36mCounter.update\u001b[1;34m(self, iterable, **kwds)\u001b[0m\n\u001b[0;32m    686\u001b[0m             \u001b[39msuper\u001b[39m()\u001b[39m.\u001b[39mupdate(iterable)\n\u001b[0;32m    687\u001b[0m     \u001b[39melse\u001b[39;00m:\n\u001b[1;32m--> 688\u001b[0m         _count_elements(\u001b[39mself\u001b[39m, iterable)\n\u001b[0;32m    689\u001b[0m \u001b[39mif\u001b[39;00m kwds:\n\u001b[0;32m    690\u001b[0m     \u001b[39mself\u001b[39m\u001b[39m.\u001b[39mupdate(kwds)\n",
      "\u001b[1;31mTypeError\u001b[0m: unhashable type: 'csr_matrix'"
     ]
    }
   ],
   "source": [
    "from collections import Counter\n",
    "\n",
    "topics = lda_text_model.get_feature_names_out()\n",
    "data_flat = [w for w_list in tfidf_text_vectors for w in w_list]\n",
    "counter = Counter(data_flat)\n",
    "\n",
    "out = []\n",
    "for i, topic in topics:\n",
    "    for word, weight in topic:\n",
    "        out.append([word, i , weight, counter[word]])\n",
    "\n",
    "df = pd.DataFrame(out, columns=['word', 'topic_id', 'importance', 'word_count'])        \n",
    "\n",
    "# Plot Word Count and Weights of Topic Keywords\n",
    "fig, axes = plt.subplots(2, 2, figsize=(16,10), sharey=True, dpi=160)\n",
    "# cols = [color for name, color in mcolors.TABLEAU_COLORS.items()]\n",
    "for i, ax in enumerate(axes.flatten()):\n",
    "    ax.bar(x='word', height=\"word_count\", data=df.loc[df.topic_id==i, :], color=cols[i], width=0.5, alpha=0.3, label='Word Count')\n",
    "    ax_twin = ax.twinx()\n",
    "    ax_twin.bar(x='word', height=\"importance\", data=df.loc[df.topic_id==i, :], color=cols[i], width=0.2, label='Weights')\n",
    "    ax.set_ylabel('Word Count', color=cols[i])\n",
    "    ax_twin.set_ylim(0, 0.030); ax.set_ylim(0, 3500)\n",
    "    ax.set_title('Topic: ' + str(i), color=cols[i], fontsize=16)\n",
    "    ax.tick_params(axis='y', left=False)\n",
    "    ax.set_xticklabels(df.loc[df.topic_id==i, 'word'], rotation=30, horizontalalignment= 'right')\n",
    "    ax.legend(loc='upper left'); ax_twin.legend(loc='upper right')\n",
    "\n",
    "fig.tight_layout(w_pad=2)    \n",
    "fig.suptitle('Word Count and Importance of Topic Keywords', fontsize=22, y=1.05)    \n",
    "plt.show()"
   ]
  },
  {
   "cell_type": "code",
   "execution_count": 51,
   "id": "fe463088",
   "metadata": {},
   "outputs": [
    {
     "data": {
      "text/plain": [
       "array(['latentdirichletallocation0', 'latentdirichletallocation1',\n",
       "       'latentdirichletallocation2', 'latentdirichletallocation3',\n",
       "       'latentdirichletallocation4'], dtype=object)"
      ]
     },
     "execution_count": 51,
     "metadata": {},
     "output_type": "execute_result"
    }
   ],
   "source": []
  },
  {
   "cell_type": "code",
   "execution_count": null,
   "id": "0969ee94",
   "metadata": {},
   "outputs": [
    {
     "data": {
      "text/plain": [
       "55"
      ]
     },
     "execution_count": 132,
     "metadata": {},
     "output_type": "execute_result"
    }
   ],
   "source": [
    "import pyLDAvis.gensim_models\n",
    "import gensim.corpora as corpora\n",
    "\n",
    "id2word = corpora.Dictionary(count_text_vectors.toarray())\n",
    "\n",
    "\n",
    "len(id2word)"
   ]
  },
  {
   "cell_type": "code",
   "execution_count": null,
   "id": "c7483f8e",
   "metadata": {},
   "outputs": [
    {
     "data": {
      "text/plain": [
       "array([[ 0,  3,  0, ...,  0,  0,  0],\n",
       "       [ 0,  3,  0, ...,  0,  2,  0],\n",
       "       [ 0,  0,  0, ...,  0,  0,  0],\n",
       "       ...,\n",
       "       [ 0,  0,  4, ...,  0,  0,  0],\n",
       "       [ 0,  8,  1, ...,  0,  0,  0],\n",
       "       [11,  0,  2, ...,  0,  0,  0]], dtype=int64)"
      ]
     },
     "execution_count": 119,
     "metadata": {},
     "output_type": "execute_result"
    }
   ],
   "source": [
    "# count_text_vectors.get_feature_names_out()\n",
    "count_text_vectors.toarray()\n",
    "# list(np.array(cv_fit.sum(axis=0))[0])"
   ]
  },
  {
   "cell_type": "code",
   "execution_count": null,
   "id": "ad0b438c",
   "metadata": {},
   "outputs": [],
   "source": [
    "# Fit your LDA model here\n",
    "\n",
    "lda_text_model = LatentDirichletAllocation(n_components=5, random_state=0)\n",
    "W_lda_text_matrix = lda_text_model.fit_transform(tfidf_text_vectors)\n",
    "H_lda_text_matrix = lda_text_model.components_"
   ]
  },
  {
   "cell_type": "code",
   "execution_count": 87,
   "id": "81578a6e",
   "metadata": {},
   "outputs": [
    {
     "ename": "NameError",
     "evalue": "name 'documents' is not defined",
     "output_type": "error",
     "traceback": [
      "\u001b[1;31m---------------------------------------------------------------------------\u001b[0m",
      "\u001b[1;31mNameError\u001b[0m                                 Traceback (most recent call last)",
      "Cell \u001b[1;32mIn[87], line 2\u001b[0m\n\u001b[0;32m      1\u001b[0m processed_documents \u001b[39m=\u001b[39m {}\n\u001b[1;32m----> 2\u001b[0m \u001b[39mfor\u001b[39;00m document \u001b[39min\u001b[39;00m documents:\n\u001b[0;32m      3\u001b[0m     processed_sentences \u001b[39m=\u001b[39m []\n\u001b[0;32m      4\u001b[0m     sentences \u001b[39m=\u001b[39m brown\u001b[39m.\u001b[39msents(document)\n",
      "\u001b[1;31mNameError\u001b[0m: name 'documents' is not defined"
     ]
    }
   ],
   "source": [
    "processed_documents = {}\n",
    "for document in documents:\n",
    "    processed_sentences = []\n",
    "    sentences = brown.sents(document)\n",
    "    for sentence in sentences:\n",
    "        processed_sentences.append([word.lower() for word in sentence if word.isalnum() and word not in stopwords])\n",
    "    processed_documents[document] = processed_sentences"
   ]
  },
  {
   "cell_type": "code",
   "execution_count": null,
   "id": "754bf18f",
   "metadata": {},
   "outputs": [],
   "source": [
    "def get_topic_assignment(processed_documents, n_topics):\n",
    "    np.random.seed(42)\n",
    "    topic_assignment = {}\n",
    "    for document, sentences in processed_documents.items():\n",
    "        words = list(itertools.chain(*sentences))\n",
    "        topics_assigned = np.random.choice(range(n_topics), len(words), replace=True)\n",
    "        topic_assignment[document] = list(zip(words, topics_assigned))\n",
    "    return topic_assignment\n",
    "\n",
    "initial_topic_assignment = get_topic_assignment(processed_documents, n_topics)"
   ]
  },
  {
   "cell_type": "code",
   "execution_count": null,
   "id": "1992d113",
   "metadata": {},
   "outputs": [],
   "source": [
    "def get_CWT_matrix(topic_assignment):\n",
    "    word_topics = topic_assignment.values()\n",
    "    count_word_topics_dict = Counter(list(itertools.chain(*word_topics)))\n",
    "    CWT_words = np.array(list(count_word_topics_dict.keys()))[:, 0]\n",
    "    CWT_words = list(map(lambda x: token2int[x], CWT_words))\n",
    "    CWT_topics = list(map(int, np.array(list(count_word_topics_dict.keys()))[:, 1]))\n",
    "    counts = list(count_word_topics_dict.values())\n",
    "    CWT = np.zeros((n_tokens, n_topics), dtype='int')\n",
    "    CWT[CWT_words, CWT_topics] = counts\n",
    "    return CWT\n",
    "\n",
    "CWT = get_CWT_matrix(initial_topic_assignment)\n",
    "\n",
    "CWT"
   ]
  },
  {
   "cell_type": "code",
   "execution_count": 88,
   "id": "3fa9db10",
   "metadata": {},
   "outputs": [
    {
     "ename": "NameError",
     "evalue": "name 'initial_topic_assignment' is not defined",
     "output_type": "error",
     "traceback": [
      "\u001b[1;31m---------------------------------------------------------------------------\u001b[0m",
      "\u001b[1;31mNameError\u001b[0m                                 Traceback (most recent call last)",
      "Cell \u001b[1;32mIn[88], line 10\u001b[0m\n\u001b[0;32m      7\u001b[0m         CDT[document2int[document], topic_indices] \u001b[39m=\u001b[39m topic_counts \n\u001b[0;32m      8\u001b[0m     \u001b[39mreturn\u001b[39;00m CDT\n\u001b[1;32m---> 10\u001b[0m CDT \u001b[39m=\u001b[39m get_CDT_matrix(initial_topic_assignment)\n\u001b[0;32m     12\u001b[0m CDT\n",
      "\u001b[1;31mNameError\u001b[0m: name 'initial_topic_assignment' is not defined"
     ]
    }
   ],
   "source": [
    "def get_CDT_matrix(topic_assignment):\n",
    "    CDT = np.zeros((n_documents, n_topics), dtype='int')\n",
    "    for document, word_topics in topic_assignment.items():\n",
    "        count_topic_dict = Counter(list(map(int, np.array(word_topics)[:, 1])))\n",
    "        topic_indices = list(count_topic_dict.keys())\n",
    "        topic_counts = list(count_topic_dict.values())\n",
    "        CDT[document2int[document], topic_indices] = topic_counts \n",
    "    return CDT\n",
    "\n",
    "CDT = get_CDT_matrix(initial_topic_assignment)\n",
    "\n",
    "CDT"
   ]
  },
  {
   "cell_type": "code",
   "execution_count": 91,
   "id": "84f020fb",
   "metadata": {},
   "outputs": [
    {
     "data": {
      "text/plain": [
       "4941"
      ]
     },
     "execution_count": 91,
     "metadata": {},
     "output_type": "execute_result"
    }
   ],
   "source": [
    "len(H_lda_text_matrix[0])"
   ]
  },
  {
   "cell_type": "code",
   "execution_count": 97,
   "id": "6a17344a",
   "metadata": {},
   "outputs": [
    {
     "ename": "TypeError",
     "evalue": "prepare() missing 2 required positional arguments: 'vocab' and 'term_frequency'",
     "output_type": "error",
     "traceback": [
      "\u001b[1;31m---------------------------------------------------------------------------\u001b[0m",
      "\u001b[1;31mTypeError\u001b[0m                                 Traceback (most recent call last)",
      "Cell \u001b[1;32mIn[97], line 8\u001b[0m\n\u001b[0;32m      5\u001b[0m \u001b[39m# feed the LDA model into the pyLDAvis instance\u001b[39;00m\n\u001b[0;32m      6\u001b[0m \u001b[39m# \u001b[39;00m\n\u001b[0;32m      7\u001b[0m pyLDAvis\u001b[39m.\u001b[39menable_notebook()\n\u001b[1;32m----> 8\u001b[0m vis \u001b[39m=\u001b[39m pyLDAvis\u001b[39m.\u001b[39;49mprepare(W_lda_text_matrix, H_lda_text_matrix, W_lda_text_matrix) \u001b[39m# tfidf_text_vectors   count_text_vectors\u001b[39;00m\n\u001b[0;32m      9\u001b[0m vis\n",
      "\u001b[1;31mTypeError\u001b[0m: prepare() missing 2 required positional arguments: 'vocab' and 'term_frequency'"
     ]
    }
   ],
   "source": [
    "import pyLDAvis\n",
    "import pyLDAvis.gensim_models as gensimvis\n",
    "pyLDAvis.enable_notebook()\n",
    "\n",
    "# feed the LDA model into the pyLDAvis instance\n",
    "# \n",
    "pyLDAvis.enable_notebook()\n",
    "vis = pyLDAvis.prepare(W_lda_text_matrix, H_lda_text_matrix, W_lda_text_matrix) # tfidf_text_vectors   count_text_vectors\n",
    "vis\n"
   ]
  },
  {
   "cell_type": "code",
   "execution_count": 96,
   "id": "2dd0a4ca",
   "metadata": {},
   "outputs": [
    {
     "data": {
      "text/plain": [
       "166"
      ]
     },
     "execution_count": 96,
     "metadata": {},
     "output_type": "execute_result"
    }
   ],
   "source": [
    "len(W_lda_text_matrix)"
   ]
  },
  {
   "cell_type": "code",
   "execution_count": null,
   "id": "7584323e",
   "metadata": {},
   "outputs": [],
   "source": [
    "count_text_vectorizer = CountVectorizer(stop_words=list(stopwords), min_df=5, max_df=0.7)\n",
    "count_text_vectors = count_text_vectorizer.fit_transform(df['text'])\n",
    "count_text_vectors.shape"
   ]
  },
  {
   "cell_type": "code",
   "execution_count": 71,
   "id": "bef4e084",
   "metadata": {},
   "outputs": [
    {
     "data": {
      "text/plain": [
       "array([[ 0,  3,  0, ...,  0,  0,  0],\n",
       "       [ 0,  3,  0, ...,  0,  2,  0],\n",
       "       [ 0,  0,  0, ...,  0,  0,  0],\n",
       "       ...,\n",
       "       [ 0,  0,  4, ...,  0,  0,  0],\n",
       "       [ 0,  8,  1, ...,  0,  0,  0],\n",
       "       [11,  0,  2, ...,  0,  0,  0]], dtype=int64)"
      ]
     },
     "execution_count": 71,
     "metadata": {},
     "output_type": "execute_result"
    }
   ],
   "source": [
    "count_text_vectors.toarray()"
   ]
  },
  {
   "cell_type": "code",
   "execution_count": 70,
   "id": "b34d7702",
   "metadata": {},
   "outputs": [
    {
     "ename": "TypeError",
     "evalue": "doc2bow expects an array of unicode tokens on input, not a single string",
     "output_type": "error",
     "traceback": [
      "\u001b[1;31m---------------------------------------------------------------------------\u001b[0m",
      "\u001b[1;31mTypeError\u001b[0m                                 Traceback (most recent call last)",
      "Cell \u001b[1;32mIn[70], line 3\u001b[0m\n\u001b[0;32m      1\u001b[0m \u001b[39mfrom\u001b[39;00m \u001b[39mgensim\u001b[39;00m\u001b[39m.\u001b[39;00m\u001b[39mcorpora\u001b[39;00m \u001b[39mimport\u001b[39;00m Dictionary\n\u001b[1;32m----> 3\u001b[0m id2word \u001b[39m=\u001b[39m Dictionary(tfidf_text_vectorizer\u001b[39m.\u001b[39;49mget_feature_names_out())\n",
      "File \u001b[1;32m~\\AppData\\Local\\Packages\\PythonSoftwareFoundation.Python.3.11_qbz5n2kfra8p0\\LocalCache\\local-packages\\Python311\\site-packages\\gensim\\corpora\\dictionary.py:78\u001b[0m, in \u001b[0;36mDictionary.__init__\u001b[1;34m(self, documents, prune_at)\u001b[0m\n\u001b[0;32m     75\u001b[0m \u001b[39mself\u001b[39m\u001b[39m.\u001b[39mnum_nnz \u001b[39m=\u001b[39m \u001b[39m0\u001b[39m\n\u001b[0;32m     77\u001b[0m \u001b[39mif\u001b[39;00m documents \u001b[39mis\u001b[39;00m \u001b[39mnot\u001b[39;00m \u001b[39mNone\u001b[39;00m:\n\u001b[1;32m---> 78\u001b[0m     \u001b[39mself\u001b[39;49m\u001b[39m.\u001b[39;49madd_documents(documents, prune_at\u001b[39m=\u001b[39;49mprune_at)\n\u001b[0;32m     79\u001b[0m     \u001b[39mself\u001b[39m\u001b[39m.\u001b[39madd_lifecycle_event(\n\u001b[0;32m     80\u001b[0m         \u001b[39m\"\u001b[39m\u001b[39mcreated\u001b[39m\u001b[39m\"\u001b[39m,\n\u001b[0;32m     81\u001b[0m         msg\u001b[39m=\u001b[39m\u001b[39mf\u001b[39m\u001b[39m\"\u001b[39m\u001b[39mbuilt \u001b[39m\u001b[39m{\u001b[39;00m\u001b[39mself\u001b[39m\u001b[39m}\u001b[39;00m\u001b[39m from \u001b[39m\u001b[39m{\u001b[39;00m\u001b[39mself\u001b[39m\u001b[39m.\u001b[39mnum_docs\u001b[39m}\u001b[39;00m\u001b[39m documents (total \u001b[39m\u001b[39m{\u001b[39;00m\u001b[39mself\u001b[39m\u001b[39m.\u001b[39mnum_pos\u001b[39m}\u001b[39;00m\u001b[39m corpus positions)\u001b[39m\u001b[39m\"\u001b[39m,\n\u001b[0;32m     82\u001b[0m     )\n",
      "File \u001b[1;32m~\\AppData\\Local\\Packages\\PythonSoftwareFoundation.Python.3.11_qbz5n2kfra8p0\\LocalCache\\local-packages\\Python311\\site-packages\\gensim\\corpora\\dictionary.py:204\u001b[0m, in \u001b[0;36mDictionary.add_documents\u001b[1;34m(self, documents, prune_at)\u001b[0m\n\u001b[0;32m    201\u001b[0m         logger\u001b[39m.\u001b[39minfo(\u001b[39m\"\u001b[39m\u001b[39madding document #\u001b[39m\u001b[39m%i\u001b[39;00m\u001b[39m to \u001b[39m\u001b[39m%s\u001b[39;00m\u001b[39m\"\u001b[39m, docno, \u001b[39mself\u001b[39m)\n\u001b[0;32m    203\u001b[0m     \u001b[39m# update Dictionary with the document\u001b[39;00m\n\u001b[1;32m--> 204\u001b[0m     \u001b[39mself\u001b[39;49m\u001b[39m.\u001b[39;49mdoc2bow(document, allow_update\u001b[39m=\u001b[39;49m\u001b[39mTrue\u001b[39;49;00m)  \u001b[39m# ignore the result, here we only care about updating token ids\u001b[39;00m\n\u001b[0;32m    206\u001b[0m logger\u001b[39m.\u001b[39minfo(\u001b[39m\"\u001b[39m\u001b[39mbuilt \u001b[39m\u001b[39m%s\u001b[39;00m\u001b[39m from \u001b[39m\u001b[39m%i\u001b[39;00m\u001b[39m documents (total \u001b[39m\u001b[39m%i\u001b[39;00m\u001b[39m corpus positions)\u001b[39m\u001b[39m\"\u001b[39m, \u001b[39mself\u001b[39m, \u001b[39mself\u001b[39m\u001b[39m.\u001b[39mnum_docs, \u001b[39mself\u001b[39m\u001b[39m.\u001b[39mnum_pos)\n",
      "File \u001b[1;32m~\\AppData\\Local\\Packages\\PythonSoftwareFoundation.Python.3.11_qbz5n2kfra8p0\\LocalCache\\local-packages\\Python311\\site-packages\\gensim\\corpora\\dictionary.py:241\u001b[0m, in \u001b[0;36mDictionary.doc2bow\u001b[1;34m(self, document, allow_update, return_missing)\u001b[0m\n\u001b[0;32m    209\u001b[0m \u001b[39m\u001b[39m\u001b[39m\"\"\"Convert `document` into the bag-of-words (BoW) format = list of `(token_id, token_count)` tuples.\u001b[39;00m\n\u001b[0;32m    210\u001b[0m \n\u001b[0;32m    211\u001b[0m \u001b[39mParameters\u001b[39;00m\n\u001b[1;32m   (...)\u001b[0m\n\u001b[0;32m    238\u001b[0m \n\u001b[0;32m    239\u001b[0m \u001b[39m\"\"\"\u001b[39;00m\n\u001b[0;32m    240\u001b[0m \u001b[39mif\u001b[39;00m \u001b[39misinstance\u001b[39m(document, \u001b[39mstr\u001b[39m):\n\u001b[1;32m--> 241\u001b[0m     \u001b[39mraise\u001b[39;00m \u001b[39mTypeError\u001b[39;00m(\u001b[39m\"\u001b[39m\u001b[39mdoc2bow expects an array of unicode tokens on input, not a single string\u001b[39m\u001b[39m\"\u001b[39m)\n\u001b[0;32m    243\u001b[0m \u001b[39m# Construct (word, frequency) mapping.\u001b[39;00m\n\u001b[0;32m    244\u001b[0m counter \u001b[39m=\u001b[39m defaultdict(\u001b[39mint\u001b[39m)\n",
      "\u001b[1;31mTypeError\u001b[0m: doc2bow expects an array of unicode tokens on input, not a single string"
     ]
    }
   ],
   "source": [
    "from gensim.corpora import Dictionary\n",
    "\n",
    "id2word = Dictionary(tfidf_text_vectorizer.get_feature_names_out())"
   ]
  },
  {
   "cell_type": "code",
   "execution_count": 124,
   "id": "a097005c",
   "metadata": {},
   "outputs": [
    {
     "data": {
      "text/plain": [
       "array([[0.20001383, 0.20000661, 0.20000784, ..., 0.200009  , 0.20001497,\n",
       "        0.2000154 ],\n",
       "       [0.60211779, 3.56008841, 1.79296626, ..., 0.79801466, 0.42446254,\n",
       "        0.35318368],\n",
       "       [0.20001383, 0.20000661, 0.20000784, ..., 0.200009  , 0.20001497,\n",
       "        0.2000154 ],\n",
       "       [0.20001383, 0.20000661, 0.20000784, ..., 0.200009  , 0.20001497,\n",
       "        0.2000154 ],\n",
       "       [0.20001383, 0.20000661, 0.20000784, ..., 0.200009  , 0.20001497,\n",
       "        0.2000154 ]])"
      ]
     },
     "execution_count": 124,
     "metadata": {},
     "output_type": "execute_result"
    }
   ],
   "source": [
    "lda_text_model.components_\n"
   ]
  },
  {
   "cell_type": "code",
   "execution_count": 151,
   "id": "2fe9f378",
   "metadata": {},
   "outputs": [],
   "source": [
    "#function for lemmatization\n",
    "\n",
    "import gensim.corpora as corpora\n",
    "\n",
    "#cleaning the text \n",
    "\n",
    "def tokeniz(sentences):\n",
    "\n",
    "    for sentence in sentences:\n",
    "\n",
    "        yield(gensim.utils.simple_preprocess(str(sentence), deacc=True))\n",
    "\n",
    "\n",
    "\n",
    "#removing stopwords, creating bigrams and lemmatizing the text\n",
    "\n",
    "data_lemmatized = list(tokeniz(df[\"text\"]))\n",
    "\n",
    "#creating a dictionary\n",
    "\n",
    "gensim_dictionary = corpora.Dictionary(data_lemmatized)\n",
    "\n",
    "#building a corpus for the topic model\n",
    "\n",
    "texts = data_lemmatized\n",
    "gensim_corpus = [gensim_dictionary.doc2bow(text) for text in texts]"
   ]
  },
  {
   "cell_type": "code",
   "execution_count": 152,
   "id": "54fb2c17",
   "metadata": {},
   "outputs": [
    {
     "ename": "TypeError",
     "evalue": "doc2bow expects an array of unicode tokens on input, not a single string",
     "output_type": "error",
     "traceback": [
      "\u001b[1;31m---------------------------------------------------------------------------\u001b[0m",
      "\u001b[1;31mTypeError\u001b[0m                                 Traceback (most recent call last)",
      "Cell \u001b[1;32mIn[152], line 1\u001b[0m\n\u001b[1;32m----> 1\u001b[0m gensim_dictionary \u001b[39m=\u001b[39m corpora\u001b[39m.\u001b[39;49mDictionary(df[\u001b[39m\"\u001b[39;49m\u001b[39mtext\u001b[39;49m\u001b[39m\"\u001b[39;49m])\n",
      "File \u001b[1;32m~\\AppData\\Local\\Packages\\PythonSoftwareFoundation.Python.3.11_qbz5n2kfra8p0\\LocalCache\\local-packages\\Python311\\site-packages\\gensim\\corpora\\dictionary.py:78\u001b[0m, in \u001b[0;36mDictionary.__init__\u001b[1;34m(self, documents, prune_at)\u001b[0m\n\u001b[0;32m     75\u001b[0m \u001b[39mself\u001b[39m\u001b[39m.\u001b[39mnum_nnz \u001b[39m=\u001b[39m \u001b[39m0\u001b[39m\n\u001b[0;32m     77\u001b[0m \u001b[39mif\u001b[39;00m documents \u001b[39mis\u001b[39;00m \u001b[39mnot\u001b[39;00m \u001b[39mNone\u001b[39;00m:\n\u001b[1;32m---> 78\u001b[0m     \u001b[39mself\u001b[39;49m\u001b[39m.\u001b[39;49madd_documents(documents, prune_at\u001b[39m=\u001b[39;49mprune_at)\n\u001b[0;32m     79\u001b[0m     \u001b[39mself\u001b[39m\u001b[39m.\u001b[39madd_lifecycle_event(\n\u001b[0;32m     80\u001b[0m         \u001b[39m\"\u001b[39m\u001b[39mcreated\u001b[39m\u001b[39m\"\u001b[39m,\n\u001b[0;32m     81\u001b[0m         msg\u001b[39m=\u001b[39m\u001b[39mf\u001b[39m\u001b[39m\"\u001b[39m\u001b[39mbuilt \u001b[39m\u001b[39m{\u001b[39;00m\u001b[39mself\u001b[39m\u001b[39m}\u001b[39;00m\u001b[39m from \u001b[39m\u001b[39m{\u001b[39;00m\u001b[39mself\u001b[39m\u001b[39m.\u001b[39mnum_docs\u001b[39m}\u001b[39;00m\u001b[39m documents (total \u001b[39m\u001b[39m{\u001b[39;00m\u001b[39mself\u001b[39m\u001b[39m.\u001b[39mnum_pos\u001b[39m}\u001b[39;00m\u001b[39m corpus positions)\u001b[39m\u001b[39m\"\u001b[39m,\n\u001b[0;32m     82\u001b[0m     )\n",
      "File \u001b[1;32m~\\AppData\\Local\\Packages\\PythonSoftwareFoundation.Python.3.11_qbz5n2kfra8p0\\LocalCache\\local-packages\\Python311\\site-packages\\gensim\\corpora\\dictionary.py:204\u001b[0m, in \u001b[0;36mDictionary.add_documents\u001b[1;34m(self, documents, prune_at)\u001b[0m\n\u001b[0;32m    201\u001b[0m         logger\u001b[39m.\u001b[39minfo(\u001b[39m\"\u001b[39m\u001b[39madding document #\u001b[39m\u001b[39m%i\u001b[39;00m\u001b[39m to \u001b[39m\u001b[39m%s\u001b[39;00m\u001b[39m\"\u001b[39m, docno, \u001b[39mself\u001b[39m)\n\u001b[0;32m    203\u001b[0m     \u001b[39m# update Dictionary with the document\u001b[39;00m\n\u001b[1;32m--> 204\u001b[0m     \u001b[39mself\u001b[39;49m\u001b[39m.\u001b[39;49mdoc2bow(document, allow_update\u001b[39m=\u001b[39;49m\u001b[39mTrue\u001b[39;49;00m)  \u001b[39m# ignore the result, here we only care about updating token ids\u001b[39;00m\n\u001b[0;32m    206\u001b[0m logger\u001b[39m.\u001b[39minfo(\u001b[39m\"\u001b[39m\u001b[39mbuilt \u001b[39m\u001b[39m%s\u001b[39;00m\u001b[39m from \u001b[39m\u001b[39m%i\u001b[39;00m\u001b[39m documents (total \u001b[39m\u001b[39m%i\u001b[39;00m\u001b[39m corpus positions)\u001b[39m\u001b[39m\"\u001b[39m, \u001b[39mself\u001b[39m, \u001b[39mself\u001b[39m\u001b[39m.\u001b[39mnum_docs, \u001b[39mself\u001b[39m\u001b[39m.\u001b[39mnum_pos)\n",
      "File \u001b[1;32m~\\AppData\\Local\\Packages\\PythonSoftwareFoundation.Python.3.11_qbz5n2kfra8p0\\LocalCache\\local-packages\\Python311\\site-packages\\gensim\\corpora\\dictionary.py:241\u001b[0m, in \u001b[0;36mDictionary.doc2bow\u001b[1;34m(self, document, allow_update, return_missing)\u001b[0m\n\u001b[0;32m    209\u001b[0m \u001b[39m\u001b[39m\u001b[39m\"\"\"Convert `document` into the bag-of-words (BoW) format = list of `(token_id, token_count)` tuples.\u001b[39;00m\n\u001b[0;32m    210\u001b[0m \n\u001b[0;32m    211\u001b[0m \u001b[39mParameters\u001b[39;00m\n\u001b[1;32m   (...)\u001b[0m\n\u001b[0;32m    238\u001b[0m \n\u001b[0;32m    239\u001b[0m \u001b[39m\"\"\"\u001b[39;00m\n\u001b[0;32m    240\u001b[0m \u001b[39mif\u001b[39;00m \u001b[39misinstance\u001b[39m(document, \u001b[39mstr\u001b[39m):\n\u001b[1;32m--> 241\u001b[0m     \u001b[39mraise\u001b[39;00m \u001b[39mTypeError\u001b[39;00m(\u001b[39m\"\u001b[39m\u001b[39mdoc2bow expects an array of unicode tokens on input, not a single string\u001b[39m\u001b[39m\"\u001b[39m)\n\u001b[0;32m    243\u001b[0m \u001b[39m# Construct (word, frequency) mapping.\u001b[39;00m\n\u001b[0;32m    244\u001b[0m counter \u001b[39m=\u001b[39m defaultdict(\u001b[39mint\u001b[39m)\n",
      "\u001b[1;31mTypeError\u001b[0m: doc2bow expects an array of unicode tokens on input, not a single string"
     ]
    }
   ],
   "source": [
    "gensim_dictionary = corpora.Dictionary(df[\"text\"])"
   ]
  },
  {
   "cell_type": "code",
   "execution_count": 153,
   "id": "1a1781e4",
   "metadata": {},
   "outputs": [
    {
     "data": {
      "text/plain": [
       "'abandoning'"
      ]
     },
     "execution_count": 153,
     "metadata": {},
     "output_type": "execute_result"
    }
   ],
   "source": [
    "gensim_dictionary[0]"
   ]
  },
  {
   "cell_type": "code",
   "execution_count": 154,
   "id": "434cd012",
   "metadata": {},
   "outputs": [
    {
     "data": {
      "text/plain": [
       "\"Assembly session brought much good The General Assembly , which adjourns today , has performed in an atmosphere of crisis and struggle from the day it convened . It was faced immediately with a showdown on the schools , an issue which was met squarely in conjunction with the governor with a decision not to risk abandoning public education . There followed the historic appropriations and budget fight , in which the General Assembly decided to tackle executive powers . The final decision went to the executive but a way has been opened for strengthening budgeting procedures and to provide legislators information they need . Long-range planning of programs and ways to finance them have become musts if the state in the next few years is to avoid crisis-to-crisis government . This session , for instance , may have insured a financial crisis two years from now . In all the turmoil , some good legislation was passed . Some other good bills were lost in the shuffle and await future action . Certainly all can applaud passage of an auto title law , the school bills , the increase in teacher pensions , the ban on drag racing , acceptance by the state of responsibility for maintenance of state roads in municipalities at the same rate as outside city limits , repeal of the college age limit law and the road maintenance bond issue . No action has been taken , however , on such major problems as ending the fee system , penal reform , modification of the county unit system and in outright banning of fireworks sales . Only a token start was made in attacking the tax reappraisal question and its companion issue of attracting industry to the state . The legislature expended most of its time on the schools and appropriations questions . Fortunately it spared us from the usual spate of silly resolutions which in the past have made Georgia look like anything but `` the empire state of the South '' . We congratulate the entire membership on its record of good legislation . In the interim between now and next year , we trust the House and Senate will put their minds to studying Georgia's very real economic , fiscal and social problems and come up with answers without all the political heroics . League regularly stands on the side of right The League of Women Voters , 40 now and admitting it proudly , is inviting financial contributions in the windup of its fund drive . It's a good use of money . These women whose organization grew out of the old suffrage movement are dedicated to Thomas Jefferson's dictum that one must cherish the people's spirit but `` Keep alive their attention '' . `` If once they become inattentive to the public affairs '' , Jefferson said , `` you and I , and Congress and assemblies , judges and governors , shall all become wolves '' . Newspapermen and politicians especially are aware of the penetrating attention and expert analysis the league gives to public affairs . The league workers search out the pros and cons of the most complex issues and make them available to the public . The harder the choice , the more willing the league is to wade in . And the league takes a stand , with great regularity , on the side of right . Look to Coosa Valley for industrial progress Cities and counties interested in industrial development would do well in the months ahead to keep their eyes peeled toward the 13 northwest Georgia counties that are members of the Coosa Valley Area Planning and Development Commission . Coupling its own budget of $83,750 with a $30,000 state grant authorized by Gov. Vandiver , the group expects to sign a contract in March with Georgia Tech. . Then a full-time planning office will be established in Rome to work with a five-member Georgia Tech research staff for development of an area planning and industrial development program . The undertaking has abundant promise . It recognizes the fact that what helps one county helps its neighbors and that by banding together in an area-wide effort better results can be accomplished than through the go-it-alone approach . Rusk idea strengthens United States defense The Rusk belief in balanced defense , replacing the Dulles theory of massive retaliation , removes a grave danger that has existed . The danger lay not in believing that our own A-bombs would deter Russia's use of hers ; ; that theory was and is sound . The danger lay in the American delusion that nuclear deterrence was enough . By limiting American strength too much to nuclear strength , this country limited its ability to fight any kind of war besides a nuclear war . This strategy heightened the possibility that we would have a nuclear war . It also weakened our diplomatic stance , because Russia could easily guess we did not desire a nuclear war except in the ultimate extremity . This left the Soviets plenty of leeway to start low-grade brushfire aggressions with considerable impunity . By maintaining the nuclear deterrent , but gearing American military forces to fight conventional wars too , Secretary of State Rusk junks bluff and nuclear brinkmanship and builds more muscle and greater safety into our military position . DeKalb budget shows county is on beam DeKalb's budget for 1961 is a record one and carries with it the promise of no tax increase to make it balance . It includes a raise in the county minimum wage , creation of several new jobs at the executive level , financing of beefed-up industrial development efforts , and increased expenditures for essential services such as health and welfare , fire protection , sanitation and road maintenance . That such expansion can be obtained without a raise in taxes is due to growth of the tax digest and sound fiscal planning on the part of the board of commissioners , headed by Chairman Charles O. Emmerich who is demonstrating that the public trust he was given was well placed , and other county officials . Somewhere , somebody is bound to love us G. Mennen Williams is learning the difficulties of diplomacy rapidly . Touring Africa , the new U.S. Assistant Secretary of State observed `` Africa should be for the Africans '' and the British promptly denounced him . Then he arrived in Zanzibar and found Africans carrying signs saying `` American imperialists , go home '' . Chin up , Soapy . Power company backs confidence with dollars Confidence in the state's economic future is reflected in the Georgia Power Company's record construction budget for this year . The firm does a large amount of research and its forecasts have meaning . It is good to know that Georgia will continue to have sufficient electrical power not only to meet the demands of normal growth but to encourage a more rapid rate of industrialization . Georgia's mental health program received a badly needed boost from the General Assembly in the form of a $1,750,000 budget increase for the Milledgeville State Hospital . Actually it amounts to $1,250,000 above what the institution already is receiving , considering the additional half-million dollars Gov. Vandiver allocated last year from the state surplus . Either way it sounds like a sizable hunk of money and is . But exactly how far it will go toward improving conditions is another question because there is so much that needs doing . The practice of charging employes for meals whether they eat at the hospital or not should be abolished . The work week of attendants who are on duty 65 hours and more per week should be reduced . More attendants , nurses and doctors should be hired . Patients deserve more attention than they are getting . Even with the increase in funds for the next fiscal year , Georgia will be spending only around $3.15 per day per patient . The national average is more than $4 and that figure is considered by experts in the mental health field to be too low . Kansas , regarded as tops in the nation in its treatment of the mentally ill , spends $9 per day per patient . Georgia has made some reforms , true . The intensive treatment program is working well . But in so many other areas we still are dragging . Considering what is being done compared to what needs to be done , it behooves the hospital management to do some mighty careful planning toward making the best possible use of the increase granted . The boost is helpful but inadequate . The end of Trujillo Assassination , even of a tyrant , is repulsive to men of good conscience . Rafael Trujillo , the often blood-thirsty dictator of the Dominican Republic for 31 years , perhaps deserved his fate in an even-handed appraisal of history . But whether the murder of El Benefactor in Ciudad Trujillo means freedom for the people of the Caribbean fiefdom is a question that cannot now be answered . Trujillo knew a great deal about assassination . The responsibility for scores of deaths , including the abduction and murder of Jesus Maria Galindez , a professor at Columbia University in New York , has been laid at his door . He had been involved in countless schemes to do away with democratic leaders in neighboring countries such as President Romulo Betancourt of Venezuela . It was a sort of poetic justice that at the time of his own demise a new plot to overthrow the Venezuelan government , reportedly involving the use of Dominican arms by former Venezuelan Dictator Marcos Perez Jimenez , has been uncovered and quashed . The recent history of the Dominican Republic is an almost classical study of the way in which even a professedly benevolent dictatorship tends to become oppressive . Unquestionably Trujillo did some good things for his country : he improved public facilities such as roads and sanitation , attracted industry and investment and raised the standard of living notably . But the price was the silence of the grave for all criticism or opposition . El Benefactor's vanity grew with his personal wealth . The jails were filled to overflowing with political prisoners who had incurred his displeasure . He maintained amply financed lobbies in the United States and elsewhere which sycophantically chanted his praise , and his influence extended even to Congress . Until the last year or so the profession of friendship with the United States had been an article of faith with Trujillo , and altogether too often this profession was accepted here as evidence of his good character . Tardily the Government here came to understand how this country's own reputation was tarnished by the association with repression . Last year , after Trujillo had been cited for numerous aggressions in the Caribbean , the United States and many other members of the Organization of American States broke diplomatic relations with him . Thereupon followed a demonstration that tyranny knows no ideological confines . Trujillo's dictatorship had been along conservative , right-wing lines . But after the censure he and his propaganda started mouthing Communist slogans . There was considerable evidence of a tacit rapprochement with Castro in Cuba , previously a bete noire to Trujillo -- thus illustrating the way in which totalitarianism of the right and left coalesces . What comes after Trujillo is now the puzzle . The Dominican people have known no democratic institutions and precious little freedom for a generation , and all alternative leadership has been suppressed . Perhaps the army will be able to maintain stability , but the vacuum of free institutions creates a great danger . The Dominican Republic could turn toward Communist-type authoritarianism as easily as toward Western freedom . Such a twist would be a tragedy for the Dominican people , who deserve to breathe without fear . For that reason any democratic reform and effort to bring genuine representative government to the Dominican Republic will need the greatest sympathy and help . Start on rapid transit High-speed buses on the George Washington Memorial Parkway , operating between downtown Washington and Cabin John , Glen Echo and Brookmont , would constitute an alluring sample of what the new National Capital Transportation Agency can do for this city . In presenting plans for such express buses before the Montgomery County Council , the administrator of the NCTA , C. Darwin Stolzenbach , was frankly seeking support for the projects his agency will soon be launching . Such support should not be difficult to come by if all the plans to be presented by the NCTA are as attractive as this outline of express buses coming into the downtown area . Because the buses would not stop on the parkway , land for bus stations and for parking areas nearby will be needed . The NCTA is well advised to seek funds for this purpose from the present session of Congress .\""
      ]
     },
     "execution_count": 154,
     "metadata": {},
     "output_type": "execute_result"
    }
   ],
   "source": [
    "df[\"text\"][0]"
   ]
  },
  {
   "cell_type": "code",
   "execution_count": 155,
   "id": "d1a95261",
   "metadata": {},
   "outputs": [
    {
     "data": {
      "text/plain": [
       "['assembly',\n",
       " 'session',\n",
       " 'brought',\n",
       " 'much',\n",
       " 'good',\n",
       " 'the',\n",
       " 'general',\n",
       " 'assembly',\n",
       " 'which',\n",
       " 'adjourns',\n",
       " 'today',\n",
       " 'has',\n",
       " 'performed',\n",
       " 'in',\n",
       " 'an',\n",
       " 'atmosphere',\n",
       " 'of',\n",
       " 'crisis',\n",
       " 'and',\n",
       " 'struggle',\n",
       " 'from',\n",
       " 'the',\n",
       " 'day',\n",
       " 'it',\n",
       " 'convened',\n",
       " 'it',\n",
       " 'was',\n",
       " 'faced',\n",
       " 'immediately',\n",
       " 'with',\n",
       " 'showdown',\n",
       " 'on',\n",
       " 'the',\n",
       " 'schools',\n",
       " 'an',\n",
       " 'issue',\n",
       " 'which',\n",
       " 'was',\n",
       " 'met',\n",
       " 'squarely',\n",
       " 'in',\n",
       " 'conjunction',\n",
       " 'with',\n",
       " 'the',\n",
       " 'governor',\n",
       " 'with',\n",
       " 'decision',\n",
       " 'not',\n",
       " 'to',\n",
       " 'risk',\n",
       " 'abandoning',\n",
       " 'public',\n",
       " 'education',\n",
       " 'there',\n",
       " 'followed',\n",
       " 'the',\n",
       " 'historic',\n",
       " 'appropriations',\n",
       " 'and',\n",
       " 'budget',\n",
       " 'fight',\n",
       " 'in',\n",
       " 'which',\n",
       " 'the',\n",
       " 'general',\n",
       " 'assembly',\n",
       " 'decided',\n",
       " 'to',\n",
       " 'tackle',\n",
       " 'executive',\n",
       " 'powers',\n",
       " 'the',\n",
       " 'final',\n",
       " 'decision',\n",
       " 'went',\n",
       " 'to',\n",
       " 'the',\n",
       " 'executive',\n",
       " 'but',\n",
       " 'way',\n",
       " 'has',\n",
       " 'been',\n",
       " 'opened',\n",
       " 'for',\n",
       " 'strengthening',\n",
       " 'budgeting',\n",
       " 'procedures',\n",
       " 'and',\n",
       " 'to',\n",
       " 'provide',\n",
       " 'legislators',\n",
       " 'information',\n",
       " 'they',\n",
       " 'need',\n",
       " 'long',\n",
       " 'range',\n",
       " 'planning',\n",
       " 'of',\n",
       " 'programs',\n",
       " 'and',\n",
       " 'ways',\n",
       " 'to',\n",
       " 'finance',\n",
       " 'them',\n",
       " 'have',\n",
       " 'become',\n",
       " 'musts',\n",
       " 'if',\n",
       " 'the',\n",
       " 'state',\n",
       " 'in',\n",
       " 'the',\n",
       " 'next',\n",
       " 'few',\n",
       " 'years',\n",
       " 'is',\n",
       " 'to',\n",
       " 'avoid',\n",
       " 'crisis',\n",
       " 'to',\n",
       " 'crisis',\n",
       " 'government',\n",
       " 'this',\n",
       " 'session',\n",
       " 'for',\n",
       " 'instance',\n",
       " 'may',\n",
       " 'have',\n",
       " 'insured',\n",
       " 'financial',\n",
       " 'crisis',\n",
       " 'two',\n",
       " 'years',\n",
       " 'from',\n",
       " 'now',\n",
       " 'in',\n",
       " 'all',\n",
       " 'the',\n",
       " 'turmoil',\n",
       " 'some',\n",
       " 'good',\n",
       " 'legislation',\n",
       " 'was',\n",
       " 'passed',\n",
       " 'some',\n",
       " 'other',\n",
       " 'good',\n",
       " 'bills',\n",
       " 'were',\n",
       " 'lost',\n",
       " 'in',\n",
       " 'the',\n",
       " 'shuffle',\n",
       " 'and',\n",
       " 'await',\n",
       " 'future',\n",
       " 'action',\n",
       " 'certainly',\n",
       " 'all',\n",
       " 'can',\n",
       " 'applaud',\n",
       " 'passage',\n",
       " 'of',\n",
       " 'an',\n",
       " 'auto',\n",
       " 'title',\n",
       " 'law',\n",
       " 'the',\n",
       " 'school',\n",
       " 'bills',\n",
       " 'the',\n",
       " 'increase',\n",
       " 'in',\n",
       " 'teacher',\n",
       " 'pensions',\n",
       " 'the',\n",
       " 'ban',\n",
       " 'on',\n",
       " 'drag',\n",
       " 'racing',\n",
       " 'acceptance',\n",
       " 'by',\n",
       " 'the',\n",
       " 'state',\n",
       " 'of',\n",
       " 'responsibility',\n",
       " 'for',\n",
       " 'maintenance',\n",
       " 'of',\n",
       " 'state',\n",
       " 'roads',\n",
       " 'in',\n",
       " 'municipalities',\n",
       " 'at',\n",
       " 'the',\n",
       " 'same',\n",
       " 'rate',\n",
       " 'as',\n",
       " 'outside',\n",
       " 'city',\n",
       " 'limits',\n",
       " 'repeal',\n",
       " 'of',\n",
       " 'the',\n",
       " 'college',\n",
       " 'age',\n",
       " 'limit',\n",
       " 'law',\n",
       " 'and',\n",
       " 'the',\n",
       " 'road',\n",
       " 'maintenance',\n",
       " 'bond',\n",
       " 'issue',\n",
       " 'no',\n",
       " 'action',\n",
       " 'has',\n",
       " 'been',\n",
       " 'taken',\n",
       " 'however',\n",
       " 'on',\n",
       " 'such',\n",
       " 'major',\n",
       " 'problems',\n",
       " 'as',\n",
       " 'ending',\n",
       " 'the',\n",
       " 'fee',\n",
       " 'system',\n",
       " 'penal',\n",
       " 'reform',\n",
       " 'modification',\n",
       " 'of',\n",
       " 'the',\n",
       " 'county',\n",
       " 'unit',\n",
       " 'system',\n",
       " 'and',\n",
       " 'in',\n",
       " 'outright',\n",
       " 'banning',\n",
       " 'of',\n",
       " 'fireworks',\n",
       " 'sales',\n",
       " 'only',\n",
       " 'token',\n",
       " 'start',\n",
       " 'was',\n",
       " 'made',\n",
       " 'in',\n",
       " 'attacking',\n",
       " 'the',\n",
       " 'tax',\n",
       " 'reappraisal',\n",
       " 'question',\n",
       " 'and',\n",
       " 'its',\n",
       " 'companion',\n",
       " 'issue',\n",
       " 'of',\n",
       " 'attracting',\n",
       " 'industry',\n",
       " 'to',\n",
       " 'the',\n",
       " 'state',\n",
       " 'the',\n",
       " 'legislature',\n",
       " 'expended',\n",
       " 'most',\n",
       " 'of',\n",
       " 'its',\n",
       " 'time',\n",
       " 'on',\n",
       " 'the',\n",
       " 'schools',\n",
       " 'and',\n",
       " 'appropriations',\n",
       " 'questions',\n",
       " 'fortunately',\n",
       " 'it',\n",
       " 'spared',\n",
       " 'us',\n",
       " 'from',\n",
       " 'the',\n",
       " 'usual',\n",
       " 'spate',\n",
       " 'of',\n",
       " 'silly',\n",
       " 'resolutions',\n",
       " 'which',\n",
       " 'in',\n",
       " 'the',\n",
       " 'past',\n",
       " 'have',\n",
       " 'made',\n",
       " 'georgia',\n",
       " 'look',\n",
       " 'like',\n",
       " 'anything',\n",
       " 'but',\n",
       " 'the',\n",
       " 'empire',\n",
       " 'state',\n",
       " 'of',\n",
       " 'the',\n",
       " 'south',\n",
       " 'we',\n",
       " 'congratulate',\n",
       " 'the',\n",
       " 'entire',\n",
       " 'membership',\n",
       " 'on',\n",
       " 'its',\n",
       " 'record',\n",
       " 'of',\n",
       " 'good',\n",
       " 'legislation',\n",
       " 'in',\n",
       " 'the',\n",
       " 'interim',\n",
       " 'between',\n",
       " 'now',\n",
       " 'and',\n",
       " 'next',\n",
       " 'year',\n",
       " 'we',\n",
       " 'trust',\n",
       " 'the',\n",
       " 'house',\n",
       " 'and',\n",
       " 'senate',\n",
       " 'will',\n",
       " 'put',\n",
       " 'their',\n",
       " 'minds',\n",
       " 'to',\n",
       " 'studying',\n",
       " 'georgia',\n",
       " 'very',\n",
       " 'real',\n",
       " 'economic',\n",
       " 'fiscal',\n",
       " 'and',\n",
       " 'social',\n",
       " 'problems',\n",
       " 'and',\n",
       " 'come',\n",
       " 'up',\n",
       " 'with',\n",
       " 'answers',\n",
       " 'without',\n",
       " 'all',\n",
       " 'the',\n",
       " 'political',\n",
       " 'heroics',\n",
       " 'league',\n",
       " 'regularly',\n",
       " 'stands',\n",
       " 'on',\n",
       " 'the',\n",
       " 'side',\n",
       " 'of',\n",
       " 'right',\n",
       " 'the',\n",
       " 'league',\n",
       " 'of',\n",
       " 'women',\n",
       " 'voters',\n",
       " 'now',\n",
       " 'and',\n",
       " 'admitting',\n",
       " 'it',\n",
       " 'proudly',\n",
       " 'is',\n",
       " 'inviting',\n",
       " 'financial',\n",
       " 'contributions',\n",
       " 'in',\n",
       " 'the',\n",
       " 'windup',\n",
       " 'of',\n",
       " 'its',\n",
       " 'fund',\n",
       " 'drive',\n",
       " 'it',\n",
       " 'good',\n",
       " 'use',\n",
       " 'of',\n",
       " 'money',\n",
       " 'these',\n",
       " 'women',\n",
       " 'whose',\n",
       " 'organization',\n",
       " 'grew',\n",
       " 'out',\n",
       " 'of',\n",
       " 'the',\n",
       " 'old',\n",
       " 'suffrage',\n",
       " 'movement',\n",
       " 'are',\n",
       " 'dedicated',\n",
       " 'to',\n",
       " 'thomas',\n",
       " 'jefferson',\n",
       " 'dictum',\n",
       " 'that',\n",
       " 'one',\n",
       " 'must',\n",
       " 'cherish',\n",
       " 'the',\n",
       " 'people',\n",
       " 'spirit',\n",
       " 'but',\n",
       " 'keep',\n",
       " 'alive',\n",
       " 'their',\n",
       " 'attention',\n",
       " 'if',\n",
       " 'once',\n",
       " 'they',\n",
       " 'become',\n",
       " 'inattentive',\n",
       " 'to',\n",
       " 'the',\n",
       " 'public',\n",
       " 'affairs',\n",
       " 'jefferson',\n",
       " 'said',\n",
       " 'you',\n",
       " 'and',\n",
       " 'and',\n",
       " 'congress',\n",
       " 'and',\n",
       " 'assemblies',\n",
       " 'judges',\n",
       " 'and',\n",
       " 'governors',\n",
       " 'shall',\n",
       " 'all',\n",
       " 'become',\n",
       " 'wolves',\n",
       " 'newspapermen',\n",
       " 'and',\n",
       " 'politicians',\n",
       " 'especially',\n",
       " 'are',\n",
       " 'aware',\n",
       " 'of',\n",
       " 'the',\n",
       " 'penetrating',\n",
       " 'attention',\n",
       " 'and',\n",
       " 'expert',\n",
       " 'analysis',\n",
       " 'the',\n",
       " 'league',\n",
       " 'gives',\n",
       " 'to',\n",
       " 'public',\n",
       " 'affairs',\n",
       " 'the',\n",
       " 'league',\n",
       " 'workers',\n",
       " 'search',\n",
       " 'out',\n",
       " 'the',\n",
       " 'pros',\n",
       " 'and',\n",
       " 'cons',\n",
       " 'of',\n",
       " 'the',\n",
       " 'most',\n",
       " 'complex',\n",
       " 'issues',\n",
       " 'and',\n",
       " 'make',\n",
       " 'them',\n",
       " 'available',\n",
       " 'to',\n",
       " 'the',\n",
       " 'public',\n",
       " 'the',\n",
       " 'harder',\n",
       " 'the',\n",
       " 'choice',\n",
       " 'the',\n",
       " 'more',\n",
       " 'willing',\n",
       " 'the',\n",
       " 'league',\n",
       " 'is',\n",
       " 'to',\n",
       " 'wade',\n",
       " 'in',\n",
       " 'and',\n",
       " 'the',\n",
       " 'league',\n",
       " 'takes',\n",
       " 'stand',\n",
       " 'with',\n",
       " 'great',\n",
       " 'regularity',\n",
       " 'on',\n",
       " 'the',\n",
       " 'side',\n",
       " 'of',\n",
       " 'right',\n",
       " 'look',\n",
       " 'to',\n",
       " 'coosa',\n",
       " 'valley',\n",
       " 'for',\n",
       " 'industrial',\n",
       " 'progress',\n",
       " 'cities',\n",
       " 'and',\n",
       " 'counties',\n",
       " 'interested',\n",
       " 'in',\n",
       " 'industrial',\n",
       " 'development',\n",
       " 'would',\n",
       " 'do',\n",
       " 'well',\n",
       " 'in',\n",
       " 'the',\n",
       " 'months',\n",
       " 'ahead',\n",
       " 'to',\n",
       " 'keep',\n",
       " 'their',\n",
       " 'eyes',\n",
       " 'peeled',\n",
       " 'toward',\n",
       " 'the',\n",
       " 'northwest',\n",
       " 'georgia',\n",
       " 'counties',\n",
       " 'that',\n",
       " 'are',\n",
       " 'members',\n",
       " 'of',\n",
       " 'the',\n",
       " 'coosa',\n",
       " 'valley',\n",
       " 'area',\n",
       " 'planning',\n",
       " 'and',\n",
       " 'development',\n",
       " 'commission',\n",
       " 'coupling',\n",
       " 'its',\n",
       " 'own',\n",
       " 'budget',\n",
       " 'of',\n",
       " 'with',\n",
       " 'state',\n",
       " 'grant',\n",
       " 'authorized',\n",
       " 'by',\n",
       " 'gov',\n",
       " 'vandiver',\n",
       " 'the',\n",
       " 'group',\n",
       " 'expects',\n",
       " 'to',\n",
       " 'sign',\n",
       " 'contract',\n",
       " 'in',\n",
       " 'march',\n",
       " 'with',\n",
       " 'georgia',\n",
       " 'tech',\n",
       " 'then',\n",
       " 'full',\n",
       " 'time',\n",
       " 'planning',\n",
       " 'office',\n",
       " 'will',\n",
       " 'be',\n",
       " 'established',\n",
       " 'in',\n",
       " 'rome',\n",
       " 'to',\n",
       " 'work',\n",
       " 'with',\n",
       " 'five',\n",
       " 'member',\n",
       " 'georgia',\n",
       " 'tech',\n",
       " 'research',\n",
       " 'staff',\n",
       " 'for',\n",
       " 'development',\n",
       " 'of',\n",
       " 'an',\n",
       " 'area',\n",
       " 'planning',\n",
       " 'and',\n",
       " 'industrial',\n",
       " 'development',\n",
       " 'program',\n",
       " 'the',\n",
       " 'undertaking',\n",
       " 'has',\n",
       " 'abundant',\n",
       " 'promise',\n",
       " 'it',\n",
       " 'recognizes',\n",
       " 'the',\n",
       " 'fact',\n",
       " 'that',\n",
       " 'what',\n",
       " 'helps',\n",
       " 'one',\n",
       " 'county',\n",
       " 'helps',\n",
       " 'its',\n",
       " 'neighbors',\n",
       " 'and',\n",
       " 'that',\n",
       " 'by',\n",
       " 'banding',\n",
       " 'together',\n",
       " 'in',\n",
       " 'an',\n",
       " 'area',\n",
       " 'wide',\n",
       " 'effort',\n",
       " 'better',\n",
       " 'results',\n",
       " 'can',\n",
       " 'be',\n",
       " 'accomplished',\n",
       " 'than',\n",
       " 'through',\n",
       " 'the',\n",
       " 'go',\n",
       " 'it',\n",
       " 'alone',\n",
       " 'approach',\n",
       " 'rusk',\n",
       " 'idea',\n",
       " 'strengthens',\n",
       " 'united',\n",
       " 'states',\n",
       " 'defense',\n",
       " 'the',\n",
       " 'rusk',\n",
       " 'belief',\n",
       " 'in',\n",
       " 'balanced',\n",
       " 'defense',\n",
       " 'replacing',\n",
       " 'the',\n",
       " 'dulles',\n",
       " 'theory',\n",
       " 'of',\n",
       " 'massive',\n",
       " 'retaliation',\n",
       " 'removes',\n",
       " 'grave',\n",
       " 'danger',\n",
       " 'that',\n",
       " 'has',\n",
       " 'existed',\n",
       " 'the',\n",
       " 'danger',\n",
       " 'lay',\n",
       " 'not',\n",
       " 'in',\n",
       " 'believing',\n",
       " 'that',\n",
       " 'our',\n",
       " 'own',\n",
       " 'bombs',\n",
       " 'would',\n",
       " 'deter',\n",
       " 'russia',\n",
       " 'use',\n",
       " 'of',\n",
       " 'hers',\n",
       " 'that',\n",
       " 'theory',\n",
       " 'was',\n",
       " 'and',\n",
       " 'is',\n",
       " 'sound',\n",
       " 'the',\n",
       " 'danger',\n",
       " 'lay',\n",
       " 'in',\n",
       " 'the',\n",
       " 'american',\n",
       " 'delusion',\n",
       " 'that',\n",
       " 'nuclear',\n",
       " 'deterrence',\n",
       " 'was',\n",
       " 'enough',\n",
       " 'by',\n",
       " 'limiting',\n",
       " 'american',\n",
       " 'strength',\n",
       " 'too',\n",
       " 'much',\n",
       " 'to',\n",
       " 'nuclear',\n",
       " 'strength',\n",
       " 'this',\n",
       " 'country',\n",
       " 'limited',\n",
       " 'its',\n",
       " 'ability',\n",
       " 'to',\n",
       " 'fight',\n",
       " 'any',\n",
       " 'kind',\n",
       " 'of',\n",
       " 'war',\n",
       " 'besides',\n",
       " 'nuclear',\n",
       " 'war',\n",
       " 'this',\n",
       " 'strategy',\n",
       " 'heightened',\n",
       " 'the',\n",
       " 'possibility',\n",
       " 'that',\n",
       " 'we',\n",
       " 'would',\n",
       " 'have',\n",
       " 'nuclear',\n",
       " 'war',\n",
       " 'it',\n",
       " 'also',\n",
       " 'weakened',\n",
       " 'our',\n",
       " 'diplomatic',\n",
       " 'stance',\n",
       " 'because',\n",
       " 'russia',\n",
       " 'could',\n",
       " 'easily',\n",
       " 'guess',\n",
       " 'we',\n",
       " 'did',\n",
       " 'not',\n",
       " 'desire',\n",
       " 'nuclear',\n",
       " 'war',\n",
       " 'except',\n",
       " 'in',\n",
       " 'the',\n",
       " 'ultimate',\n",
       " 'extremity',\n",
       " 'this',\n",
       " 'left',\n",
       " 'the',\n",
       " 'soviets',\n",
       " 'plenty',\n",
       " 'of',\n",
       " 'leeway',\n",
       " 'to',\n",
       " 'start',\n",
       " 'low',\n",
       " 'grade',\n",
       " 'brushfire',\n",
       " 'aggressions',\n",
       " 'with',\n",
       " 'considerable',\n",
       " 'impunity',\n",
       " 'by',\n",
       " 'maintaining',\n",
       " 'the',\n",
       " 'nuclear',\n",
       " 'deterrent',\n",
       " 'but',\n",
       " 'gearing',\n",
       " 'american',\n",
       " 'military',\n",
       " 'forces',\n",
       " 'to',\n",
       " 'fight',\n",
       " 'conventional',\n",
       " 'wars',\n",
       " 'too',\n",
       " 'secretary',\n",
       " 'of',\n",
       " 'state',\n",
       " 'rusk',\n",
       " 'junks',\n",
       " 'bluff',\n",
       " 'and',\n",
       " 'nuclear',\n",
       " 'brinkmanship',\n",
       " 'and',\n",
       " 'builds',\n",
       " 'more',\n",
       " 'muscle',\n",
       " 'and',\n",
       " 'greater',\n",
       " 'safety',\n",
       " 'into',\n",
       " 'our',\n",
       " 'military',\n",
       " 'position',\n",
       " 'dekalb',\n",
       " 'budget',\n",
       " 'shows',\n",
       " 'county',\n",
       " 'is',\n",
       " 'on',\n",
       " 'beam',\n",
       " 'dekalb',\n",
       " 'budget',\n",
       " 'for',\n",
       " 'is',\n",
       " 'record',\n",
       " 'one',\n",
       " 'and',\n",
       " 'carries',\n",
       " 'with',\n",
       " 'it',\n",
       " 'the',\n",
       " 'promise',\n",
       " 'of',\n",
       " 'no',\n",
       " 'tax',\n",
       " 'increase',\n",
       " 'to',\n",
       " 'make',\n",
       " 'it',\n",
       " 'balance',\n",
       " 'it',\n",
       " 'includes',\n",
       " 'raise',\n",
       " 'in',\n",
       " 'the',\n",
       " 'county',\n",
       " 'minimum',\n",
       " 'wage',\n",
       " 'creation',\n",
       " 'of',\n",
       " 'several',\n",
       " 'new',\n",
       " 'jobs',\n",
       " 'at',\n",
       " 'the',\n",
       " 'executive',\n",
       " 'level',\n",
       " 'financing',\n",
       " 'of',\n",
       " 'beefed',\n",
       " 'up',\n",
       " 'industrial',\n",
       " 'development',\n",
       " 'efforts',\n",
       " 'and',\n",
       " 'increased',\n",
       " 'expenditures',\n",
       " 'for',\n",
       " 'essential',\n",
       " 'services',\n",
       " 'such',\n",
       " 'as',\n",
       " 'health',\n",
       " 'and',\n",
       " 'welfare',\n",
       " 'fire',\n",
       " 'protection',\n",
       " 'sanitation',\n",
       " 'and',\n",
       " 'road',\n",
       " 'maintenance',\n",
       " 'that',\n",
       " 'such',\n",
       " 'expansion',\n",
       " 'can',\n",
       " 'be',\n",
       " 'obtained',\n",
       " 'without',\n",
       " 'raise',\n",
       " 'in',\n",
       " 'taxes',\n",
       " 'is',\n",
       " 'due',\n",
       " 'to',\n",
       " 'growth',\n",
       " 'of',\n",
       " 'the',\n",
       " 'tax',\n",
       " 'digest',\n",
       " 'and',\n",
       " 'sound',\n",
       " 'fiscal',\n",
       " 'planning',\n",
       " 'on',\n",
       " 'the',\n",
       " 'part',\n",
       " 'of',\n",
       " 'the',\n",
       " 'board',\n",
       " 'of',\n",
       " 'commissioners',\n",
       " 'headed',\n",
       " 'by',\n",
       " 'chairman',\n",
       " 'charles',\n",
       " 'emmerich',\n",
       " 'who',\n",
       " 'is',\n",
       " 'demonstrating',\n",
       " 'that',\n",
       " 'the',\n",
       " 'public',\n",
       " 'trust',\n",
       " 'he',\n",
       " 'was',\n",
       " 'given',\n",
       " 'was',\n",
       " 'well',\n",
       " 'placed',\n",
       " 'and',\n",
       " 'other',\n",
       " 'county',\n",
       " 'officials',\n",
       " 'somewhere',\n",
       " 'somebody',\n",
       " 'is',\n",
       " 'bound',\n",
       " 'to',\n",
       " 'love',\n",
       " 'us',\n",
       " 'mennen',\n",
       " 'williams',\n",
       " 'is',\n",
       " 'learning',\n",
       " 'the',\n",
       " 'difficulties',\n",
       " 'of',\n",
       " 'diplomacy',\n",
       " 'rapidly',\n",
       " 'touring',\n",
       " 'africa',\n",
       " 'the',\n",
       " 'new',\n",
       " 'assistant',\n",
       " 'secretary',\n",
       " 'of',\n",
       " 'state',\n",
       " 'observed',\n",
       " 'africa',\n",
       " 'should',\n",
       " 'be',\n",
       " 'for',\n",
       " 'the',\n",
       " 'africans',\n",
       " 'and',\n",
       " 'the',\n",
       " 'british',\n",
       " 'promptly',\n",
       " 'denounced',\n",
       " 'him',\n",
       " 'then',\n",
       " 'he',\n",
       " 'arrived',\n",
       " 'in',\n",
       " 'zanzibar',\n",
       " 'and',\n",
       " 'found',\n",
       " 'africans',\n",
       " 'carrying',\n",
       " 'signs',\n",
       " 'saying',\n",
       " 'american',\n",
       " 'imperialists',\n",
       " 'go',\n",
       " 'home',\n",
       " 'chin',\n",
       " 'up',\n",
       " 'soapy',\n",
       " 'power',\n",
       " 'company',\n",
       " 'backs',\n",
       " 'confidence',\n",
       " 'with',\n",
       " 'dollars',\n",
       " 'confidence',\n",
       " 'in',\n",
       " 'the',\n",
       " 'state',\n",
       " 'economic',\n",
       " 'future',\n",
       " 'is',\n",
       " 'reflected',\n",
       " 'in',\n",
       " 'the',\n",
       " 'georgia',\n",
       " ...]"
      ]
     },
     "execution_count": 155,
     "metadata": {},
     "output_type": "execute_result"
    }
   ],
   "source": [
    "data_lemmatized[0]"
   ]
  },
  {
   "cell_type": "code",
   "execution_count": 156,
   "id": "2899d36f",
   "metadata": {},
   "outputs": [],
   "source": [
    "#creating the LDA model \n",
    "\n",
    "import pyLDAvis.gensim_models\n",
    "from gensim.test.utils import common_corpus\n",
    "import gensim.models.ldamodel\n",
    "\n",
    "lda_model = gensim.models.ldamodel.LdaModel(\n",
    "\n",
    "   corpus=gensim_corpus, id2word=gensim_dictionary, num_topics=5, random_state=100, \n",
    "\n",
    "   update_every=1, chunksize=100, passes=10, alpha='auto', per_word_topics=True\n",
    "\n",
    ")"
   ]
  },
  {
   "cell_type": "code",
   "execution_count": 157,
   "id": "c44d65fe",
   "metadata": {},
   "outputs": [
    {
     "name": "stderr",
     "output_type": "stream",
     "text": [
      "C:\\Users\\zfreitas\\AppData\\Local\\Packages\\PythonSoftwareFoundation.Python.3.11_qbz5n2kfra8p0\\LocalCache\\local-packages\\Python311\\site-packages\\pyLDAvis\\_prepare.py:247: FutureWarning:\n",
      "\n",
      "In a future version of pandas all arguments of DataFrame.drop except for the argument 'labels' will be keyword-only.\n",
      "\n"
     ]
    },
    {
     "data": {
      "text/html": [
       "<div>\n",
       "<style scoped>\n",
       "    .dataframe tbody tr th:only-of-type {\n",
       "        vertical-align: middle;\n",
       "    }\n",
       "\n",
       "    .dataframe tbody tr th {\n",
       "        vertical-align: top;\n",
       "    }\n",
       "\n",
       "    .dataframe thead th {\n",
       "        text-align: right;\n",
       "    }\n",
       "</style>\n",
       "<table border=\"1\" class=\"dataframe\">\n",
       "  <thead>\n",
       "    <tr style=\"text-align: right;\">\n",
       "      <th></th>\n",
       "      <th>Term</th>\n",
       "      <th>Freq</th>\n",
       "      <th>Total</th>\n",
       "      <th>Category</th>\n",
       "      <th>logprob</th>\n",
       "      <th>loglift</th>\n",
       "    </tr>\n",
       "  </thead>\n",
       "  <tbody>\n",
       "    <tr>\n",
       "      <th>774</th>\n",
       "      <td>the</td>\n",
       "      <td>21619.000000</td>\n",
       "      <td>21619.000000</td>\n",
       "      <td>Default</td>\n",
       "      <td>30.0000</td>\n",
       "      <td>30.0000</td>\n",
       "    </tr>\n",
       "    <tr>\n",
       "      <th>365</th>\n",
       "      <td>he</td>\n",
       "      <td>2300.000000</td>\n",
       "      <td>2300.000000</td>\n",
       "      <td>Default</td>\n",
       "      <td>29.0000</td>\n",
       "      <td>29.0000</td>\n",
       "    </tr>\n",
       "    <tr>\n",
       "      <th>3785</th>\n",
       "      <td>she</td>\n",
       "      <td>935.000000</td>\n",
       "      <td>935.000000</td>\n",
       "      <td>Default</td>\n",
       "      <td>28.0000</td>\n",
       "      <td>28.0000</td>\n",
       "    </tr>\n",
       "    <tr>\n",
       "      <th>874</th>\n",
       "      <td>you</td>\n",
       "      <td>1340.000000</td>\n",
       "      <td>1340.000000</td>\n",
       "      <td>Default</td>\n",
       "      <td>27.0000</td>\n",
       "      <td>27.0000</td>\n",
       "    </tr>\n",
       "    <tr>\n",
       "      <th>3677</th>\n",
       "      <td>her</td>\n",
       "      <td>839.000000</td>\n",
       "      <td>839.000000</td>\n",
       "      <td>Default</td>\n",
       "      <td>26.0000</td>\n",
       "      <td>26.0000</td>\n",
       "    </tr>\n",
       "    <tr>\n",
       "      <th>...</th>\n",
       "      <td>...</td>\n",
       "      <td>...</td>\n",
       "      <td>...</td>\n",
       "      <td>...</td>\n",
       "      <td>...</td>\n",
       "      <td>...</td>\n",
       "    </tr>\n",
       "    <tr>\n",
       "      <th>642</th>\n",
       "      <td>rate</td>\n",
       "      <td>2.043889</td>\n",
       "      <td>64.747408</td>\n",
       "      <td>Topic5</td>\n",
       "      <td>-6.2056</td>\n",
       "      <td>2.3147</td>\n",
       "    </tr>\n",
       "    <tr>\n",
       "      <th>852</th>\n",
       "      <td>what</td>\n",
       "      <td>2.052860</td>\n",
       "      <td>548.928262</td>\n",
       "      <td>Topic5</td>\n",
       "      <td>-6.2012</td>\n",
       "      <td>0.1816</td>\n",
       "    </tr>\n",
       "    <tr>\n",
       "      <th>1509</th>\n",
       "      <td>aid</td>\n",
       "      <td>1.874440</td>\n",
       "      <td>90.052485</td>\n",
       "      <td>Topic5</td>\n",
       "      <td>-6.2921</td>\n",
       "      <td>1.8982</td>\n",
       "    </tr>\n",
       "    <tr>\n",
       "      <th>1548</th>\n",
       "      <td>body</td>\n",
       "      <td>1.857278</td>\n",
       "      <td>75.191699</td>\n",
       "      <td>Topic5</td>\n",
       "      <td>-6.3013</td>\n",
       "      <td>2.0694</td>\n",
       "    </tr>\n",
       "    <tr>\n",
       "      <th>2133</th>\n",
       "      <td>days</td>\n",
       "      <td>1.826164</td>\n",
       "      <td>137.019836</td>\n",
       "      <td>Topic5</td>\n",
       "      <td>-6.3182</td>\n",
       "      <td>1.4524</td>\n",
       "    </tr>\n",
       "  </tbody>\n",
       "</table>\n",
       "<p>427 rows × 6 columns</p>\n",
       "</div>"
      ],
      "text/plain": [
       "      Term          Freq         Total Category  logprob  loglift\n",
       "774    the  21619.000000  21619.000000  Default  30.0000  30.0000\n",
       "365     he   2300.000000   2300.000000  Default  29.0000  29.0000\n",
       "3785   she    935.000000    935.000000  Default  28.0000  28.0000\n",
       "874    you   1340.000000   1340.000000  Default  27.0000  27.0000\n",
       "3677   her    839.000000    839.000000  Default  26.0000  26.0000\n",
       "...    ...           ...           ...      ...      ...      ...\n",
       "642   rate      2.043889     64.747408   Topic5  -6.2056   2.3147\n",
       "852   what      2.052860    548.928262   Topic5  -6.2012   0.1816\n",
       "1509   aid      1.874440     90.052485   Topic5  -6.2921   1.8982\n",
       "1548  body      1.857278     75.191699   Topic5  -6.3013   2.0694\n",
       "2133  days      1.826164    137.019836   Topic5  -6.3182   1.4524\n",
       "\n",
       "[427 rows x 6 columns]"
      ]
     },
     "execution_count": 157,
     "metadata": {},
     "output_type": "execute_result"
    }
   ],
   "source": [
    "from pyLDAvis.gensim_models import prepare\n",
    "vis = prepare(lda_model, gensim_corpus, gensim_dictionary, mds='pcoa')\n",
    "vis.topic_info\n"
   ]
  },
  {
   "cell_type": "code",
   "execution_count": 158,
   "id": "df4add6a",
   "metadata": {},
   "outputs": [
    {
     "data": {
      "text/html": [
       "\n",
       "<link rel=\"stylesheet\" type=\"text/css\" href=\"https://cdn.jsdelivr.net/gh/bmabey/pyLDAvis@3.3.1/pyLDAvis/js/ldavis.v1.0.0.css\">\n",
       "\n",
       "\n",
       "<div id=\"ldavis_el961622196723687686731807855\"></div>\n",
       "<script type=\"text/javascript\">\n",
       "\n",
       "var ldavis_el961622196723687686731807855_data = {\"mdsDat\": {\"x\": [0.08277594662359672, 0.10424348390492438, 0.04340018655033073, 0.07255627180449778, -0.3029758888833495], \"y\": [-0.07121445844858039, 0.12323817208940739, 0.022840437721671977, -0.08155158856108058, 0.006687437198581578], \"topics\": [1, 2, 3, 4, 5], \"cluster\": [1, 1, 1, 1, 1], \"Freq\": [42.93032465803809, 23.071596607323396, 21.123038587465743, 12.56316270387644, 0.31187744329633194]}, \"tinfo\": {\"Term\": [\"the\", \"he\", \"she\", \"you\", \"her\", \"was\", \"and\", \"per\", \"had\", \"is\", \"his\", \"are\", \"how\", \"of\", \"your\", \"to\", \"what\", \"in\", \"or\", \"head\", \"it\", \"him\", \"does\", \"said\", \"for\", \"with\", \"day\", \"can\", \"name\", \"on\", \"boats\", \"stations\", \"pont\", \"fiscal\", \"libraries\", \"trust\", \"congo\", \"payments\", \"adequate\", \"budget\", \"interference\", \"authorized\", \"skywave\", \"financing\", \"pathology\", \"loans\", \"motors\", \"displacement\", \"sba\", \"pursuant\", \"khrushchev\", \"testing\", \"institutions\", \"ultraviolet\", \"electronic\", \"export\", \"podger\", \"communities\", \"editorial\", \"measures\", \"administration\", \"policy\", \"progress\", \"interior\", \"countries\", \"technical\", \"projects\", \"department\", \"agreement\", \"shall\", \"headquarters\", \"government\", \"million\", \"states\", \"medical\", \"organization\", \"secretary\", \"united\", \"state\", \"property\", \"tax\", \"pool\", \"public\", \"corps\", \"system\", \"of\", \"development\", \"education\", \"the\", \"our\", \"is\", \"to\", \"be\", \"act\", \"in\", \"by\", \"are\", \"for\", \"service\", \"and\", \"such\", \"has\", \"as\", \"this\", \"that\", \"or\", \"not\", \"will\", \"which\", \"these\", \"may\", \"we\", \"have\", \"on\", \"an\", \"it\", \"with\", \"from\", \"their\", \"at\", \"its\", \"been\", \"but\", \"was\", \"all\", \"hanover\", \"herself\", \"linda\", \"hair\", \"mike\", \"hadn\", \"myra\", \"spencer\", \"cady\", \"pale\", \"she\", \"wally\", \"johnnie\", \"maggie\", \"deegan\", \"theresa\", \"bobbie\", \"freddy\", \"smiled\", \"cathy\", \"snake\", \"nadine\", \"henrietta\", \"dolores\", \"wasn\", \"willis\", \"rachel\", \"looked\", \"loved\", \"hanford\", \"her\", \"lucy\", \"phil\", \"couldn\", \"didn\", \"me\", \"eyes\", \"seemed\", \"him\", \"had\", \"thought\", \"mother\", \"he\", \"knew\", \"my\", \"you\", \"got\", \"like\", \"was\", \"ll\", \"his\", \"something\", \"said\", \"did\", \"went\", \"back\", \"it\", \"and\", \"but\", \"down\", \"little\", \"could\", \"the\", \"to\", \"out\", \"that\", \"up\", \"at\", \"in\", \"with\", \"of\", \"there\", \"so\", \"they\", \"would\", \"on\", \"for\", \"not\", \"all\", \"have\", \"as\", \"be\", \"prokofieff\", \"palmer\", \"juniors\", \"oersted\", \"vernon\", \"allotment\", \"palace\", \"mantle\", \"carleton\", \"maris\", \"gallery\", \"schnabel\", \"hughes\", \"orchestra\", \"coach\", \"mosque\", \"showmanship\", \"musicians\", \"robinson\", \"finals\", \"hans\", \"stravinsky\", \"cruz\", \"stein\", \"recording\", \"timothy\", \"midwest\", \"dancers\", \"yards\", \"neo\", \"musical\", \"jones\", \"judge\", \"junior\", \"westminster\", \"portland\", \"games\", \"bridge\", \"jr\", \"jury\", \"th\", \"music\", \"mrs\", \"trial\", \"player\", \"century\", \"club\", \"the\", \"playing\", \"his\", \"of\", \"in\", \"and\", \"was\", \"at\", \"to\", \"st\", \"he\", \"said\", \"class\", \"with\", \"on\", \"for\", \"who\", \"by\", \"after\", \"that\", \"as\", \"is\", \"year\", \"from\", \"it\", \"were\", \"this\", \"one\", \"an\", \"will\", \"new\", \"two\", \"which\", \"be\", \"had\", \"are\", \"tappet\", \"battens\", \"tappets\", \"transom\", \"drill\", \"thickness\", \"watercolor\", \"insert\", \"plaster\", \"acrylic\", \"components\", \"franks\", \"disk\", \"screws\", \"keelson\", \"pump\", \"locking\", \"heating\", \"gymnastics\", \"buns\", \"frankfurter\", \"lb\", \"plywood\", \"butyrate\", \"mold\", \"cone\", \"ballistic\", \"cavity\", \"conditioner\", \"quill\", \"plastics\", \"lid\", \"clay\", \"panels\", \"cooling\", \"lever\", \"inch\", \"bars\", \"pieces\", \"shooting\", \"frame\", \"site\", \"lumber\", \"outdoor\", \"plastic\", \"builder\", \"aircraft\", \"your\", \"marketing\", \"edges\", \"cut\", \"materials\", \"shelter\", \"you\", \"design\", \"can\", \"are\", \"the\", \"or\", \"is\", \"and\", \"to\", \"for\", \"of\", \"in\", \"be\", \"with\", \"on\", \"it\", \"if\", \"will\", \"use\", \"have\", \"one\", \"this\", \"as\", \"that\", \"they\", \"from\", \"by\", \"all\", \"at\", \"an\", \"which\", \"drug\", \"milligrams\", \"grams\", \"bacterial\", \"dairy\", \"bloat\", \"diarrhea\", \"lambs\", \"ketosis\", \"milligram\", \"aureomycin\", \"calves\", \"gram\", \"scours\", \"dynafac\", \"hydrochloride\", \"incidence\", \"phenothiazine\", \"cows\", \"beef\", \"feed\", \"abscesses\", \"acetonemia\", \"additive\", \"additives\", \"calving\", \"oxytetracycline\", \"premix\", \"sheep\", \"fever\", \"cattle\", \"prevention\", \"chemical\", \"daily\", \"pound\", \"per\", \"treatment\", \"name\", \"shipping\", \"head\", \"bunks\", \"does\", \"how\", \"fence\", \"ton\", \"weight\", \"fed\", \"level\", \"rate\", \"what\", \"aid\", \"body\", \"days\"], \"Freq\": [21619.0, 2300.0, 935.0, 1340.0, 839.0, 2369.0, 9286.0, 179.0, 1177.0, 3202.0, 1623.0, 1620.0, 254.0, 11096.0, 492.0, 8573.0, 548.0, 6772.0, 1401.0, 127.0, 2692.0, 568.0, 133.0, 710.0, 3501.0, 2304.0, 296.0, 742.0, 70.0, 2230.0, 51.219205634496646, 52.76113301095656, 40.38938958473193, 94.62107105724893, 41.84409454815774, 35.561098742831405, 36.747437974089515, 36.04741096227077, 30.888964745477498, 53.82995852135134, 30.9035545583564, 26.984418817800925, 26.831915512324784, 30.918537922917523, 25.949676100256326, 27.756062092698635, 44.473624313211424, 23.85056068645338, 22.67343543323976, 22.670932119962153, 60.61756872795707, 22.237445085084328, 30.313995880842537, 20.209619327036446, 28.24408646481734, 19.3431564687443, 19.319756372587715, 18.82871950434482, 20.127933009573322, 18.823840680655476, 115.39570685431745, 82.69535963292702, 37.259379739679055, 62.47257661070549, 82.38738312680584, 77.00164052736287, 46.70560602071802, 140.47751832199086, 55.06432322954148, 107.86288422264707, 42.52101967050694, 227.3858527702885, 112.47961060610199, 275.4897154600541, 99.43287735806854, 70.74399026181808, 98.57170513270022, 239.9618332906486, 382.533663261579, 79.17553076078711, 133.85978855338638, 104.37037676316747, 171.053822484882, 62.83689186589132, 146.81243454873302, 6269.196179309586, 165.20179822945437, 86.751903740467, 10569.809517616663, 340.27903345036106, 1889.582331194995, 4219.327924233883, 1276.4182290345093, 106.20361352914497, 3240.7670057201613, 956.6314722495443, 941.978626185745, 1782.4784986220316, 162.4896185539012, 3820.9130143340553, 302.3578864139489, 559.2870878410893, 1094.764509884188, 903.7448124808958, 1390.2587575866544, 756.0228110215833, 665.4827491919132, 599.3853465545925, 575.0183142009702, 322.88466579589726, 328.60416456526355, 454.22167446372293, 670.8327800191203, 900.9303255969015, 540.9142452165534, 940.3047088780903, 822.6340866678, 576.6847012826229, 426.3689913758061, 558.3713214772064, 371.3797107433192, 382.34186970362254, 447.7460046806974, 461.92253149199865, 387.2467083763313, 67.22317811597053, 44.76410278918419, 35.27467802756414, 36.145860674090564, 34.601596791811254, 33.04629771856704, 29.950912480073498, 29.94558131194286, 28.88673500590727, 28.87850603718537, 914.7929013754405, 28.304554002546325, 27.821643928695337, 26.755896539987567, 25.69227943809519, 25.690918845492526, 25.690624486515986, 25.683995958451714, 26.552699448264622, 23.561416987369995, 22.97236760788982, 21.431904227063146, 21.43128716343085, 20.36687638252025, 59.326067523785184, 19.295056477148336, 18.236798889065824, 86.16813492860831, 18.140076890249006, 17.172327055923052, 786.8825441890446, 33.14802163954815, 49.97158345832096, 52.399574040400964, 118.58352978210513, 242.61652947730403, 90.88580662165877, 66.40019402630621, 438.6531014283321, 837.3214563193917, 119.97907042681602, 73.95569121425275, 1420.5590121667906, 79.68685612658325, 238.15722210905355, 804.2160753031412, 110.43744382625295, 257.3655800556454, 1201.5216048241862, 122.47943843013468, 781.1995930966342, 85.34059808677353, 385.97433989108714, 162.8283092018221, 98.7020709758286, 170.55909170920515, 985.1614250797521, 2423.0806220208556, 526.2055957214166, 165.31064063140798, 148.7140797335942, 231.15105982355996, 3726.5559658715374, 1910.6827037881894, 290.31496389695167, 837.5246381480566, 278.48424490337123, 536.8652805714736, 1207.8287539383123, 606.3918416636632, 1470.4472680499457, 303.49807705059305, 253.08381257854805, 338.8743917816638, 294.24786147592937, 484.07484577984053, 537.6219096065156, 342.8122956436795, 309.05550475365993, 341.52304693517823, 379.40428242173806, 353.0244153014388, 55.8762399884075, 49.41235325287379, 49.37345366889851, 32.017184349362964, 28.560569233751597, 28.516864594935477, 23.7832427733651, 38.149360601900206, 21.286396937465778, 28.891337470846572, 19.638586525017136, 20.801106361378352, 18.364586222294648, 18.890369416741645, 17.711006934891387, 16.10575130185366, 15.973533440524964, 15.83577289753213, 14.841805281933775, 14.377884922743375, 12.926474888527327, 12.925799146498402, 12.922049127587515, 13.27215436664167, 13.32886978440467, 12.904212332821059, 11.924931376326992, 12.209996694632574, 21.69506216041211, 12.044806215602975, 25.975040491226082, 27.910237899911294, 44.80300607983125, 74.951972330862, 29.61972349694971, 18.363715842605988, 24.859159830704673, 70.42840147539363, 47.64649260444145, 33.39493151543327, 79.25469032918406, 61.316172931041564, 182.37685262944794, 26.772977041074416, 32.34405983326325, 42.704628449791855, 69.39470981065618, 5021.790179213322, 34.373893066537, 542.95990603379, 2285.592148800033, 1560.7336837385506, 1924.431913885088, 671.8416419415282, 531.9676972876068, 1468.3244660665662, 51.957151819280675, 539.0243844573306, 242.0934593359671, 72.19512052581248, 519.3822625138991, 496.9159900496749, 662.8514023008794, 218.84694338423532, 370.2313160598872, 137.60107186657527, 515.4099773770123, 400.2143472180722, 496.59227268657156, 166.80780419382333, 281.10437206005173, 422.2543731888959, 202.06364341671753, 303.55419514667375, 232.65372048950147, 233.49180829319846, 227.0459200514101, 183.12566662654663, 157.78750850594412, 207.29940045614808, 263.0844941238564, 200.4956983258382, 198.236208624347, 15.794135706093352, 15.790519153798455, 13.706200094580433, 13.702720083163381, 33.364542377868595, 14.129334338459431, 12.648208947013394, 12.643121315173724, 11.61899824187193, 11.602678638689605, 14.977788667574917, 10.574993629444052, 10.5748131580229, 10.57317348017679, 10.571570609002098, 10.56325230126144, 26.235462939999906, 20.418284878825187, 11.529461858053649, 9.530949242064802, 9.530949242064802, 9.529823670306573, 9.519202570978273, 9.517359862783369, 39.241905283373036, 8.964884007258586, 10.694387347654907, 8.486938693077017, 8.486710135520626, 8.485867737669928, 20.923205921220827, 16.840701350464794, 74.3876602193895, 30.09229630979113, 35.98908126468491, 15.769491858610461, 59.02191973656408, 26.582082050559027, 44.217915549061225, 30.76457372519233, 32.633739980287466, 45.823379813120034, 26.120429031384212, 19.271176468569244, 23.96331587459556, 23.00191849326337, 42.22361136038993, 275.68557835559244, 33.18627698237928, 20.402431889251492, 59.04003336815008, 35.166934207138056, 25.66697321412797, 423.351759433964, 51.95018509276595, 230.67976732501955, 387.99680012685076, 2301.273538033738, 337.8171964007525, 570.035283122667, 1117.905408245483, 974.5613277337483, 518.486072282962, 1070.7656651372433, 762.9918311702866, 351.05676982626863, 356.25506864108706, 348.53165169551454, 345.152504805893, 154.27365774050799, 196.80765619903713, 88.87277140571946, 214.1224642840481, 181.03445399048525, 216.4279771907496, 241.6599905336653, 217.07814923168385, 138.9635357001324, 150.04219182127196, 160.5308678696789, 131.29109718178697, 157.08015931232325, 126.953352592485, 122.56968277574818, 6.593511657530676, 5.0796791640753245, 4.32275961617792, 3.061223735179184, 3.2447062856562336, 2.051993191157061, 1.7996852604042326, 1.7996852604042326, 1.5473781549438368, 1.5473781549438368, 1.2950712852812787, 1.2950712852812787, 1.2950712852812787, 1.2950712852812787, 1.0427646514165583, 1.0427646514165583, 1.0427646514165583, 1.0427646514165583, 1.7966492453442917, 3.588401441194206, 20.81553704129096, 0.7904568385626493, 0.7904568385626493, 0.7904568385626493, 0.7904568385626493, 0.7904568385626493, 0.7904568385626493, 0.7904568385626493, 2.556211025912596, 1.5435293447371738, 4.304716365633343, 3.5253085421519508, 4.5310945513602325, 5.910000220885707, 3.2540158200884135, 12.183387546335506, 2.9893108180159165, 5.382169590657957, 2.2554838955606513, 4.7271741297233625, 1.7660900813698204, 3.235536343544001, 3.60448261793087, 1.8088364565883641, 1.750422729838406, 2.1843505260489833, 1.788321219411743, 2.1787029320370497, 2.0438888194736173, 2.052860219806465, 1.8744404847037304, 1.8572777032853098, 1.826164296493209], \"Total\": [21619.0, 2300.0, 935.0, 1340.0, 839.0, 2369.0, 9286.0, 179.0, 1177.0, 3202.0, 1623.0, 1620.0, 254.0, 11096.0, 492.0, 8573.0, 548.0, 6772.0, 1401.0, 127.0, 2692.0, 568.0, 133.0, 710.0, 3501.0, 2304.0, 296.0, 742.0, 70.0, 2230.0, 51.77563191699925, 53.4247375713211, 40.94404839339071, 95.92821446338921, 42.42855603509861, 36.12249470166627, 37.331003232600885, 36.6363604528996, 31.446468131523417, 54.82292429302874, 31.4845302834516, 27.519878289924762, 27.365375814229, 31.553679122273454, 26.491333409064683, 28.337055194920797, 45.434144953857036, 24.390790857730334, 23.20773932520946, 23.20679689397021, 62.12914635517366, 22.803758211800385, 31.111991918994914, 20.75060465693843, 29.00900029776869, 19.879527638287247, 19.863958432541168, 19.36311936729979, 20.701782885475343, 19.360722136668386, 119.1227611152084, 85.90395633430379, 38.48634080268407, 64.93379597196397, 86.0040809378956, 80.68618769127967, 48.50756410262347, 150.15329192673758, 57.57626661505703, 115.19238902192907, 44.18731819783392, 250.79597920670267, 120.60231206970019, 310.92664244126297, 107.25899269902436, 75.33034954211784, 106.98549398377436, 273.17208264831254, 453.8001092849304, 85.215442946361, 149.97660129460309, 115.82219476760932, 199.3795230198592, 67.02535553132938, 170.42889046569744, 11096.408105117576, 197.9687650699895, 96.0426245267667, 21619.524969422833, 454.0961241073202, 3202.6327230017873, 8573.12252727844, 2243.6408460878383, 121.06674022598803, 6772.43766031988, 1635.9639520985277, 1620.60980205698, 3501.6816731504846, 201.85703170491124, 9286.46530692679, 429.61728805285543, 919.8138641638317, 2116.0925795243343, 1676.7316610070193, 2960.30863006651, 1401.1060506781782, 1232.2691463252381, 1084.7634161701444, 1032.0914729672418, 483.56815301483584, 495.9185564903834, 796.4734779411199, 1383.3354806701484, 2230.49932820241, 1092.9187745664742, 2692.9427309625, 2304.706842910833, 1270.506050073717, 786.2521353437139, 1784.3469503368528, 687.1202128046574, 749.0849000130946, 1232.3447056823911, 2369.938241407632, 957.1210477439944, 67.8594206085159, 45.41288256583497, 35.91075555993075, 36.80142074423087, 35.24168835982111, 33.69612983210382, 30.585821252551675, 30.58658906147367, 29.52081249608273, 29.51874445911657, 935.4354037291448, 28.94666396001886, 28.45587776179653, 27.39088701191185, 26.32592058579881, 26.325965748939474, 26.325999407893054, 26.32384247883114, 27.223572261009984, 24.196011800496997, 23.62533041153689, 22.066048619561172, 22.066191328971524, 21.001135697832293, 61.20314730419785, 19.933661763835655, 18.87117636817055, 89.17822332526896, 18.78300482895327, 17.806165236387095, 839.2737252506475, 34.497581153187, 52.239875089656515, 55.10796753638278, 127.62579237255844, 273.47114630444526, 100.33904256083248, 73.49008501861395, 568.9975995620946, 1177.4193810105999, 143.51146026506717, 84.64861416503982, 2300.1969997052547, 92.79721666778727, 326.9008479281085, 1340.5704320689306, 138.0263498893562, 386.63156914577564, 2369.938241407632, 166.91005874002173, 1623.1950962784938, 109.52899361015051, 710.725837100961, 249.04779588454818, 132.99784691376007, 271.210127862715, 2692.9427309625, 9286.46530692679, 1232.3447056823911, 263.00101688656747, 228.13661026451678, 420.30018024261324, 21619.524969422833, 8573.12252727844, 601.2967456842221, 2960.30863006651, 597.3678554091103, 1784.3469503368528, 6772.43766031988, 2304.706842910833, 11096.408105117576, 804.0311472211209, 577.320093882081, 1007.3154408890063, 803.3286856346236, 2230.49932820241, 3501.6816731504846, 1232.2691463252381, 957.1210477439944, 1383.3354806701484, 2116.0925795243343, 2243.6408460878383, 56.44560262010118, 49.986167412450925, 49.9487256186625, 32.581040918771286, 29.129283892872586, 29.104803268752644, 24.35583098498449, 39.10911911809425, 21.851812346265067, 29.720461524058354, 20.211024507799326, 21.416649765023827, 18.942573647262865, 19.485306043170564, 18.326564560360517, 16.671218824359958, 16.53782434059087, 16.401884080649047, 15.427121900580804, 14.945510722779387, 13.489693441810791, 13.489944147815251, 13.487245300430214, 13.857139360559971, 13.925698360856547, 13.489279637812542, 12.490157626166331, 12.789864940815852, 22.73557301659088, 12.623927096706979, 27.31505883027533, 29.405952833119866, 47.620469008164235, 80.59152437137742, 31.759928805474722, 19.412762057988036, 26.878720238453386, 81.81858096119997, 54.28153901476279, 37.18699118777548, 97.3325673477187, 73.36376171497272, 250.5416715587556, 29.665936454887063, 36.970585447501854, 53.7832922750189, 99.37737598921282, 21619.524969422833, 41.72616774098436, 1623.1950962784938, 11096.408105117576, 6772.43766031988, 9286.46530692679, 2369.938241407632, 1784.3469503368528, 8573.12252727844, 74.44513831142703, 2300.1969997052547, 710.725837100961, 120.4650174834227, 2304.706842910833, 2230.49932820241, 3501.6816731504846, 666.4919912059048, 1635.9639520985277, 348.6208165791934, 2960.30863006651, 2116.0925795243343, 3202.6327230017873, 493.1115848166291, 1270.506050073717, 2692.9427309625, 754.4270302218755, 1676.7316610070193, 1032.0503500322936, 1092.9187745664742, 1084.7634161701444, 682.928160919803, 487.2818455463959, 1032.0914729672418, 2243.6408460878383, 1177.4193810105999, 1620.60980205698, 16.432670024981608, 16.43371534158482, 14.344433938183567, 14.345426651652586, 34.936233268104914, 14.848586606690665, 13.303547777826397, 13.30287141212811, 12.255766774774946, 12.266871544799514, 15.878217757739707, 11.211689782507976, 11.211783957998398, 11.212480987692915, 11.212818550726125, 11.211127057183578, 27.9255663495292, 21.751849789131146, 12.294406925785674, 10.16760491631761, 10.16760491631761, 10.167947038948125, 10.168242497556829, 10.176649092464846, 42.00197545930862, 9.601987463189708, 11.471144968471048, 9.123530734235217, 9.123521051021216, 9.12409604014551, 22.542466104887737, 18.19211423335698, 83.32566328162557, 33.120236424196044, 39.93820170931854, 17.25235228157888, 70.1361135593683, 30.752527209664542, 53.96774596963686, 36.412582550184034, 39.19669536285148, 57.37855750905958, 30.64658302046361, 21.943735781954302, 28.062863523242427, 26.96013300115713, 54.24656300070553, 492.465928176616, 42.593206219257866, 23.943656736517728, 94.44240000572384, 48.58861302590144, 32.50626000575589, 1340.5704320689306, 86.06527157696748, 742.2853137162695, 1620.60980205698, 21619.524969422833, 1401.1060506781782, 3202.6327230017873, 9286.46530692679, 8573.12252727844, 3501.6816731504846, 11096.408105117576, 6772.43766031988, 2243.6408460878383, 2304.706842910833, 2230.49932820241, 2692.9427309625, 655.9836472101867, 1084.7634161701444, 259.2015515130554, 1383.3354806701484, 1032.0503500322936, 1676.7316610070193, 2116.0925795243343, 2960.30863006651, 1007.3154408890063, 1270.506050073717, 1635.9639520985277, 957.1210477439944, 1784.3469503368528, 1092.9187745664742, 1032.0914729672418, 7.357554985440201, 5.838943440708517, 5.07964867999172, 3.814169657149116, 4.320675253276667, 2.8017747431991182, 2.548666298210192, 2.548666298210192, 2.295550182637255, 2.295550182637255, 2.042421773614806, 2.042421773614806, 2.042421773614806, 2.042421773614806, 1.7892755946589833, 1.7892755946589833, 1.7892755946589833, 1.7892755946589833, 3.2769821554406358, 6.570956155158003, 39.59068197905863, 1.536105010373639, 1.536105010373639, 1.536105010373639, 1.536105010373639, 1.536105010373639, 1.536105010373639, 1.536105010373639, 5.077308997027865, 3.3444551833925544, 10.234443781578403, 8.701771692373413, 16.829109105439905, 40.11188138008961, 15.73243820503516, 179.64725561926429, 16.366516636207763, 70.75981572729916, 10.5581701468891, 127.17382571728626, 9.407135092557724, 133.70500547108068, 254.0642120580122, 10.936797586871146, 9.244192323848662, 41.04790324029276, 11.272894737004973, 89.19970348205187, 64.74740790205449, 548.9282623329146, 90.05248451263236, 75.19169856553205, 137.01983583975093], \"Category\": [\"Default\", \"Default\", \"Default\", \"Default\", \"Default\", \"Default\", \"Default\", \"Default\", \"Default\", \"Default\", \"Default\", \"Default\", \"Default\", \"Default\", \"Default\", \"Default\", \"Default\", \"Default\", \"Default\", \"Default\", \"Default\", \"Default\", \"Default\", \"Default\", \"Default\", \"Default\", \"Default\", \"Default\", \"Default\", \"Default\", \"Topic1\", \"Topic1\", \"Topic1\", \"Topic1\", \"Topic1\", \"Topic1\", \"Topic1\", \"Topic1\", \"Topic1\", \"Topic1\", \"Topic1\", \"Topic1\", \"Topic1\", \"Topic1\", \"Topic1\", \"Topic1\", \"Topic1\", \"Topic1\", \"Topic1\", \"Topic1\", \"Topic1\", \"Topic1\", \"Topic1\", \"Topic1\", \"Topic1\", \"Topic1\", \"Topic1\", \"Topic1\", \"Topic1\", \"Topic1\", \"Topic1\", \"Topic1\", \"Topic1\", \"Topic1\", \"Topic1\", \"Topic1\", \"Topic1\", \"Topic1\", \"Topic1\", \"Topic1\", \"Topic1\", \"Topic1\", \"Topic1\", \"Topic1\", \"Topic1\", \"Topic1\", \"Topic1\", \"Topic1\", \"Topic1\", \"Topic1\", \"Topic1\", \"Topic1\", \"Topic1\", \"Topic1\", \"Topic1\", \"Topic1\", \"Topic1\", \"Topic1\", \"Topic1\", \"Topic1\", \"Topic1\", \"Topic1\", \"Topic1\", \"Topic1\", \"Topic1\", \"Topic1\", \"Topic1\", \"Topic1\", \"Topic1\", \"Topic1\", \"Topic1\", \"Topic1\", \"Topic1\", \"Topic1\", \"Topic1\", \"Topic1\", \"Topic1\", \"Topic1\", \"Topic1\", \"Topic1\", \"Topic1\", \"Topic1\", \"Topic1\", \"Topic1\", \"Topic1\", \"Topic1\", \"Topic1\", \"Topic1\", \"Topic1\", \"Topic1\", \"Topic1\", \"Topic1\", \"Topic1\", \"Topic1\", \"Topic1\", \"Topic2\", \"Topic2\", \"Topic2\", \"Topic2\", \"Topic2\", \"Topic2\", \"Topic2\", \"Topic2\", \"Topic2\", \"Topic2\", \"Topic2\", \"Topic2\", \"Topic2\", \"Topic2\", \"Topic2\", \"Topic2\", \"Topic2\", \"Topic2\", \"Topic2\", \"Topic2\", \"Topic2\", \"Topic2\", \"Topic2\", \"Topic2\", \"Topic2\", \"Topic2\", \"Topic2\", \"Topic2\", \"Topic2\", \"Topic2\", \"Topic2\", \"Topic2\", \"Topic2\", \"Topic2\", \"Topic2\", \"Topic2\", \"Topic2\", \"Topic2\", \"Topic2\", \"Topic2\", \"Topic2\", \"Topic2\", \"Topic2\", \"Topic2\", \"Topic2\", \"Topic2\", \"Topic2\", \"Topic2\", \"Topic2\", \"Topic2\", \"Topic2\", \"Topic2\", \"Topic2\", \"Topic2\", \"Topic2\", \"Topic2\", \"Topic2\", \"Topic2\", \"Topic2\", \"Topic2\", \"Topic2\", \"Topic2\", \"Topic2\", \"Topic2\", \"Topic2\", \"Topic2\", \"Topic2\", \"Topic2\", \"Topic2\", \"Topic2\", \"Topic2\", \"Topic2\", \"Topic2\", \"Topic2\", \"Topic2\", \"Topic2\", \"Topic2\", \"Topic2\", \"Topic2\", \"Topic2\", \"Topic2\", \"Topic2\", \"Topic3\", \"Topic3\", \"Topic3\", \"Topic3\", \"Topic3\", \"Topic3\", \"Topic3\", \"Topic3\", \"Topic3\", \"Topic3\", \"Topic3\", \"Topic3\", \"Topic3\", \"Topic3\", \"Topic3\", \"Topic3\", \"Topic3\", \"Topic3\", \"Topic3\", \"Topic3\", \"Topic3\", \"Topic3\", \"Topic3\", \"Topic3\", \"Topic3\", \"Topic3\", \"Topic3\", \"Topic3\", \"Topic3\", \"Topic3\", \"Topic3\", \"Topic3\", \"Topic3\", \"Topic3\", \"Topic3\", \"Topic3\", \"Topic3\", \"Topic3\", \"Topic3\", \"Topic3\", \"Topic3\", \"Topic3\", \"Topic3\", \"Topic3\", \"Topic3\", \"Topic3\", \"Topic3\", \"Topic3\", \"Topic3\", \"Topic3\", \"Topic3\", \"Topic3\", \"Topic3\", \"Topic3\", \"Topic3\", \"Topic3\", \"Topic3\", \"Topic3\", \"Topic3\", \"Topic3\", \"Topic3\", \"Topic3\", \"Topic3\", \"Topic3\", \"Topic3\", \"Topic3\", \"Topic3\", \"Topic3\", \"Topic3\", \"Topic3\", \"Topic3\", \"Topic3\", \"Topic3\", \"Topic3\", \"Topic3\", \"Topic3\", \"Topic3\", \"Topic3\", \"Topic3\", \"Topic3\", \"Topic3\", \"Topic3\", \"Topic3\", \"Topic4\", \"Topic4\", \"Topic4\", \"Topic4\", \"Topic4\", \"Topic4\", \"Topic4\", \"Topic4\", \"Topic4\", \"Topic4\", \"Topic4\", \"Topic4\", \"Topic4\", \"Topic4\", \"Topic4\", \"Topic4\", \"Topic4\", \"Topic4\", \"Topic4\", \"Topic4\", \"Topic4\", \"Topic4\", \"Topic4\", \"Topic4\", \"Topic4\", \"Topic4\", \"Topic4\", \"Topic4\", \"Topic4\", \"Topic4\", \"Topic4\", \"Topic4\", \"Topic4\", \"Topic4\", \"Topic4\", \"Topic4\", \"Topic4\", \"Topic4\", \"Topic4\", \"Topic4\", \"Topic4\", \"Topic4\", \"Topic4\", \"Topic4\", \"Topic4\", \"Topic4\", \"Topic4\", \"Topic4\", \"Topic4\", \"Topic4\", \"Topic4\", \"Topic4\", \"Topic4\", \"Topic4\", \"Topic4\", \"Topic4\", \"Topic4\", \"Topic4\", \"Topic4\", \"Topic4\", \"Topic4\", \"Topic4\", \"Topic4\", \"Topic4\", \"Topic4\", \"Topic4\", \"Topic4\", \"Topic4\", \"Topic4\", \"Topic4\", \"Topic4\", \"Topic4\", \"Topic4\", \"Topic4\", \"Topic4\", \"Topic4\", \"Topic4\", \"Topic4\", \"Topic4\", \"Topic4\", \"Topic4\", \"Topic4\", \"Topic4\", \"Topic4\", \"Topic5\", \"Topic5\", \"Topic5\", \"Topic5\", \"Topic5\", \"Topic5\", \"Topic5\", \"Topic5\", \"Topic5\", \"Topic5\", \"Topic5\", \"Topic5\", \"Topic5\", \"Topic5\", \"Topic5\", \"Topic5\", \"Topic5\", \"Topic5\", \"Topic5\", \"Topic5\", \"Topic5\", \"Topic5\", \"Topic5\", \"Topic5\", \"Topic5\", \"Topic5\", \"Topic5\", \"Topic5\", \"Topic5\", \"Topic5\", \"Topic5\", \"Topic5\", \"Topic5\", \"Topic5\", \"Topic5\", \"Topic5\", \"Topic5\", \"Topic5\", \"Topic5\", \"Topic5\", \"Topic5\", \"Topic5\", \"Topic5\", \"Topic5\", \"Topic5\", \"Topic5\", \"Topic5\", \"Topic5\", \"Topic5\", \"Topic5\", \"Topic5\", \"Topic5\", \"Topic5\"], \"logprob\": [30.0, 29.0, 28.0, 27.0, 26.0, 25.0, 24.0, 23.0, 22.0, 21.0, 20.0, 19.0, 18.0, 17.0, 16.0, 15.0, 14.0, 13.0, 12.0, 11.0, 10.0, 9.0, 8.0, 7.0, 6.0, 5.0, 4.0, 3.0, 2.0, 1.0, -7.909, -7.8794, -8.1466, -7.2953, -8.1112, -8.2739, -8.2411, -8.2603, -8.4147, -7.8593, -8.4143, -8.5499, -8.5556, -8.4138, -8.589, -8.5217, -8.0502, -8.6733, -8.7239, -8.7241, -7.7406, -8.7434, -8.4335, -8.839, -8.5043, -8.8828, -8.884, -8.9098, -8.843, -8.91, -7.0968, -7.43, -8.2272, -7.7104, -7.4337, -7.5013, -8.0013, -6.9001, -7.8366, -7.1643, -8.0951, -6.4185, -7.1224, -6.2266, -7.2457, -7.5861, -7.2544, -6.3647, -5.8983, -7.4735, -6.9483, -7.1972, -6.7032, -7.7046, -6.856, -3.1017, -6.738, -7.3821, -2.5794, -6.0154, -4.301, -3.4977, -4.6933, -7.1798, -3.7616, -4.9817, -4.9972, -4.3594, -6.7545, -3.5969, -6.1335, -5.5185, -4.8468, -5.0386, -4.6079, -5.2171, -5.3446, -5.4492, -5.4907, -6.0678, -6.0503, -5.7266, -5.3366, -5.0417, -5.5519, -4.9989, -5.1326, -5.4878, -5.7898, -5.5201, -5.9279, -5.8988, -5.7409, -5.7097, -5.8861, -7.0161, -7.4228, -7.661, -7.6366, -7.6803, -7.7263, -7.8246, -7.8248, -7.8608, -7.8611, -4.4055, -7.8811, -7.8984, -7.9374, -7.978, -7.978, -7.978, -7.9783, -7.945, -8.0646, -8.0899, -8.1593, -8.1593, -8.2103, -7.1411, -8.2643, -8.3207, -6.7679, -8.326, -8.3809, -4.5561, -7.7232, -7.3127, -7.2653, -6.4485, -5.7327, -6.7146, -7.0285, -5.1405, -4.494, -6.4368, -6.9207, -3.9654, -6.8461, -5.7512, -4.5343, -6.5197, -5.6737, -4.1328, -6.4162, -4.5633, -6.7775, -5.2684, -6.1315, -6.6321, -6.0851, -4.3314, -3.4314, -4.9585, -6.1163, -6.2221, -5.7811, -3.0009, -3.669, -5.5532, -4.4937, -5.5948, -4.9384, -4.1276, -4.8166, -3.9308, -5.5088, -5.6904, -5.3985, -5.5397, -5.0419, -4.937, -5.387, -5.4906, -5.3908, -5.2856, -5.3576, -7.1128, -7.2357, -7.2365, -7.6697, -7.7839, -7.7854, -7.9669, -7.4944, -8.0779, -7.7724, -8.1584, -8.1009, -8.2255, -8.1973, -8.2617, -8.3568, -8.365, -8.3737, -8.4385, -8.4702, -8.5767, -8.5767, -8.577, -8.5503, -8.546, -8.5784, -8.6573, -8.6337, -8.0588, -8.6473, -7.8788, -7.8069, -7.3337, -6.8191, -7.7475, -8.2256, -7.9227, -6.8813, -7.2721, -7.6275, -6.7633, -7.0199, -5.9299, -7.8485, -7.6595, -7.3816, -6.8961, -2.6144, -7.5986, -4.8389, -3.4015, -3.783, -3.5735, -4.6259, -4.8593, -3.8441, -7.1855, -4.8462, -5.6466, -6.8566, -4.8833, -4.9275, -4.6394, -5.7476, -5.2218, -6.2116, -4.891, -5.1439, -4.9282, -6.0191, -5.4972, -5.0903, -5.8273, -5.4204, -5.6864, -5.6828, -5.7108, -5.9258, -6.0747, -5.8018, -5.5635, -5.8351, -5.8465, -7.8567, -7.8569, -7.9985, -7.9987, -7.1088, -7.9681, -8.0788, -8.0792, -8.1637, -8.1651, -7.9098, -8.2578, -8.2579, -8.258, -8.2582, -8.259, -7.3492, -7.5999, -8.1714, -8.3618, -8.3618, -8.3619, -8.363, -8.3632, -6.9466, -8.423, -8.2466, -8.4778, -8.4778, -8.4779, -7.5755, -7.7925, -6.307, -7.2121, -7.0331, -7.8583, -6.5384, -7.3361, -6.8272, -7.19, -7.131, -6.7915, -7.3536, -7.6577, -7.4398, -7.4808, -6.8734, -4.9971, -7.1142, -7.6007, -6.5381, -7.0562, -7.3711, -4.5681, -6.666, -5.1753, -4.6553, -2.8751, -4.7938, -4.2706, -3.5971, -3.7343, -4.3654, -3.6402, -3.9791, -4.7554, -4.7407, -4.7626, -4.7723, -5.5776, -5.3341, -6.1291, -5.2498, -5.4176, -5.2391, -5.1288, -5.2361, -5.6821, -5.6054, -5.5378, -5.7389, -5.5596, -5.7725, -5.8077, -5.0343, -5.2952, -5.4565, -5.8016, -5.7434, -6.2016, -6.3328, -6.3328, -6.4839, -6.4839, -6.6619, -6.6619, -6.6619, -6.6619, -6.8785, -6.8785, -6.8785, -6.8785, -6.3345, -5.6427, -3.8847, -7.1556, -7.1556, -7.1556, -7.1556, -7.1556, -7.1556, -7.1556, -5.9819, -6.4863, -5.4607, -5.6605, -5.4095, -5.1438, -5.7405, -4.4203, -5.8254, -5.2373, -6.1071, -5.3671, -6.3517, -5.7462, -5.6382, -6.3277, -6.3606, -6.1391, -6.3391, -6.1417, -6.2056, -6.2012, -6.2921, -6.3013, -6.3182], \"loglift\": [30.0, 29.0, 28.0, 27.0, 26.0, 25.0, 24.0, 23.0, 22.0, 21.0, 20.0, 19.0, 18.0, 17.0, 16.0, 15.0, 14.0, 13.0, 12.0, 11.0, 10.0, 9.0, 8.0, 7.0, 6.0, 5.0, 4.0, 3.0, 2.0, 1.0, 0.8348, 0.8331, 0.832, 0.8319, 0.8317, 0.8299, 0.8298, 0.8294, 0.8277, 0.8273, 0.827, 0.8259, 0.8259, 0.8253, 0.8249, 0.8249, 0.8242, 0.8232, 0.8223, 0.8222, 0.821, 0.8204, 0.8196, 0.8192, 0.8189, 0.8182, 0.8178, 0.8176, 0.8175, 0.8175, 0.8138, 0.8075, 0.8132, 0.807, 0.8026, 0.7989, 0.8077, 0.779, 0.801, 0.7798, 0.8072, 0.7476, 0.7759, 0.7246, 0.7698, 0.7828, 0.7637, 0.716, 0.6748, 0.7721, 0.7319, 0.7415, 0.6924, 0.7811, 0.6964, 0.2746, 0.6647, 0.7439, 0.13, 0.557, 0.318, 0.1366, 0.2815, 0.7146, 0.1085, 0.309, 0.303, 0.1704, 0.6286, -0.0425, 0.4943, 0.3481, 0.1866, 0.2275, 0.0898, 0.2286, 0.2295, 0.2524, 0.2607, 0.4417, 0.434, 0.284, 0.1219, -0.061, 0.1422, -0.2066, -0.1846, 0.0557, 0.2336, -0.3162, 0.2303, 0.1731, -0.1669, -0.7896, -0.0593, 1.4571, 1.4522, 1.4487, 1.4486, 1.4482, 1.4471, 1.4456, 1.4454, 1.4449, 1.4446, 1.4443, 1.4441, 1.444, 1.4431, 1.4422, 1.4421, 1.4421, 1.442, 1.4416, 1.44, 1.4385, 1.4374, 1.4374, 1.4359, 1.4354, 1.434, 1.4324, 1.4322, 1.4317, 1.4303, 1.4021, 1.4267, 1.4222, 1.4162, 1.3931, 1.3469, 1.3676, 1.3651, 1.2064, 1.1257, 1.2875, 1.3315, 0.9846, 1.3143, 1.1498, 0.9556, 1.2436, 1.0596, 0.7873, 1.1571, 0.7352, 1.217, 0.8561, 1.0416, 1.1683, 1.0028, 0.461, 0.123, 0.6156, 1.0022, 1.0386, 0.8687, -0.2915, -0.0346, 0.7384, 0.204, 0.7034, 0.2655, -0.2575, 0.1314, -0.5545, 0.4923, 0.6419, 0.3772, 0.4622, -0.0612, -0.4073, 0.1871, 0.3362, 0.0677, -0.2522, -0.3828, 1.5447, 1.5433, 1.5432, 1.5373, 1.5351, 1.5344, 1.531, 1.53, 1.5286, 1.5265, 1.5261, 1.5256, 1.5238, 1.5238, 1.5206, 1.5203, 1.5201, 1.5197, 1.5161, 1.5161, 1.5122, 1.5121, 1.512, 1.5117, 1.511, 1.5105, 1.5085, 1.5084, 1.508, 1.5078, 1.5045, 1.5026, 1.4938, 1.4823, 1.485, 1.4993, 1.4767, 1.4049, 1.4244, 1.4473, 1.3493, 1.3754, 1.2373, 1.4522, 1.4211, 1.3242, 1.1957, 0.095, 1.361, 0.4597, -0.0252, 0.0871, -0.0191, 0.2942, 0.3446, -0.2097, 1.1952, 0.1038, 0.4778, 1.0428, 0.0647, 0.0532, -0.1096, 0.4412, 0.0689, 0.6252, -0.1933, -0.1105, -0.3092, 0.4709, 0.0464, -0.298, 0.2374, -0.1542, 0.0651, 0.0113, -0.0092, 0.2386, 0.4272, -0.0504, -0.5886, -0.2155, -0.5463, 2.0348, 2.0345, 2.0289, 2.0286, 2.0284, 2.0247, 2.0239, 2.0235, 2.021, 2.0187, 2.016, 2.0159, 2.0159, 2.0157, 2.0155, 2.0149, 2.012, 2.0111, 2.0102, 2.0097, 2.0097, 2.0096, 2.0084, 2.0074, 2.0064, 2.0057, 2.0043, 2.0021, 2.002, 2.0019, 1.9999, 1.9972, 1.9609, 1.9785, 1.9703, 1.9845, 1.9019, 1.9287, 1.8751, 1.9059, 1.8912, 1.8495, 1.9146, 1.9445, 1.9165, 1.9156, 1.8238, 1.4942, 1.8248, 1.9144, 1.6046, 1.7511, 1.8382, 0.9218, 1.5696, 0.9057, 0.6448, -0.1657, 0.6519, 0.3484, -0.0427, -0.1, 0.1643, -0.2638, -0.109, 0.2195, 0.2073, 0.2181, 0.02, 0.627, 0.3675, 1.004, 0.2087, 0.3338, 0.0271, -0.0954, -0.5384, 0.0936, -0.0619, -0.2471, 0.0879, -0.3557, -0.0784, -0.0563, 5.6607, 5.631, 5.609, 5.5504, 5.4839, 5.4589, 5.4224, 5.4224, 5.3759, 5.3759, 5.3147, 5.3147, 5.3147, 5.3147, 5.2304, 5.2304, 5.2304, 5.2304, 5.1693, 5.1654, 5.1274, 5.1059, 5.1059, 5.1059, 5.1059, 5.1059, 5.1059, 5.1059, 5.0841, 4.9971, 4.9043, 4.8668, 4.4582, 3.8553, 4.1945, 3.0794, 4.0701, 3.1941, 4.2268, 2.4781, 4.0976, 2.0489, 1.5149, 3.9709, 4.1062, 2.8369, 3.9292, 2.0582, 2.3147, 0.1816, 1.8982, 2.0694, 1.4524]}, \"token.table\": {\"Topic\": [5, 5, 4, 1, 2, 3, 4, 5, 5, 1, 1, 3, 1, 2, 3, 4, 1, 2, 3, 1, 2, 3, 4, 5, 1, 4, 1, 2, 3, 4, 3, 1, 2, 3, 4, 1, 2, 3, 4, 1, 2, 3, 4, 1, 2, 3, 4, 1, 2, 3, 4, 5, 1, 1, 2, 3, 4, 5, 4, 1, 4, 4, 1, 2, 3, 4, 1, 3, 4, 5, 1, 2, 3, 4, 5, 1, 2, 1, 2, 3, 4, 5, 1, 2, 3, 1, 3, 1, 3, 4, 4, 5, 4, 1, 2, 3, 4, 4, 1, 2, 3, 4, 2, 5, 5, 1, 2, 3, 4, 3, 2, 1, 2, 3, 5, 4, 1, 2, 3, 1, 3, 5, 1, 2, 3, 1, 2, 4, 1, 2, 3, 4, 3, 1, 4, 4, 4, 1, 2, 4, 1, 3, 1, 2, 3, 4, 2, 3, 4, 1, 2, 3, 3, 5, 3, 1, 2, 3, 4, 1, 2, 3, 5, 1, 5, 3, 1, 2, 3, 4, 5, 1, 2, 3, 4, 5, 2, 1, 3, 4, 1, 3, 4, 1, 3, 4, 5, 1, 2, 3, 4, 1, 2, 3, 4, 1, 1, 2, 3, 4, 5, 2, 1, 2, 3, 4, 1, 4, 5, 5, 2, 3, 4, 1, 1, 3, 1, 1, 1, 2, 4, 2, 3, 4, 5, 1, 2, 3, 4, 5, 2, 3, 5, 4, 5, 3, 1, 1, 4, 1, 2, 3, 4, 1, 2, 3, 4, 4, 4, 2, 1, 2, 3, 4, 3, 2, 3, 1, 2, 3, 4, 1, 2, 3, 4, 5, 5, 4, 1, 2, 3, 4, 2, 2, 2, 2, 3, 1, 2, 3, 4, 1, 2, 3, 4, 1, 2, 3, 4, 1, 2, 3, 4, 5, 1, 3, 1, 4, 2, 1, 2, 3, 4, 2, 1, 2, 3, 4, 1, 2, 3, 4, 1, 2, 3, 4, 5, 3, 5, 1, 2, 3, 4, 1, 2, 3, 4, 1, 2, 3, 4, 5, 4, 1, 1, 1, 4, 1, 2, 3, 4, 1, 2, 3, 4, 1, 2, 3, 4, 2, 1, 3, 1, 3, 1, 3, 1, 2, 3, 4, 3, 1, 2, 3, 4, 5, 1, 3, 1, 2, 3, 5, 4, 1, 2, 3, 4, 5, 1, 4, 1, 3, 4, 1, 2, 3, 4, 2, 1, 2, 3, 4, 2, 3, 4, 1, 2, 4, 1, 2, 2, 2, 3, 2, 3, 4, 2, 2, 3, 3, 1, 4, 1, 3, 4, 5, 1, 2, 3, 4, 1, 2, 3, 4, 1, 1, 3, 4, 3, 2, 5, 5, 1, 3, 4, 2, 4, 3, 2, 3, 1, 4, 1, 2, 3, 1, 2, 3, 1, 3, 3, 1, 2, 3, 4, 2, 2, 1, 2, 3, 5, 3, 1, 2, 3, 4, 1, 2, 3, 4, 3, 1, 2, 3, 4, 1, 2, 3, 4, 1, 2, 3, 4, 1, 2, 3, 4, 3, 1, 2, 3, 4, 1, 2, 3, 4, 1, 2, 3, 4, 1, 2, 4, 5, 3, 2, 3, 3, 4, 1, 1, 1, 3, 4, 5, 5, 2, 3, 1, 2, 3, 4, 4, 2, 4, 1, 4, 2, 3, 1, 2, 3, 4, 1, 1, 3, 1, 1, 2, 3, 4, 1, 2, 3, 4, 5, 5, 1, 5, 1, 3, 1, 4, 3, 1, 2, 3, 4, 1, 2, 3, 4, 4, 1, 4, 2, 1, 3, 4, 5, 3, 3, 1, 2, 3, 1, 3, 5, 4, 1, 2, 3, 1, 2, 3, 1, 2, 3, 4, 1, 2, 3, 4, 1, 2, 3, 4, 2, 3, 5, 1, 4, 1, 4, 5, 1, 3, 4, 3, 1, 3, 4, 1, 2, 2, 1, 2, 3, 4, 1, 2, 3, 4, 2, 1, 2, 3, 4, 1, 2, 3, 4, 1, 2, 3, 4, 1, 3, 3, 1, 2, 3, 4, 1, 2, 3, 4, 4, 4, 1, 2, 3, 4, 1, 3, 4, 1, 1, 2, 3, 4, 1, 2, 3, 4, 1, 2, 3, 4, 1, 2, 3, 4, 1, 2, 3, 4, 2, 1, 2, 3, 4, 1, 2, 3, 4, 4, 1, 2, 3, 4, 1, 2, 3, 4, 3, 1, 2, 3, 4, 1, 4, 5, 4, 1, 2, 3, 5, 1, 3, 1, 1, 2, 3, 4, 1, 1, 2, 3, 1, 2, 3, 4, 1, 2, 3, 4, 3, 2, 1, 2, 3, 4, 1, 2, 4, 1, 2, 3, 4, 1, 2, 3, 4, 5, 1, 2, 3, 4, 1, 2, 3, 4, 1, 3, 1, 2, 3, 4, 5, 1, 2, 3, 4, 1, 2, 3, 4, 1, 2, 3, 4, 2, 1, 2, 3, 4, 1, 2, 3, 4, 2, 3, 1, 2, 3, 4, 1, 2, 3, 4, 1, 2, 3, 4], \"Freq\": [0.6509971605110266, 0.6509971605110266, 0.9782445309038348, 0.8755501288143726, 0.024779720626821867, 0.08259906875607288, 0.016519813751214578, 0.6509971605110266, 0.6509971605110266, 0.9858022805723019, 0.9653906518232808, 0.025184103960607322, 0.25529169736134383, 0.25816014339911175, 0.39584555321197135, 0.09179027320857307, 0.9552547122882868, 0.01736826749615067, 0.01736826749615067, 0.8328476488561419, 0.011104635318081892, 0.11104635318081893, 0.022209270636163785, 0.022209270636163785, 0.22121217154059933, 0.7742426003920977, 0.40433757142023763, 0.3228431771804998, 0.13477919047341255, 0.1368687903257135, 0.9963991074674206, 0.49500476393096765, 0.17476138615677417, 0.21319059148967737, 0.11620259707806449, 0.41145902921210614, 0.2609173587492628, 0.20718324318348394, 0.12039026293094338, 0.5812626819881962, 0.05676875450415504, 0.12217623251981194, 0.23941605160447998, 0.5174631821856015, 0.1791036950213178, 0.1890276464604937, 0.11436172610859868, 0.3127194517269523, 0.3009504401028197, 0.2981482944780262, 0.08798737261851525, 0.48961483515235804, 0.9811089902198044, 0.10324098226218689, 0.6305074273869271, 0.16223582926915084, 0.10324098226218689, 0.7865407859812761, 0.9589278167291921, 0.13007061087138644, 0.8779766233818584, 0.9736081992069486, 0.5687184748062145, 0.1573335592528164, 0.11722018720535611, 0.15644215098509504, 0.15218485352622999, 0.15218485352622999, 0.15218485352622999, 0.6087394141049199, 0.5099555470859476, 0.30303641148824634, 0.14684583816611055, 0.04004886495439379, 0.7138332604556079, 0.985019363583188, 0.9876168268926074, 0.2792861499424409, 0.43887823562383566, 0.14629274520794522, 0.10639472378759653, 0.02659868094689913, 0.09777730077955962, 0.03666648779233486, 0.8555513818211467, 0.9849894126655812, 0.018240544678992242, 0.03709180514640191, 0.07418361029280382, 0.853111518367244, 0.7441160280070728, 0.21260457943059222, 0.9835157918018012, 0.3635346489778825, 0.42682862804099597, 0.14200572225698535, 0.06735128541331306, 0.9826417231389414, 0.584976214648502, 0.0910778014447511, 0.22616635258092554, 0.09841292639332165, 0.9823577858450936, 0.48961483515235804, 0.6509971605110266, 0.41224040722024197, 0.19130110400416458, 0.08622021588920094, 0.31120109172508464, 0.961018686561682, 0.9918990037650349, 0.09770926699504283, 0.09770926699504283, 0.29312780098512853, 0.3908370679801713, 0.8768535157097382, 0.18593134739437975, 0.018593134739437973, 0.799504793795833, 0.2971042595703287, 0.4159459633984602, 0.2971042595703287, 0.25733611838196874, 0.14111980685462802, 0.5976838878548952, 0.06000552294556493, 0.03600331376733896, 0.888081739594361, 0.06037591494316861, 0.19119039732003393, 0.694323021846439, 0.04025060996211241, 0.9821808086679344, 0.981246855921726, 0.944690407252311, 0.876854446354847, 0.937305951971142, 0.9911332885821879, 0.07511605108900103, 0.9013926130680124, 0.939942794791326, 0.05967890760579848, 0.2355459375317266, 0.5496071875740287, 0.1284796022900327, 0.08565306819335512, 0.9436022107995387, 0.01814619636152959, 0.01814619636152959, 0.9534431285791313, 0.034882065679724315, 0.011627355226574772, 0.30515881764560177, 0.6103176352912035, 0.9638736235920117, 0.19059236104661761, 0.10588464502589867, 0.08470771602071894, 0.6247194056528022, 0.5983264602470856, 0.049860538353923796, 0.19944215341569518, 0.1495816150617714, 0.23144530458326643, 0.6943359137497993, 0.9382429021361138, 0.43189549435492186, 0.30367651946830443, 0.20919938007816527, 0.05061275324471741, 0.006748367099295654, 0.35031424250235954, 0.3430160291168937, 0.2189464015639747, 0.08028034724012406, 0.014596426770931648, 0.9876197839032219, 0.9323804906542339, 0.046619024532711696, 0.019979581942590727, 0.36019174089605877, 0.034857265248005684, 0.6041925976320985, 0.8334648142178702, 0.04041041523480583, 0.12123124570441748, 0.78472415215931, 0.11242821844920098, 0.6544928431149915, 0.2128105563502733, 0.02007646758021446, 0.03917703394470818, 0.9324134078840547, 0.03134162715576654, 0.9811105923203851, 0.9839779341305582, 0.5684155184185545, 0.13462472804649978, 0.08227066713952763, 0.19445794051161078, 0.02243745467441663, 0.9523294495956413, 0.10646346668718935, 0.6273740001209372, 0.1749042667003825, 0.09125440001759087, 0.028623578057939962, 0.9445780759120188, 0.9514030155197258, 0.5588853964056829, 0.08352943002852589, 0.041764715014262946, 0.8352943002852589, 0.9661003649126413, 0.9058477986068929, 0.09370839295933375, 0.9652176811537245, 0.955757115848502, 0.059797261832176485, 0.90692513778801, 0.029898630916088242, 0.44354179797197496, 0.17741671918878998, 0.08870835959439499, 0.17741671918878998, 0.12629234330049516, 0.025258468660099034, 0.17680928062069323, 0.1515508119605942, 0.5304278418620797, 0.4571722170301613, 0.36573777362412907, 0.18286888681206453, 0.29900236216818377, 0.5980047243363675, 0.9367361383416443, 0.9824527871970842, 0.9903238638540128, 0.010424461724779082, 0.5088983426630906, 0.15364046484441235, 0.18933759886960108, 0.14792892340038213, 0.05102470964670895, 0.07653706447006343, 0.05102470964670895, 0.8419077091706978, 0.9835157918018012, 0.9811188334127612, 0.9876977504674113, 0.4541497460531742, 0.20700413035006035, 0.22117171341584393, 0.1180631922148633, 0.9895589405812707, 0.07440830449727844, 0.9301038062159804, 0.014489986887309758, 0.7969492788020367, 0.1738798426477171, 0.007244993443654879, 0.9051181789996309, 0.02791113327311637, 0.06379687605283742, 0.003987304753302339, 0.48961483515235804, 0.7874560332795535, 0.9760535886307619, 0.11041095644987489, 0.7108766965272715, 0.16986300992288444, 0.007643835446529801, 0.9793409559028768, 0.9782231031296121, 0.9547254995286865, 0.987335279305228, 0.9636986975335551, 0.6077316528688834, 0.08262541255462458, 0.18590717824790529, 0.12285094235095496, 0.485059488010051, 0.2472285318918591, 0.11349379972813414, 0.15469855504344399, 0.14390071808736993, 0.6177731734204008, 0.23432775543532444, 0.004347453718651659, 0.2437608511433362, 0.4324789294478546, 0.09435903915225918, 0.1965813315672066, 0.039316266313441324, 0.9731298877990717, 0.022630927623234227, 0.04597310158420066, 0.9194620316840133, 0.9516821315887132, 0.004766025528566866, 0.9377155227455308, 0.05600079996066067, 0.002383012764283433, 0.9909082502033115, 0.06326915970771389, 0.7715322531024, 0.15817289926928474, 0.007029906634190433, 0.16449039342969432, 0.4811498025040871, 0.33452540686263676, 0.019714204455993325, 0.31488102693398257, 0.3936012836674782, 0.09840032091686955, 0.1771205776503652, 0.01574405134669913, 0.9502404654818875, 0.5588853964056829, 0.3414719268576936, 0.3384230703678928, 0.0853679817144234, 0.23476194971466438, 0.47855737661333, 0.1783700434893251, 0.23049307772089112, 0.11266253574698265, 0.0855479395065306, 0.028515979835510203, 0.0427739697532653, 0.841221405147551, 0.5588853964056829, 0.9772326287502121, 0.9642584145081368, 0.9846105284376349, 0.9548186590965562, 0.03080060190634052, 0.5901394769452448, 0.07681180493573028, 0.15518482541893475, 0.17797857241205797, 0.34906052371341345, 0.3657708679337364, 0.1567058946883622, 0.12811263902247622, 0.5399346331054188, 0.12224935089179294, 0.24740940061434286, 0.09023166375346622, 0.9839794869231352, 0.03400671985278103, 0.952188155877869, 0.1105348173412732, 0.8842785387301856, 0.0419987463722189, 0.9449717933749251, 0.04963301080604234, 0.012408252701510586, 0.9306189526132939, 0.012408252701510586, 0.9810060095245348, 0.026891124236174586, 0.05378224847234917, 0.8874070997937613, 0.9810200664745135, 0.8712508291595217, 0.9818258189365959, 0.016095505228468785, 0.05388092638489288, 0.862094822158286, 0.08620948221582861, 0.78472415215931, 0.9834826992799228, 0.7623343727110312, 0.011210799598691635, 0.06726479759214982, 0.13452959518429963, 0.02242159919738327, 0.0579631104025012, 0.9274097664400192, 0.9898993490435053, 0.05496887207130684, 0.9344708252122162, 0.1500136166535632, 0.6647155082752714, 0.1267356416555965, 0.05690171666169638, 0.9746383626373216, 0.16656686516004718, 0.6531174449696586, 0.0657500783526502, 0.11396680247792701, 0.7309325808220258, 0.12581626391198805, 0.1377987652369393, 0.9881054967567268, 0.035809479653287644, 0.9310464709854788, 0.0336404997558405, 0.964360993000761, 0.9583131220971471, 0.9565888070083242, 0.028987539606312854, 0.09789019539296806, 0.03263006513098935, 0.8483816934057232, 0.9857293043579838, 0.02556948411393238, 0.9716403963294304, 0.9757587370076622, 0.21130130363209867, 0.7747714466510285, 0.18522858421997584, 0.08232381520887816, 0.7203333830776838, 0.02058095380221954, 0.6634153848332146, 0.014115220953898184, 0.1371192892664395, 0.18551433253694755, 0.02925354322789834, 0.888576375547412, 0.07313385806974584, 0.010970078710461876, 0.9813683531987067, 0.9229995314033983, 0.03729291035973326, 0.03729291035973326, 0.9607564899629871, 0.993141975567304, 0.8712508291595217, 0.8563193068698886, 0.9286720799786274, 0.04975028999885504, 0.016583429999618347, 0.04761680797460571, 0.9285277555048114, 0.9597378673130261, 0.8742021441216018, 0.11813542488129754, 0.9684346441357363, 0.02200987827581219, 0.07982703985157101, 0.19158489564377043, 0.7264260626492962, 0.0545228312520355, 0.109045662504071, 0.8314731765935413, 0.03660984243942484, 0.9518559034250459, 0.9754976880294386, 0.061180630539075166, 0.7280495034149945, 0.19271898619808678, 0.01835418916172255, 0.9808466397644039, 0.9516882864739028, 0.3250432433097278, 0.33917555823623763, 0.26851398360368817, 0.07066157463254952, 0.9505758317576364, 0.5286061121184203, 0.0732141429526898, 0.2679637632068447, 0.13032117445578784, 0.539654832698768, 0.2783482821288382, 0.11198852167282704, 0.06978994828886323, 0.9821662874363071, 0.5649575917371664, 0.13247530066256732, 0.20601261041811492, 0.0965177190541562, 0.4039454254066636, 0.2169917712506384, 0.22282006262720513, 0.1564672069555223, 0.354633860633396, 0.24417413355086284, 0.2257641790371073, 0.17537904036788163, 0.5395737172315207, 0.1406032040933989, 0.07850940330088263, 0.24123798468816665, 0.9750937428390734, 0.942515207105249, 0.013274862071904916, 0.03982458621571475, 0.013274862071904916, 0.7487401498270553, 0.08148054571647366, 0.07707619189396157, 0.09028925336149785, 0.27607001233826206, 0.4822909854102168, 0.1546657298039661, 0.08647976290114233, 0.04557109190233516, 0.04557109190233516, 0.8658507461443681, 0.6509971605110266, 0.9853903163803419, 0.9824266082917236, 0.9802711937421855, 0.09057906355427901, 0.90579063554279, 0.981453051023224, 0.9826303583371029, 0.7904379029365634, 0.08906342568299305, 0.05009817694668359, 0.06679756926224478, 0.5588853964056829, 0.9571232686561303, 0.03828493074624521, 0.07411834472854334, 0.055588758546407505, 0.03705917236427167, 0.8153017920139767, 0.9791309038858858, 0.10690284680019622, 0.8552227744015698, 0.044360718802774486, 0.9315750948582643, 0.1081941211258337, 0.8655529690066696, 0.023965776253585303, 0.1437946575215118, 0.8148363926219002, 0.9834541222244402, 0.9565062303430001, 0.9661953132518979, 0.034922722165731244, 0.9769429641074989, 0.8979280716331625, 0.09497316142273834, 0.9272250876115432, 0.05151250486730796, 0.31781469183840505, 0.12712587673536202, 0.12712587673536202, 0.25425175347072404, 0.19068881510304303, 0.6509971605110266, 0.5745956314140261, 0.45967650513122094, 0.9613800436288708, 0.025983244422401915, 0.968921051169792, 0.020615341514250894, 0.9921056273754354, 0.9270620121018052, 0.023469924357007725, 0.023469924357007725, 0.011734962178503863, 0.8576607938969116, 0.005015560198227553, 0.11535788455923372, 0.02006224079291021, 0.9811680791675358, 0.9910889514431894, 0.8767991880839976, 0.9538356088049743, 0.8803441225975526, 0.030889267459563247, 0.04633390118934487, 0.030889267459563247, 0.9335258931459716, 0.9723135719459944, 0.11537500920815916, 0.543106750662798, 0.34049697839481113, 0.991048704817888, 0.9805455209103587, 0.48961483515235804, 0.9810496010716862, 0.9253590960192654, 0.01869412315190435, 0.05608236945571306, 0.013607277767425562, 0.898080332650087, 0.08164366660455337, 0.8025482126222037, 0.03467800918737917, 0.10898802887462024, 0.05449401443731012, 0.9375619423904832, 0.03472451638483271, 0.008681129096208178, 0.008681129096208178, 0.001069020903007804, 0.9781541262521406, 0.018173355351132667, 0.0032070627090234117, 0.19695472554169463, 0.19695472554169463, 0.5908641766250838, 0.18457983166742586, 0.7998459372255121, 0.3788535271122312, 0.3788535271122312, 0.1894267635561156, 0.05492606840626007, 0.10985213681252014, 0.8513540602970311, 0.967479135736687, 0.1045686796684049, 0.1045686796684049, 0.8016932107911042, 0.9866482442371933, 0.9917875487145312, 0.9735313580532392, 0.31871400623305246, 0.43823175857044716, 0.12644631769028714, 0.11605346966094846, 0.10956003159046565, 0.7760502237657984, 0.07304002106031043, 0.03652001053015522, 0.980822017770771, 0.21492336991929617, 0.06716355309978006, 0.6985009522377126, 0.01343271061995601, 0.843983930730002, 0.006610840188485655, 0.14323487075052252, 0.006610840188485655, 0.8844529945739537, 0.00964857812262495, 0.1029181666413328, 0.00321619270754165, 0.9920497958318637, 0.9381445666196047, 0.9636807875224154, 0.7029512275186776, 0.06517428599510917, 0.10707204127767936, 0.12336561277645665, 0.8625298187315664, 0.02347019914915827, 0.017602649361868703, 0.09974834638392265, 0.9736701324663706, 0.9759883213469501, 0.8934727073643987, 0.0066677067713761095, 0.0666770677137611, 0.03333853385688055, 0.954314514085314, 0.02478738997624192, 0.02478738997624192, 0.9647532567072887, 0.10274053456614574, 0.010274053456614573, 0.8116502230725513, 0.07191837419630201, 0.46954563651992276, 0.2830785923767592, 0.1739683473437124, 0.07330316771570017, 0.48890990967421716, 0.17239046673186445, 0.23229002520188444, 0.10643157068688493, 0.5418109291541345, 0.19205035282224017, 0.19586592274586084, 0.06868025862517199, 0.3905321343398718, 0.3768510723088571, 0.14178555195778783, 0.08954876965755021, 0.9876180896059775, 0.66795134871111, 0.07444658994922587, 0.09305823743653235, 0.1654368665538353, 0.360363780068371, 0.33653807560104065, 0.16578719358517344, 0.13799053837328806, 0.9428506814036901, 0.5391441105472247, 0.15088878315093787, 0.18130509912207554, 0.12882204411305367, 0.04877659238552048, 0.8361701551803511, 0.06968084626502925, 0.04180850775901755, 0.9637282604446115, 0.4921194100021026, 0.22290594750273002, 0.17123282623443625, 0.11372752423608674, 0.43270410868460474, 0.3245280815134535, 0.21635205434230237, 0.9759207822785255, 0.5499032078755985, 0.12220071286124413, 0.12220071286124413, 0.1833010692918662, 0.10112608461095084, 0.9101347614985575, 0.996608908031465, 0.352978469384867, 0.15391503025502923, 0.32424766373726155, 0.16828043307883195, 0.9638273356681464, 0.8785670836978646, 0.003660696182074436, 0.11348158164430752, 0.2360354657908994, 0.4653748899990782, 0.16572702917233362, 0.13392083165441102, 0.5362622221533998, 0.06944402876806616, 0.05401202237516257, 0.3433621422421049, 0.9955617208666012, 0.9672962673237098, 0.19494178874703236, 0.5071862122812401, 0.28355169272295616, 0.014768317329320633, 0.016339029021329613, 0.9640027122584472, 0.977182945264245, 0.5700127029635536, 0.2259962258445807, 0.10797597457018857, 0.09542062868993408, 0.07308534086231205, 0.2436178028743735, 0.0974471211497494, 0.5359591663236217, 0.0487235605748747, 0.015037837426773247, 0.7443729526252757, 0.23308648011498534, 0.0075189187133866235, 0.35125994878797495, 0.3433068933437189, 0.26775286662328657, 0.03843976798057084, 0.06297243335303836, 0.9445865002955753, 0.39349404070034943, 0.4135330890693487, 0.09290831516536029, 0.09837351017508736, 0.0036434633398180504, 0.557121161312269, 0.12305110867244898, 0.20056361807241682, 0.11917548320245058, 0.44111557810028085, 0.21005503719060992, 0.32858609389102555, 0.021005503719060993, 0.5521941384369541, 0.05623345984082504, 0.2092622194076604, 0.18160641948594317, 0.953161552809653, 0.3570953080351665, 0.26294016606234616, 0.2251913303405242, 0.15446650019504163, 0.4518698342176499, 0.3659772211018983, 0.11950276607408923, 0.06348584447685991, 0.04398393650647238, 0.9676466031423924, 0.5313199041905061, 0.050698464140315466, 0.33866574045730735, 0.07908960405889214, 0.036551604322927866, 0.5997446913394695, 0.04774087095239558, 0.3155373189509895, 0.07310150396250176, 0.3147425865052159, 0.0527955306395846, 0.5604448637125135], \"Term\": [\"abscesses\", \"acetonemia\", \"acrylic\", \"act\", \"act\", \"act\", \"act\", \"additive\", \"additives\", \"adequate\", \"administration\", \"administration\", \"after\", \"after\", \"after\", \"after\", \"agreement\", \"agreement\", \"agreement\", \"aid\", \"aid\", \"aid\", \"aid\", \"aid\", \"aircraft\", \"aircraft\", \"all\", \"all\", \"all\", \"all\", \"allotment\", \"an\", \"an\", \"an\", \"an\", \"and\", \"and\", \"and\", \"and\", \"are\", \"are\", \"are\", \"are\", \"as\", \"as\", \"as\", \"as\", \"at\", \"at\", \"at\", \"at\", \"aureomycin\", \"authorized\", \"back\", \"back\", \"back\", \"back\", \"bacterial\", \"ballistic\", \"bars\", \"bars\", \"battens\", \"be\", \"be\", \"be\", \"be\", \"beef\", \"beef\", \"beef\", \"beef\", \"been\", \"been\", \"been\", \"been\", \"bloat\", \"boats\", \"bobbie\", \"body\", \"body\", \"body\", \"body\", \"body\", \"bridge\", \"bridge\", \"bridge\", \"budget\", \"budget\", \"builder\", \"builder\", \"builder\", \"bunks\", \"bunks\", \"buns\", \"but\", \"but\", \"but\", \"but\", \"butyrate\", \"by\", \"by\", \"by\", \"by\", \"cady\", \"calves\", \"calving\", \"can\", \"can\", \"can\", \"can\", \"carleton\", \"cathy\", \"cattle\", \"cattle\", \"cattle\", \"cattle\", \"cavity\", \"century\", \"century\", \"century\", \"chemical\", \"chemical\", \"chemical\", \"class\", \"class\", \"class\", \"clay\", \"clay\", \"clay\", \"club\", \"club\", \"club\", \"club\", \"coach\", \"communities\", \"components\", \"conditioner\", \"cone\", \"congo\", \"cooling\", \"cooling\", \"corps\", \"corps\", \"could\", \"could\", \"could\", \"could\", \"couldn\", \"couldn\", \"couldn\", \"countries\", \"countries\", \"countries\", \"cows\", \"cows\", \"cruz\", \"cut\", \"cut\", \"cut\", \"cut\", \"daily\", \"daily\", \"daily\", \"daily\", \"dairy\", \"dairy\", \"dancers\", \"day\", \"day\", \"day\", \"day\", \"day\", \"days\", \"days\", \"days\", \"days\", \"days\", \"deegan\", \"department\", \"department\", \"department\", \"design\", \"design\", \"design\", \"development\", \"development\", \"development\", \"diarrhea\", \"did\", \"did\", \"did\", \"did\", \"didn\", \"didn\", \"didn\", \"disk\", \"displacement\", \"does\", \"does\", \"does\", \"does\", \"does\", \"dolores\", \"down\", \"down\", \"down\", \"down\", \"drill\", \"drill\", \"drug\", \"dynafac\", \"edges\", \"edges\", \"edges\", \"editorial\", \"education\", \"education\", \"electronic\", \"export\", \"eyes\", \"eyes\", \"eyes\", \"fed\", \"fed\", \"fed\", \"fed\", \"feed\", \"feed\", \"feed\", \"feed\", \"feed\", \"fence\", \"fence\", \"fence\", \"fever\", \"fever\", \"finals\", \"financing\", \"fiscal\", \"fiscal\", \"for\", \"for\", \"for\", \"for\", \"frame\", \"frame\", \"frame\", \"frame\", \"frankfurter\", \"franks\", \"freddy\", \"from\", \"from\", \"from\", \"from\", \"gallery\", \"games\", \"games\", \"got\", \"got\", \"got\", \"got\", \"government\", \"government\", \"government\", \"government\", \"gram\", \"grams\", \"gymnastics\", \"had\", \"had\", \"had\", \"had\", \"hadn\", \"hair\", \"hanford\", \"hanover\", \"hans\", \"has\", \"has\", \"has\", \"has\", \"have\", \"have\", \"have\", \"have\", \"he\", \"he\", \"he\", \"he\", \"head\", \"head\", \"head\", \"head\", \"head\", \"headquarters\", \"headquarters\", \"heating\", \"heating\", \"henrietta\", \"her\", \"her\", \"her\", \"her\", \"herself\", \"him\", \"him\", \"him\", \"him\", \"his\", \"his\", \"his\", \"his\", \"how\", \"how\", \"how\", \"how\", \"how\", \"hughes\", \"hydrochloride\", \"if\", \"if\", \"if\", \"if\", \"in\", \"in\", \"in\", \"in\", \"inch\", \"inch\", \"inch\", \"inch\", \"incidence\", \"insert\", \"institutions\", \"interference\", \"interior\", \"interior\", \"is\", \"is\", \"is\", \"is\", \"it\", \"it\", \"it\", \"it\", \"its\", \"its\", \"its\", \"its\", \"johnnie\", \"jones\", \"jones\", \"jr\", \"jr\", \"judge\", \"judge\", \"junior\", \"junior\", \"junior\", \"junior\", \"juniors\", \"jury\", \"jury\", \"jury\", \"keelson\", \"ketosis\", \"khrushchev\", \"khrushchev\", \"knew\", \"knew\", \"knew\", \"lambs\", \"lb\", \"level\", \"level\", \"level\", \"level\", \"level\", \"lever\", \"lever\", \"libraries\", \"lid\", \"lid\", \"like\", \"like\", \"like\", \"like\", \"linda\", \"little\", \"little\", \"little\", \"little\", \"ll\", \"ll\", \"ll\", \"loans\", \"locking\", \"locking\", \"looked\", \"looked\", \"loved\", \"lucy\", \"lucy\", \"lumber\", \"lumber\", \"lumber\", \"maggie\", \"mantle\", \"mantle\", \"maris\", \"marketing\", \"marketing\", \"materials\", \"materials\", \"materials\", \"materials\", \"may\", \"may\", \"may\", \"may\", \"me\", \"me\", \"me\", \"me\", \"measures\", \"medical\", \"medical\", \"medical\", \"midwest\", \"mike\", \"milligram\", \"milligrams\", \"million\", \"million\", \"million\", \"mold\", \"mold\", \"mosque\", \"mother\", \"mother\", \"motors\", \"motors\", \"mrs\", \"mrs\", \"mrs\", \"music\", \"music\", \"music\", \"musical\", \"musical\", \"musicians\", \"my\", \"my\", \"my\", \"my\", \"myra\", \"nadine\", \"name\", \"name\", \"name\", \"name\", \"neo\", \"new\", \"new\", \"new\", \"new\", \"not\", \"not\", \"not\", \"not\", \"oersted\", \"of\", \"of\", \"of\", \"of\", \"on\", \"on\", \"on\", \"on\", \"one\", \"one\", \"one\", \"one\", \"or\", \"or\", \"or\", \"or\", \"orchestra\", \"organization\", \"organization\", \"organization\", \"organization\", \"our\", \"our\", \"our\", \"our\", \"out\", \"out\", \"out\", \"out\", \"outdoor\", \"outdoor\", \"outdoor\", \"oxytetracycline\", \"palace\", \"pale\", \"palmer\", \"panels\", \"panels\", \"pathology\", \"payments\", \"per\", \"per\", \"per\", \"per\", \"phenothiazine\", \"phil\", \"phil\", \"pieces\", \"pieces\", \"pieces\", \"pieces\", \"plaster\", \"plastic\", \"plastic\", \"plastics\", \"plastics\", \"player\", \"player\", \"playing\", \"playing\", \"playing\", \"plywood\", \"podger\", \"policy\", \"policy\", \"pont\", \"pool\", \"pool\", \"portland\", \"portland\", \"pound\", \"pound\", \"pound\", \"pound\", \"pound\", \"premix\", \"prevention\", \"prevention\", \"progress\", \"progress\", \"projects\", \"projects\", \"prokofieff\", \"property\", \"property\", \"property\", \"property\", \"public\", \"public\", \"public\", \"public\", \"pump\", \"pursuant\", \"quill\", \"rachel\", \"rate\", \"rate\", \"rate\", \"rate\", \"recording\", \"robinson\", \"said\", \"said\", \"said\", \"sba\", \"schnabel\", \"scours\", \"screws\", \"secretary\", \"secretary\", \"secretary\", \"seemed\", \"seemed\", \"seemed\", \"service\", \"service\", \"service\", \"service\", \"shall\", \"shall\", \"shall\", \"shall\", \"she\", \"she\", \"she\", \"she\", \"sheep\", \"sheep\", \"sheep\", \"shelter\", \"shelter\", \"shipping\", \"shipping\", \"shipping\", \"shooting\", \"shooting\", \"shooting\", \"showmanship\", \"site\", \"site\", \"site\", \"skywave\", \"smiled\", \"snake\", \"so\", \"so\", \"so\", \"so\", \"something\", \"something\", \"something\", \"something\", \"spencer\", \"st\", \"st\", \"st\", \"st\", \"state\", \"state\", \"state\", \"state\", \"states\", \"states\", \"states\", \"states\", \"stations\", \"stein\", \"stravinsky\", \"such\", \"such\", \"such\", \"such\", \"system\", \"system\", \"system\", \"system\", \"tappet\", \"tappets\", \"tax\", \"tax\", \"tax\", \"tax\", \"technical\", \"technical\", \"technical\", \"testing\", \"th\", \"th\", \"th\", \"th\", \"that\", \"that\", \"that\", \"that\", \"the\", \"the\", \"the\", \"the\", \"their\", \"their\", \"their\", \"their\", \"there\", \"there\", \"there\", \"there\", \"theresa\", \"these\", \"these\", \"these\", \"these\", \"they\", \"they\", \"they\", \"they\", \"thickness\", \"this\", \"this\", \"this\", \"this\", \"thought\", \"thought\", \"thought\", \"thought\", \"timothy\", \"to\", \"to\", \"to\", \"to\", \"ton\", \"ton\", \"ton\", \"transom\", \"treatment\", \"treatment\", \"treatment\", \"treatment\", \"trial\", \"trial\", \"trust\", \"two\", \"two\", \"two\", \"two\", \"ultraviolet\", \"united\", \"united\", \"united\", \"up\", \"up\", \"up\", \"up\", \"use\", \"use\", \"use\", \"use\", \"vernon\", \"wally\", \"was\", \"was\", \"was\", \"was\", \"wasn\", \"wasn\", \"watercolor\", \"we\", \"we\", \"we\", \"we\", \"weight\", \"weight\", \"weight\", \"weight\", \"weight\", \"went\", \"went\", \"went\", \"went\", \"were\", \"were\", \"were\", \"were\", \"westminster\", \"westminster\", \"what\", \"what\", \"what\", \"what\", \"what\", \"which\", \"which\", \"which\", \"which\", \"who\", \"who\", \"who\", \"who\", \"will\", \"will\", \"will\", \"will\", \"willis\", \"with\", \"with\", \"with\", \"with\", \"would\", \"would\", \"would\", \"would\", \"yards\", \"yards\", \"year\", \"year\", \"year\", \"year\", \"you\", \"you\", \"you\", \"you\", \"your\", \"your\", \"your\", \"your\"]}, \"R\": 30, \"lambda.step\": 0.01, \"plot.opts\": {\"xlab\": \"PC1\", \"ylab\": \"PC2\"}, \"topic.order\": [1, 3, 2, 4, 5]};\n",
       "\n",
       "function LDAvis_load_lib(url, callback){\n",
       "  var s = document.createElement('script');\n",
       "  s.src = url;\n",
       "  s.async = true;\n",
       "  s.onreadystatechange = s.onload = callback;\n",
       "  s.onerror = function(){console.warn(\"failed to load library \" + url);};\n",
       "  document.getElementsByTagName(\"head\")[0].appendChild(s);\n",
       "}\n",
       "\n",
       "if(typeof(LDAvis) !== \"undefined\"){\n",
       "   // already loaded: just create the visualization\n",
       "   !function(LDAvis){\n",
       "       new LDAvis(\"#\" + \"ldavis_el961622196723687686731807855\", ldavis_el961622196723687686731807855_data);\n",
       "   }(LDAvis);\n",
       "}else if(typeof define === \"function\" && define.amd){\n",
       "   // require.js is available: use it to load d3/LDAvis\n",
       "   require.config({paths: {d3: \"https://d3js.org/d3.v5\"}});\n",
       "   require([\"d3\"], function(d3){\n",
       "      window.d3 = d3;\n",
       "      LDAvis_load_lib(\"https://cdn.jsdelivr.net/gh/bmabey/pyLDAvis@3.3.1/pyLDAvis/js/ldavis.v3.0.0.js\", function(){\n",
       "        new LDAvis(\"#\" + \"ldavis_el961622196723687686731807855\", ldavis_el961622196723687686731807855_data);\n",
       "      });\n",
       "    });\n",
       "}else{\n",
       "    // require.js not available: dynamically load d3 & LDAvis\n",
       "    LDAvis_load_lib(\"https://d3js.org/d3.v5.js\", function(){\n",
       "         LDAvis_load_lib(\"https://cdn.jsdelivr.net/gh/bmabey/pyLDAvis@3.3.1/pyLDAvis/js/ldavis.v3.0.0.js\", function(){\n",
       "                 new LDAvis(\"#\" + \"ldavis_el961622196723687686731807855\", ldavis_el961622196723687686731807855_data);\n",
       "            })\n",
       "         });\n",
       "}\n",
       "</script>"
      ],
      "text/plain": [
       "PreparedData(topic_coordinates=              x         y  topics  cluster       Freq\n",
       "topic                                                \n",
       "0      0.082776 -0.071214       1        1  42.930325\n",
       "2      0.104243  0.123238       2        1  23.071597\n",
       "1      0.043400  0.022840       3        1  21.123039\n",
       "3      0.072556 -0.081552       4        1  12.563163\n",
       "4     -0.302976  0.006687       5        1   0.311877, topic_info=      Term          Freq         Total Category  logprob  loglift\n",
       "774    the  21619.000000  21619.000000  Default  30.0000  30.0000\n",
       "365     he   2300.000000   2300.000000  Default  29.0000  29.0000\n",
       "3785   she    935.000000    935.000000  Default  28.0000  28.0000\n",
       "874    you   1340.000000   1340.000000  Default  27.0000  27.0000\n",
       "3677   her    839.000000    839.000000  Default  26.0000  26.0000\n",
       "...    ...           ...           ...      ...      ...      ...\n",
       "642   rate      2.043889     64.747408   Topic5  -6.2056   2.3147\n",
       "852   what      2.052860    548.928262   Topic5  -6.2012   0.1816\n",
       "1509   aid      1.874440     90.052485   Topic5  -6.2921   1.8982\n",
       "1548  body      1.857278     75.191699   Topic5  -6.3013   2.0694\n",
       "2133  days      1.826164    137.019836   Topic5  -6.3182   1.4524\n",
       "\n",
       "[427 rows x 6 columns], token_table=       Topic      Freq        Term\n",
       "term                              \n",
       "22079      5  0.650997   abscesses\n",
       "22080      5  0.650997  acetonemia\n",
       "22420      4  0.978245     acrylic\n",
       "2025       1  0.875550         act\n",
       "2025       2  0.024780         act\n",
       "...      ...       ...         ...\n",
       "874        4  0.315537         you\n",
       "3852       1  0.073102        your\n",
       "3852       2  0.314743        your\n",
       "3852       3  0.052796        your\n",
       "3852       4  0.560445        your\n",
       "\n",
       "[795 rows x 3 columns], R=30, lambda_step=0.01, plot_opts={'xlab': 'PC1', 'ylab': 'PC2'}, topic_order=[1, 3, 2, 4, 5])"
      ]
     },
     "execution_count": 158,
     "metadata": {},
     "output_type": "execute_result"
    }
   ],
   "source": [
    "vis"
   ]
  },
  {
   "cell_type": "markdown",
   "id": "a3d14c87",
   "metadata": {},
   "source": [
    "Q: What conclusions do you draw from the visualization above? Please address the principal component scatterplot and the salient terms graph.\n",
    "\n",
    "A: <!-- Your answer here --> \n"
   ]
  }
 ],
 "metadata": {
  "kernelspec": {
   "display_name": "Python 3",
   "language": "python",
   "name": "python3"
  },
  "language_info": {
   "codemirror_mode": {
    "name": "ipython",
    "version": 3
   },
   "file_extension": ".py",
   "mimetype": "text/x-python",
   "name": "python",
   "nbconvert_exporter": "python",
   "pygments_lexer": "ipython3",
   "version": "3.11.2"
  },
  "vscode": {
   "interpreter": {
    "hash": "4b33cfd37f5195bd7836c1451c6eaacc84fbbad3c54541ec8bad2790bfb3f777"
   }
  }
 },
 "nbformat": 4,
 "nbformat_minor": 5
}
